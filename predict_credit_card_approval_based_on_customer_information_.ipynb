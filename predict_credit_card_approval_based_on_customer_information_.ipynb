{
  "nbformat": 4,
  "nbformat_minor": 0,
  "metadata": {
    "colab": {
      "provenance": [],
      "authorship_tag": "ABX9TyMMS8He5WbPWlqlar6fPmVn",
      "include_colab_link": true
    },
    "kernelspec": {
      "name": "python3",
      "display_name": "Python 3"
    },
    "language_info": {
      "name": "python"
    }
  },
  "cells": [
    {
      "cell_type": "markdown",
      "metadata": {
        "id": "view-in-github",
        "colab_type": "text"
      },
      "source": [
        "<a href=\"https://colab.research.google.com/github/SULABH11/Machine-Learning-Models/blob/main/predict_credit_card_approval_based_on_customer_information_.ipynb\" target=\"_parent\"><img src=\"https://colab.research.google.com/assets/colab-badge.svg\" alt=\"Open In Colab\"/></a>"
      ]
    },
    {
      "cell_type": "code",
      "source": [
        "# Importing libraries\n",
        "import numpy as np\n",
        "import pandas as pd\n",
        "import seaborn as sns\n",
        "import matplotlib.pyplot as plt\n",
        "import plotly.express as px\n",
        "!pip install optuna\n",
        "import optuna \n",
        "from scipy import stats\n",
        "### To ignore warnings\n",
        "import warnings \n",
        "warnings.filterwarnings('ignore')"
      ],
      "metadata": {
        "colab": {
          "base_uri": "https://localhost:8080/"
        },
        "id": "1eap8eC_HpPz",
        "outputId": "f5b0862c-6d0d-4d21-98a7-78992eafdf20"
      },
      "execution_count": 76,
      "outputs": [
        {
          "output_type": "stream",
          "name": "stdout",
          "text": [
            "Looking in indexes: https://pypi.org/simple, https://us-python.pkg.dev/colab-wheels/public/simple/\n",
            "Collecting optuna\n",
            "  Downloading optuna-3.1.0-py3-none-any.whl (365 kB)\n",
            "\u001b[2K     \u001b[90m━━━━━━━━━━━━━━━━━━━━━━━━━━━━━━━━━━━━━━━\u001b[0m \u001b[32m365.3/365.3 KB\u001b[0m \u001b[31m7.2 MB/s\u001b[0m eta \u001b[36m0:00:00\u001b[0m\n",
            "\u001b[?25hCollecting cmaes>=0.9.1\n",
            "  Downloading cmaes-0.9.1-py3-none-any.whl (21 kB)\n",
            "Requirement already satisfied: numpy in /usr/local/lib/python3.8/dist-packages (from optuna) (1.21.6)\n",
            "Requirement already satisfied: packaging>=20.0 in /usr/local/lib/python3.8/dist-packages (from optuna) (23.0)\n",
            "Collecting alembic>=1.5.0\n",
            "  Downloading alembic-1.9.3-py3-none-any.whl (210 kB)\n",
            "\u001b[2K     \u001b[90m━━━━━━━━━━━━━━━━━━━━━━━━━━━━━━━━━━━━━━\u001b[0m \u001b[32m210.6/210.6 KB\u001b[0m \u001b[31m20.2 MB/s\u001b[0m eta \u001b[36m0:00:00\u001b[0m\n",
            "\u001b[?25hRequirement already satisfied: tqdm in /usr/local/lib/python3.8/dist-packages (from optuna) (4.64.1)\n",
            "Requirement already satisfied: sqlalchemy>=1.3.0 in /usr/local/lib/python3.8/dist-packages (from optuna) (1.4.46)\n",
            "Requirement already satisfied: PyYAML in /usr/local/lib/python3.8/dist-packages (from optuna) (6.0)\n",
            "Collecting colorlog\n",
            "  Downloading colorlog-6.7.0-py2.py3-none-any.whl (11 kB)\n",
            "Requirement already satisfied: importlib-resources in /usr/local/lib/python3.8/dist-packages (from alembic>=1.5.0->optuna) (5.10.2)\n",
            "Requirement already satisfied: importlib-metadata in /usr/local/lib/python3.8/dist-packages (from alembic>=1.5.0->optuna) (6.0.0)\n",
            "Collecting Mako\n",
            "  Downloading Mako-1.2.4-py3-none-any.whl (78 kB)\n",
            "\u001b[2K     \u001b[90m━━━━━━━━━━━━━━━━━━━━━━━━━━━━━━━━━━━━━━━━\u001b[0m \u001b[32m78.7/78.7 KB\u001b[0m \u001b[31m7.9 MB/s\u001b[0m eta \u001b[36m0:00:00\u001b[0m\n",
            "\u001b[?25hRequirement already satisfied: greenlet!=0.4.17 in /usr/local/lib/python3.8/dist-packages (from sqlalchemy>=1.3.0->optuna) (2.0.2)\n",
            "Requirement already satisfied: zipp>=0.5 in /usr/local/lib/python3.8/dist-packages (from importlib-metadata->alembic>=1.5.0->optuna) (3.12.0)\n",
            "Requirement already satisfied: MarkupSafe>=0.9.2 in /usr/local/lib/python3.8/dist-packages (from Mako->alembic>=1.5.0->optuna) (2.0.1)\n",
            "Installing collected packages: Mako, colorlog, cmaes, alembic, optuna\n",
            "Successfully installed Mako-1.2.4 alembic-1.9.3 cmaes-0.9.1 colorlog-6.7.0 optuna-3.1.0\n"
          ]
        }
      ]
    },
    {
      "cell_type": "code",
      "source": [
        "from sklearn.model_selection import train_test_split\n",
        "from sklearn.preprocessing import StandardScaler\n",
        "from imblearn.under_sampling import RandomUnderSampler\n",
        "from collections import Counter\n",
        "from sklearn.linear_model import LogisticRegression\n",
        "from sklearn import svm\n",
        "from sklearn.neighbors import KNeighborsClassifier\n",
        "from sklearn.tree import DecisionTreeClassifier\n",
        "from sklearn.ensemble import RandomForestClassifier\n",
        "from xgboost import XGBClassifier\n",
        "from sklearn.metrics import confusion_matrix, accuracy_score, precision_score, recall_score, fbeta_score\n",
        "from sklearn import metrics\n",
        "from sklearn.model_selection import GridSearchCV"
      ],
      "metadata": {
        "id": "tqxQBgnDHzmE"
      },
      "execution_count": 4,
      "outputs": []
    },
    {
      "cell_type": "code",
      "source": [
        "credit_df = pd.read_csv('credit_record.csv')\n",
        "label_df = pd.read_csv('application_record.csv')"
      ],
      "metadata": {
        "id": "fXwIT84iICAo"
      },
      "execution_count": 6,
      "outputs": []
    },
    {
      "cell_type": "code",
      "source": [
        "df = label_df.merge(credit_df, how='inner', on=['ID'])\n",
        "df.head()"
      ],
      "metadata": {
        "colab": {
          "base_uri": "https://localhost:8080/",
          "height": 270
        },
        "id": "3J5z-fvkL5Nu",
        "outputId": "b41c2098-8ab0-48c1-84ee-d9ea570abf51"
      },
      "execution_count": 7,
      "outputs": [
        {
          "output_type": "execute_result",
          "data": {
            "text/plain": [
              "        ID CODE_GENDER FLAG_OWN_CAR FLAG_OWN_REALTY  CNT_CHILDREN  \\\n",
              "0  5008804           M            Y               Y             0   \n",
              "1  5008804           M            Y               Y             0   \n",
              "2  5008804           M            Y               Y             0   \n",
              "3  5008804           M            Y               Y             0   \n",
              "4  5008804           M            Y               Y             0   \n",
              "\n",
              "   AMT_INCOME_TOTAL NAME_INCOME_TYPE NAME_EDUCATION_TYPE NAME_FAMILY_STATUS  \\\n",
              "0          427500.0          Working    Higher education     Civil marriage   \n",
              "1          427500.0          Working    Higher education     Civil marriage   \n",
              "2          427500.0          Working    Higher education     Civil marriage   \n",
              "3          427500.0          Working    Higher education     Civil marriage   \n",
              "4          427500.0          Working    Higher education     Civil marriage   \n",
              "\n",
              "  NAME_HOUSING_TYPE  DAYS_BIRTH  DAYS_EMPLOYED  FLAG_MOBIL  FLAG_WORK_PHONE  \\\n",
              "0  Rented apartment      -12005          -4542           1                1   \n",
              "1  Rented apartment      -12005          -4542           1                1   \n",
              "2  Rented apartment      -12005          -4542           1                1   \n",
              "3  Rented apartment      -12005          -4542           1                1   \n",
              "4  Rented apartment      -12005          -4542           1                1   \n",
              "\n",
              "   FLAG_PHONE  FLAG_EMAIL OCCUPATION_TYPE  CNT_FAM_MEMBERS  MONTHS_BALANCE  \\\n",
              "0           0           0             NaN              2.0               0   \n",
              "1           0           0             NaN              2.0              -1   \n",
              "2           0           0             NaN              2.0              -2   \n",
              "3           0           0             NaN              2.0              -3   \n",
              "4           0           0             NaN              2.0              -4   \n",
              "\n",
              "  STATUS  \n",
              "0      C  \n",
              "1      C  \n",
              "2      C  \n",
              "3      C  \n",
              "4      C  "
            ],
            "text/html": [
              "\n",
              "  <div id=\"df-b2c56040-ec33-4080-9b4f-7ab096c83205\">\n",
              "    <div class=\"colab-df-container\">\n",
              "      <div>\n",
              "<style scoped>\n",
              "    .dataframe tbody tr th:only-of-type {\n",
              "        vertical-align: middle;\n",
              "    }\n",
              "\n",
              "    .dataframe tbody tr th {\n",
              "        vertical-align: top;\n",
              "    }\n",
              "\n",
              "    .dataframe thead th {\n",
              "        text-align: right;\n",
              "    }\n",
              "</style>\n",
              "<table border=\"1\" class=\"dataframe\">\n",
              "  <thead>\n",
              "    <tr style=\"text-align: right;\">\n",
              "      <th></th>\n",
              "      <th>ID</th>\n",
              "      <th>CODE_GENDER</th>\n",
              "      <th>FLAG_OWN_CAR</th>\n",
              "      <th>FLAG_OWN_REALTY</th>\n",
              "      <th>CNT_CHILDREN</th>\n",
              "      <th>AMT_INCOME_TOTAL</th>\n",
              "      <th>NAME_INCOME_TYPE</th>\n",
              "      <th>NAME_EDUCATION_TYPE</th>\n",
              "      <th>NAME_FAMILY_STATUS</th>\n",
              "      <th>NAME_HOUSING_TYPE</th>\n",
              "      <th>DAYS_BIRTH</th>\n",
              "      <th>DAYS_EMPLOYED</th>\n",
              "      <th>FLAG_MOBIL</th>\n",
              "      <th>FLAG_WORK_PHONE</th>\n",
              "      <th>FLAG_PHONE</th>\n",
              "      <th>FLAG_EMAIL</th>\n",
              "      <th>OCCUPATION_TYPE</th>\n",
              "      <th>CNT_FAM_MEMBERS</th>\n",
              "      <th>MONTHS_BALANCE</th>\n",
              "      <th>STATUS</th>\n",
              "    </tr>\n",
              "  </thead>\n",
              "  <tbody>\n",
              "    <tr>\n",
              "      <th>0</th>\n",
              "      <td>5008804</td>\n",
              "      <td>M</td>\n",
              "      <td>Y</td>\n",
              "      <td>Y</td>\n",
              "      <td>0</td>\n",
              "      <td>427500.0</td>\n",
              "      <td>Working</td>\n",
              "      <td>Higher education</td>\n",
              "      <td>Civil marriage</td>\n",
              "      <td>Rented apartment</td>\n",
              "      <td>-12005</td>\n",
              "      <td>-4542</td>\n",
              "      <td>1</td>\n",
              "      <td>1</td>\n",
              "      <td>0</td>\n",
              "      <td>0</td>\n",
              "      <td>NaN</td>\n",
              "      <td>2.0</td>\n",
              "      <td>0</td>\n",
              "      <td>C</td>\n",
              "    </tr>\n",
              "    <tr>\n",
              "      <th>1</th>\n",
              "      <td>5008804</td>\n",
              "      <td>M</td>\n",
              "      <td>Y</td>\n",
              "      <td>Y</td>\n",
              "      <td>0</td>\n",
              "      <td>427500.0</td>\n",
              "      <td>Working</td>\n",
              "      <td>Higher education</td>\n",
              "      <td>Civil marriage</td>\n",
              "      <td>Rented apartment</td>\n",
              "      <td>-12005</td>\n",
              "      <td>-4542</td>\n",
              "      <td>1</td>\n",
              "      <td>1</td>\n",
              "      <td>0</td>\n",
              "      <td>0</td>\n",
              "      <td>NaN</td>\n",
              "      <td>2.0</td>\n",
              "      <td>-1</td>\n",
              "      <td>C</td>\n",
              "    </tr>\n",
              "    <tr>\n",
              "      <th>2</th>\n",
              "      <td>5008804</td>\n",
              "      <td>M</td>\n",
              "      <td>Y</td>\n",
              "      <td>Y</td>\n",
              "      <td>0</td>\n",
              "      <td>427500.0</td>\n",
              "      <td>Working</td>\n",
              "      <td>Higher education</td>\n",
              "      <td>Civil marriage</td>\n",
              "      <td>Rented apartment</td>\n",
              "      <td>-12005</td>\n",
              "      <td>-4542</td>\n",
              "      <td>1</td>\n",
              "      <td>1</td>\n",
              "      <td>0</td>\n",
              "      <td>0</td>\n",
              "      <td>NaN</td>\n",
              "      <td>2.0</td>\n",
              "      <td>-2</td>\n",
              "      <td>C</td>\n",
              "    </tr>\n",
              "    <tr>\n",
              "      <th>3</th>\n",
              "      <td>5008804</td>\n",
              "      <td>M</td>\n",
              "      <td>Y</td>\n",
              "      <td>Y</td>\n",
              "      <td>0</td>\n",
              "      <td>427500.0</td>\n",
              "      <td>Working</td>\n",
              "      <td>Higher education</td>\n",
              "      <td>Civil marriage</td>\n",
              "      <td>Rented apartment</td>\n",
              "      <td>-12005</td>\n",
              "      <td>-4542</td>\n",
              "      <td>1</td>\n",
              "      <td>1</td>\n",
              "      <td>0</td>\n",
              "      <td>0</td>\n",
              "      <td>NaN</td>\n",
              "      <td>2.0</td>\n",
              "      <td>-3</td>\n",
              "      <td>C</td>\n",
              "    </tr>\n",
              "    <tr>\n",
              "      <th>4</th>\n",
              "      <td>5008804</td>\n",
              "      <td>M</td>\n",
              "      <td>Y</td>\n",
              "      <td>Y</td>\n",
              "      <td>0</td>\n",
              "      <td>427500.0</td>\n",
              "      <td>Working</td>\n",
              "      <td>Higher education</td>\n",
              "      <td>Civil marriage</td>\n",
              "      <td>Rented apartment</td>\n",
              "      <td>-12005</td>\n",
              "      <td>-4542</td>\n",
              "      <td>1</td>\n",
              "      <td>1</td>\n",
              "      <td>0</td>\n",
              "      <td>0</td>\n",
              "      <td>NaN</td>\n",
              "      <td>2.0</td>\n",
              "      <td>-4</td>\n",
              "      <td>C</td>\n",
              "    </tr>\n",
              "  </tbody>\n",
              "</table>\n",
              "</div>\n",
              "      <button class=\"colab-df-convert\" onclick=\"convertToInteractive('df-b2c56040-ec33-4080-9b4f-7ab096c83205')\"\n",
              "              title=\"Convert this dataframe to an interactive table.\"\n",
              "              style=\"display:none;\">\n",
              "        \n",
              "  <svg xmlns=\"http://www.w3.org/2000/svg\" height=\"24px\"viewBox=\"0 0 24 24\"\n",
              "       width=\"24px\">\n",
              "    <path d=\"M0 0h24v24H0V0z\" fill=\"none\"/>\n",
              "    <path d=\"M18.56 5.44l.94 2.06.94-2.06 2.06-.94-2.06-.94-.94-2.06-.94 2.06-2.06.94zm-11 1L8.5 8.5l.94-2.06 2.06-.94-2.06-.94L8.5 2.5l-.94 2.06-2.06.94zm10 10l.94 2.06.94-2.06 2.06-.94-2.06-.94-.94-2.06-.94 2.06-2.06.94z\"/><path d=\"M17.41 7.96l-1.37-1.37c-.4-.4-.92-.59-1.43-.59-.52 0-1.04.2-1.43.59L10.3 9.45l-7.72 7.72c-.78.78-.78 2.05 0 2.83L4 21.41c.39.39.9.59 1.41.59.51 0 1.02-.2 1.41-.59l7.78-7.78 2.81-2.81c.8-.78.8-2.07 0-2.86zM5.41 20L4 18.59l7.72-7.72 1.47 1.35L5.41 20z\"/>\n",
              "  </svg>\n",
              "      </button>\n",
              "      \n",
              "  <style>\n",
              "    .colab-df-container {\n",
              "      display:flex;\n",
              "      flex-wrap:wrap;\n",
              "      gap: 12px;\n",
              "    }\n",
              "\n",
              "    .colab-df-convert {\n",
              "      background-color: #E8F0FE;\n",
              "      border: none;\n",
              "      border-radius: 50%;\n",
              "      cursor: pointer;\n",
              "      display: none;\n",
              "      fill: #1967D2;\n",
              "      height: 32px;\n",
              "      padding: 0 0 0 0;\n",
              "      width: 32px;\n",
              "    }\n",
              "\n",
              "    .colab-df-convert:hover {\n",
              "      background-color: #E2EBFA;\n",
              "      box-shadow: 0px 1px 2px rgba(60, 64, 67, 0.3), 0px 1px 3px 1px rgba(60, 64, 67, 0.15);\n",
              "      fill: #174EA6;\n",
              "    }\n",
              "\n",
              "    [theme=dark] .colab-df-convert {\n",
              "      background-color: #3B4455;\n",
              "      fill: #D2E3FC;\n",
              "    }\n",
              "\n",
              "    [theme=dark] .colab-df-convert:hover {\n",
              "      background-color: #434B5C;\n",
              "      box-shadow: 0px 1px 3px 1px rgba(0, 0, 0, 0.15);\n",
              "      filter: drop-shadow(0px 1px 2px rgba(0, 0, 0, 0.3));\n",
              "      fill: #FFFFFF;\n",
              "    }\n",
              "  </style>\n",
              "\n",
              "      <script>\n",
              "        const buttonEl =\n",
              "          document.querySelector('#df-b2c56040-ec33-4080-9b4f-7ab096c83205 button.colab-df-convert');\n",
              "        buttonEl.style.display =\n",
              "          google.colab.kernel.accessAllowed ? 'block' : 'none';\n",
              "\n",
              "        async function convertToInteractive(key) {\n",
              "          const element = document.querySelector('#df-b2c56040-ec33-4080-9b4f-7ab096c83205');\n",
              "          const dataTable =\n",
              "            await google.colab.kernel.invokeFunction('convertToInteractive',\n",
              "                                                     [key], {});\n",
              "          if (!dataTable) return;\n",
              "\n",
              "          const docLinkHtml = 'Like what you see? Visit the ' +\n",
              "            '<a target=\"_blank\" href=https://colab.research.google.com/notebooks/data_table.ipynb>data table notebook</a>'\n",
              "            + ' to learn more about interactive tables.';\n",
              "          element.innerHTML = '';\n",
              "          dataTable['output_type'] = 'display_data';\n",
              "          await google.colab.output.renderOutput(dataTable, element);\n",
              "          const docLink = document.createElement('div');\n",
              "          docLink.innerHTML = docLinkHtml;\n",
              "          element.appendChild(docLink);\n",
              "        }\n",
              "      </script>\n",
              "    </div>\n",
              "  </div>\n",
              "  "
            ]
          },
          "metadata": {},
          "execution_count": 7
        }
      ]
    },
    {
      "cell_type": "code",
      "source": [
        "#Creating copy of data\n",
        "credit_card = df.copy()"
      ],
      "metadata": {
        "id": "RAl9Eh23MDPM"
      },
      "execution_count": 8,
      "outputs": []
    },
    {
      "cell_type": "code",
      "source": [
        "credit_card.info()"
      ],
      "metadata": {
        "colab": {
          "base_uri": "https://localhost:8080/"
        },
        "id": "av57afzKMIEP",
        "outputId": "753fbe38-a7d9-41af-ecc7-cb3e6ae13c10"
      },
      "execution_count": 9,
      "outputs": [
        {
          "output_type": "stream",
          "name": "stdout",
          "text": [
            "<class 'pandas.core.frame.DataFrame'>\n",
            "Int64Index: 777715 entries, 0 to 777714\n",
            "Data columns (total 20 columns):\n",
            " #   Column               Non-Null Count   Dtype  \n",
            "---  ------               --------------   -----  \n",
            " 0   ID                   777715 non-null  int64  \n",
            " 1   CODE_GENDER          777715 non-null  object \n",
            " 2   FLAG_OWN_CAR         777715 non-null  object \n",
            " 3   FLAG_OWN_REALTY      777715 non-null  object \n",
            " 4   CNT_CHILDREN         777715 non-null  int64  \n",
            " 5   AMT_INCOME_TOTAL     777715 non-null  float64\n",
            " 6   NAME_INCOME_TYPE     777715 non-null  object \n",
            " 7   NAME_EDUCATION_TYPE  777715 non-null  object \n",
            " 8   NAME_FAMILY_STATUS   777715 non-null  object \n",
            " 9   NAME_HOUSING_TYPE    777715 non-null  object \n",
            " 10  DAYS_BIRTH           777715 non-null  int64  \n",
            " 11  DAYS_EMPLOYED        777715 non-null  int64  \n",
            " 12  FLAG_MOBIL           777715 non-null  int64  \n",
            " 13  FLAG_WORK_PHONE      777715 non-null  int64  \n",
            " 14  FLAG_PHONE           777715 non-null  int64  \n",
            " 15  FLAG_EMAIL           777715 non-null  int64  \n",
            " 16  OCCUPATION_TYPE      537667 non-null  object \n",
            " 17  CNT_FAM_MEMBERS      777715 non-null  float64\n",
            " 18  MONTHS_BALANCE       777715 non-null  int64  \n",
            " 19  STATUS               777715 non-null  object \n",
            "dtypes: float64(2), int64(9), object(9)\n",
            "memory usage: 124.6+ MB\n"
          ]
        }
      ]
    },
    {
      "cell_type": "code",
      "source": [
        "#Assigning index with client ID\n",
        "credit_card.index = credit_card ['ID']\n",
        "credit_card.drop('ID',axis=1,inplace=True)"
      ],
      "metadata": {
        "id": "nRZZMlgjML0O"
      },
      "execution_count": 10,
      "outputs": []
    },
    {
      "cell_type": "code",
      "source": [
        "#Drop Duplicates\n",
        "credit_card.drop_duplicates(inplace=True)"
      ],
      "metadata": {
        "id": "eLhBLTn2MQUl"
      },
      "execution_count": 11,
      "outputs": []
    },
    {
      "cell_type": "code",
      "source": [
        "#Initial five rows\n",
        "credit_card.head()"
      ],
      "metadata": {
        "colab": {
          "base_uri": "https://localhost:8080/",
          "height": 301
        },
        "id": "k86PBU9kMVsq",
        "outputId": "ce6025b5-34eb-4465-c8df-e44a17b3a7fc"
      },
      "execution_count": 12,
      "outputs": [
        {
          "output_type": "execute_result",
          "data": {
            "text/plain": [
              "        CODE_GENDER FLAG_OWN_CAR FLAG_OWN_REALTY  CNT_CHILDREN  \\\n",
              "ID                                                               \n",
              "5008804           M            Y               Y             0   \n",
              "5008804           M            Y               Y             0   \n",
              "5008804           M            Y               Y             0   \n",
              "5008804           M            Y               Y             0   \n",
              "5008804           M            Y               Y             0   \n",
              "\n",
              "         AMT_INCOME_TOTAL NAME_INCOME_TYPE NAME_EDUCATION_TYPE  \\\n",
              "ID                                                               \n",
              "5008804          427500.0          Working    Higher education   \n",
              "5008804          427500.0          Working    Higher education   \n",
              "5008804          427500.0          Working    Higher education   \n",
              "5008804          427500.0          Working    Higher education   \n",
              "5008804          427500.0          Working    Higher education   \n",
              "\n",
              "        NAME_FAMILY_STATUS NAME_HOUSING_TYPE  DAYS_BIRTH  DAYS_EMPLOYED  \\\n",
              "ID                                                                        \n",
              "5008804     Civil marriage  Rented apartment      -12005          -4542   \n",
              "5008804     Civil marriage  Rented apartment      -12005          -4542   \n",
              "5008804     Civil marriage  Rented apartment      -12005          -4542   \n",
              "5008804     Civil marriage  Rented apartment      -12005          -4542   \n",
              "5008804     Civil marriage  Rented apartment      -12005          -4542   \n",
              "\n",
              "         FLAG_MOBIL  FLAG_WORK_PHONE  FLAG_PHONE  FLAG_EMAIL OCCUPATION_TYPE  \\\n",
              "ID                                                                             \n",
              "5008804           1                1           0           0             NaN   \n",
              "5008804           1                1           0           0             NaN   \n",
              "5008804           1                1           0           0             NaN   \n",
              "5008804           1                1           0           0             NaN   \n",
              "5008804           1                1           0           0             NaN   \n",
              "\n",
              "         CNT_FAM_MEMBERS  MONTHS_BALANCE STATUS  \n",
              "ID                                               \n",
              "5008804              2.0               0      C  \n",
              "5008804              2.0              -1      C  \n",
              "5008804              2.0              -2      C  \n",
              "5008804              2.0              -3      C  \n",
              "5008804              2.0              -4      C  "
            ],
            "text/html": [
              "\n",
              "  <div id=\"df-2b752591-9067-4c41-969e-687379e664ea\">\n",
              "    <div class=\"colab-df-container\">\n",
              "      <div>\n",
              "<style scoped>\n",
              "    .dataframe tbody tr th:only-of-type {\n",
              "        vertical-align: middle;\n",
              "    }\n",
              "\n",
              "    .dataframe tbody tr th {\n",
              "        vertical-align: top;\n",
              "    }\n",
              "\n",
              "    .dataframe thead th {\n",
              "        text-align: right;\n",
              "    }\n",
              "</style>\n",
              "<table border=\"1\" class=\"dataframe\">\n",
              "  <thead>\n",
              "    <tr style=\"text-align: right;\">\n",
              "      <th></th>\n",
              "      <th>CODE_GENDER</th>\n",
              "      <th>FLAG_OWN_CAR</th>\n",
              "      <th>FLAG_OWN_REALTY</th>\n",
              "      <th>CNT_CHILDREN</th>\n",
              "      <th>AMT_INCOME_TOTAL</th>\n",
              "      <th>NAME_INCOME_TYPE</th>\n",
              "      <th>NAME_EDUCATION_TYPE</th>\n",
              "      <th>NAME_FAMILY_STATUS</th>\n",
              "      <th>NAME_HOUSING_TYPE</th>\n",
              "      <th>DAYS_BIRTH</th>\n",
              "      <th>DAYS_EMPLOYED</th>\n",
              "      <th>FLAG_MOBIL</th>\n",
              "      <th>FLAG_WORK_PHONE</th>\n",
              "      <th>FLAG_PHONE</th>\n",
              "      <th>FLAG_EMAIL</th>\n",
              "      <th>OCCUPATION_TYPE</th>\n",
              "      <th>CNT_FAM_MEMBERS</th>\n",
              "      <th>MONTHS_BALANCE</th>\n",
              "      <th>STATUS</th>\n",
              "    </tr>\n",
              "    <tr>\n",
              "      <th>ID</th>\n",
              "      <th></th>\n",
              "      <th></th>\n",
              "      <th></th>\n",
              "      <th></th>\n",
              "      <th></th>\n",
              "      <th></th>\n",
              "      <th></th>\n",
              "      <th></th>\n",
              "      <th></th>\n",
              "      <th></th>\n",
              "      <th></th>\n",
              "      <th></th>\n",
              "      <th></th>\n",
              "      <th></th>\n",
              "      <th></th>\n",
              "      <th></th>\n",
              "      <th></th>\n",
              "      <th></th>\n",
              "      <th></th>\n",
              "    </tr>\n",
              "  </thead>\n",
              "  <tbody>\n",
              "    <tr>\n",
              "      <th>5008804</th>\n",
              "      <td>M</td>\n",
              "      <td>Y</td>\n",
              "      <td>Y</td>\n",
              "      <td>0</td>\n",
              "      <td>427500.0</td>\n",
              "      <td>Working</td>\n",
              "      <td>Higher education</td>\n",
              "      <td>Civil marriage</td>\n",
              "      <td>Rented apartment</td>\n",
              "      <td>-12005</td>\n",
              "      <td>-4542</td>\n",
              "      <td>1</td>\n",
              "      <td>1</td>\n",
              "      <td>0</td>\n",
              "      <td>0</td>\n",
              "      <td>NaN</td>\n",
              "      <td>2.0</td>\n",
              "      <td>0</td>\n",
              "      <td>C</td>\n",
              "    </tr>\n",
              "    <tr>\n",
              "      <th>5008804</th>\n",
              "      <td>M</td>\n",
              "      <td>Y</td>\n",
              "      <td>Y</td>\n",
              "      <td>0</td>\n",
              "      <td>427500.0</td>\n",
              "      <td>Working</td>\n",
              "      <td>Higher education</td>\n",
              "      <td>Civil marriage</td>\n",
              "      <td>Rented apartment</td>\n",
              "      <td>-12005</td>\n",
              "      <td>-4542</td>\n",
              "      <td>1</td>\n",
              "      <td>1</td>\n",
              "      <td>0</td>\n",
              "      <td>0</td>\n",
              "      <td>NaN</td>\n",
              "      <td>2.0</td>\n",
              "      <td>-1</td>\n",
              "      <td>C</td>\n",
              "    </tr>\n",
              "    <tr>\n",
              "      <th>5008804</th>\n",
              "      <td>M</td>\n",
              "      <td>Y</td>\n",
              "      <td>Y</td>\n",
              "      <td>0</td>\n",
              "      <td>427500.0</td>\n",
              "      <td>Working</td>\n",
              "      <td>Higher education</td>\n",
              "      <td>Civil marriage</td>\n",
              "      <td>Rented apartment</td>\n",
              "      <td>-12005</td>\n",
              "      <td>-4542</td>\n",
              "      <td>1</td>\n",
              "      <td>1</td>\n",
              "      <td>0</td>\n",
              "      <td>0</td>\n",
              "      <td>NaN</td>\n",
              "      <td>2.0</td>\n",
              "      <td>-2</td>\n",
              "      <td>C</td>\n",
              "    </tr>\n",
              "    <tr>\n",
              "      <th>5008804</th>\n",
              "      <td>M</td>\n",
              "      <td>Y</td>\n",
              "      <td>Y</td>\n",
              "      <td>0</td>\n",
              "      <td>427500.0</td>\n",
              "      <td>Working</td>\n",
              "      <td>Higher education</td>\n",
              "      <td>Civil marriage</td>\n",
              "      <td>Rented apartment</td>\n",
              "      <td>-12005</td>\n",
              "      <td>-4542</td>\n",
              "      <td>1</td>\n",
              "      <td>1</td>\n",
              "      <td>0</td>\n",
              "      <td>0</td>\n",
              "      <td>NaN</td>\n",
              "      <td>2.0</td>\n",
              "      <td>-3</td>\n",
              "      <td>C</td>\n",
              "    </tr>\n",
              "    <tr>\n",
              "      <th>5008804</th>\n",
              "      <td>M</td>\n",
              "      <td>Y</td>\n",
              "      <td>Y</td>\n",
              "      <td>0</td>\n",
              "      <td>427500.0</td>\n",
              "      <td>Working</td>\n",
              "      <td>Higher education</td>\n",
              "      <td>Civil marriage</td>\n",
              "      <td>Rented apartment</td>\n",
              "      <td>-12005</td>\n",
              "      <td>-4542</td>\n",
              "      <td>1</td>\n",
              "      <td>1</td>\n",
              "      <td>0</td>\n",
              "      <td>0</td>\n",
              "      <td>NaN</td>\n",
              "      <td>2.0</td>\n",
              "      <td>-4</td>\n",
              "      <td>C</td>\n",
              "    </tr>\n",
              "  </tbody>\n",
              "</table>\n",
              "</div>\n",
              "      <button class=\"colab-df-convert\" onclick=\"convertToInteractive('df-2b752591-9067-4c41-969e-687379e664ea')\"\n",
              "              title=\"Convert this dataframe to an interactive table.\"\n",
              "              style=\"display:none;\">\n",
              "        \n",
              "  <svg xmlns=\"http://www.w3.org/2000/svg\" height=\"24px\"viewBox=\"0 0 24 24\"\n",
              "       width=\"24px\">\n",
              "    <path d=\"M0 0h24v24H0V0z\" fill=\"none\"/>\n",
              "    <path d=\"M18.56 5.44l.94 2.06.94-2.06 2.06-.94-2.06-.94-.94-2.06-.94 2.06-2.06.94zm-11 1L8.5 8.5l.94-2.06 2.06-.94-2.06-.94L8.5 2.5l-.94 2.06-2.06.94zm10 10l.94 2.06.94-2.06 2.06-.94-2.06-.94-.94-2.06-.94 2.06-2.06.94z\"/><path d=\"M17.41 7.96l-1.37-1.37c-.4-.4-.92-.59-1.43-.59-.52 0-1.04.2-1.43.59L10.3 9.45l-7.72 7.72c-.78.78-.78 2.05 0 2.83L4 21.41c.39.39.9.59 1.41.59.51 0 1.02-.2 1.41-.59l7.78-7.78 2.81-2.81c.8-.78.8-2.07 0-2.86zM5.41 20L4 18.59l7.72-7.72 1.47 1.35L5.41 20z\"/>\n",
              "  </svg>\n",
              "      </button>\n",
              "      \n",
              "  <style>\n",
              "    .colab-df-container {\n",
              "      display:flex;\n",
              "      flex-wrap:wrap;\n",
              "      gap: 12px;\n",
              "    }\n",
              "\n",
              "    .colab-df-convert {\n",
              "      background-color: #E8F0FE;\n",
              "      border: none;\n",
              "      border-radius: 50%;\n",
              "      cursor: pointer;\n",
              "      display: none;\n",
              "      fill: #1967D2;\n",
              "      height: 32px;\n",
              "      padding: 0 0 0 0;\n",
              "      width: 32px;\n",
              "    }\n",
              "\n",
              "    .colab-df-convert:hover {\n",
              "      background-color: #E2EBFA;\n",
              "      box-shadow: 0px 1px 2px rgba(60, 64, 67, 0.3), 0px 1px 3px 1px rgba(60, 64, 67, 0.15);\n",
              "      fill: #174EA6;\n",
              "    }\n",
              "\n",
              "    [theme=dark] .colab-df-convert {\n",
              "      background-color: #3B4455;\n",
              "      fill: #D2E3FC;\n",
              "    }\n",
              "\n",
              "    [theme=dark] .colab-df-convert:hover {\n",
              "      background-color: #434B5C;\n",
              "      box-shadow: 0px 1px 3px 1px rgba(0, 0, 0, 0.15);\n",
              "      filter: drop-shadow(0px 1px 2px rgba(0, 0, 0, 0.3));\n",
              "      fill: #FFFFFF;\n",
              "    }\n",
              "  </style>\n",
              "\n",
              "      <script>\n",
              "        const buttonEl =\n",
              "          document.querySelector('#df-2b752591-9067-4c41-969e-687379e664ea button.colab-df-convert');\n",
              "        buttonEl.style.display =\n",
              "          google.colab.kernel.accessAllowed ? 'block' : 'none';\n",
              "\n",
              "        async function convertToInteractive(key) {\n",
              "          const element = document.querySelector('#df-2b752591-9067-4c41-969e-687379e664ea');\n",
              "          const dataTable =\n",
              "            await google.colab.kernel.invokeFunction('convertToInteractive',\n",
              "                                                     [key], {});\n",
              "          if (!dataTable) return;\n",
              "\n",
              "          const docLinkHtml = 'Like what you see? Visit the ' +\n",
              "            '<a target=\"_blank\" href=https://colab.research.google.com/notebooks/data_table.ipynb>data table notebook</a>'\n",
              "            + ' to learn more about interactive tables.';\n",
              "          element.innerHTML = '';\n",
              "          dataTable['output_type'] = 'display_data';\n",
              "          await google.colab.output.renderOutput(dataTable, element);\n",
              "          const docLink = document.createElement('div');\n",
              "          docLink.innerHTML = docLinkHtml;\n",
              "          element.appendChild(docLink);\n",
              "        }\n",
              "      </script>\n",
              "    </div>\n",
              "  </div>\n",
              "  "
            ]
          },
          "metadata": {},
          "execution_count": 12
        }
      ]
    },
    {
      "cell_type": "code",
      "source": [
        "#Brief description\n",
        "credit_card.describe()"
      ],
      "metadata": {
        "colab": {
          "base_uri": "https://localhost:8080/",
          "height": 364
        },
        "id": "MPX27otkMa8E",
        "outputId": "d580c7eb-6134-480b-86e1-9b13cd44c7ec"
      },
      "execution_count": 13,
      "outputs": [
        {
          "output_type": "execute_result",
          "data": {
            "text/plain": [
              "        CNT_CHILDREN  AMT_INCOME_TOTAL     DAYS_BIRTH  DAYS_EMPLOYED  \\\n",
              "count  468925.000000      4.689250e+05  468925.000000  468925.000000   \n",
              "mean        0.421415      1.858502e+05  -16158.295521   60224.031389   \n",
              "std         0.747775      1.009916e+05    4130.224148  138588.126971   \n",
              "min         0.000000      2.700000e+04  -25152.000000  -15713.000000   \n",
              "25%         0.000000      1.215000e+05  -19584.000000   -3246.000000   \n",
              "50%         0.000000      1.575000e+05  -15812.000000   -1610.000000   \n",
              "75%         1.000000      2.250000e+05  -12724.000000    -398.000000   \n",
              "max        19.000000      1.575000e+06   -7489.000000  365243.000000   \n",
              "\n",
              "       FLAG_MOBIL  FLAG_WORK_PHONE     FLAG_PHONE     FLAG_EMAIL  \\\n",
              "count    468925.0    468925.000000  468925.000000  468925.000000   \n",
              "mean          1.0         0.225379       0.297472       0.089230   \n",
              "std           0.0         0.417832       0.457146       0.285075   \n",
              "min           1.0         0.000000       0.000000       0.000000   \n",
              "25%           1.0         0.000000       0.000000       0.000000   \n",
              "50%           1.0         0.000000       0.000000       0.000000   \n",
              "75%           1.0         0.000000       1.000000       0.000000   \n",
              "max           1.0         1.000000       1.000000       1.000000   \n",
              "\n",
              "       CNT_FAM_MEMBERS  MONTHS_BALANCE  \n",
              "count    468925.000000   468925.000000  \n",
              "mean          2.197081      -20.979513  \n",
              "std           0.910155       14.680523  \n",
              "min           1.000000      -60.000000  \n",
              "25%           2.000000      -32.000000  \n",
              "50%           2.000000      -19.000000  \n",
              "75%           3.000000       -8.000000  \n",
              "max          20.000000        0.000000  "
            ],
            "text/html": [
              "\n",
              "  <div id=\"df-29f61963-3c85-41fc-87e6-52862e6907b7\">\n",
              "    <div class=\"colab-df-container\">\n",
              "      <div>\n",
              "<style scoped>\n",
              "    .dataframe tbody tr th:only-of-type {\n",
              "        vertical-align: middle;\n",
              "    }\n",
              "\n",
              "    .dataframe tbody tr th {\n",
              "        vertical-align: top;\n",
              "    }\n",
              "\n",
              "    .dataframe thead th {\n",
              "        text-align: right;\n",
              "    }\n",
              "</style>\n",
              "<table border=\"1\" class=\"dataframe\">\n",
              "  <thead>\n",
              "    <tr style=\"text-align: right;\">\n",
              "      <th></th>\n",
              "      <th>CNT_CHILDREN</th>\n",
              "      <th>AMT_INCOME_TOTAL</th>\n",
              "      <th>DAYS_BIRTH</th>\n",
              "      <th>DAYS_EMPLOYED</th>\n",
              "      <th>FLAG_MOBIL</th>\n",
              "      <th>FLAG_WORK_PHONE</th>\n",
              "      <th>FLAG_PHONE</th>\n",
              "      <th>FLAG_EMAIL</th>\n",
              "      <th>CNT_FAM_MEMBERS</th>\n",
              "      <th>MONTHS_BALANCE</th>\n",
              "    </tr>\n",
              "  </thead>\n",
              "  <tbody>\n",
              "    <tr>\n",
              "      <th>count</th>\n",
              "      <td>468925.000000</td>\n",
              "      <td>4.689250e+05</td>\n",
              "      <td>468925.000000</td>\n",
              "      <td>468925.000000</td>\n",
              "      <td>468925.0</td>\n",
              "      <td>468925.000000</td>\n",
              "      <td>468925.000000</td>\n",
              "      <td>468925.000000</td>\n",
              "      <td>468925.000000</td>\n",
              "      <td>468925.000000</td>\n",
              "    </tr>\n",
              "    <tr>\n",
              "      <th>mean</th>\n",
              "      <td>0.421415</td>\n",
              "      <td>1.858502e+05</td>\n",
              "      <td>-16158.295521</td>\n",
              "      <td>60224.031389</td>\n",
              "      <td>1.0</td>\n",
              "      <td>0.225379</td>\n",
              "      <td>0.297472</td>\n",
              "      <td>0.089230</td>\n",
              "      <td>2.197081</td>\n",
              "      <td>-20.979513</td>\n",
              "    </tr>\n",
              "    <tr>\n",
              "      <th>std</th>\n",
              "      <td>0.747775</td>\n",
              "      <td>1.009916e+05</td>\n",
              "      <td>4130.224148</td>\n",
              "      <td>138588.126971</td>\n",
              "      <td>0.0</td>\n",
              "      <td>0.417832</td>\n",
              "      <td>0.457146</td>\n",
              "      <td>0.285075</td>\n",
              "      <td>0.910155</td>\n",
              "      <td>14.680523</td>\n",
              "    </tr>\n",
              "    <tr>\n",
              "      <th>min</th>\n",
              "      <td>0.000000</td>\n",
              "      <td>2.700000e+04</td>\n",
              "      <td>-25152.000000</td>\n",
              "      <td>-15713.000000</td>\n",
              "      <td>1.0</td>\n",
              "      <td>0.000000</td>\n",
              "      <td>0.000000</td>\n",
              "      <td>0.000000</td>\n",
              "      <td>1.000000</td>\n",
              "      <td>-60.000000</td>\n",
              "    </tr>\n",
              "    <tr>\n",
              "      <th>25%</th>\n",
              "      <td>0.000000</td>\n",
              "      <td>1.215000e+05</td>\n",
              "      <td>-19584.000000</td>\n",
              "      <td>-3246.000000</td>\n",
              "      <td>1.0</td>\n",
              "      <td>0.000000</td>\n",
              "      <td>0.000000</td>\n",
              "      <td>0.000000</td>\n",
              "      <td>2.000000</td>\n",
              "      <td>-32.000000</td>\n",
              "    </tr>\n",
              "    <tr>\n",
              "      <th>50%</th>\n",
              "      <td>0.000000</td>\n",
              "      <td>1.575000e+05</td>\n",
              "      <td>-15812.000000</td>\n",
              "      <td>-1610.000000</td>\n",
              "      <td>1.0</td>\n",
              "      <td>0.000000</td>\n",
              "      <td>0.000000</td>\n",
              "      <td>0.000000</td>\n",
              "      <td>2.000000</td>\n",
              "      <td>-19.000000</td>\n",
              "    </tr>\n",
              "    <tr>\n",
              "      <th>75%</th>\n",
              "      <td>1.000000</td>\n",
              "      <td>2.250000e+05</td>\n",
              "      <td>-12724.000000</td>\n",
              "      <td>-398.000000</td>\n",
              "      <td>1.0</td>\n",
              "      <td>0.000000</td>\n",
              "      <td>1.000000</td>\n",
              "      <td>0.000000</td>\n",
              "      <td>3.000000</td>\n",
              "      <td>-8.000000</td>\n",
              "    </tr>\n",
              "    <tr>\n",
              "      <th>max</th>\n",
              "      <td>19.000000</td>\n",
              "      <td>1.575000e+06</td>\n",
              "      <td>-7489.000000</td>\n",
              "      <td>365243.000000</td>\n",
              "      <td>1.0</td>\n",
              "      <td>1.000000</td>\n",
              "      <td>1.000000</td>\n",
              "      <td>1.000000</td>\n",
              "      <td>20.000000</td>\n",
              "      <td>0.000000</td>\n",
              "    </tr>\n",
              "  </tbody>\n",
              "</table>\n",
              "</div>\n",
              "      <button class=\"colab-df-convert\" onclick=\"convertToInteractive('df-29f61963-3c85-41fc-87e6-52862e6907b7')\"\n",
              "              title=\"Convert this dataframe to an interactive table.\"\n",
              "              style=\"display:none;\">\n",
              "        \n",
              "  <svg xmlns=\"http://www.w3.org/2000/svg\" height=\"24px\"viewBox=\"0 0 24 24\"\n",
              "       width=\"24px\">\n",
              "    <path d=\"M0 0h24v24H0V0z\" fill=\"none\"/>\n",
              "    <path d=\"M18.56 5.44l.94 2.06.94-2.06 2.06-.94-2.06-.94-.94-2.06-.94 2.06-2.06.94zm-11 1L8.5 8.5l.94-2.06 2.06-.94-2.06-.94L8.5 2.5l-.94 2.06-2.06.94zm10 10l.94 2.06.94-2.06 2.06-.94-2.06-.94-.94-2.06-.94 2.06-2.06.94z\"/><path d=\"M17.41 7.96l-1.37-1.37c-.4-.4-.92-.59-1.43-.59-.52 0-1.04.2-1.43.59L10.3 9.45l-7.72 7.72c-.78.78-.78 2.05 0 2.83L4 21.41c.39.39.9.59 1.41.59.51 0 1.02-.2 1.41-.59l7.78-7.78 2.81-2.81c.8-.78.8-2.07 0-2.86zM5.41 20L4 18.59l7.72-7.72 1.47 1.35L5.41 20z\"/>\n",
              "  </svg>\n",
              "      </button>\n",
              "      \n",
              "  <style>\n",
              "    .colab-df-container {\n",
              "      display:flex;\n",
              "      flex-wrap:wrap;\n",
              "      gap: 12px;\n",
              "    }\n",
              "\n",
              "    .colab-df-convert {\n",
              "      background-color: #E8F0FE;\n",
              "      border: none;\n",
              "      border-radius: 50%;\n",
              "      cursor: pointer;\n",
              "      display: none;\n",
              "      fill: #1967D2;\n",
              "      height: 32px;\n",
              "      padding: 0 0 0 0;\n",
              "      width: 32px;\n",
              "    }\n",
              "\n",
              "    .colab-df-convert:hover {\n",
              "      background-color: #E2EBFA;\n",
              "      box-shadow: 0px 1px 2px rgba(60, 64, 67, 0.3), 0px 1px 3px 1px rgba(60, 64, 67, 0.15);\n",
              "      fill: #174EA6;\n",
              "    }\n",
              "\n",
              "    [theme=dark] .colab-df-convert {\n",
              "      background-color: #3B4455;\n",
              "      fill: #D2E3FC;\n",
              "    }\n",
              "\n",
              "    [theme=dark] .colab-df-convert:hover {\n",
              "      background-color: #434B5C;\n",
              "      box-shadow: 0px 1px 3px 1px rgba(0, 0, 0, 0.15);\n",
              "      filter: drop-shadow(0px 1px 2px rgba(0, 0, 0, 0.3));\n",
              "      fill: #FFFFFF;\n",
              "    }\n",
              "  </style>\n",
              "\n",
              "      <script>\n",
              "        const buttonEl =\n",
              "          document.querySelector('#df-29f61963-3c85-41fc-87e6-52862e6907b7 button.colab-df-convert');\n",
              "        buttonEl.style.display =\n",
              "          google.colab.kernel.accessAllowed ? 'block' : 'none';\n",
              "\n",
              "        async function convertToInteractive(key) {\n",
              "          const element = document.querySelector('#df-29f61963-3c85-41fc-87e6-52862e6907b7');\n",
              "          const dataTable =\n",
              "            await google.colab.kernel.invokeFunction('convertToInteractive',\n",
              "                                                     [key], {});\n",
              "          if (!dataTable) return;\n",
              "\n",
              "          const docLinkHtml = 'Like what you see? Visit the ' +\n",
              "            '<a target=\"_blank\" href=https://colab.research.google.com/notebooks/data_table.ipynb>data table notebook</a>'\n",
              "            + ' to learn more about interactive tables.';\n",
              "          element.innerHTML = '';\n",
              "          dataTable['output_type'] = 'display_data';\n",
              "          await google.colab.output.renderOutput(dataTable, element);\n",
              "          const docLink = document.createElement('div');\n",
              "          docLink.innerHTML = docLinkHtml;\n",
              "          element.appendChild(docLink);\n",
              "        }\n",
              "      </script>\n",
              "    </div>\n",
              "  </div>\n",
              "  "
            ]
          },
          "metadata": {},
          "execution_count": 13
        }
      ]
    },
    {
      "cell_type": "code",
      "source": [
        "#Summary of data\n",
        "\n",
        "credit_card.info()"
      ],
      "metadata": {
        "colab": {
          "base_uri": "https://localhost:8080/"
        },
        "id": "rM2Auy61MezF",
        "outputId": "a2136575-4b21-4790-8205-a47ac5759983"
      },
      "execution_count": 14,
      "outputs": [
        {
          "output_type": "stream",
          "name": "stdout",
          "text": [
            "<class 'pandas.core.frame.DataFrame'>\n",
            "Int64Index: 468925 entries, 5008804 to 5150337\n",
            "Data columns (total 19 columns):\n",
            " #   Column               Non-Null Count   Dtype  \n",
            "---  ------               --------------   -----  \n",
            " 0   CODE_GENDER          468925 non-null  object \n",
            " 1   FLAG_OWN_CAR         468925 non-null  object \n",
            " 2   FLAG_OWN_REALTY      468925 non-null  object \n",
            " 3   CNT_CHILDREN         468925 non-null  int64  \n",
            " 4   AMT_INCOME_TOTAL     468925 non-null  float64\n",
            " 5   NAME_INCOME_TYPE     468925 non-null  object \n",
            " 6   NAME_EDUCATION_TYPE  468925 non-null  object \n",
            " 7   NAME_FAMILY_STATUS   468925 non-null  object \n",
            " 8   NAME_HOUSING_TYPE    468925 non-null  object \n",
            " 9   DAYS_BIRTH           468925 non-null  int64  \n",
            " 10  DAYS_EMPLOYED        468925 non-null  int64  \n",
            " 11  FLAG_MOBIL           468925 non-null  int64  \n",
            " 12  FLAG_WORK_PHONE      468925 non-null  int64  \n",
            " 13  FLAG_PHONE           468925 non-null  int64  \n",
            " 14  FLAG_EMAIL           468925 non-null  int64  \n",
            " 15  OCCUPATION_TYPE      324119 non-null  object \n",
            " 16  CNT_FAM_MEMBERS      468925 non-null  float64\n",
            " 17  MONTHS_BALANCE       468925 non-null  int64  \n",
            " 18  STATUS               468925 non-null  object \n",
            "dtypes: float64(2), int64(8), object(9)\n",
            "memory usage: 71.6+ MB\n"
          ]
        }
      ]
    },
    {
      "cell_type": "code",
      "source": [
        "#Getting unique values from each features\n",
        "for i in credit_card.columns:\n",
        "    print(i,'-',credit_card[i].unique())"
      ],
      "metadata": {
        "colab": {
          "base_uri": "https://localhost:8080/"
        },
        "id": "SjPKe0mOMhZv",
        "outputId": "d526434e-8923-47e6-8633-3d296207e834"
      },
      "execution_count": 15,
      "outputs": [
        {
          "output_type": "stream",
          "name": "stdout",
          "text": [
            "CODE_GENDER - ['M' 'F']\n",
            "FLAG_OWN_CAR - ['Y' 'N']\n",
            "FLAG_OWN_REALTY - ['Y' 'N']\n",
            "CNT_CHILDREN - [ 0  1  3  2  4  5 14 19  7]\n",
            "AMT_INCOME_TOTAL - [ 427500.   112500.   270000.   283500.   135000.   130500.   157500.\n",
            "  405000.   211500.   360000.   126000.   315000.   247500.   297000.\n",
            "  225000.   166500.   216000.   255150.   148500.   202500.    94500.\n",
            "  450000.   180000.    90000.   765000.   382500.   144000.   229500.\n",
            "  292500.    74250.    40500.   337500.   193500.   267750.   139500.\n",
            "   67500.   252000.   900000.   115290.   279000.    76500.   234000.\n",
            "   81000.   108000.    99000.   198000.    45000.   238500.   117000.\n",
            "  153000.  1350000.   445500.   495000.    85500.   306000.   562500.\n",
            "  189000.   328500.   310500.   540000.   171000.   675000.   121500.\n",
            "   72000.    65250.   184500.   103500.   162000.   165150.    54000.\n",
            "  243000.   256500.    33300.   697500.   101250.    58500.   110250.\n",
            "  472500.   196650.   630000.   432000.   257625.   143100.   207000.\n",
            "  288000.   131400.   720000.   261000.    99900.    38250.   175500.\n",
            "   49500.    83250.   119250.    63000.   274500.    90900.   220500.\n",
            "   47250.   585000.   139050.    33750.   145350.   173250.   531000.\n",
            "  387000.  1125000.    36000.   179100.   206100.   265500.   118350.\n",
            "  123750.   116653.5  133650.   324000.   351000.   441000.   227250.\n",
            "   51750.   517500.   396000.   810000.   178650.   165600.    69750.\n",
            "   46948.5  616500.   378000.    89550.   234135.    42300.    74061.\n",
            "  175950.   168750.   391500.   177012.   364500.   661500.   240750.\n",
            "  333000.   342000.   167400.    50850.   141750.   176400.    30150.\n",
            "  155250.   414000.    52650.   115200.    67050.   120150.   373500.\n",
            "  146250.   213750.   121900.5  231750.   346500.   191250.   132372.\n",
            "  159750.   132750.    91530.    97731.   170302.5  265581.    73575.\n",
            "  184135.5  160200.   191700.   253800.    56700.   369000.   176175.\n",
            "  134419.5  190399.5  716323.5   31500.    57150.    78750.   236250.\n",
            "  208350.    38700.   222750.    72900.    56250.    62653.5  113400.\n",
            "   92250.   607500.   215550.    44550.   161100.   122400.    60376.5\n",
            "  254700.   787500.   140400.   185400.    31950.   129150.   612000.\n",
            "   47790.    69372.   134995.5  177750.   301500.   594000.   164250.\n",
            "   60750.    45900.   171261.   128542.5  178200.    73350.   124200.\n",
            "   82350.    38025.   360450.    39600.   634500.   459000.    87750.\n",
            "  945000.   463500.   742500.   151200.   560250.    89100.   204750.\n",
            "   36900.   187650.    32400.   147150.   119700.    27000.   990000.\n",
            "   61875.   355500.    79650.    37800.   140850.   195750.    29250.\n",
            "  423000.    87448.5  326250.    31531.5  105750.   468000.    97650.\n",
            "  114750.   418500.    95850.   652500.  1575000.    74700.    62100.\n",
            "  494100.   249750.   150750.   116100.   215100.   179271. ]\n",
            "NAME_INCOME_TYPE - ['Working' 'Commercial associate' 'Pensioner' 'State servant' 'Student']\n",
            "NAME_EDUCATION_TYPE - ['Higher education' 'Secondary / secondary special' 'Incomplete higher'\n",
            " 'Lower secondary' 'Academic degree']\n",
            "NAME_FAMILY_STATUS - ['Civil marriage' 'Married' 'Single / not married' 'Separated' 'Widow']\n",
            "NAME_HOUSING_TYPE - ['Rented apartment' 'House / apartment' 'Municipal apartment'\n",
            " 'With parents' 'Co-op apartment' 'Office apartment']\n",
            "DAYS_BIRTH - [-12005 -21474 -19110 ... -21590 -15837  -9188]\n",
            "DAYS_EMPLOYED - [ -4542  -1134  -3051 ...  -8161   -606 -11272]\n",
            "FLAG_MOBIL - [1]\n",
            "FLAG_WORK_PHONE - [1 0]\n",
            "FLAG_PHONE - [0 1]\n",
            "FLAG_EMAIL - [0 1]\n",
            "OCCUPATION_TYPE - [nan 'Security staff' 'Sales staff' 'Accountants' 'Laborers' 'Managers'\n",
            " 'Drivers' 'Core staff' 'High skill tech staff' 'Cleaning staff'\n",
            " 'Private service staff' 'Cooking staff' 'Low-skill Laborers'\n",
            " 'Medicine staff' 'Secretaries' 'Waiters/barmen staff' 'HR staff'\n",
            " 'Realty agents' 'IT staff']\n",
            "CNT_FAM_MEMBERS - [ 2.  1.  5.  3.  4.  6. 15.  7. 20.  9.]\n",
            "MONTHS_BALANCE - [  0  -1  -2  -3  -4  -5  -6  -7  -8  -9 -10 -11 -12 -13 -14 -15 -16 -17\n",
            " -18 -19 -20 -21 -22 -23 -24 -25 -26 -27 -28 -29 -30 -31 -32 -33 -34 -35\n",
            " -36 -37 -38 -39 -40 -41 -42 -43 -44 -45 -46 -47 -48 -49 -50 -51 -52 -53\n",
            " -54 -55 -56 -57 -58 -59 -60]\n",
            "STATUS - ['C' '1' '0' 'X' '5' '4' '3' '2']\n"
          ]
        }
      ]
    },
    {
      "cell_type": "code",
      "source": [
        "#Type casting\n",
        "credit_card['CODE_GENDER'] = credit_card['CODE_GENDER'].astype('category')\n",
        "credit_card['FLAG_OWN_CAR'] = credit_card['FLAG_OWN_CAR'].astype('category')\n",
        "credit_card['NAME_INCOME_TYPE'] = credit_card['NAME_INCOME_TYPE'].astype('category')\n",
        "credit_card['FLAG_OWN_REALTY'] = credit_card['FLAG_OWN_REALTY'].astype('category')\n",
        "credit_card['NAME_EDUCATION_TYPE'] = credit_card['NAME_EDUCATION_TYPE'].astype('category')\n",
        "credit_card['NAME_FAMILY_STATUS'] = credit_card['NAME_FAMILY_STATUS'].astype('category')\n",
        "credit_card['NAME_HOUSING_TYPE'] = credit_card['NAME_HOUSING_TYPE'].astype('category')\n",
        "credit_card['OCCUPATION_TYPE'] = credit_card['OCCUPATION_TYPE'].astype('category')\n",
        "credit_card['STATUS'] = credit_card['STATUS'].astype('category')\n",
        "credit_card['FLAG_MOBIL'] = credit_card['FLAG_MOBIL'].astype('category')\n",
        "credit_card['FLAG_WORK_PHONE'] = credit_card['FLAG_WORK_PHONE'].astype('category')\n",
        "credit_card['FLAG_PHONE'] = credit_card['FLAG_PHONE'].astype('category')\n",
        "credit_card['FLAG_EMAIL'] = credit_card['FLAG_EMAIL'].astype('category')"
      ],
      "metadata": {
        "id": "eiZtgXtPMpcV"
      },
      "execution_count": 16,
      "outputs": []
    },
    {
      "cell_type": "code",
      "source": [
        "#Getting Age and WorkTerm info\n",
        "credit_card['AGE']=-(credit_card['DAYS_BIRTH'])//365\n",
        "credit_card['WORKTERM']=-(credit_card['DAYS_EMPLOYED'])//365\n",
        "\n",
        "credit_card['WORKTERM']= credit_card['WORKTERM'].replace(-1001,-1)\n",
        "credit_card.drop(['DAYS_BIRTH','DAYS_EMPLOYED'],axis = 1,inplace=True)\n",
        "\n",
        "# replacing the value of C,X to numeric value \n",
        "credit_card['STATUS'].replace({'C': 6, 'X' : 7}, inplace=True)\n",
        "credit_card['STATUS']=credit_card['STATUS'].astype(int)"
      ],
      "metadata": {
        "id": "i9yrs_U6MtM7"
      },
      "execution_count": 17,
      "outputs": []
    },
    {
      "cell_type": "code",
      "source": [
        "def get_label(status):\n",
        "    if status in (2,3,4,5):\n",
        "        return 1  # Risky\n",
        "    else:\n",
        "        return 0 # Not Risky"
      ],
      "metadata": {
        "id": "2gYpXmIJMwqc"
      },
      "execution_count": 18,
      "outputs": []
    },
    {
      "cell_type": "code",
      "source": [
        "credit_card['LABEL'] = credit_card['STATUS'].apply(get_label)\n",
        "credit_card['LABEL']=credit_card['LABEL'].astype('category')\n",
        "credit_card.drop('STATUS',axis = 1,inplace=True)"
      ],
      "metadata": {
        "id": "QRLWN--6M0Ma"
      },
      "execution_count": 19,
      "outputs": []
    },
    {
      "cell_type": "code",
      "source": [
        "credit_card['WORKTERM'].unique()"
      ],
      "metadata": {
        "colab": {
          "base_uri": "https://localhost:8080/"
        },
        "id": "iIv8YgX4M8Ze",
        "outputId": "2ad095ca-3a7d-47a0-80bd-d646ae7e9463"
      },
      "execution_count": 20,
      "outputs": [
        {
          "output_type": "execute_result",
          "data": {
            "text/plain": [
              "array([12,  3,  8, -1,  2,  4,  5, 19, 14, 13,  7,  6, 17, 29,  1, 15, 11,\n",
              "        0, 10, 23, 24, 20,  9, 27, 26, 18, 21, 22, 16, 28, 38, 32, 31, 36,\n",
              "       37, 30, 39, 25, 34, 33, 41, 40, 35, 43, 42])"
            ]
          },
          "metadata": {},
          "execution_count": 20
        }
      ]
    },
    {
      "cell_type": "code",
      "source": [
        "#Checking for empty cells\n",
        "credit_card.isnull().sum() * 100 / credit_card.shape[0]"
      ],
      "metadata": {
        "colab": {
          "base_uri": "https://localhost:8080/"
        },
        "id": "z93j-57xM_s-",
        "outputId": "ca8824ee-a463-4231-a33c-bc306cae2f8a"
      },
      "execution_count": 21,
      "outputs": [
        {
          "output_type": "execute_result",
          "data": {
            "text/plain": [
              "CODE_GENDER             0.000000\n",
              "FLAG_OWN_CAR            0.000000\n",
              "FLAG_OWN_REALTY         0.000000\n",
              "CNT_CHILDREN            0.000000\n",
              "AMT_INCOME_TOTAL        0.000000\n",
              "NAME_INCOME_TYPE        0.000000\n",
              "NAME_EDUCATION_TYPE     0.000000\n",
              "NAME_FAMILY_STATUS      0.000000\n",
              "NAME_HOUSING_TYPE       0.000000\n",
              "FLAG_MOBIL              0.000000\n",
              "FLAG_WORK_PHONE         0.000000\n",
              "FLAG_PHONE              0.000000\n",
              "FLAG_EMAIL              0.000000\n",
              "OCCUPATION_TYPE        30.880418\n",
              "CNT_FAM_MEMBERS         0.000000\n",
              "MONTHS_BALANCE          0.000000\n",
              "AGE                     0.000000\n",
              "WORKTERM                0.000000\n",
              "LABEL                   0.000000\n",
              "dtype: float64"
            ]
          },
          "metadata": {},
          "execution_count": 21
        }
      ]
    },
    {
      "cell_type": "code",
      "source": [
        "sns.countplot(x=credit_card[\"LABEL\"])"
      ],
      "metadata": {
        "colab": {
          "base_uri": "https://localhost:8080/",
          "height": 296
        },
        "id": "Uh2cvw6rNFJt",
        "outputId": "d1ac467c-0106-4347-d778-611da89a8460"
      },
      "execution_count": 22,
      "outputs": [
        {
          "output_type": "execute_result",
          "data": {
            "text/plain": [
              "<matplotlib.axes._subplots.AxesSubplot at 0x7f05dc541430>"
            ]
          },
          "metadata": {},
          "execution_count": 22
        },
        {
          "output_type": "display_data",
          "data": {
            "text/plain": [
              "<Figure size 432x288 with 1 Axes>"
            ],
            "image/png": "[encoded data removed]"
          },
          "metadata": {
            "needs_background": "light"
          }
        }
      ]
    },
    {
      "cell_type": "code",
      "source": [
        "sns.pairplot(credit_card.sample(100))"
      ],
      "metadata": {
        "colab": {
          "base_uri": "https://localhost:8080/",
          "height": 1000
        },
        "id": "gIhzN2z3NZ1Y",
        "outputId": "6a3a066d-8e88-4675-8b07-d71727e6e1ac"
      },
      "execution_count": 23,
      "outputs": [
        {
          "output_type": "execute_result",
          "data": {
            "text/plain": [
              "<seaborn.axisgrid.PairGrid at 0x7f05e8d6f100>"
            ]
          },
          "metadata": {},
          "execution_count": 23
        },
        {
          "output_type": "display_data",
          "data": {
            "text/plain": [
              "<Figure size 1080x1080 with 42 Axes>"
            ],
            "image/png": "[encoded data removed]"
          },
          "metadata": {
            "needs_background": "light"
          }
        }
      ]
    },
    {
      "cell_type": "code",
      "source": [
        "credit_card.skew()"
      ],
      "metadata": {
        "colab": {
          "base_uri": "https://localhost:8080/"
        },
        "id": "GWuvRahjNgYa",
        "outputId": "3c5aee6b-ba1f-4d2e-9c4f-dea786d70cbe"
      },
      "execution_count": 24,
      "outputs": [
        {
          "output_type": "execute_result",
          "data": {
            "text/plain": [
              "CNT_CHILDREN        2.822807\n",
              "AMT_INCOME_TOTAL    2.668338\n",
              "CNT_FAM_MEMBERS     1.438902\n",
              "MONTHS_BALANCE     -0.483808\n",
              "AGE                 0.157029\n",
              "WORKTERM            1.650938\n",
              "dtype: float64"
            ]
          },
          "metadata": {},
          "execution_count": 24
        }
      ]
    },
    {
      "cell_type": "code",
      "source": [
        "plt.figure(figsize=[20,15])\n",
        "plt.subplot(4,2,1)\n",
        "plt.hist(data= credit_card, x='CNT_CHILDREN')\n",
        "plt.subplot(4,2,2)\n",
        "plt.hist(data= credit_card, x='AMT_INCOME_TOTAL')\n",
        "plt.subplot(4,2,3)\n",
        "plt.hist(data= credit_card, x='AGE')\n",
        "plt.subplot(4,2,4)\n",
        "plt.hist(data= credit_card, x='WORKTERM')\n",
        "plt.subplot(4,2,5)\n",
        "plt.hist(data= credit_card, x='CNT_FAM_MEMBERS')\n",
        "plt.show()"
      ],
      "metadata": {
        "colab": {
          "base_uri": "https://localhost:8080/",
          "height": 619
        },
        "id": "gpcs3sGtNj1Q",
        "outputId": "3a2b9c2a-978d-488e-82a9-f7482ee43973"
      },
      "execution_count": 25,
      "outputs": [
        {
          "output_type": "display_data",
          "data": {
            "text/plain": [
              "<Figure size 1440x1080 with 5 Axes>"
            ],
            "image/png": "[encoded data removed]"
          },
          "metadata": {
            "needs_background": "light"
          }
        }
      ]
    },
    {
      "cell_type": "code",
      "source": [
        "import plotly.figure_factory as ff\n",
        "credit_card_corr = credit_card.corr(method='spearman') # Generate correlation matrix for spearman correlation\n",
        "\n",
        "x = list(credit_card_corr.columns)\n",
        "y = list(credit_card_corr.index)\n",
        "z = np.array(credit_card_corr)\n",
        "\n",
        "fig = ff.create_annotated_heatmap(\n",
        "    z,\n",
        "    x = x,\n",
        "    y = y ,\n",
        "    annotation_text = np.around(z, decimals=2),\n",
        "    hoverinfo='z',\n",
        "    colorscale='Viridis'\n",
        "    )\n",
        "fig.show()"
      ],
      "metadata": {
        "colab": {
          "base_uri": "https://localhost:8080/",
          "height": 542
        },
        "id": "aRniZ-0lNnYk",
        "outputId": "88eb06d6-3c49-4f53-c440-b46c3a4d46e7"
      },
      "execution_count": 26,
      "outputs": [
        {
          "output_type": "display_data",
          "data": {
            "text/html": [
              "<html>\n",
              "<head><meta charset=\"utf-8\" /></head>\n",
              "<body>\n",
              "    <div>            <script src=\"https://cdnjs.cloudflare.com/ajax/libs/mathjax/2.7.5/MathJax.js?config=TeX-AMS-MML_SVG\"></script><script type=\"text/javascript\">if (window.MathJax) {MathJax.Hub.Config({SVG: {font: \"STIX-Web\"}});}</script>                <script type=\"text/javascript\">window.PlotlyConfig = {MathJaxConfig: 'local'};</script>\n",
              "        <script src=\"https://cdn.plot.ly/plotly-2.8.3.min.js\"></script>                <div id=\"a53b036c-d986-4f31-86a6-e2c68c47e2f7\" class=\"plotly-graph-div\" style=\"height:525px; width:100%;\"></div>            <script type=\"text/javascript\">                                    window.PLOTLYENV=window.PLOTLYENV || {};                                    if (document.getElementById(\"a53b036c-d986-4f31-86a6-e2c68c47e2f7\")) {                    Plotly.newPlot(                        \"a53b036c-d986-4f31-86a6-e2c68c47e2f7\",                        [{\"colorscale\":[[0.0,\"#440154\"],[0.1111111111111111,\"#482878\"],[0.2222222222222222,\"#3e4989\"],[0.3333333333333333,\"#31688e\"],[0.4444444444444444,\"#26828e\"],[0.5555555555555556,\"#1f9e89\"],[0.6666666666666666,\"#35b779\"],[0.7777777777777778,\"#6ece58\"],[0.8888888888888888,\"#b5de2b\"],[1.0,\"#fde725\"]],\"hoverinfo\":\"z\",\"reversescale\":false,\"showscale\":false,\"x\":[\"CNT_CHILDREN\",\"AMT_INCOME_TOTAL\",\"CNT_FAM_MEMBERS\",\"MONTHS_BALANCE\",\"AGE\",\"WORKTERM\"],\"y\":[\"CNT_CHILDREN\",\"AMT_INCOME_TOTAL\",\"CNT_FAM_MEMBERS\",\"MONTHS_BALANCE\",\"AGE\",\"WORKTERM\"],\"z\":[[1.0,0.054274973239303616,0.8238284344872142,0.004748256886531841,-0.39483619752843013,0.1347662930247065],[0.054274973239303616,1.0,0.03732439987834799,-0.005802413743770354,-0.11438899479495448,0.16408125824636735],[0.8238284344872142,0.03732439987834799,1.0,-0.007797121146918483,-0.319085472744373,0.1425612771719874],[0.004748256886531841,-0.005802413743770354,-0.007797121146918483,1.0,-0.04198249121042836,-0.03833933477458755],[-0.39483619752843013,-0.11438899479495448,-0.319085472744373,-0.04198249121042836,1.0,-0.22407140766302824],[0.1347662930247065,0.16408125824636735,0.1425612771719874,-0.03833933477458755,-0.22407140766302824,1.0]],\"type\":\"heatmap\"}],                        {\"annotations\":[{\"font\":{\"color\":\"#000000\"},\"showarrow\":false,\"text\":\"1.0\",\"x\":\"CNT_CHILDREN\",\"xref\":\"x\",\"y\":\"CNT_CHILDREN\",\"yref\":\"y\"},{\"font\":{\"color\":\"#FFFFFF\"},\"showarrow\":false,\"text\":\"0.05\",\"x\":\"AMT_INCOME_TOTAL\",\"xref\":\"x\",\"y\":\"CNT_CHILDREN\",\"yref\":\"y\"},{\"font\":{\"color\":\"#000000\"},\"showarrow\":false,\"text\":\"0.82\",\"x\":\"CNT_FAM_MEMBERS\",\"xref\":\"x\",\"y\":\"CNT_CHILDREN\",\"yref\":\"y\"},{\"font\":{\"color\":\"#FFFFFF\"},\"showarrow\":false,\"text\":\"0.0\",\"x\":\"MONTHS_BALANCE\",\"xref\":\"x\",\"y\":\"CNT_CHILDREN\",\"yref\":\"y\"},{\"font\":{\"color\":\"#FFFFFF\"},\"showarrow\":false,\"text\":\"-0.39\",\"x\":\"AGE\",\"xref\":\"x\",\"y\":\"CNT_CHILDREN\",\"yref\":\"y\"},{\"font\":{\"color\":\"#FFFFFF\"},\"showarrow\":false,\"text\":\"0.13\",\"x\":\"WORKTERM\",\"xref\":\"x\",\"y\":\"CNT_CHILDREN\",\"yref\":\"y\"},{\"font\":{\"color\":\"#FFFFFF\"},\"showarrow\":false,\"text\":\"0.05\",\"x\":\"CNT_CHILDREN\",\"xref\":\"x\",\"y\":\"AMT_INCOME_TOTAL\",\"yref\":\"y\"},{\"font\":{\"color\":\"#000000\"},\"showarrow\":false,\"text\":\"1.0\",\"x\":\"AMT_INCOME_TOTAL\",\"xref\":\"x\",\"y\":\"AMT_INCOME_TOTAL\",\"yref\":\"y\"},{\"font\":{\"color\":\"#FFFFFF\"},\"showarrow\":false,\"text\":\"0.04\",\"x\":\"CNT_FAM_MEMBERS\",\"xref\":\"x\",\"y\":\"AMT_INCOME_TOTAL\",\"yref\":\"y\"},{\"font\":{\"color\":\"#FFFFFF\"},\"showarrow\":false,\"text\":\"-0.01\",\"x\":\"MONTHS_BALANCE\",\"xref\":\"x\",\"y\":\"AMT_INCOME_TOTAL\",\"yref\":\"y\"},{\"font\":{\"color\":\"#FFFFFF\"},\"showarrow\":false,\"text\":\"-0.11\",\"x\":\"AGE\",\"xref\":\"x\",\"y\":\"AMT_INCOME_TOTAL\",\"yref\":\"y\"},{\"font\":{\"color\":\"#FFFFFF\"},\"showarrow\":false,\"text\":\"0.16\",\"x\":\"WORKTERM\",\"xref\":\"x\",\"y\":\"AMT_INCOME_TOTAL\",\"yref\":\"y\"},{\"font\":{\"color\":\"#000000\"},\"showarrow\":false,\"text\":\"0.82\",\"x\":\"CNT_CHILDREN\",\"xref\":\"x\",\"y\":\"CNT_FAM_MEMBERS\",\"yref\":\"y\"},{\"font\":{\"color\":\"#FFFFFF\"},\"showarrow\":false,\"text\":\"0.04\",\"x\":\"AMT_INCOME_TOTAL\",\"xref\":\"x\",\"y\":\"CNT_FAM_MEMBERS\",\"yref\":\"y\"},{\"font\":{\"color\":\"#000000\"},\"showarrow\":false,\"text\":\"1.0\",\"x\":\"CNT_FAM_MEMBERS\",\"xref\":\"x\",\"y\":\"CNT_FAM_MEMBERS\",\"yref\":\"y\"},{\"font\":{\"color\":\"#FFFFFF\"},\"showarrow\":false,\"text\":\"-0.01\",\"x\":\"MONTHS_BALANCE\",\"xref\":\"x\",\"y\":\"CNT_FAM_MEMBERS\",\"yref\":\"y\"},{\"font\":{\"color\":\"#FFFFFF\"},\"showarrow\":false,\"text\":\"-0.32\",\"x\":\"AGE\",\"xref\":\"x\",\"y\":\"CNT_FAM_MEMBERS\",\"yref\":\"y\"},{\"font\":{\"color\":\"#FFFFFF\"},\"showarrow\":false,\"text\":\"0.14\",\"x\":\"WORKTERM\",\"xref\":\"x\",\"y\":\"CNT_FAM_MEMBERS\",\"yref\":\"y\"},{\"font\":{\"color\":\"#FFFFFF\"},\"showarrow\":false,\"text\":\"0.0\",\"x\":\"CNT_CHILDREN\",\"xref\":\"x\",\"y\":\"MONTHS_BALANCE\",\"yref\":\"y\"},{\"font\":{\"color\":\"#FFFFFF\"},\"showarrow\":false,\"text\":\"-0.01\",\"x\":\"AMT_INCOME_TOTAL\",\"xref\":\"x\",\"y\":\"MONTHS_BALANCE\",\"yref\":\"y\"},{\"font\":{\"color\":\"#FFFFFF\"},\"showarrow\":false,\"text\":\"-0.01\",\"x\":\"CNT_FAM_MEMBERS\",\"xref\":\"x\",\"y\":\"MONTHS_BALANCE\",\"yref\":\"y\"},{\"font\":{\"color\":\"#000000\"},\"showarrow\":false,\"text\":\"1.0\",\"x\":\"MONTHS_BALANCE\",\"xref\":\"x\",\"y\":\"MONTHS_BALANCE\",\"yref\":\"y\"},{\"font\":{\"color\":\"#FFFFFF\"},\"showarrow\":false,\"text\":\"-0.04\",\"x\":\"AGE\",\"xref\":\"x\",\"y\":\"MONTHS_BALANCE\",\"yref\":\"y\"},{\"font\":{\"color\":\"#FFFFFF\"},\"showarrow\":false,\"text\":\"-0.04\",\"x\":\"WORKTERM\",\"xref\":\"x\",\"y\":\"MONTHS_BALANCE\",\"yref\":\"y\"},{\"font\":{\"color\":\"#FFFFFF\"},\"showarrow\":false,\"text\":\"-0.39\",\"x\":\"CNT_CHILDREN\",\"xref\":\"x\",\"y\":\"AGE\",\"yref\":\"y\"},{\"font\":{\"color\":\"#FFFFFF\"},\"showarrow\":false,\"text\":\"-0.11\",\"x\":\"AMT_INCOME_TOTAL\",\"xref\":\"x\",\"y\":\"AGE\",\"yref\":\"y\"},{\"font\":{\"color\":\"#FFFFFF\"},\"showarrow\":false,\"text\":\"-0.32\",\"x\":\"CNT_FAM_MEMBERS\",\"xref\":\"x\",\"y\":\"AGE\",\"yref\":\"y\"},{\"font\":{\"color\":\"#FFFFFF\"},\"showarrow\":false,\"text\":\"-0.04\",\"x\":\"MONTHS_BALANCE\",\"xref\":\"x\",\"y\":\"AGE\",\"yref\":\"y\"},{\"font\":{\"color\":\"#000000\"},\"showarrow\":false,\"text\":\"1.0\",\"x\":\"AGE\",\"xref\":\"x\",\"y\":\"AGE\",\"yref\":\"y\"},{\"font\":{\"color\":\"#FFFFFF\"},\"showarrow\":false,\"text\":\"-0.22\",\"x\":\"WORKTERM\",\"xref\":\"x\",\"y\":\"AGE\",\"yref\":\"y\"},{\"font\":{\"color\":\"#FFFFFF\"},\"showarrow\":false,\"text\":\"0.13\",\"x\":\"CNT_CHILDREN\",\"xref\":\"x\",\"y\":\"WORKTERM\",\"yref\":\"y\"},{\"font\":{\"color\":\"#FFFFFF\"},\"showarrow\":false,\"text\":\"0.16\",\"x\":\"AMT_INCOME_TOTAL\",\"xref\":\"x\",\"y\":\"WORKTERM\",\"yref\":\"y\"},{\"font\":{\"color\":\"#FFFFFF\"},\"showarrow\":false,\"text\":\"0.14\",\"x\":\"CNT_FAM_MEMBERS\",\"xref\":\"x\",\"y\":\"WORKTERM\",\"yref\":\"y\"},{\"font\":{\"color\":\"#FFFFFF\"},\"showarrow\":false,\"text\":\"-0.04\",\"x\":\"MONTHS_BALANCE\",\"xref\":\"x\",\"y\":\"WORKTERM\",\"yref\":\"y\"},{\"font\":{\"color\":\"#FFFFFF\"},\"showarrow\":false,\"text\":\"-0.22\",\"x\":\"AGE\",\"xref\":\"x\",\"y\":\"WORKTERM\",\"yref\":\"y\"},{\"font\":{\"color\":\"#000000\"},\"showarrow\":false,\"text\":\"1.0\",\"x\":\"WORKTERM\",\"xref\":\"x\",\"y\":\"WORKTERM\",\"yref\":\"y\"}],\"xaxis\":{\"dtick\":1,\"gridcolor\":\"rgb(0, 0, 0)\",\"side\":\"top\",\"ticks\":\"\"},\"yaxis\":{\"dtick\":1,\"ticks\":\"\",\"ticksuffix\":\"  \"},\"template\":{\"data\":{\"bar\":[{\"error_x\":{\"color\":\"#2a3f5f\"},\"error_y\":{\"color\":\"#2a3f5f\"},\"marker\":{\"line\":{\"color\":\"#E5ECF6\",\"width\":0.5},\"pattern\":{\"fillmode\":\"overlay\",\"size\":10,\"solidity\":0.2}},\"type\":\"bar\"}],\"barpolar\":[{\"marker\":{\"line\":{\"color\":\"#E5ECF6\",\"width\":0.5},\"pattern\":{\"fillmode\":\"overlay\",\"size\":10,\"solidity\":0.2}},\"type\":\"barpolar\"}],\"carpet\":[{\"aaxis\":{\"endlinecolor\":\"#2a3f5f\",\"gridcolor\":\"white\",\"linecolor\":\"white\",\"minorgridcolor\":\"white\",\"startlinecolor\":\"#2a3f5f\"},\"baxis\":{\"endlinecolor\":\"#2a3f5f\",\"gridcolor\":\"white\",\"linecolor\":\"white\",\"minorgridcolor\":\"white\",\"startlinecolor\":\"#2a3f5f\"},\"type\":\"carpet\"}],\"choropleth\":[{\"colorbar\":{\"outlinewidth\":0,\"ticks\":\"\"},\"type\":\"choropleth\"}],\"contour\":[{\"colorbar\":{\"outlinewidth\":0,\"ticks\":\"\"},\"colorscale\":[[0.0,\"#0d0887\"],[0.1111111111111111,\"#46039f\"],[0.2222222222222222,\"#7201a8\"],[0.3333333333333333,\"#9c179e\"],[0.4444444444444444,\"#bd3786\"],[0.5555555555555556,\"#d8576b\"],[0.6666666666666666,\"#ed7953\"],[0.7777777777777778,\"#fb9f3a\"],[0.8888888888888888,\"#fdca26\"],[1.0,\"#f0f921\"]],\"type\":\"contour\"}],\"contourcarpet\":[{\"colorbar\":{\"outlinewidth\":0,\"ticks\":\"\"},\"type\":\"contourcarpet\"}],\"heatmap\":[{\"colorbar\":{\"outlinewidth\":0,\"ticks\":\"\"},\"colorscale\":[[0.0,\"#0d0887\"],[0.1111111111111111,\"#46039f\"],[0.2222222222222222,\"#7201a8\"],[0.3333333333333333,\"#9c179e\"],[0.4444444444444444,\"#bd3786\"],[0.5555555555555556,\"#d8576b\"],[0.6666666666666666,\"#ed7953\"],[0.7777777777777778,\"#fb9f3a\"],[0.8888888888888888,\"#fdca26\"],[1.0,\"#f0f921\"]],\"type\":\"heatmap\"}],\"heatmapgl\":[{\"colorbar\":{\"outlinewidth\":0,\"ticks\":\"\"},\"colorscale\":[[0.0,\"#0d0887\"],[0.1111111111111111,\"#46039f\"],[0.2222222222222222,\"#7201a8\"],[0.3333333333333333,\"#9c179e\"],[0.4444444444444444,\"#bd3786\"],[0.5555555555555556,\"#d8576b\"],[0.6666666666666666,\"#ed7953\"],[0.7777777777777778,\"#fb9f3a\"],[0.8888888888888888,\"#fdca26\"],[1.0,\"#f0f921\"]],\"type\":\"heatmapgl\"}],\"histogram\":[{\"marker\":{\"pattern\":{\"fillmode\":\"overlay\",\"size\":10,\"solidity\":0.2}},\"type\":\"histogram\"}],\"histogram2d\":[{\"colorbar\":{\"outlinewidth\":0,\"ticks\":\"\"},\"colorscale\":[[0.0,\"#0d0887\"],[0.1111111111111111,\"#46039f\"],[0.2222222222222222,\"#7201a8\"],[0.3333333333333333,\"#9c179e\"],[0.4444444444444444,\"#bd3786\"],[0.5555555555555556,\"#d8576b\"],[0.6666666666666666,\"#ed7953\"],[0.7777777777777778,\"#fb9f3a\"],[0.8888888888888888,\"#fdca26\"],[1.0,\"#f0f921\"]],\"type\":\"histogram2d\"}],\"histogram2dcontour\":[{\"colorbar\":{\"outlinewidth\":0,\"ticks\":\"\"},\"colorscale\":[[0.0,\"#0d0887\"],[0.1111111111111111,\"#46039f\"],[0.2222222222222222,\"#7201a8\"],[0.3333333333333333,\"#9c179e\"],[0.4444444444444444,\"#bd3786\"],[0.5555555555555556,\"#d8576b\"],[0.6666666666666666,\"#ed7953\"],[0.7777777777777778,\"#fb9f3a\"],[0.8888888888888888,\"#fdca26\"],[1.0,\"#f0f921\"]],\"type\":\"histogram2dcontour\"}],\"mesh3d\":[{\"colorbar\":{\"outlinewidth\":0,\"ticks\":\"\"},\"type\":\"mesh3d\"}],\"parcoords\":[{\"line\":{\"colorbar\":{\"outlinewidth\":0,\"ticks\":\"\"}},\"type\":\"parcoords\"}],\"pie\":[{\"automargin\":true,\"type\":\"pie\"}],\"scatter\":[{\"marker\":{\"colorbar\":{\"outlinewidth\":0,\"ticks\":\"\"}},\"type\":\"scatter\"}],\"scatter3d\":[{\"line\":{\"colorbar\":{\"outlinewidth\":0,\"ticks\":\"\"}},\"marker\":{\"colorbar\":{\"outlinewidth\":0,\"ticks\":\"\"}},\"type\":\"scatter3d\"}],\"scattercarpet\":[{\"marker\":{\"colorbar\":{\"outlinewidth\":0,\"ticks\":\"\"}},\"type\":\"scattercarpet\"}],\"scattergeo\":[{\"marker\":{\"colorbar\":{\"outlinewidth\":0,\"ticks\":\"\"}},\"type\":\"scattergeo\"}],\"scattergl\":[{\"marker\":{\"colorbar\":{\"outlinewidth\":0,\"ticks\":\"\"}},\"type\":\"scattergl\"}],\"scattermapbox\":[{\"marker\":{\"colorbar\":{\"outlinewidth\":0,\"ticks\":\"\"}},\"type\":\"scattermapbox\"}],\"scatterpolar\":[{\"marker\":{\"colorbar\":{\"outlinewidth\":0,\"ticks\":\"\"}},\"type\":\"scatterpolar\"}],\"scatterpolargl\":[{\"marker\":{\"colorbar\":{\"outlinewidth\":0,\"ticks\":\"\"}},\"type\":\"scatterpolargl\"}],\"scatterternary\":[{\"marker\":{\"colorbar\":{\"outlinewidth\":0,\"ticks\":\"\"}},\"type\":\"scatterternary\"}],\"surface\":[{\"colorbar\":{\"outlinewidth\":0,\"ticks\":\"\"},\"colorscale\":[[0.0,\"#0d0887\"],[0.1111111111111111,\"#46039f\"],[0.2222222222222222,\"#7201a8\"],[0.3333333333333333,\"#9c179e\"],[0.4444444444444444,\"#bd3786\"],[0.5555555555555556,\"#d8576b\"],[0.6666666666666666,\"#ed7953\"],[0.7777777777777778,\"#fb9f3a\"],[0.8888888888888888,\"#fdca26\"],[1.0,\"#f0f921\"]],\"type\":\"surface\"}],\"table\":[{\"cells\":{\"fill\":{\"color\":\"#EBF0F8\"},\"line\":{\"color\":\"white\"}},\"header\":{\"fill\":{\"color\":\"#C8D4E3\"},\"line\":{\"color\":\"white\"}},\"type\":\"table\"}]},\"layout\":{\"annotationdefaults\":{\"arrowcolor\":\"#2a3f5f\",\"arrowhead\":0,\"arrowwidth\":1},\"autotypenumbers\":\"strict\",\"coloraxis\":{\"colorbar\":{\"outlinewidth\":0,\"ticks\":\"\"}},\"colorscale\":{\"diverging\":[[0,\"#8e0152\"],[0.1,\"#c51b7d\"],[0.2,\"#de77ae\"],[0.3,\"#f1b6da\"],[0.4,\"#fde0ef\"],[0.5,\"#f7f7f7\"],[0.6,\"#e6f5d0\"],[0.7,\"#b8e186\"],[0.8,\"#7fbc41\"],[0.9,\"#4d9221\"],[1,\"#276419\"]],\"sequential\":[[0.0,\"#0d0887\"],[0.1111111111111111,\"#46039f\"],[0.2222222222222222,\"#7201a8\"],[0.3333333333333333,\"#9c179e\"],[0.4444444444444444,\"#bd3786\"],[0.5555555555555556,\"#d8576b\"],[0.6666666666666666,\"#ed7953\"],[0.7777777777777778,\"#fb9f3a\"],[0.8888888888888888,\"#fdca26\"],[1.0,\"#f0f921\"]],\"sequentialminus\":[[0.0,\"#0d0887\"],[0.1111111111111111,\"#46039f\"],[0.2222222222222222,\"#7201a8\"],[0.3333333333333333,\"#9c179e\"],[0.4444444444444444,\"#bd3786\"],[0.5555555555555556,\"#d8576b\"],[0.6666666666666666,\"#ed7953\"],[0.7777777777777778,\"#fb9f3a\"],[0.8888888888888888,\"#fdca26\"],[1.0,\"#f0f921\"]]},\"colorway\":[\"#636efa\",\"#EF553B\",\"#00cc96\",\"#ab63fa\",\"#FFA15A\",\"#19d3f3\",\"#FF6692\",\"#B6E880\",\"#FF97FF\",\"#FECB52\"],\"font\":{\"color\":\"#2a3f5f\"},\"geo\":{\"bgcolor\":\"white\",\"lakecolor\":\"white\",\"landcolor\":\"#E5ECF6\",\"showlakes\":true,\"showland\":true,\"subunitcolor\":\"white\"},\"hoverlabel\":{\"align\":\"left\"},\"hovermode\":\"closest\",\"mapbox\":{\"style\":\"light\"},\"paper_bgcolor\":\"white\",\"plot_bgcolor\":\"#E5ECF6\",\"polar\":{\"angularaxis\":{\"gridcolor\":\"white\",\"linecolor\":\"white\",\"ticks\":\"\"},\"bgcolor\":\"#E5ECF6\",\"radialaxis\":{\"gridcolor\":\"white\",\"linecolor\":\"white\",\"ticks\":\"\"}},\"scene\":{\"xaxis\":{\"backgroundcolor\":\"#E5ECF6\",\"gridcolor\":\"white\",\"gridwidth\":2,\"linecolor\":\"white\",\"showbackground\":true,\"ticks\":\"\",\"zerolinecolor\":\"white\"},\"yaxis\":{\"backgroundcolor\":\"#E5ECF6\",\"gridcolor\":\"white\",\"gridwidth\":2,\"linecolor\":\"white\",\"showbackground\":true,\"ticks\":\"\",\"zerolinecolor\":\"white\"},\"zaxis\":{\"backgroundcolor\":\"#E5ECF6\",\"gridcolor\":\"white\",\"gridwidth\":2,\"linecolor\":\"white\",\"showbackground\":true,\"ticks\":\"\",\"zerolinecolor\":\"white\"}},\"shapedefaults\":{\"line\":{\"color\":\"#2a3f5f\"}},\"ternary\":{\"aaxis\":{\"gridcolor\":\"white\",\"linecolor\":\"white\",\"ticks\":\"\"},\"baxis\":{\"gridcolor\":\"white\",\"linecolor\":\"white\",\"ticks\":\"\"},\"bgcolor\":\"#E5ECF6\",\"caxis\":{\"gridcolor\":\"white\",\"linecolor\":\"white\",\"ticks\":\"\"}},\"title\":{\"x\":0.05},\"xaxis\":{\"automargin\":true,\"gridcolor\":\"white\",\"linecolor\":\"white\",\"ticks\":\"\",\"title\":{\"standoff\":15},\"zerolinecolor\":\"white\",\"zerolinewidth\":2},\"yaxis\":{\"automargin\":true,\"gridcolor\":\"white\",\"linecolor\":\"white\",\"ticks\":\"\",\"title\":{\"standoff\":15},\"zerolinecolor\":\"white\",\"zerolinewidth\":2}}}},                        {\"responsive\": true}                    ).then(function(){\n",
              "                            \n",
              "var gd = document.getElementById('a53b036c-d986-4f31-86a6-e2c68c47e2f7');\n",
              "var x = new MutationObserver(function (mutations, observer) {{\n",
              "        var display = window.getComputedStyle(gd).display;\n",
              "        if (!display || display === 'none') {{\n",
              "            console.log([gd, 'removed!']);\n",
              "            Plotly.purge(gd);\n",
              "            observer.disconnect();\n",
              "        }}\n",
              "}});\n",
              "\n",
              "// Listen for the removal of the full notebook cells\n",
              "var notebookContainer = gd.closest('#notebook-container');\n",
              "if (notebookContainer) {{\n",
              "    x.observe(notebookContainer, {childList: true});\n",
              "}}\n",
              "\n",
              "// Listen for the clearing of the current output cell\n",
              "var outputEl = gd.closest('.output');\n",
              "if (outputEl) {{\n",
              "    x.observe(outputEl, {childList: true});\n",
              "}}\n",
              "\n",
              "                        })                };                            </script>        </div>\n",
              "</body>\n",
              "</html>"
            ]
          },
          "metadata": {}
        }
      ]
    },
    {
      "cell_type": "code",
      "source": [
        "plt.figure(figsize=(5,5))\n",
        "sns.countplot(x='CODE_GENDER', data=credit_card,hue='LABEL')\n",
        "plt.title('Distribution of each gender')\n",
        "plt.show()"
      ],
      "metadata": {
        "colab": {
          "base_uri": "https://localhost:8080/",
          "height": 351
        },
        "id": "b1ChAKcZNqWg",
        "outputId": "3dc39872-6e0d-4c23-dbb3-082064b6a2f3"
      },
      "execution_count": 27,
      "outputs": [
        {
          "output_type": "display_data",
          "data": {
            "text/plain": [
              "<Figure size 360x360 with 1 Axes>"
            ],
            "image/png": "[encoded data removed]"
          },
          "metadata": {
            "needs_background": "light"
          }
        }
      ]
    },
    {
      "cell_type": "code",
      "source": [
        "plt.figure(figsize=(5,5))\n",
        "sns.countplot(x='FLAG_OWN_CAR', data=credit_card,hue='LABEL')\n",
        "plt.title('Distribution of Car Owner or Not')\n",
        "plt.show()"
      ],
      "metadata": {
        "colab": {
          "base_uri": "https://localhost:8080/",
          "height": 351
        },
        "id": "qRiVpFDxNtXm",
        "outputId": "d9c629fe-5e3d-4d37-d3c0-7894c0200f99"
      },
      "execution_count": 28,
      "outputs": [
        {
          "output_type": "display_data",
          "data": {
            "text/plain": [
              "<Figure size 360x360 with 1 Axes>"
            ],
            "image/png": "[encoded data removed]"
          },
          "metadata": {
            "needs_background": "light"
          }
        }
      ]
    },
    {
      "cell_type": "code",
      "source": [
        "plt.figure(figsize=(5,5))\n",
        "sns.countplot(x='FLAG_OWN_REALTY', data=credit_card,hue='LABEL')\n",
        "plt.title('Distribution of Property Owner or Not')\n",
        "plt.show()"
      ],
      "metadata": {
        "colab": {
          "base_uri": "https://localhost:8080/",
          "height": 351
        },
        "id": "hDx1ckwPNwWa",
        "outputId": "fa22cb99-d965-4a56-a5dc-92337c687e2a"
      },
      "execution_count": 29,
      "outputs": [
        {
          "output_type": "display_data",
          "data": {
            "text/plain": [
              "<Figure size 360x360 with 1 Axes>"
            ],
            "image/png": "[encoded data removed]"
          },
          "metadata": {
            "needs_background": "light"
          }
        }
      ]
    },
    {
      "cell_type": "code",
      "source": [
        "plt.figure(figsize=(10,5))\n",
        "sns.countplot(x='NAME_INCOME_TYPE', data=credit_card,hue='LABEL')\n",
        "plt.title('Distribution of Type Income')\n",
        "plt.show()"
      ],
      "metadata": {
        "colab": {
          "base_uri": "https://localhost:8080/",
          "height": 351
        },
        "id": "s8QIvOUwNy5e",
        "outputId": "27e55d6a-c2e1-4121-e1d2-0821640a1f07"
      },
      "execution_count": 30,
      "outputs": [
        {
          "output_type": "display_data",
          "data": {
            "text/plain": [
              "<Figure size 720x360 with 1 Axes>"
            ],
            "image/png": "[encoded data removed]"
          },
          "metadata": {
            "needs_background": "light"
          }
        }
      ]
    },
    {
      "cell_type": "code",
      "source": [
        "plt.figure(figsize=(10,5))\n",
        "sns.countplot(x='NAME_EDUCATION_TYPE', data=credit_card,hue='LABEL')\n",
        "plt.title('Distribution of Type Income')\n",
        "plt.show()"
      ],
      "metadata": {
        "colab": {
          "base_uri": "https://localhost:8080/",
          "height": 351
        },
        "id": "zaSBSinjN1b5",
        "outputId": "2909841b-d12d-4293-ba2e-86d098c28b09"
      },
      "execution_count": 31,
      "outputs": [
        {
          "output_type": "display_data",
          "data": {
            "text/plain": [
              "<Figure size 720x360 with 1 Axes>"
            ],
            "image/png": "[encoded data removed]"
          },
          "metadata": {
            "needs_background": "light"
          }
        }
      ]
    },
    {
      "cell_type": "code",
      "source": [
        "plt.figure(figsize=(10,5))\n",
        "sns.countplot(x='NAME_FAMILY_STATUS', data=credit_card,hue='LABEL')\n",
        "plt.title('Distribution of Marital status')\n",
        "plt.show()"
      ],
      "metadata": {
        "colab": {
          "base_uri": "https://localhost:8080/",
          "height": 351
        },
        "id": "gf0I3kS-N4Xt",
        "outputId": "18169ba5-94c9-43e7-c9db-bd83e56a0df3"
      },
      "execution_count": 32,
      "outputs": [
        {
          "output_type": "display_data",
          "data": {
            "text/plain": [
              "<Figure size 720x360 with 1 Axes>"
            ],
            "image/png": "[encoded data removed]"
          },
          "metadata": {
            "needs_background": "light"
          }
        }
      ]
    },
    {
      "cell_type": "code",
      "source": [
        "plt.figure(figsize=(20,10))\n",
        "sns.countplot(x='NAME_HOUSING_TYPE', data=credit_card,hue='LABEL')\n",
        "plt.title('Distribution of each Housing type')\n",
        "plt.show()"
      ],
      "metadata": {
        "colab": {
          "base_uri": "https://localhost:8080/",
          "height": 584
        },
        "id": "kLy6HuQQN_qT",
        "outputId": "1ef40cb8-0719-4183-bf12-1f2536ad9cb3"
      },
      "execution_count": 33,
      "outputs": [
        {
          "output_type": "display_data",
          "data": {
            "text/plain": [
              "<Figure size 1440x720 with 1 Axes>"
            ],
            "image/png": "[encoded data removed]"
          },
          "metadata": {
            "needs_background": "light"
          }
        }
      ]
    },
    {
      "cell_type": "code",
      "source": [
        "plt.figure(figsize=(5,5))\n",
        "sns.countplot(x='FLAG_WORK_PHONE', data=credit_card,hue='LABEL')\n",
        "plt.title('Distribution of having Work Phone or Not')\n",
        "plt.show()"
      ],
      "metadata": {
        "colab": {
          "base_uri": "https://localhost:8080/",
          "height": 351
        },
        "id": "ztHYa2eVOCKP",
        "outputId": "663baeff-ebae-4c8a-b0eb-2d6aee0d639c"
      },
      "execution_count": 34,
      "outputs": [
        {
          "output_type": "display_data",
          "data": {
            "text/plain": [
              "<Figure size 360x360 with 1 Axes>"
            ],
            "image/png": "[encoded data removed]"
          },
          "metadata": {
            "needs_background": "light"
          }
        }
      ]
    },
    {
      "cell_type": "code",
      "source": [
        "plt.figure(figsize=(5,5))\n",
        "sns.countplot(x='FLAG_PHONE', data=credit_card,hue='LABEL')\n",
        "plt.title('Distribution of having any Phone number or Not')\n",
        "plt.show()"
      ],
      "metadata": {
        "colab": {
          "base_uri": "https://localhost:8080/",
          "height": 351
        },
        "id": "v2OmD48rOEnW",
        "outputId": "b869affb-1647-49b8-f57d-5a9bd1cdc496"
      },
      "execution_count": 35,
      "outputs": [
        {
          "output_type": "display_data",
          "data": {
            "text/plain": [
              "<Figure size 360x360 with 1 Axes>"
            ],
            "image/png": "[encoded data removed]"
          },
          "metadata": {
            "needs_background": "light"
          }
        }
      ]
    },
    {
      "cell_type": "code",
      "source": [
        "plt.figure(figsize=(5,5))\n",
        "sns.countplot(x='FLAG_EMAIL', data=credit_card,hue='LABEL')\n",
        "plt.title('Distribution of having any EMAIL ID or Not')\n",
        "plt.show()"
      ],
      "metadata": {
        "colab": {
          "base_uri": "https://localhost:8080/",
          "height": 351
        },
        "id": "GR62JcNxOG41",
        "outputId": "dc6e22a4-b43f-4218-ebea-5cc278996c67"
      },
      "execution_count": 36,
      "outputs": [
        {
          "output_type": "display_data",
          "data": {
            "text/plain": [
              "<Figure size 360x360 with 1 Axes>"
            ],
            "image/png": "[encoded data removed]"
          },
          "metadata": {
            "needs_background": "light"
          }
        }
      ]
    },
    {
      "cell_type": "code",
      "source": [
        "plt.figure(figsize=(30,10))\n",
        "sns.countplot(x='OCCUPATION_TYPE', data=credit_card,hue='LABEL')\n",
        "plt.title('Distribution of Type of Occupation')\n",
        "plt.show()"
      ],
      "metadata": {
        "colab": {
          "base_uri": "https://localhost:8080/",
          "height": 403
        },
        "id": "8pE9dQIQOJjA",
        "outputId": "21f53b03-0678-4ff9-9a57-b8c9ab2df652"
      },
      "execution_count": 37,
      "outputs": [
        {
          "output_type": "display_data",
          "data": {
            "text/plain": [
              "<Figure size 2160x720 with 1 Axes>"
            ],
            "image/png": "[encoded data removed]"
          },
          "metadata": {
            "needs_background": "light"
          }
        }
      ]
    },
    {
      "cell_type": "markdown",
      "source": [
        "Data Cleaning\n"
      ],
      "metadata": {
        "id": "KtJjOJhUOOA3"
      }
    },
    {
      "cell_type": "code",
      "source": [
        "credit_card.drop('OCCUPATION_TYPE',inplace=True,axis = 1)"
      ],
      "metadata": {
        "id": "ibM31AiOOP6i"
      },
      "execution_count": 38,
      "outputs": []
    },
    {
      "cell_type": "code",
      "source": [
        "# Dealing with categorical values\n",
        "credit_card_1 = pd.get_dummies(credit_card,columns=['CODE_GENDER', 'FLAG_OWN_CAR', 'FLAG_OWN_REALTY','NAME_INCOME_TYPE','NAME_EDUCATION_TYPE','NAME_FAMILY_STATUS','NAME_HOUSING_TYPE'])"
      ],
      "metadata": {
        "id": "xfRigQyDOT0e"
      },
      "execution_count": 39,
      "outputs": []
    },
    {
      "cell_type": "code",
      "source": [
        "credit_card_1.columns"
      ],
      "metadata": {
        "colab": {
          "base_uri": "https://localhost:8080/"
        },
        "id": "qomYm0ITOWPa",
        "outputId": "4be7633b-af28-4ed7-8ad5-b322b1e6cd20"
      },
      "execution_count": 40,
      "outputs": [
        {
          "output_type": "execute_result",
          "data": {
            "text/plain": [
              "Index(['CNT_CHILDREN', 'AMT_INCOME_TOTAL', 'FLAG_MOBIL', 'FLAG_WORK_PHONE',\n",
              "       'FLAG_PHONE', 'FLAG_EMAIL', 'CNT_FAM_MEMBERS', 'MONTHS_BALANCE', 'AGE',\n",
              "       'WORKTERM', 'LABEL', 'CODE_GENDER_F', 'CODE_GENDER_M', 'FLAG_OWN_CAR_N',\n",
              "       'FLAG_OWN_CAR_Y', 'FLAG_OWN_REALTY_N', 'FLAG_OWN_REALTY_Y',\n",
              "       'NAME_INCOME_TYPE_Commercial associate', 'NAME_INCOME_TYPE_Pensioner',\n",
              "       'NAME_INCOME_TYPE_State servant', 'NAME_INCOME_TYPE_Student',\n",
              "       'NAME_INCOME_TYPE_Working', 'NAME_EDUCATION_TYPE_Academic degree',\n",
              "       'NAME_EDUCATION_TYPE_Higher education',\n",
              "       'NAME_EDUCATION_TYPE_Incomplete higher',\n",
              "       'NAME_EDUCATION_TYPE_Lower secondary',\n",
              "       'NAME_EDUCATION_TYPE_Secondary / secondary special',\n",
              "       'NAME_FAMILY_STATUS_Civil marriage', 'NAME_FAMILY_STATUS_Married',\n",
              "       'NAME_FAMILY_STATUS_Separated',\n",
              "       'NAME_FAMILY_STATUS_Single / not married', 'NAME_FAMILY_STATUS_Widow',\n",
              "       'NAME_HOUSING_TYPE_Co-op apartment',\n",
              "       'NAME_HOUSING_TYPE_House / apartment',\n",
              "       'NAME_HOUSING_TYPE_Municipal apartment',\n",
              "       'NAME_HOUSING_TYPE_Office apartment',\n",
              "       'NAME_HOUSING_TYPE_Rented apartment', 'NAME_HOUSING_TYPE_With parents'],\n",
              "      dtype='object')"
            ]
          },
          "metadata": {},
          "execution_count": 40
        }
      ]
    },
    {
      "cell_type": "code",
      "source": [
        "credit_card_1.drop(['CODE_GENDER_M','FLAG_OWN_CAR_Y','FLAG_OWN_REALTY_Y','NAME_INCOME_TYPE_Working','NAME_EDUCATION_TYPE_Secondary / secondary special',\n",
        "                   'NAME_FAMILY_STATUS_Widow','NAME_HOUSING_TYPE_With parents'],inplace=True,axis = 1)"
      ],
      "metadata": {
        "id": "UQHAsQhLOYmr"
      },
      "execution_count": 41,
      "outputs": []
    },
    {
      "cell_type": "markdown",
      "source": [
        "Feature Selection"
      ],
      "metadata": {
        "id": "VoOcc-qJObdh"
      }
    },
    {
      "cell_type": "code",
      "source": [
        "from sklearn.feature_selection import SelectKBest\n",
        "from sklearn.feature_selection import f_classif\n",
        "data = credit_card_1\n",
        "X = credit_card_1.drop(['LABEL'],axis = 1)  #independent variable columns\n",
        "y = credit_card_1.LABEL    #target variable column (price range)"
      ],
      "metadata": {
        "id": "vir_yOZWOdZ-"
      },
      "execution_count": 42,
      "outputs": []
    },
    {
      "cell_type": "code",
      "source": [
        "#extracting top 4 best features by applying SelectKBest class\n",
        "bestfeatures = SelectKBest(score_func=f_classif, k='all')\n",
        "fit = bestfeatures.fit(X,y)\n",
        "dfscores = pd.DataFrame(fit.scores_)\n",
        "dfcolumns = pd.DataFrame(X.columns)\n",
        " \n",
        "#concat two dataframes\n",
        "featureScores = pd.concat([dfcolumns,dfscores],axis=1)\n",
        "featureScores.columns = ['Specs','Score']  #naming the dataframe columns\n",
        "print(featureScores.nlargest(30,'Score'))  #printing 15 best features"
      ],
      "metadata": {
        "colab": {
          "base_uri": "https://localhost:8080/"
        },
        "id": "xCOoeSxGOgSc",
        "outputId": "03512db5-6f30-4aaa-f123-8d7c75f02dd6"
      },
      "execution_count": 43,
      "outputs": [
        {
          "output_type": "stream",
          "name": "stdout",
          "text": [
            "                                      Specs       Score\n",
            "9                                  WORKTERM  109.886137\n",
            "13    NAME_INCOME_TYPE_Commercial associate   80.191562\n",
            "10                            CODE_GENDER_F   56.627564\n",
            "27    NAME_HOUSING_TYPE_Municipal apartment   52.761029\n",
            "21        NAME_FAMILY_STATUS_Civil marriage   50.736470\n",
            "20      NAME_EDUCATION_TYPE_Lower secondary   48.922410\n",
            "4                                FLAG_PHONE   44.809822\n",
            "24  NAME_FAMILY_STATUS_Single / not married   44.453703\n",
            "18     NAME_EDUCATION_TYPE_Higher education   39.690468\n",
            "15           NAME_INCOME_TYPE_State servant   38.766561\n",
            "3                           FLAG_WORK_PHONE   38.634140\n",
            "26      NAME_HOUSING_TYPE_House / apartment   34.515563\n",
            "25        NAME_HOUSING_TYPE_Co-op apartment   32.253156\n",
            "14               NAME_INCOME_TYPE_Pensioner   29.288921\n",
            "1                          AMT_INCOME_TOTAL   22.638200\n",
            "12                        FLAG_OWN_REALTY_N   16.162029\n",
            "22               NAME_FAMILY_STATUS_Married    9.462933\n",
            "19    NAME_EDUCATION_TYPE_Incomplete higher    6.642941\n",
            "28       NAME_HOUSING_TYPE_Office apartment    5.504351\n",
            "29       NAME_HOUSING_TYPE_Rented apartment    4.624058\n",
            "8                                       AGE    2.760387\n",
            "6                           CNT_FAM_MEMBERS    2.412261\n",
            "7                            MONTHS_BALANCE    2.366203\n",
            "23             NAME_FAMILY_STATUS_Separated    2.253763\n",
            "17      NAME_EDUCATION_TYPE_Academic degree    1.951916\n",
            "11                           FLAG_OWN_CAR_N    1.537794\n",
            "5                                FLAG_EMAIL    1.000875\n",
            "16                 NAME_INCOME_TYPE_Student    0.786968\n",
            "0                              CNT_CHILDREN    0.012655\n"
          ]
        }
      ]
    },
    {
      "cell_type": "code",
      "source": [
        "credit_card_1.info()"
      ],
      "metadata": {
        "colab": {
          "base_uri": "https://localhost:8080/"
        },
        "id": "oL8emjAqOiyz",
        "outputId": "67ed5c4f-59eb-415b-c7b7-ff911765867e"
      },
      "execution_count": 44,
      "outputs": [
        {
          "output_type": "stream",
          "name": "stdout",
          "text": [
            "<class 'pandas.core.frame.DataFrame'>\n",
            "Int64Index: 468925 entries, 5008804 to 5150337\n",
            "Data columns (total 31 columns):\n",
            " #   Column                                   Non-Null Count   Dtype   \n",
            "---  ------                                   --------------   -----   \n",
            " 0   CNT_CHILDREN                             468925 non-null  int64   \n",
            " 1   AMT_INCOME_TOTAL                         468925 non-null  float64 \n",
            " 2   FLAG_MOBIL                               468925 non-null  category\n",
            " 3   FLAG_WORK_PHONE                          468925 non-null  category\n",
            " 4   FLAG_PHONE                               468925 non-null  category\n",
            " 5   FLAG_EMAIL                               468925 non-null  category\n",
            " 6   CNT_FAM_MEMBERS                          468925 non-null  float64 \n",
            " 7   MONTHS_BALANCE                           468925 non-null  int64   \n",
            " 8   AGE                                      468925 non-null  int64   \n",
            " 9   WORKTERM                                 468925 non-null  int64   \n",
            " 10  LABEL                                    468925 non-null  category\n",
            " 11  CODE_GENDER_F                            468925 non-null  uint8   \n",
            " 12  FLAG_OWN_CAR_N                           468925 non-null  uint8   \n",
            " 13  FLAG_OWN_REALTY_N                        468925 non-null  uint8   \n",
            " 14  NAME_INCOME_TYPE_Commercial associate    468925 non-null  uint8   \n",
            " 15  NAME_INCOME_TYPE_Pensioner               468925 non-null  uint8   \n",
            " 16  NAME_INCOME_TYPE_State servant           468925 non-null  uint8   \n",
            " 17  NAME_INCOME_TYPE_Student                 468925 non-null  uint8   \n",
            " 18  NAME_EDUCATION_TYPE_Academic degree      468925 non-null  uint8   \n",
            " 19  NAME_EDUCATION_TYPE_Higher education     468925 non-null  uint8   \n",
            " 20  NAME_EDUCATION_TYPE_Incomplete higher    468925 non-null  uint8   \n",
            " 21  NAME_EDUCATION_TYPE_Lower secondary      468925 non-null  uint8   \n",
            " 22  NAME_FAMILY_STATUS_Civil marriage        468925 non-null  uint8   \n",
            " 23  NAME_FAMILY_STATUS_Married               468925 non-null  uint8   \n",
            " 24  NAME_FAMILY_STATUS_Separated             468925 non-null  uint8   \n",
            " 25  NAME_FAMILY_STATUS_Single / not married  468925 non-null  uint8   \n",
            " 26  NAME_HOUSING_TYPE_Co-op apartment        468925 non-null  uint8   \n",
            " 27  NAME_HOUSING_TYPE_House / apartment      468925 non-null  uint8   \n",
            " 28  NAME_HOUSING_TYPE_Municipal apartment    468925 non-null  uint8   \n",
            " 29  NAME_HOUSING_TYPE_Office apartment       468925 non-null  uint8   \n",
            " 30  NAME_HOUSING_TYPE_Rented apartment       468925 non-null  uint8   \n",
            "dtypes: category(5), float64(2), int64(4), uint8(20)\n",
            "memory usage: 52.3 MB\n"
          ]
        }
      ]
    },
    {
      "cell_type": "code",
      "source": [
        "X = credit_card_1.drop(['FLAG_MOBIL','CNT_CHILDREN','FLAG_EMAIL','FLAG_OWN_CAR_N','MONTHS_BALANCE','CNT_FAM_MEMBERS','AGE','LABEL'],axis = 1)\n",
        "y = credit_card_1.LABEL"
      ],
      "metadata": {
        "id": "ABjgaWLiOly5"
      },
      "execution_count": 45,
      "outputs": []
    },
    {
      "cell_type": "markdown",
      "source": [
        "Deaking With Unbalanced Data"
      ],
      "metadata": {
        "id": "iprHs0M_OoBW"
      }
    },
    {
      "cell_type": "code",
      "source": [
        "rus = RandomUnderSampler(random_state=42, replacement=True)\n",
        "X_ns,y_ns=rus.fit_resample(X,y)\n",
        "print(\"The number of classes before fit {}\".format(Counter(y)))\n",
        "print(\"The number of classes after fit {}\".format(Counter(y_ns)))"
      ],
      "metadata": {
        "colab": {
          "base_uri": "https://localhost:8080/"
        },
        "id": "adS0rnfQOsRW",
        "outputId": "52e42686-8de2-4572-cc0f-3509e2ce7076"
      },
      "execution_count": 46,
      "outputs": [
        {
          "output_type": "stream",
          "name": "stdout",
          "text": [
            "The number of classes before fit Counter({0: 466377, 1: 2548})\n",
            "The number of classes after fit Counter({0: 2548, 1: 2548})\n"
          ]
        }
      ]
    },
    {
      "cell_type": "code",
      "source": [
        "X_train, X_test, y_train, y_test = train_test_split(X_ns,y_ns,test_size=0.2, random_state=42)"
      ],
      "metadata": {
        "id": "xaLNT6A0Oxpj"
      },
      "execution_count": 47,
      "outputs": []
    },
    {
      "cell_type": "code",
      "source": [
        "sc = StandardScaler()\n",
        "X_train=sc.fit_transform(X_train)\n",
        "X_train"
      ],
      "metadata": {
        "colab": {
          "base_uri": "https://localhost:8080/"
        },
        "id": "H5oryfoKOzzJ",
        "outputId": "2b951093-3cea-485f-ab79-3c358b541cb5"
      },
      "execution_count": 48,
      "outputs": [
        {
          "output_type": "execute_result",
          "data": {
            "text/plain": [
              "array([[-0.543015  ,  1.70747354,  1.43529093, ..., -0.22354919,\n",
              "        -0.10325715, -0.13122448],\n",
              "       [-0.89389521, -0.58566061, -0.69672286, ..., -0.22354919,\n",
              "        -0.10325715, -0.13122448],\n",
              "       [ 0.99208593, -0.58566061, -0.69672286, ..., -0.22354919,\n",
              "        -0.10325715, -0.13122448],\n",
              "       ...,\n",
              "       [ 0.33418553, -0.58566061, -0.69672286, ..., -0.22354919,\n",
              "        -0.10325715, -0.13122448],\n",
              "       [ 2.52718686, -0.58566061,  1.43529093, ..., -0.22354919,\n",
              "        -0.10325715, -0.13122448],\n",
              "       [-0.89389521, -0.58566061, -0.69672286, ..., -0.22354919,\n",
              "        -0.10325715, -0.13122448]])"
            ]
          },
          "metadata": {},
          "execution_count": 48
        }
      ]
    },
    {
      "cell_type": "code",
      "source": [
        "X_test=sc.transform(X_test)\n",
        "X_test"
      ],
      "metadata": {
        "colab": {
          "base_uri": "https://localhost:8080/"
        },
        "id": "dGWksv1YO2Xl",
        "outputId": "eb065864-c5dc-408e-a181-8a11cdfdabe7"
      },
      "execution_count": 49,
      "outputs": [
        {
          "output_type": "execute_result",
          "data": {
            "text/plain": [
              "array([[ 0.55348566, -0.58566061, -0.69672286, ..., -0.22354919,\n",
              "        -0.10325715, -0.13122448],\n",
              "       [-0.543015  , -0.58566061,  1.43529093, ..., -0.22354919,\n",
              "        -0.10325715, -0.13122448],\n",
              "       [-0.76231513, -0.58566061, -0.69672286, ..., -0.22354919,\n",
              "        -0.10325715, -0.13122448],\n",
              "       ...,\n",
              "       [ 5.15878845,  1.70747354,  1.43529093, ..., -0.22354919,\n",
              "        -0.10325715, -0.13122448],\n",
              "       [-0.76231513, -0.58566061, -0.69672286, ..., -0.22354919,\n",
              "        -0.10325715, -0.13122448],\n",
              "       [-0.98161526,  1.70747354,  1.43529093, ..., -0.22354919,\n",
              "        -0.10325715, -0.13122448]])"
            ]
          },
          "metadata": {},
          "execution_count": 49
        }
      ]
    },
    {
      "cell_type": "code",
      "source": [
        "### both will have same shape\n",
        "X_train.shape, y_train.shape"
      ],
      "metadata": {
        "colab": {
          "base_uri": "https://localhost:8080/"
        },
        "id": "5NmXZ_OTO5B2",
        "outputId": "61188afc-f703-4388-f32b-95395d1efdcd"
      },
      "execution_count": 50,
      "outputs": [
        {
          "output_type": "execute_result",
          "data": {
            "text/plain": [
              "((4076, 23), (4076,))"
            ]
          },
          "metadata": {},
          "execution_count": 50
        }
      ]
    },
    {
      "cell_type": "code",
      "source": [
        "### both will have same shape\n",
        "X_test.shape, y_test.shape"
      ],
      "metadata": {
        "colab": {
          "base_uri": "https://localhost:8080/"
        },
        "id": "jk01vvQkO7Uq",
        "outputId": "6ced0744-aad6-4c18-fdde-f9998e8fc201"
      },
      "execution_count": 51,
      "outputs": [
        {
          "output_type": "execute_result",
          "data": {
            "text/plain": [
              "((1020, 23), (1020,))"
            ]
          },
          "metadata": {},
          "execution_count": 51
        }
      ]
    },
    {
      "cell_type": "code",
      "source": [
        "### Creating a Logistic regression object\n",
        "logistic_reg=LogisticRegression(random_state = 0)"
      ],
      "metadata": {
        "id": "_RTZxE3sO-UR"
      },
      "execution_count": 52,
      "outputs": []
    },
    {
      "cell_type": "code",
      "source": [
        "### Passing independant and dependant training data to the model\n",
        "logistic_reg.fit(X_train,y_train)"
      ],
      "metadata": {
        "colab": {
          "base_uri": "https://localhost:8080/"
        },
        "id": "jHeFe0jePAvN",
        "outputId": "610a4598-e754-4ece-f58c-e7a9ff271597"
      },
      "execution_count": 53,
      "outputs": [
        {
          "output_type": "execute_result",
          "data": {
            "text/plain": [
              "LogisticRegression(random_state=0)"
            ]
          },
          "metadata": {},
          "execution_count": 53
        }
      ]
    },
    {
      "cell_type": "code",
      "source": [
        "logistic_reg_pred=logistic_reg.predict(X_test)\n",
        "logistic_reg_pred"
      ],
      "metadata": {
        "colab": {
          "base_uri": "https://localhost:8080/"
        },
        "id": "8UB1XMk8PDKx",
        "outputId": "11cb2a44-efc3-4873-b121-99ca8697f3c3"
      },
      "execution_count": 54,
      "outputs": [
        {
          "output_type": "execute_result",
          "data": {
            "text/plain": [
              "array([0, 1, 0, ..., 1, 1, 0])"
            ]
          },
          "metadata": {},
          "execution_count": 54
        }
      ]
    },
    {
      "cell_type": "code",
      "source": [
        "confusion_mat=confusion_matrix(y_test, logistic_reg_pred)\n",
        "confusion_mat"
      ],
      "metadata": {
        "colab": {
          "base_uri": "https://localhost:8080/"
        },
        "id": "gv8kXdtnPFna",
        "outputId": "ffd8ea02-3c00-46a7-fd8d-df77a0066ef9"
      },
      "execution_count": 55,
      "outputs": [
        {
          "output_type": "execute_result",
          "data": {
            "text/plain": [
              "array([[325, 201],\n",
              "       [197, 297]])"
            ]
          },
          "metadata": {},
          "execution_count": 55
        }
      ]
    },
    {
      "cell_type": "code",
      "source": [
        "from sklearn.metrics import classification_report\n",
        "print(classification_report(y_test, logistic_reg_pred))"
      ],
      "metadata": {
        "colab": {
          "base_uri": "https://localhost:8080/"
        },
        "id": "-DURjzevPIAH",
        "outputId": "735243df-7bd4-4def-e577-e35bc2409d33"
      },
      "execution_count": 56,
      "outputs": [
        {
          "output_type": "stream",
          "name": "stdout",
          "text": [
            "              precision    recall  f1-score   support\n",
            "\n",
            "           0       0.62      0.62      0.62       526\n",
            "           1       0.60      0.60      0.60       494\n",
            "\n",
            "    accuracy                           0.61      1020\n",
            "   macro avg       0.61      0.61      0.61      1020\n",
            "weighted avg       0.61      0.61      0.61      1020\n",
            "\n"
          ]
        }
      ]
    },
    {
      "cell_type": "code",
      "source": [
        "auc = metrics.roc_auc_score(y_test, logistic_reg_pred)\n",
        "auc"
      ],
      "metadata": {
        "colab": {
          "base_uri": "https://localhost:8080/"
        },
        "id": "6aTxdh5zPKW8",
        "outputId": "259b0019-9eed-4402-f268-ef46e45f1683"
      },
      "execution_count": 57,
      "outputs": [
        {
          "output_type": "execute_result",
          "data": {
            "text/plain": [
              "0.6095426486661227"
            ]
          },
          "metadata": {},
          "execution_count": 57
        }
      ]
    },
    {
      "cell_type": "code",
      "source": [
        "false_positive_rate, true_positive_rate, thresolds = metrics.roc_curve(y_test, logistic_reg_pred)\n",
        "\n",
        "plt.figure(figsize=(10, 8), dpi=100)\n",
        "plt.axis('scaled')\n",
        "plt.xlim([0, 1])\n",
        "plt.ylim([0, 1])\n",
        "plt.title(\"AUC & ROC Curve\")\n",
        "plt.plot(false_positive_rate, true_positive_rate, 'g')\n",
        "plt.fill_between(false_positive_rate, true_positive_rate, facecolor='lightgreen', alpha=0.7)\n",
        "plt.text(0.95, 0.05, 'AUC = %0.4f' % auc, ha='right', fontsize=12, weight='bold', color='blue')\n",
        "plt.xlabel(\"False Positive Rate\")\n",
        "plt.ylabel(\"True Positive Rate\")\n",
        "plt.show()"
      ],
      "metadata": {
        "colab": {
          "base_uri": "https://localhost:8080/",
          "height": 706
        },
        "id": "hh4bzz3hPNPH",
        "outputId": "bb1bb0fc-8968-437c-c9df-8021365a018a"
      },
      "execution_count": 58,
      "outputs": [
        {
          "output_type": "display_data",
          "data": {
            "text/plain": [
              "<Figure size 1000x800 with 1 Axes>"
            ],
            "image/png": "[encoded data removed]"
          },
          "metadata": {
            "needs_background": "light"
          }
        }
      ]
    },
    {
      "cell_type": "code",
      "source": [
        "#Creating a svm Classifier\n",
        "clf = svm.SVC() # Linear Kernel\n",
        "\n",
        "#Train the model using the training sets\n",
        "clf.fit(X_train, y_train)\n",
        "\n",
        "#Predict the response for test dataset\n",
        "y_pred = clf.predict(X_test)"
      ],
      "metadata": {
        "id": "_riFZDY5PP_5"
      },
      "execution_count": 59,
      "outputs": []
    },
    {
      "cell_type": "code",
      "source": [
        "cm= confusion_matrix(y_test, y_pred) \n",
        "cm"
      ],
      "metadata": {
        "colab": {
          "base_uri": "https://localhost:8080/"
        },
        "id": "GCGQ42edPSHC",
        "outputId": "3a834a02-19a4-432b-9cab-5040a6c4fee3"
      },
      "execution_count": 60,
      "outputs": [
        {
          "output_type": "execute_result",
          "data": {
            "text/plain": [
              "array([[435,  91],\n",
              "       [189, 305]])"
            ]
          },
          "metadata": {},
          "execution_count": 60
        }
      ]
    },
    {
      "cell_type": "code",
      "source": [
        "print(classification_report(y_test, y_pred))"
      ],
      "metadata": {
        "colab": {
          "base_uri": "https://localhost:8080/"
        },
        "id": "BnWNV8M4PXc3",
        "outputId": "83cd7efd-4863-4c08-86be-db468234fb0a"
      },
      "execution_count": 61,
      "outputs": [
        {
          "output_type": "stream",
          "name": "stdout",
          "text": [
            "              precision    recall  f1-score   support\n",
            "\n",
            "           0       0.70      0.83      0.76       526\n",
            "           1       0.77      0.62      0.69       494\n",
            "\n",
            "    accuracy                           0.73      1020\n",
            "   macro avg       0.73      0.72      0.72      1020\n",
            "weighted avg       0.73      0.73      0.72      1020\n",
            "\n"
          ]
        }
      ]
    },
    {
      "cell_type": "code",
      "source": [
        " # defining parameter range\n",
        "param_grid = {'C': [0.1, 1, 10, 100, 1000], \n",
        "              'gamma': [1, 0.1, 0.01, 0.001, 0.0001]} \n",
        "  \n",
        "grid = GridSearchCV(svm.SVC(), param_grid, refit = True, verbose = 3)\n",
        "  \n",
        "# fitting the model for grid search\n",
        "grid.fit(X_train, y_train)"
      ],
      "metadata": {
        "colab": {
          "base_uri": "https://localhost:8080/"
        },
        "id": "UcxEoTV_Pckr",
        "outputId": "19788aad-af6a-43ef-c62c-3ccc08ab6deb"
      },
      "execution_count": 62,
      "outputs": [
        {
          "output_type": "stream",
          "name": "stdout",
          "text": [
            "Fitting 5 folds for each of 25 candidates, totalling 125 fits\n",
            "[CV 1/5] END ....................C=0.1, gamma=1;, score=0.718 total time=   1.0s\n",
            "[CV 2/5] END ....................C=0.1, gamma=1;, score=0.730 total time=   0.7s\n",
            "[CV 3/5] END ....................C=0.1, gamma=1;, score=0.729 total time=   0.7s\n",
            "[CV 4/5] END ....................C=0.1, gamma=1;, score=0.750 total time=   0.7s\n",
            "[CV 5/5] END ....................C=0.1, gamma=1;, score=0.760 total time=   0.7s\n",
            "[CV 1/5] END ..................C=0.1, gamma=0.1;, score=0.661 total time=   0.7s\n",
            "[CV 2/5] END ..................C=0.1, gamma=0.1;, score=0.666 total time=   0.7s\n",
            "[CV 3/5] END ..................C=0.1, gamma=0.1;, score=0.669 total time=   0.8s\n",
            "[CV 4/5] END ..................C=0.1, gamma=0.1;, score=0.675 total time=   1.2s\n",
            "[CV 5/5] END ..................C=0.1, gamma=0.1;, score=0.675 total time=   1.2s\n",
            "[CV 1/5] END .................C=0.1, gamma=0.01;, score=0.572 total time=   1.2s\n",
            "[CV 2/5] END .................C=0.1, gamma=0.01;, score=0.610 total time=   1.2s\n",
            "[CV 3/5] END .................C=0.1, gamma=0.01;, score=0.615 total time=   1.1s\n",
            "[CV 4/5] END .................C=0.1, gamma=0.01;, score=0.604 total time=   0.7s\n",
            "[CV 5/5] END .................C=0.1, gamma=0.01;, score=0.626 total time=   0.7s\n",
            "[CV 1/5] END ................C=0.1, gamma=0.001;, score=0.504 total time=   1.2s\n",
            "[CV 2/5] END ................C=0.1, gamma=0.001;, score=0.504 total time=   2.9s\n",
            "[CV 3/5] END ................C=0.1, gamma=0.001;, score=0.504 total time=   1.9s\n",
            "[CV 4/5] END ................C=0.1, gamma=0.001;, score=0.504 total time=   1.5s\n",
            "[CV 5/5] END ................C=0.1, gamma=0.001;, score=0.503 total time=   2.3s\n",
            "[CV 1/5] END ...............C=0.1, gamma=0.0001;, score=0.504 total time=   2.1s\n",
            "[CV 2/5] END ...............C=0.1, gamma=0.0001;, score=0.504 total time=   1.6s\n",
            "[CV 3/5] END ...............C=0.1, gamma=0.0001;, score=0.504 total time=   2.0s\n",
            "[CV 4/5] END ...............C=0.1, gamma=0.0001;, score=0.504 total time=   1.6s\n",
            "[CV 5/5] END ...............C=0.1, gamma=0.0001;, score=0.503 total time=   1.4s\n",
            "[CV 1/5] END ......................C=1, gamma=1;, score=0.804 total time=   0.9s\n",
            "[CV 2/5] END ......................C=1, gamma=1;, score=0.818 total time=   1.0s\n",
            "[CV 3/5] END ......................C=1, gamma=1;, score=0.827 total time=   0.7s\n",
            "[CV 4/5] END ......................C=1, gamma=1;, score=0.834 total time=   1.2s\n",
            "[CV 5/5] END ......................C=1, gamma=1;, score=0.827 total time=   1.9s\n",
            "[CV 1/5] END ....................C=1, gamma=0.1;, score=0.745 total time=   1.1s\n",
            "[CV 2/5] END ....................C=1, gamma=0.1;, score=0.741 total time=   0.7s\n",
            "[CV 3/5] END ....................C=1, gamma=0.1;, score=0.764 total time=   0.6s\n",
            "[CV 4/5] END ....................C=1, gamma=0.1;, score=0.775 total time=   0.6s\n",
            "[CV 5/5] END ....................C=1, gamma=0.1;, score=0.750 total time=   0.6s\n",
            "[CV 1/5] END ...................C=1, gamma=0.01;, score=0.613 total time=   0.7s\n",
            "[CV 2/5] END ...................C=1, gamma=0.01;, score=0.638 total time=   0.7s\n",
            "[CV 3/5] END ...................C=1, gamma=0.01;, score=0.642 total time=   0.7s\n",
            "[CV 4/5] END ...................C=1, gamma=0.01;, score=0.632 total time=   0.7s\n",
            "[CV 5/5] END ...................C=1, gamma=0.01;, score=0.660 total time=   0.7s\n",
            "[CV 1/5] END ..................C=1, gamma=0.001;, score=0.561 total time=   0.7s\n",
            "[CV 2/5] END ..................C=1, gamma=0.001;, score=0.590 total time=   1.0s\n",
            "[CV 3/5] END ..................C=1, gamma=0.001;, score=0.600 total time=   1.3s\n",
            "[CV 4/5] END ..................C=1, gamma=0.001;, score=0.595 total time=   1.8s\n",
            "[CV 5/5] END ..................C=1, gamma=0.001;, score=0.620 total time=   1.2s\n",
            "[CV 1/5] END .................C=1, gamma=0.0001;, score=0.504 total time=   0.8s\n",
            "[CV 2/5] END .................C=1, gamma=0.0001;, score=0.504 total time=   0.8s\n",
            "[CV 3/5] END .................C=1, gamma=0.0001;, score=0.504 total time=   0.7s\n",
            "[CV 4/5] END .................C=1, gamma=0.0001;, score=0.504 total time=   0.8s\n",
            "[CV 5/5] END .................C=1, gamma=0.0001;, score=0.503 total time=   0.7s\n",
            "[CV 1/5] END .....................C=10, gamma=1;, score=0.825 total time=   0.6s\n",
            "[CV 2/5] END .....................C=10, gamma=1;, score=0.845 total time=   0.5s\n",
            "[CV 3/5] END .....................C=10, gamma=1;, score=0.845 total time=   0.5s\n",
            "[CV 4/5] END .....................C=10, gamma=1;, score=0.858 total time=   0.5s\n",
            "[CV 5/5] END .....................C=10, gamma=1;, score=0.852 total time=   0.6s\n",
            "[CV 1/5] END ...................C=10, gamma=0.1;, score=0.773 total time=   0.6s\n",
            "[CV 2/5] END ...................C=10, gamma=0.1;, score=0.766 total time=   0.6s\n",
            "[CV 3/5] END ...................C=10, gamma=0.1;, score=0.791 total time=   0.6s\n",
            "[CV 4/5] END ...................C=10, gamma=0.1;, score=0.789 total time=   0.6s\n",
            "[CV 5/5] END ...................C=10, gamma=0.1;, score=0.774 total time=   0.6s\n",
            "[CV 1/5] END ..................C=10, gamma=0.01;, score=0.665 total time=   0.8s\n",
            "[CV 2/5] END ..................C=10, gamma=0.01;, score=0.677 total time=   1.2s\n",
            "[CV 3/5] END ..................C=10, gamma=0.01;, score=0.686 total time=   1.1s\n",
            "[CV 4/5] END ..................C=10, gamma=0.01;, score=0.675 total time=   0.8s\n",
            "[CV 5/5] END ..................C=10, gamma=0.01;, score=0.690 total time=   0.7s\n",
            "[CV 1/5] END .................C=10, gamma=0.001;, score=0.562 total time=   0.7s\n",
            "[CV 2/5] END .................C=10, gamma=0.001;, score=0.590 total time=   0.7s\n",
            "[CV 3/5] END .................C=10, gamma=0.001;, score=0.602 total time=   0.7s\n",
            "[CV 4/5] END .................C=10, gamma=0.001;, score=0.601 total time=   0.7s\n",
            "[CV 5/5] END .................C=10, gamma=0.001;, score=0.607 total time=   0.7s\n",
            "[CV 1/5] END ................C=10, gamma=0.0001;, score=0.560 total time=   0.7s\n",
            "[CV 2/5] END ................C=10, gamma=0.0001;, score=0.589 total time=   0.7s\n",
            "[CV 3/5] END ................C=10, gamma=0.0001;, score=0.604 total time=   0.7s\n",
            "[CV 4/5] END ................C=10, gamma=0.0001;, score=0.595 total time=   0.7s\n",
            "[CV 5/5] END ................C=10, gamma=0.0001;, score=0.612 total time=   0.7s\n",
            "[CV 1/5] END ....................C=100, gamma=1;, score=0.838 total time=   0.8s\n",
            "[CV 2/5] END ....................C=100, gamma=1;, score=0.854 total time=   0.8s\n",
            "[CV 3/5] END ....................C=100, gamma=1;, score=0.861 total time=   1.3s\n",
            "[CV 4/5] END ....................C=100, gamma=1;, score=0.865 total time=   1.4s\n",
            "[CV 5/5] END ....................C=100, gamma=1;, score=0.849 total time=   0.8s\n",
            "[CV 1/5] END ..................C=100, gamma=0.1;, score=0.782 total time=   0.8s\n",
            "[CV 2/5] END ..................C=100, gamma=0.1;, score=0.780 total time=   0.9s\n",
            "[CV 3/5] END ..................C=100, gamma=0.1;, score=0.804 total time=   0.8s\n",
            "[CV 4/5] END ..................C=100, gamma=0.1;, score=0.810 total time=   0.9s\n",
            "[CV 5/5] END ..................C=100, gamma=0.1;, score=0.798 total time=   0.8s\n",
            "[CV 1/5] END .................C=100, gamma=0.01;, score=0.718 total time=   1.0s\n",
            "[CV 2/5] END .................C=100, gamma=0.01;, score=0.702 total time=   1.1s\n",
            "[CV 3/5] END .................C=100, gamma=0.01;, score=0.729 total time=   1.2s\n",
            "[CV 4/5] END .................C=100, gamma=0.01;, score=0.712 total time=   1.0s\n",
            "[CV 5/5] END .................C=100, gamma=0.01;, score=0.707 total time=   1.3s\n",
            "[CV 1/5] END ................C=100, gamma=0.001;, score=0.615 total time=   1.3s\n",
            "[CV 2/5] END ................C=100, gamma=0.001;, score=0.640 total time=   1.1s\n",
            "[CV 3/5] END ................C=100, gamma=0.001;, score=0.649 total time=   0.8s\n",
            "[CV 4/5] END ................C=100, gamma=0.001;, score=0.631 total time=   0.8s\n",
            "[CV 5/5] END ................C=100, gamma=0.001;, score=0.665 total time=   0.8s\n",
            "[CV 1/5] END ...............C=100, gamma=0.0001;, score=0.564 total time=   0.7s\n",
            "[CV 2/5] END ...............C=100, gamma=0.0001;, score=0.584 total time=   0.7s\n",
            "[CV 3/5] END ...............C=100, gamma=0.0001;, score=0.596 total time=   0.7s\n",
            "[CV 4/5] END ...............C=100, gamma=0.0001;, score=0.593 total time=   0.7s\n",
            "[CV 5/5] END ...............C=100, gamma=0.0001;, score=0.590 total time=   0.7s\n",
            "[CV 1/5] END ...................C=1000, gamma=1;, score=0.848 total time=   1.0s\n",
            "[CV 2/5] END ...................C=1000, gamma=1;, score=0.863 total time=   0.9s\n",
            "[CV 3/5] END ...................C=1000, gamma=1;, score=0.866 total time=   1.0s\n",
            "[CV 4/5] END ...................C=1000, gamma=1;, score=0.854 total time=   1.3s\n",
            "[CV 5/5] END ...................C=1000, gamma=1;, score=0.860 total time=   1.6s\n",
            "[CV 1/5] END .................C=1000, gamma=0.1;, score=0.783 total time=   2.8s\n",
            "[CV 2/5] END .................C=1000, gamma=0.1;, score=0.800 total time=   2.2s\n",
            "[CV 3/5] END .................C=1000, gamma=0.1;, score=0.810 total time=   2.4s\n",
            "[CV 4/5] END .................C=1000, gamma=0.1;, score=0.822 total time=   2.1s\n",
            "[CV 5/5] END .................C=1000, gamma=0.1;, score=0.822 total time=   2.9s\n",
            "[CV 1/5] END ................C=1000, gamma=0.01;, score=0.743 total time=   4.6s\n",
            "[CV 2/5] END ................C=1000, gamma=0.01;, score=0.757 total time=   5.8s\n",
            "[CV 3/5] END ................C=1000, gamma=0.01;, score=0.752 total time=   4.3s\n",
            "[CV 4/5] END ................C=1000, gamma=0.01;, score=0.784 total time=   5.5s\n",
            "[CV 5/5] END ................C=1000, gamma=0.01;, score=0.741 total time=   4.5s\n",
            "[CV 1/5] END ...............C=1000, gamma=0.001;, score=0.654 total time=   2.3s\n",
            "[CV 2/5] END ...............C=1000, gamma=0.001;, score=0.674 total time=   1.5s\n",
            "[CV 3/5] END ...............C=1000, gamma=0.001;, score=0.675 total time=   1.7s\n",
            "[CV 4/5] END ...............C=1000, gamma=0.001;, score=0.665 total time=   1.7s\n",
            "[CV 5/5] END ...............C=1000, gamma=0.001;, score=0.667 total time=   1.5s\n",
            "[CV 1/5] END ..............C=1000, gamma=0.0001;, score=0.558 total time=   0.8s\n",
            "[CV 2/5] END ..............C=1000, gamma=0.0001;, score=0.587 total time=   0.8s\n",
            "[CV 3/5] END ..............C=1000, gamma=0.0001;, score=0.596 total time=   0.8s\n",
            "[CV 4/5] END ..............C=1000, gamma=0.0001;, score=0.600 total time=   0.8s\n",
            "[CV 5/5] END ..............C=1000, gamma=0.0001;, score=0.615 total time=   1.1s\n"
          ]
        },
        {
          "output_type": "execute_result",
          "data": {
            "text/plain": [
              "GridSearchCV(estimator=SVC(),\n",
              "             param_grid={'C': [0.1, 1, 10, 100, 1000],\n",
              "                         'gamma': [1, 0.1, 0.01, 0.001, 0.0001]},\n",
              "             verbose=3)"
            ]
          },
          "metadata": {},
          "execution_count": 62
        }
      ]
    },
    {
      "cell_type": "code",
      "source": [
        "# print best parameter after tuning\n",
        "print(grid.best_params_)\n",
        "  \n",
        "# print how our model looks after hyper-parameter tuning\n",
        "print(grid.best_estimator_)"
      ],
      "metadata": {
        "colab": {
          "base_uri": "https://localhost:8080/"
        },
        "id": "6zIoK2L_PghY",
        "outputId": "b7faf205-1b5c-403e-da0d-0e738589cbbb"
      },
      "execution_count": 63,
      "outputs": [
        {
          "output_type": "stream",
          "name": "stdout",
          "text": [
            "{'C': 1000, 'gamma': 1}\n",
            "SVC(C=1000, gamma=1)\n"
          ]
        }
      ]
    },
    {
      "cell_type": "code",
      "source": [
        "#Create a svm Classifier\n",
        "clf = svm.SVC(C=1000, gamma=1) # Linear Kernel\n",
        "\n",
        "#Train the model using the training sets\n",
        "clf.fit(X_train, y_train)\n",
        "\n",
        "#Predict the response for test dataset\n",
        "y_pred = clf.predict(X_test)"
      ],
      "metadata": {
        "id": "55kjn8NjPjUk"
      },
      "execution_count": 64,
      "outputs": []
    },
    {
      "cell_type": "code",
      "source": [
        "grid_predictions = grid.predict(X_test)\n",
        "  \n",
        "# print classification report\n",
        "print(classification_report(y_test, grid_predictions))"
      ],
      "metadata": {
        "colab": {
          "base_uri": "https://localhost:8080/"
        },
        "id": "V7v-1d7FPlt-",
        "outputId": "b3c7cd0f-fc47-4848-f948-0a5d7508f3e4"
      },
      "execution_count": 65,
      "outputs": [
        {
          "output_type": "stream",
          "name": "stdout",
          "text": [
            "              precision    recall  f1-score   support\n",
            "\n",
            "           0       0.91      0.86      0.88       526\n",
            "           1       0.86      0.91      0.88       494\n",
            "\n",
            "    accuracy                           0.88      1020\n",
            "   macro avg       0.88      0.88      0.88      1020\n",
            "weighted avg       0.88      0.88      0.88      1020\n",
            "\n"
          ]
        }
      ]
    },
    {
      "cell_type": "code",
      "source": [
        "cm= confusion_matrix(y_test, grid_predictions) \n",
        "cm"
      ],
      "metadata": {
        "colab": {
          "base_uri": "https://localhost:8080/"
        },
        "id": "L6-GstKiPoUK",
        "outputId": "23864785-b11e-4f2b-a6ff-9e56cdb63103"
      },
      "execution_count": 66,
      "outputs": [
        {
          "output_type": "execute_result",
          "data": {
            "text/plain": [
              "array([[453,  73],\n",
              "       [ 46, 448]])"
            ]
          },
          "metadata": {},
          "execution_count": 66
        }
      ]
    },
    {
      "cell_type": "code",
      "source": [
        "classifier= KNeighborsClassifier(n_neighbors=5, metric='minkowski', p=2 )  \n",
        "classifier.fit(X_train, y_train) "
      ],
      "metadata": {
        "colab": {
          "base_uri": "https://localhost:8080/"
        },
        "id": "-za9dqg9X-5l",
        "outputId": "6f8853e6-9dc6-4fac-a471-2b42a261d8c7"
      },
      "execution_count": 67,
      "outputs": [
        {
          "output_type": "execute_result",
          "data": {
            "text/plain": [
              "KNeighborsClassifier()"
            ]
          },
          "metadata": {},
          "execution_count": 67
        }
      ]
    },
    {
      "cell_type": "code",
      "source": [
        "#Predicting the test set result  \n",
        "y_pred= classifier.predict(X_test)"
      ],
      "metadata": {
        "id": "5duEqnMzYCB9"
      },
      "execution_count": 68,
      "outputs": []
    },
    {
      "cell_type": "code",
      "source": [
        "y_pred"
      ],
      "metadata": {
        "colab": {
          "base_uri": "https://localhost:8080/"
        },
        "id": "Z_onu70yYEML",
        "outputId": "f7cac849-4908-48f4-a8eb-60ec5286156b"
      },
      "execution_count": 69,
      "outputs": [
        {
          "output_type": "execute_result",
          "data": {
            "text/plain": [
              "array([0, 1, 1, ..., 0, 1, 1])"
            ]
          },
          "metadata": {},
          "execution_count": 69
        }
      ]
    },
    {
      "cell_type": "code",
      "source": [
        "cm= confusion_matrix(y_test, y_pred) \n",
        "print(cm)"
      ],
      "metadata": {
        "colab": {
          "base_uri": "https://localhost:8080/"
        },
        "id": "ifuC7U3zYKg2",
        "outputId": "648990bc-9fea-429b-9ab4-1485475760da"
      },
      "execution_count": 70,
      "outputs": [
        {
          "output_type": "stream",
          "name": "stdout",
          "text": [
            "[[408 118]\n",
            " [ 62 432]]\n"
          ]
        }
      ]
    },
    {
      "cell_type": "code",
      "source": [
        "print(classification_report(y_test, y_pred))"
      ],
      "metadata": {
        "colab": {
          "base_uri": "https://localhost:8080/"
        },
        "id": "179CElSyYNNh",
        "outputId": "e7f1a2f1-be2e-4b4a-ad49-0ac0ce884427"
      },
      "execution_count": 71,
      "outputs": [
        {
          "output_type": "stream",
          "name": "stdout",
          "text": [
            "              precision    recall  f1-score   support\n",
            "\n",
            "           0       0.87      0.78      0.82       526\n",
            "           1       0.79      0.87      0.83       494\n",
            "\n",
            "    accuracy                           0.82      1020\n",
            "   macro avg       0.83      0.83      0.82      1020\n",
            "weighted avg       0.83      0.82      0.82      1020\n",
            "\n"
          ]
        }
      ]
    },
    {
      "cell_type": "code",
      "source": [
        "def knn_classifier_optuna (trial,X_train=X_train,X_test=X_test,y_train=y_train,y_test=y_test):\n",
        "    #define parameters\n",
        "    params = {\n",
        "    'n_neighbors'     : trial.suggest_categorical('n_neighbors', [1,3,5,7]), \n",
        "    'weights'         : trial.suggest_categorical('weights', ['uniform','distance']),\n",
        "    'algorithm'       : trial.suggest_categorical('algorithm',['auto','ball_tree','kd_tree','brute']),\n",
        "    'leaf_size'       : trial.suggest_int('leaf_size', 30, 150),\n",
        "    'p'               : trial.suggest_int('p', 2, 50),\n",
        "    \n",
        "    }\n",
        "        #creat model anf pass parameters \n",
        "    classifier= KNeighborsClassifier(**params)  \n",
        "    classifier.fit(X_train, y_train)  \n",
        "    y_pred = classifier.predict(X_test)\n",
        "    acc = accuracy_score(y_test, y_pred)\n",
        "    return acc"
      ],
      "metadata": {
        "id": "bp7vvICqYQnH"
      },
      "execution_count": 72,
      "outputs": []
    },
    {
      "cell_type": "code",
      "source": [
        "study = optuna.create_study(direction=\"maximize\")\n",
        "# #start serach \n",
        "study.optimize(knn_classifier_optuna, n_trials=200)\n",
        "\n",
        "print(\"Number of finished trials: \", len(study.trials))\n",
        "print(\"Best trial:\")\n",
        "trial = study.best_trial\n",
        "print(\"  Value: {}\".format(trial.value))\n",
        "print(\"  Params: \")\n",
        "params = []\n",
        "for key, value in trial.params.items():\n",
        "    params.append(value)\n",
        "    print(\"    {}: {}\".format(key, value))"
      ],
      "metadata": {
        "colab": {
          "base_uri": "https://localhost:8080/"
        },
        "id": "2UWdJLwdYUve",
        "outputId": "e828ebb1-f254-4705-ae9d-4e79c640b3a3"
      },
      "execution_count": 77,
      "outputs": [
        {
          "output_type": "stream",
          "name": "stderr",
          "text": [
            "\u001b[32m[I 2023-02-08 23:36:28,912]\u001b[0m A new study created in memory with name: no-name-eaa5ade9-11b6-4ec1-9f9d-1c1e99366ef5\u001b[0m\n",
            "\u001b[32m[I 2023-02-08 23:36:33,164]\u001b[0m Trial 0 finished with value: 0.865686274509804 and parameters: {'n_neighbors': 5, 'weights': 'distance', 'algorithm': 'brute', 'leaf_size': 73, 'p': 24}. Best is trial 0 with value: 0.865686274509804.\u001b[0m\n",
            "\u001b[32m[I 2023-02-08 23:36:37,714]\u001b[0m Trial 1 finished with value: 0.8647058823529412 and parameters: {'n_neighbors': 5, 'weights': 'distance', 'algorithm': 'ball_tree', 'leaf_size': 104, 'p': 25}. Best is trial 0 with value: 0.865686274509804.\u001b[0m\n",
            "\u001b[32m[I 2023-02-08 23:36:41,881]\u001b[0m Trial 2 finished with value: 0.8323529411764706 and parameters: {'n_neighbors': 3, 'weights': 'uniform', 'algorithm': 'brute', 'leaf_size': 78, 'p': 36}. Best is trial 0 with value: 0.865686274509804.\u001b[0m\n",
            "\u001b[32m[I 2023-02-08 23:36:45,866]\u001b[0m Trial 3 finished with value: 0.8186274509803921 and parameters: {'n_neighbors': 5, 'weights': 'uniform', 'algorithm': 'auto', 'leaf_size': 92, 'p': 18}. Best is trial 0 with value: 0.865686274509804.\u001b[0m\n",
            "\u001b[32m[I 2023-02-08 23:36:50,804]\u001b[0m Trial 4 finished with value: 0.8088235294117647 and parameters: {'n_neighbors': 5, 'weights': 'uniform', 'algorithm': 'kd_tree', 'leaf_size': 47, 'p': 23}. Best is trial 0 with value: 0.865686274509804.\u001b[0m\n",
            "\u001b[32m[I 2023-02-08 23:36:55,270]\u001b[0m Trial 5 finished with value: 0.8450980392156863 and parameters: {'n_neighbors': 1, 'weights': 'uniform', 'algorithm': 'brute', 'leaf_size': 140, 'p': 48}. Best is trial 0 with value: 0.865686274509804.\u001b[0m\n",
            "\u001b[32m[I 2023-02-08 23:36:59,129]\u001b[0m Trial 6 finished with value: 0.8490196078431372 and parameters: {'n_neighbors': 3, 'weights': 'distance', 'algorithm': 'auto', 'leaf_size': 116, 'p': 26}. Best is trial 0 with value: 0.865686274509804.\u001b[0m\n",
            "\u001b[32m[I 2023-02-08 23:37:04,193]\u001b[0m Trial 7 finished with value: 0.8313725490196079 and parameters: {'n_neighbors': 1, 'weights': 'uniform', 'algorithm': 'ball_tree', 'leaf_size': 74, 'p': 49}. Best is trial 0 with value: 0.865686274509804.\u001b[0m\n",
            "\u001b[32m[I 2023-02-08 23:37:07,819]\u001b[0m Trial 8 finished with value: 0.8333333333333334 and parameters: {'n_neighbors': 3, 'weights': 'uniform', 'algorithm': 'brute', 'leaf_size': 125, 'p': 47}. Best is trial 0 with value: 0.865686274509804.\u001b[0m\n",
            "\u001b[32m[I 2023-02-08 23:37:12,335]\u001b[0m Trial 9 finished with value: 0.7990196078431373 and parameters: {'n_neighbors': 7, 'weights': 'uniform', 'algorithm': 'brute', 'leaf_size': 108, 'p': 20}. Best is trial 0 with value: 0.865686274509804.\u001b[0m\n",
            "\u001b[32m[I 2023-02-08 23:37:16,617]\u001b[0m Trial 10 finished with value: 0.8637254901960785 and parameters: {'n_neighbors': 7, 'weights': 'distance', 'algorithm': 'kd_tree', 'leaf_size': 41, 'p': 3}. Best is trial 0 with value: 0.865686274509804.\u001b[0m\n",
            "\u001b[32m[I 2023-02-08 23:37:19,245]\u001b[0m Trial 11 finished with value: 0.8549019607843137 and parameters: {'n_neighbors': 5, 'weights': 'distance', 'algorithm': 'ball_tree', 'leaf_size': 62, 'p': 34}. Best is trial 0 with value: 0.865686274509804.\u001b[0m\n",
            "\u001b[32m[I 2023-02-08 23:37:20,742]\u001b[0m Trial 12 finished with value: 0.8666666666666667 and parameters: {'n_neighbors': 5, 'weights': 'distance', 'algorithm': 'ball_tree', 'leaf_size': 94, 'p': 9}. Best is trial 12 with value: 0.8666666666666667.\u001b[0m\n",
            "\u001b[32m[I 2023-02-08 23:37:22,231]\u001b[0m Trial 13 finished with value: 0.8666666666666667 and parameters: {'n_neighbors': 5, 'weights': 'distance', 'algorithm': 'ball_tree', 'leaf_size': 86, 'p': 9}. Best is trial 12 with value: 0.8666666666666667.\u001b[0m\n",
            "\u001b[32m[I 2023-02-08 23:37:23,726]\u001b[0m Trial 14 finished with value: 0.865686274509804 and parameters: {'n_neighbors': 5, 'weights': 'distance', 'algorithm': 'ball_tree', 'leaf_size': 94, 'p': 6}. Best is trial 12 with value: 0.8666666666666667.\u001b[0m\n",
            "\u001b[32m[I 2023-02-08 23:37:25,247]\u001b[0m Trial 15 finished with value: 0.8539215686274509 and parameters: {'n_neighbors': 5, 'weights': 'distance', 'algorithm': 'ball_tree', 'leaf_size': 59, 'p': 13}. Best is trial 12 with value: 0.8666666666666667.\u001b[0m\n",
            "\u001b[32m[I 2023-02-08 23:37:26,749]\u001b[0m Trial 16 finished with value: 0.8666666666666667 and parameters: {'n_neighbors': 5, 'weights': 'distance', 'algorithm': 'ball_tree', 'leaf_size': 150, 'p': 10}. Best is trial 12 with value: 0.8666666666666667.\u001b[0m\n",
            "\u001b[32m[I 2023-02-08 23:37:28,682]\u001b[0m Trial 17 finished with value: 0.8666666666666667 and parameters: {'n_neighbors': 7, 'weights': 'distance', 'algorithm': 'ball_tree', 'leaf_size': 86, 'p': 13}. Best is trial 12 with value: 0.8666666666666667.\u001b[0m\n",
            "\u001b[32m[I 2023-02-08 23:37:30,976]\u001b[0m Trial 18 finished with value: 0.8313725490196079 and parameters: {'n_neighbors': 1, 'weights': 'distance', 'algorithm': 'ball_tree', 'leaf_size': 103, 'p': 8}. Best is trial 12 with value: 0.8666666666666667.\u001b[0m\n",
            "\u001b[32m[I 2023-02-08 23:37:31,126]\u001b[0m Trial 19 finished with value: 0.8558823529411764 and parameters: {'n_neighbors': 5, 'weights': 'distance', 'algorithm': 'kd_tree', 'leaf_size': 32, 'p': 2}. Best is trial 12 with value: 0.8666666666666667.\u001b[0m\n",
            "\u001b[32m[I 2023-02-08 23:37:32,829]\u001b[0m Trial 20 finished with value: 0.865686274509804 and parameters: {'n_neighbors': 5, 'weights': 'distance', 'algorithm': 'auto', 'leaf_size': 131, 'p': 34}. Best is trial 12 with value: 0.8666666666666667.\u001b[0m\n",
            "\u001b[32m[I 2023-02-08 23:37:34,313]\u001b[0m Trial 21 finished with value: 0.865686274509804 and parameters: {'n_neighbors': 5, 'weights': 'distance', 'algorithm': 'ball_tree', 'leaf_size': 150, 'p': 12}. Best is trial 12 with value: 0.8666666666666667.\u001b[0m\n",
            "\u001b[32m[I 2023-02-08 23:37:35,803]\u001b[0m Trial 22 finished with value: 0.8666666666666667 and parameters: {'n_neighbors': 5, 'weights': 'distance', 'algorithm': 'ball_tree', 'leaf_size': 118, 'p': 9}. Best is trial 12 with value: 0.8666666666666667.\u001b[0m\n",
            "\u001b[32m[I 2023-02-08 23:37:37,344]\u001b[0m Trial 23 finished with value: 0.8529411764705882 and parameters: {'n_neighbors': 5, 'weights': 'distance', 'algorithm': 'ball_tree', 'leaf_size': 60, 'p': 17}. Best is trial 12 with value: 0.8666666666666667.\u001b[0m\n",
            "\u001b[32m[I 2023-02-08 23:37:38,831]\u001b[0m Trial 24 finished with value: 0.865686274509804 and parameters: {'n_neighbors': 5, 'weights': 'distance', 'algorithm': 'ball_tree', 'leaf_size': 136, 'p': 6}. Best is trial 12 with value: 0.8666666666666667.\u001b[0m\n",
            "\u001b[32m[I 2023-02-08 23:37:40,312]\u001b[0m Trial 25 finished with value: 0.8637254901960785 and parameters: {'n_neighbors': 5, 'weights': 'distance', 'algorithm': 'ball_tree', 'leaf_size': 84, 'p': 15}. Best is trial 12 with value: 0.8666666666666667.\u001b[0m\n",
            "\u001b[32m[I 2023-02-08 23:37:42,591]\u001b[0m Trial 26 finished with value: 0.8480392156862745 and parameters: {'n_neighbors': 3, 'weights': 'distance', 'algorithm': 'ball_tree', 'leaf_size': 95, 'p': 10}. Best is trial 12 with value: 0.8666666666666667.\u001b[0m\n",
            "\u001b[32m[I 2023-02-08 23:37:44,512]\u001b[0m Trial 27 finished with value: 0.8411764705882353 and parameters: {'n_neighbors': 1, 'weights': 'distance', 'algorithm': 'ball_tree', 'leaf_size': 147, 'p': 30}. Best is trial 12 with value: 0.8666666666666667.\u001b[0m\n",
            "\u001b[32m[I 2023-02-08 23:37:46,222]\u001b[0m Trial 28 finished with value: 0.8666666666666667 and parameters: {'n_neighbors': 7, 'weights': 'distance', 'algorithm': 'auto', 'leaf_size': 112, 'p': 5}. Best is trial 12 with value: 0.8666666666666667.\u001b[0m\n",
            "\u001b[32m[I 2023-02-08 23:37:47,592]\u001b[0m Trial 29 finished with value: 0.8637254901960785 and parameters: {'n_neighbors': 5, 'weights': 'distance', 'algorithm': 'kd_tree', 'leaf_size': 65, 'p': 21}. Best is trial 12 with value: 0.8666666666666667.\u001b[0m\n",
            "\u001b[32m[I 2023-02-08 23:37:49,090]\u001b[0m Trial 30 finished with value: 0.865686274509804 and parameters: {'n_neighbors': 5, 'weights': 'distance', 'algorithm': 'ball_tree', 'leaf_size': 125, 'p': 42}. Best is trial 12 with value: 0.8666666666666667.\u001b[0m\n",
            "\u001b[32m[I 2023-02-08 23:37:50,604]\u001b[0m Trial 31 finished with value: 0.8647058823529412 and parameters: {'n_neighbors': 7, 'weights': 'distance', 'algorithm': 'ball_tree', 'leaf_size': 85, 'p': 14}. Best is trial 12 with value: 0.8666666666666667.\u001b[0m\n",
            "\u001b[32m[I 2023-02-08 23:37:52,100]\u001b[0m Trial 32 finished with value: 0.8666666666666667 and parameters: {'n_neighbors': 7, 'weights': 'distance', 'algorithm': 'ball_tree', 'leaf_size': 81, 'p': 11}. Best is trial 12 with value: 0.8666666666666667.\u001b[0m\n",
            "\u001b[32m[I 2023-02-08 23:37:53,593]\u001b[0m Trial 33 finished with value: 0.8647058823529412 and parameters: {'n_neighbors': 7, 'weights': 'distance', 'algorithm': 'ball_tree', 'leaf_size': 101, 'p': 17}. Best is trial 12 with value: 0.8666666666666667.\u001b[0m\n",
            "\u001b[32m[I 2023-02-08 23:37:56,056]\u001b[0m Trial 34 finished with value: 0.8637254901960785 and parameters: {'n_neighbors': 7, 'weights': 'distance', 'algorithm': 'ball_tree', 'leaf_size': 68, 'p': 8}. Best is trial 12 with value: 0.8666666666666667.\u001b[0m\n",
            "\u001b[32m[I 2023-02-08 23:37:57,862]\u001b[0m Trial 35 finished with value: 0.865686274509804 and parameters: {'n_neighbors': 5, 'weights': 'distance', 'algorithm': 'ball_tree', 'leaf_size': 73, 'p': 4}. Best is trial 12 with value: 0.8666666666666667.\u001b[0m\n",
            "\u001b[32m[I 2023-02-08 23:37:59,549]\u001b[0m Trial 36 finished with value: 0.8490196078431372 and parameters: {'n_neighbors': 3, 'weights': 'distance', 'algorithm': 'brute', 'leaf_size': 97, 'p': 27}. Best is trial 12 with value: 0.8666666666666667.\u001b[0m\n",
            "\u001b[32m[I 2023-02-08 23:38:01,257]\u001b[0m Trial 37 finished with value: 0.8186274509803921 and parameters: {'n_neighbors': 5, 'weights': 'uniform', 'algorithm': 'auto', 'leaf_size': 52, 'p': 16}. Best is trial 12 with value: 0.8666666666666667.\u001b[0m\n",
            "\u001b[32m[I 2023-02-08 23:38:02,764]\u001b[0m Trial 38 finished with value: 0.865686274509804 and parameters: {'n_neighbors': 7, 'weights': 'distance', 'algorithm': 'ball_tree', 'leaf_size': 89, 'p': 21}. Best is trial 12 with value: 0.8666666666666667.\u001b[0m\n",
            "\u001b[32m[I 2023-02-08 23:38:04,080]\u001b[0m Trial 39 finished with value: 0.8323529411764706 and parameters: {'n_neighbors': 1, 'weights': 'uniform', 'algorithm': 'kd_tree', 'leaf_size': 77, 'p': 12}. Best is trial 12 with value: 0.8666666666666667.\u001b[0m\n",
            "\u001b[32m[I 2023-02-08 23:38:06,703]\u001b[0m Trial 40 finished with value: 0.861764705882353 and parameters: {'n_neighbors': 5, 'weights': 'distance', 'algorithm': 'brute', 'leaf_size': 90, 'p': 19}. Best is trial 12 with value: 0.8666666666666667.\u001b[0m\n",
            "\u001b[32m[I 2023-02-08 23:38:09,413]\u001b[0m Trial 41 finished with value: 0.8666666666666667 and parameters: {'n_neighbors': 5, 'weights': 'distance', 'algorithm': 'ball_tree', 'leaf_size': 119, 'p': 8}. Best is trial 12 with value: 0.8666666666666667.\u001b[0m\n",
            "\u001b[32m[I 2023-02-08 23:38:11,311]\u001b[0m Trial 42 finished with value: 0.8666666666666667 and parameters: {'n_neighbors': 5, 'weights': 'distance', 'algorithm': 'ball_tree', 'leaf_size': 112, 'p': 9}. Best is trial 12 with value: 0.8666666666666667.\u001b[0m\n",
            "\u001b[32m[I 2023-02-08 23:38:12,800]\u001b[0m Trial 43 finished with value: 0.865686274509804 and parameters: {'n_neighbors': 5, 'weights': 'distance', 'algorithm': 'ball_tree', 'leaf_size': 142, 'p': 7}. Best is trial 12 with value: 0.8666666666666667.\u001b[0m\n",
            "\u001b[32m[I 2023-02-08 23:38:14,320]\u001b[0m Trial 44 finished with value: 0.8323529411764706 and parameters: {'n_neighbors': 3, 'weights': 'uniform', 'algorithm': 'ball_tree', 'leaf_size': 121, 'p': 10}. Best is trial 12 with value: 0.8666666666666667.\u001b[0m\n",
            "\u001b[32m[I 2023-02-08 23:38:15,815]\u001b[0m Trial 45 finished with value: 0.8637254901960785 and parameters: {'n_neighbors': 5, 'weights': 'distance', 'algorithm': 'ball_tree', 'leaf_size': 130, 'p': 14}. Best is trial 12 with value: 0.8666666666666667.\u001b[0m\n",
            "\u001b[32m[I 2023-02-08 23:38:17,321]\u001b[0m Trial 46 finished with value: 0.865686274509804 and parameters: {'n_neighbors': 5, 'weights': 'distance', 'algorithm': 'ball_tree', 'leaf_size': 100, 'p': 3}. Best is trial 12 with value: 0.8666666666666667.\u001b[0m\n",
            "\u001b[32m[I 2023-02-08 23:38:19,060]\u001b[0m Trial 47 finished with value: 0.7990196078431373 and parameters: {'n_neighbors': 7, 'weights': 'uniform', 'algorithm': 'brute', 'leaf_size': 107, 'p': 5}. Best is trial 12 with value: 0.8666666666666667.\u001b[0m\n",
            "\u001b[32m[I 2023-02-08 23:38:20,957]\u001b[0m Trial 48 finished with value: 0.8450980392156863 and parameters: {'n_neighbors': 1, 'weights': 'distance', 'algorithm': 'auto', 'leaf_size': 69, 'p': 11}. Best is trial 12 with value: 0.8666666666666667.\u001b[0m\n",
            "\u001b[32m[I 2023-02-08 23:38:23,493]\u001b[0m Trial 49 finished with value: 0.8637254901960785 and parameters: {'n_neighbors': 5, 'weights': 'distance', 'algorithm': 'ball_tree', 'leaf_size': 87, 'p': 23}. Best is trial 12 with value: 0.8666666666666667.\u001b[0m\n",
            "\u001b[32m[I 2023-02-08 23:38:25,274]\u001b[0m Trial 50 finished with value: 0.8647058823529412 and parameters: {'n_neighbors': 5, 'weights': 'distance', 'algorithm': 'kd_tree', 'leaf_size': 80, 'p': 13}. Best is trial 12 with value: 0.8666666666666667.\u001b[0m\n",
            "\u001b[32m[I 2023-02-08 23:38:28,934]\u001b[0m Trial 51 finished with value: 0.8666666666666667 and parameters: {'n_neighbors': 7, 'weights': 'distance', 'algorithm': 'auto', 'leaf_size': 110, 'p': 5}. Best is trial 12 with value: 0.8666666666666667.\u001b[0m\n",
            "\u001b[32m[I 2023-02-08 23:38:29,084]\u001b[0m Trial 52 finished with value: 0.8558823529411764 and parameters: {'n_neighbors': 7, 'weights': 'distance', 'algorithm': 'auto', 'leaf_size': 116, 'p': 2}. Best is trial 12 with value: 0.8666666666666667.\u001b[0m\n",
            "\u001b[32m[I 2023-02-08 23:38:30,814]\u001b[0m Trial 53 finished with value: 0.8529411764705882 and parameters: {'n_neighbors': 7, 'weights': 'distance', 'algorithm': 'auto', 'leaf_size': 97, 'p': 7}. Best is trial 12 with value: 0.8666666666666667.\u001b[0m\n",
            "\u001b[32m[I 2023-02-08 23:38:32,500]\u001b[0m Trial 54 finished with value: 0.865686274509804 and parameters: {'n_neighbors': 7, 'weights': 'distance', 'algorithm': 'auto', 'leaf_size': 106, 'p': 9}. Best is trial 12 with value: 0.8666666666666667.\u001b[0m\n",
            "\u001b[32m[I 2023-02-08 23:38:34,643]\u001b[0m Trial 55 finished with value: 0.8666666666666667 and parameters: {'n_neighbors': 7, 'weights': 'distance', 'algorithm': 'auto', 'leaf_size': 134, 'p': 5}. Best is trial 12 with value: 0.8666666666666667.\u001b[0m\n",
            "\u001b[32m[I 2023-02-08 23:38:36,899]\u001b[0m Trial 56 finished with value: 0.8666666666666667 and parameters: {'n_neighbors': 5, 'weights': 'distance', 'algorithm': 'ball_tree', 'leaf_size': 113, 'p': 10}. Best is trial 12 with value: 0.8666666666666667.\u001b[0m\n",
            "\u001b[32m[I 2023-02-08 23:38:38,383]\u001b[0m Trial 57 finished with value: 0.85 and parameters: {'n_neighbors': 3, 'weights': 'distance', 'algorithm': 'ball_tree', 'leaf_size': 140, 'p': 7}. Best is trial 12 with value: 0.8666666666666667.\u001b[0m\n",
            "\u001b[32m[I 2023-02-08 23:38:39,904]\u001b[0m Trial 58 finished with value: 0.8196078431372549 and parameters: {'n_neighbors': 5, 'weights': 'uniform', 'algorithm': 'ball_tree', 'leaf_size': 92, 'p': 15}. Best is trial 12 with value: 0.8666666666666667.\u001b[0m\n",
            "\u001b[32m[I 2023-02-08 23:38:41,401]\u001b[0m Trial 59 finished with value: 0.8323529411764706 and parameters: {'n_neighbors': 1, 'weights': 'distance', 'algorithm': 'ball_tree', 'leaf_size': 127, 'p': 12}. Best is trial 12 with value: 0.8666666666666667.\u001b[0m\n",
            "\u001b[32m[I 2023-02-08 23:38:41,553]\u001b[0m Trial 60 finished with value: 0.8676470588235294 and parameters: {'n_neighbors': 5, 'weights': 'distance', 'algorithm': 'kd_tree', 'leaf_size': 121, 'p': 2}. Best is trial 60 with value: 0.8676470588235294.\u001b[0m\n",
            "\u001b[32m[I 2023-02-08 23:38:41,691]\u001b[0m Trial 61 finished with value: 0.8676470588235294 and parameters: {'n_neighbors': 5, 'weights': 'distance', 'algorithm': 'kd_tree', 'leaf_size': 119, 'p': 2}. Best is trial 60 with value: 0.8676470588235294.\u001b[0m\n",
            "\u001b[32m[I 2023-02-08 23:38:41,833]\u001b[0m Trial 62 finished with value: 0.8676470588235294 and parameters: {'n_neighbors': 5, 'weights': 'distance', 'algorithm': 'kd_tree', 'leaf_size': 120, 'p': 2}. Best is trial 60 with value: 0.8676470588235294.\u001b[0m\n",
            "\u001b[32m[I 2023-02-08 23:38:41,971]\u001b[0m Trial 63 finished with value: 0.8676470588235294 and parameters: {'n_neighbors': 5, 'weights': 'distance', 'algorithm': 'kd_tree', 'leaf_size': 144, 'p': 2}. Best is trial 60 with value: 0.8676470588235294.\u001b[0m\n",
            "\u001b[32m[I 2023-02-08 23:38:42,102]\u001b[0m Trial 64 finished with value: 0.8676470588235294 and parameters: {'n_neighbors': 5, 'weights': 'distance', 'algorithm': 'kd_tree', 'leaf_size': 145, 'p': 2}. Best is trial 60 with value: 0.8676470588235294.\u001b[0m\n",
            "\u001b[32m[I 2023-02-08 23:38:42,230]\u001b[0m Trial 65 finished with value: 0.8676470588235294 and parameters: {'n_neighbors': 5, 'weights': 'distance', 'algorithm': 'kd_tree', 'leaf_size': 146, 'p': 2}. Best is trial 60 with value: 0.8676470588235294.\u001b[0m\n",
            "\u001b[32m[I 2023-02-08 23:38:42,364]\u001b[0m Trial 66 finished with value: 0.8676470588235294 and parameters: {'n_neighbors': 5, 'weights': 'distance', 'algorithm': 'kd_tree', 'leaf_size': 144, 'p': 2}. Best is trial 60 with value: 0.8676470588235294.\u001b[0m\n",
            "\u001b[32m[I 2023-02-08 23:38:42,493]\u001b[0m Trial 67 finished with value: 0.8676470588235294 and parameters: {'n_neighbors': 5, 'weights': 'distance', 'algorithm': 'kd_tree', 'leaf_size': 145, 'p': 2}. Best is trial 60 with value: 0.8676470588235294.\u001b[0m\n",
            "\u001b[32m[I 2023-02-08 23:38:43,890]\u001b[0m Trial 68 finished with value: 0.865686274509804 and parameters: {'n_neighbors': 5, 'weights': 'distance', 'algorithm': 'kd_tree', 'leaf_size': 137, 'p': 3}. Best is trial 60 with value: 0.8676470588235294.\u001b[0m\n",
            "\u001b[32m[I 2023-02-08 23:38:45,265]\u001b[0m Trial 69 finished with value: 0.865686274509804 and parameters: {'n_neighbors': 5, 'weights': 'distance', 'algorithm': 'kd_tree', 'leaf_size': 145, 'p': 4}. Best is trial 60 with value: 0.8676470588235294.\u001b[0m\n",
            "\u001b[32m[I 2023-02-08 23:38:45,396]\u001b[0m Trial 70 finished with value: 0.8676470588235294 and parameters: {'n_neighbors': 5, 'weights': 'distance', 'algorithm': 'kd_tree', 'leaf_size': 150, 'p': 2}. Best is trial 60 with value: 0.8676470588235294.\u001b[0m\n",
            "\u001b[32m[I 2023-02-08 23:38:45,528]\u001b[0m Trial 71 finished with value: 0.8676470588235294 and parameters: {'n_neighbors': 5, 'weights': 'distance', 'algorithm': 'kd_tree', 'leaf_size': 145, 'p': 2}. Best is trial 60 with value: 0.8676470588235294.\u001b[0m\n",
            "\u001b[32m[I 2023-02-08 23:38:47,218]\u001b[0m Trial 72 finished with value: 0.865686274509804 and parameters: {'n_neighbors': 5, 'weights': 'distance', 'algorithm': 'kd_tree', 'leaf_size': 141, 'p': 4}. Best is trial 60 with value: 0.8676470588235294.\u001b[0m\n",
            "\u001b[32m[I 2023-02-08 23:38:47,482]\u001b[0m Trial 73 finished with value: 0.8676470588235294 and parameters: {'n_neighbors': 5, 'weights': 'distance', 'algorithm': 'kd_tree', 'leaf_size': 133, 'p': 2}. Best is trial 60 with value: 0.8676470588235294.\u001b[0m\n",
            "\u001b[32m[I 2023-02-08 23:38:51,593]\u001b[0m Trial 74 finished with value: 0.865686274509804 and parameters: {'n_neighbors': 5, 'weights': 'distance', 'algorithm': 'kd_tree', 'leaf_size': 123, 'p': 6}. Best is trial 60 with value: 0.8676470588235294.\u001b[0m\n",
            "\u001b[32m[I 2023-02-08 23:38:52,981]\u001b[0m Trial 75 finished with value: 0.865686274509804 and parameters: {'n_neighbors': 5, 'weights': 'distance', 'algorithm': 'kd_tree', 'leaf_size': 137, 'p': 4}. Best is trial 60 with value: 0.8676470588235294.\u001b[0m\n",
            "\u001b[32m[I 2023-02-08 23:38:54,355]\u001b[0m Trial 76 finished with value: 0.865686274509804 and parameters: {'n_neighbors': 5, 'weights': 'distance', 'algorithm': 'kd_tree', 'leaf_size': 129, 'p': 3}. Best is trial 60 with value: 0.8676470588235294.\u001b[0m\n",
            "\u001b[32m[I 2023-02-08 23:38:55,749]\u001b[0m Trial 77 finished with value: 0.865686274509804 and parameters: {'n_neighbors': 5, 'weights': 'distance', 'algorithm': 'kd_tree', 'leaf_size': 144, 'p': 3}. Best is trial 60 with value: 0.8676470588235294.\u001b[0m\n",
            "\u001b[32m[I 2023-02-08 23:38:57,141]\u001b[0m Trial 78 finished with value: 0.865686274509804 and parameters: {'n_neighbors': 5, 'weights': 'distance', 'algorithm': 'kd_tree', 'leaf_size': 138, 'p': 6}. Best is trial 60 with value: 0.8676470588235294.\u001b[0m\n",
            "\u001b[32m[I 2023-02-08 23:38:58,544]\u001b[0m Trial 79 finished with value: 0.8254901960784313 and parameters: {'n_neighbors': 5, 'weights': 'uniform', 'algorithm': 'kd_tree', 'leaf_size': 146, 'p': 4}. Best is trial 60 with value: 0.8676470588235294.\u001b[0m\n",
            "\u001b[32m[I 2023-02-08 23:38:59,974]\u001b[0m Trial 80 finished with value: 0.8666666666666667 and parameters: {'n_neighbors': 5, 'weights': 'distance', 'algorithm': 'kd_tree', 'leaf_size': 133, 'p': 38}. Best is trial 60 with value: 0.8676470588235294.\u001b[0m\n",
            "\u001b[32m[I 2023-02-08 23:39:00,234]\u001b[0m Trial 81 finished with value: 0.8676470588235294 and parameters: {'n_neighbors': 5, 'weights': 'distance', 'algorithm': 'kd_tree', 'leaf_size': 149, 'p': 2}. Best is trial 60 with value: 0.8676470588235294.\u001b[0m\n",
            "\u001b[32m[I 2023-02-08 23:39:00,495]\u001b[0m Trial 82 finished with value: 0.8676470588235294 and parameters: {'n_neighbors': 5, 'weights': 'distance', 'algorithm': 'kd_tree', 'leaf_size': 150, 'p': 2}. Best is trial 60 with value: 0.8676470588235294.\u001b[0m\n",
            "\u001b[32m[I 2023-02-08 23:39:02,879]\u001b[0m Trial 83 finished with value: 0.865686274509804 and parameters: {'n_neighbors': 5, 'weights': 'distance', 'algorithm': 'kd_tree', 'leaf_size': 142, 'p': 6}. Best is trial 60 with value: 0.8676470588235294.\u001b[0m\n",
            "\u001b[32m[I 2023-02-08 23:39:04,299]\u001b[0m Trial 84 finished with value: 0.865686274509804 and parameters: {'n_neighbors': 5, 'weights': 'distance', 'algorithm': 'kd_tree', 'leaf_size': 148, 'p': 4}. Best is trial 60 with value: 0.8676470588235294.\u001b[0m\n",
            "\u001b[32m[I 2023-02-08 23:39:04,437]\u001b[0m Trial 85 finished with value: 0.8676470588235294 and parameters: {'n_neighbors': 5, 'weights': 'distance', 'algorithm': 'kd_tree', 'leaf_size': 142, 'p': 2}. Best is trial 60 with value: 0.8676470588235294.\u001b[0m\n",
            "\u001b[32m[I 2023-02-08 23:39:05,832]\u001b[0m Trial 86 finished with value: 0.865686274509804 and parameters: {'n_neighbors': 5, 'weights': 'distance', 'algorithm': 'kd_tree', 'leaf_size': 139, 'p': 5}. Best is trial 60 with value: 0.8676470588235294.\u001b[0m\n",
            "\u001b[32m[I 2023-02-08 23:39:07,217]\u001b[0m Trial 87 finished with value: 0.865686274509804 and parameters: {'n_neighbors': 5, 'weights': 'distance', 'algorithm': 'kd_tree', 'leaf_size': 135, 'p': 7}. Best is trial 60 with value: 0.8676470588235294.\u001b[0m\n",
            "\u001b[32m[I 2023-02-08 23:39:08,612]\u001b[0m Trial 88 finished with value: 0.85 and parameters: {'n_neighbors': 3, 'weights': 'distance', 'algorithm': 'kd_tree', 'leaf_size': 128, 'p': 3}. Best is trial 60 with value: 0.8676470588235294.\u001b[0m\n",
            "\u001b[32m[I 2023-02-08 23:39:09,976]\u001b[0m Trial 89 finished with value: 0.865686274509804 and parameters: {'n_neighbors': 5, 'weights': 'distance', 'algorithm': 'kd_tree', 'leaf_size': 125, 'p': 5}. Best is trial 60 with value: 0.8676470588235294.\u001b[0m\n",
            "\u001b[32m[I 2023-02-08 23:39:11,366]\u001b[0m Trial 90 finished with value: 0.8666666666666667 and parameters: {'n_neighbors': 5, 'weights': 'distance', 'algorithm': 'kd_tree', 'leaf_size': 144, 'p': 8}. Best is trial 60 with value: 0.8676470588235294.\u001b[0m\n",
            "\u001b[32m[I 2023-02-08 23:39:11,500]\u001b[0m Trial 91 finished with value: 0.8676470588235294 and parameters: {'n_neighbors': 5, 'weights': 'distance', 'algorithm': 'kd_tree', 'leaf_size': 146, 'p': 2}. Best is trial 60 with value: 0.8676470588235294.\u001b[0m\n",
            "\u001b[32m[I 2023-02-08 23:39:12,917]\u001b[0m Trial 92 finished with value: 0.865686274509804 and parameters: {'n_neighbors': 5, 'weights': 'distance', 'algorithm': 'kd_tree', 'leaf_size': 150, 'p': 3}. Best is trial 60 with value: 0.8676470588235294.\u001b[0m\n",
            "\u001b[32m[I 2023-02-08 23:39:13,116]\u001b[0m Trial 93 finished with value: 0.8676470588235294 and parameters: {'n_neighbors': 5, 'weights': 'distance', 'algorithm': 'kd_tree', 'leaf_size': 147, 'p': 2}. Best is trial 60 with value: 0.8676470588235294.\u001b[0m\n",
            "\u001b[32m[I 2023-02-08 23:39:15,512]\u001b[0m Trial 94 finished with value: 0.865686274509804 and parameters: {'n_neighbors': 5, 'weights': 'distance', 'algorithm': 'kd_tree', 'leaf_size': 144, 'p': 4}. Best is trial 60 with value: 0.8676470588235294.\u001b[0m\n",
            "\u001b[32m[I 2023-02-08 23:39:17,138]\u001b[0m Trial 95 finished with value: 0.865686274509804 and parameters: {'n_neighbors': 5, 'weights': 'distance', 'algorithm': 'kd_tree', 'leaf_size': 131, 'p': 6}. Best is trial 60 with value: 0.8676470588235294.\u001b[0m\n",
            "\u001b[32m[I 2023-02-08 23:39:18,447]\u001b[0m Trial 96 finished with value: 0.8411764705882353 and parameters: {'n_neighbors': 1, 'weights': 'distance', 'algorithm': 'kd_tree', 'leaf_size': 140, 'p': 47}. Best is trial 60 with value: 0.8676470588235294.\u001b[0m\n",
            "\u001b[32m[I 2023-02-08 23:39:20,179]\u001b[0m Trial 97 finished with value: 0.8068627450980392 and parameters: {'n_neighbors': 5, 'weights': 'uniform', 'algorithm': 'brute', 'leaf_size': 143, 'p': 3}. Best is trial 60 with value: 0.8676470588235294.\u001b[0m\n",
            "\u001b[32m[I 2023-02-08 23:39:21,595]\u001b[0m Trial 98 finished with value: 0.8666666666666667 and parameters: {'n_neighbors': 5, 'weights': 'distance', 'algorithm': 'kd_tree', 'leaf_size': 147, 'p': 28}. Best is trial 60 with value: 0.8676470588235294.\u001b[0m\n",
            "\u001b[32m[I 2023-02-08 23:39:22,969]\u001b[0m Trial 99 finished with value: 0.865686274509804 and parameters: {'n_neighbors': 5, 'weights': 'distance', 'algorithm': 'kd_tree', 'leaf_size': 115, 'p': 5}. Best is trial 60 with value: 0.8676470588235294.\u001b[0m\n",
            "\u001b[32m[I 2023-02-08 23:39:24,354]\u001b[0m Trial 100 finished with value: 0.865686274509804 and parameters: {'n_neighbors': 5, 'weights': 'distance', 'algorithm': 'kd_tree', 'leaf_size': 120, 'p': 7}. Best is trial 60 with value: 0.8676470588235294.\u001b[0m\n",
            "\u001b[32m[I 2023-02-08 23:39:24,486]\u001b[0m Trial 101 finished with value: 0.8676470588235294 and parameters: {'n_neighbors': 5, 'weights': 'distance', 'algorithm': 'kd_tree', 'leaf_size': 134, 'p': 2}. Best is trial 60 with value: 0.8676470588235294.\u001b[0m\n",
            "\u001b[32m[I 2023-02-08 23:39:24,626]\u001b[0m Trial 102 finished with value: 0.8676470588235294 and parameters: {'n_neighbors': 5, 'weights': 'distance', 'algorithm': 'kd_tree', 'leaf_size': 133, 'p': 2}. Best is trial 60 with value: 0.8676470588235294.\u001b[0m\n",
            "\u001b[32m[I 2023-02-08 23:39:26,019]\u001b[0m Trial 103 finished with value: 0.8666666666666667 and parameters: {'n_neighbors': 5, 'weights': 'distance', 'algorithm': 'kd_tree', 'leaf_size': 139, 'p': 50}. Best is trial 60 with value: 0.8676470588235294.\u001b[0m\n",
            "\u001b[32m[I 2023-02-08 23:39:28,329]\u001b[0m Trial 104 finished with value: 0.865686274509804 and parameters: {'n_neighbors': 5, 'weights': 'distance', 'algorithm': 'kd_tree', 'leaf_size': 122, 'p': 4}. Best is trial 60 with value: 0.8676470588235294.\u001b[0m\n",
            "\u001b[32m[I 2023-02-08 23:39:30,055]\u001b[0m Trial 105 finished with value: 0.865686274509804 and parameters: {'n_neighbors': 5, 'weights': 'distance', 'algorithm': 'kd_tree', 'leaf_size': 136, 'p': 3}. Best is trial 60 with value: 0.8676470588235294.\u001b[0m\n",
            "\u001b[32m[I 2023-02-08 23:39:31,436]\u001b[0m Trial 106 finished with value: 0.85 and parameters: {'n_neighbors': 3, 'weights': 'distance', 'algorithm': 'kd_tree', 'leaf_size': 131, 'p': 5}. Best is trial 60 with value: 0.8676470588235294.\u001b[0m\n",
            "\u001b[32m[I 2023-02-08 23:39:31,588]\u001b[0m Trial 107 finished with value: 0.8676470588235294 and parameters: {'n_neighbors': 5, 'weights': 'distance', 'algorithm': 'kd_tree', 'leaf_size': 126, 'p': 2}. Best is trial 60 with value: 0.8676470588235294.\u001b[0m\n",
            "\u001b[32m[I 2023-02-08 23:39:32,990]\u001b[0m Trial 108 finished with value: 0.865686274509804 and parameters: {'n_neighbors': 5, 'weights': 'distance', 'algorithm': 'kd_tree', 'leaf_size': 148, 'p': 4}. Best is trial 60 with value: 0.8676470588235294.\u001b[0m\n",
            "\u001b[32m[I 2023-02-08 23:39:34,352]\u001b[0m Trial 109 finished with value: 0.8411764705882353 and parameters: {'n_neighbors': 1, 'weights': 'uniform', 'algorithm': 'kd_tree', 'leaf_size': 145, 'p': 6}. Best is trial 60 with value: 0.8676470588235294.\u001b[0m\n",
            "\u001b[32m[I 2023-02-08 23:39:36,066]\u001b[0m Trial 110 finished with value: 0.85 and parameters: {'n_neighbors': 5, 'weights': 'distance', 'algorithm': 'brute', 'leaf_size': 118, 'p': 3}. Best is trial 60 with value: 0.8676470588235294.\u001b[0m\n",
            "\u001b[32m[I 2023-02-08 23:39:36,197]\u001b[0m Trial 111 finished with value: 0.8676470588235294 and parameters: {'n_neighbors': 5, 'weights': 'distance', 'algorithm': 'kd_tree', 'leaf_size': 150, 'p': 2}. Best is trial 60 with value: 0.8676470588235294.\u001b[0m\n",
            "\u001b[32m[I 2023-02-08 23:39:36,333]\u001b[0m Trial 112 finished with value: 0.8676470588235294 and parameters: {'n_neighbors': 5, 'weights': 'distance', 'algorithm': 'kd_tree', 'leaf_size': 148, 'p': 2}. Best is trial 60 with value: 0.8676470588235294.\u001b[0m\n",
            "\u001b[32m[I 2023-02-08 23:39:37,722]\u001b[0m Trial 113 finished with value: 0.865686274509804 and parameters: {'n_neighbors': 5, 'weights': 'distance', 'algorithm': 'kd_tree', 'leaf_size': 141, 'p': 3}. Best is trial 60 with value: 0.8676470588235294.\u001b[0m\n",
            "\u001b[32m[I 2023-02-08 23:39:39,126]\u001b[0m Trial 114 finished with value: 0.865686274509804 and parameters: {'n_neighbors': 5, 'weights': 'distance', 'algorithm': 'kd_tree', 'leaf_size': 138, 'p': 5}. Best is trial 60 with value: 0.8676470588235294.\u001b[0m\n",
            "\u001b[32m[I 2023-02-08 23:39:41,475]\u001b[0m Trial 115 finished with value: 0.865686274509804 and parameters: {'n_neighbors': 5, 'weights': 'distance', 'algorithm': 'kd_tree', 'leaf_size': 143, 'p': 4}. Best is trial 60 with value: 0.8676470588235294.\u001b[0m\n",
            "\u001b[32m[I 2023-02-08 23:39:43,161]\u001b[0m Trial 116 finished with value: 0.8666666666666667 and parameters: {'n_neighbors': 5, 'weights': 'distance', 'algorithm': 'kd_tree', 'leaf_size': 150, 'p': 8}. Best is trial 60 with value: 0.8676470588235294.\u001b[0m\n",
            "\u001b[32m[I 2023-02-08 23:39:43,306]\u001b[0m Trial 117 finished with value: 0.8676470588235294 and parameters: {'n_neighbors': 5, 'weights': 'distance', 'algorithm': 'kd_tree', 'leaf_size': 145, 'p': 2}. Best is trial 60 with value: 0.8676470588235294.\u001b[0m\n",
            "\u001b[32m[I 2023-02-08 23:39:44,709]\u001b[0m Trial 118 finished with value: 0.865686274509804 and parameters: {'n_neighbors': 5, 'weights': 'distance', 'algorithm': 'kd_tree', 'leaf_size': 141, 'p': 6}. Best is trial 60 with value: 0.8676470588235294.\u001b[0m\n",
            "\u001b[32m[I 2023-02-08 23:39:46,113]\u001b[0m Trial 119 finished with value: 0.865686274509804 and parameters: {'n_neighbors': 5, 'weights': 'distance', 'algorithm': 'kd_tree', 'leaf_size': 148, 'p': 4}. Best is trial 60 with value: 0.8676470588235294.\u001b[0m\n",
            "\u001b[32m[I 2023-02-08 23:39:47,503]\u001b[0m Trial 120 finished with value: 0.865686274509804 and parameters: {'n_neighbors': 5, 'weights': 'distance', 'algorithm': 'kd_tree', 'leaf_size': 136, 'p': 3}. Best is trial 60 with value: 0.8676470588235294.\u001b[0m\n",
            "\u001b[32m[I 2023-02-08 23:39:47,635]\u001b[0m Trial 121 finished with value: 0.8676470588235294 and parameters: {'n_neighbors': 5, 'weights': 'distance', 'algorithm': 'kd_tree', 'leaf_size': 150, 'p': 2}. Best is trial 60 with value: 0.8676470588235294.\u001b[0m\n",
            "\u001b[32m[I 2023-02-08 23:39:47,774]\u001b[0m Trial 122 finished with value: 0.8676470588235294 and parameters: {'n_neighbors': 5, 'weights': 'distance', 'algorithm': 'kd_tree', 'leaf_size': 146, 'p': 2}. Best is trial 60 with value: 0.8676470588235294.\u001b[0m\n",
            "\u001b[32m[I 2023-02-08 23:39:49,164]\u001b[0m Trial 123 finished with value: 0.865686274509804 and parameters: {'n_neighbors': 5, 'weights': 'distance', 'algorithm': 'kd_tree', 'leaf_size': 143, 'p': 3}. Best is trial 60 with value: 0.8676470588235294.\u001b[0m\n",
            "\u001b[32m[I 2023-02-08 23:39:50,510]\u001b[0m Trial 124 finished with value: 0.8549019607843137 and parameters: {'n_neighbors': 5, 'weights': 'distance', 'algorithm': 'kd_tree', 'leaf_size': 35, 'p': 5}. Best is trial 60 with value: 0.8676470588235294.\u001b[0m\n",
            "\u001b[32m[I 2023-02-08 23:39:51,911]\u001b[0m Trial 125 finished with value: 0.865686274509804 and parameters: {'n_neighbors': 5, 'weights': 'distance', 'algorithm': 'kd_tree', 'leaf_size': 150, 'p': 4}. Best is trial 60 with value: 0.8676470588235294.\u001b[0m\n",
            "\u001b[32m[I 2023-02-08 23:39:52,046]\u001b[0m Trial 126 finished with value: 0.8509803921568627 and parameters: {'n_neighbors': 3, 'weights': 'distance', 'algorithm': 'kd_tree', 'leaf_size': 139, 'p': 2}. Best is trial 60 with value: 0.8676470588235294.\u001b[0m\n",
            "\u001b[32m[I 2023-02-08 23:39:54,253]\u001b[0m Trial 127 finished with value: 0.8666666666666667 and parameters: {'n_neighbors': 5, 'weights': 'distance', 'algorithm': 'kd_tree', 'leaf_size': 110, 'p': 32}. Best is trial 60 with value: 0.8676470588235294.\u001b[0m\n",
            "\u001b[32m[I 2023-02-08 23:39:56,098]\u001b[0m Trial 128 finished with value: 0.865686274509804 and parameters: {'n_neighbors': 5, 'weights': 'distance', 'algorithm': 'kd_tree', 'leaf_size': 146, 'p': 7}. Best is trial 60 with value: 0.8676470588235294.\u001b[0m\n",
            "\u001b[32m[I 2023-02-08 23:39:57,819]\u001b[0m Trial 129 finished with value: 0.8068627450980392 and parameters: {'n_neighbors': 5, 'weights': 'uniform', 'algorithm': 'brute', 'leaf_size': 123, 'p': 3}. Best is trial 60 with value: 0.8676470588235294.\u001b[0m\n",
            "\u001b[32m[I 2023-02-08 23:39:59,197]\u001b[0m Trial 130 finished with value: 0.865686274509804 and parameters: {'n_neighbors': 5, 'weights': 'distance', 'algorithm': 'kd_tree', 'leaf_size': 142, 'p': 5}. Best is trial 60 with value: 0.8676470588235294.\u001b[0m\n",
            "\u001b[32m[I 2023-02-08 23:39:59,330]\u001b[0m Trial 131 finished with value: 0.8676470588235294 and parameters: {'n_neighbors': 5, 'weights': 'distance', 'algorithm': 'kd_tree', 'leaf_size': 143, 'p': 2}. Best is trial 60 with value: 0.8676470588235294.\u001b[0m\n",
            "\u001b[32m[I 2023-02-08 23:39:59,462]\u001b[0m Trial 132 finished with value: 0.8676470588235294 and parameters: {'n_neighbors': 5, 'weights': 'distance', 'algorithm': 'kd_tree', 'leaf_size': 147, 'p': 2}. Best is trial 60 with value: 0.8676470588235294.\u001b[0m\n",
            "\u001b[32m[I 2023-02-08 23:40:00,865]\u001b[0m Trial 133 finished with value: 0.865686274509804 and parameters: {'n_neighbors': 5, 'weights': 'distance', 'algorithm': 'kd_tree', 'leaf_size': 138, 'p': 4}. Best is trial 60 with value: 0.8676470588235294.\u001b[0m\n",
            "\u001b[32m[I 2023-02-08 23:40:02,249]\u001b[0m Trial 134 finished with value: 0.865686274509804 and parameters: {'n_neighbors': 5, 'weights': 'distance', 'algorithm': 'kd_tree', 'leaf_size': 140, 'p': 3}. Best is trial 60 with value: 0.8676470588235294.\u001b[0m\n",
            "\u001b[32m[I 2023-02-08 23:40:02,381]\u001b[0m Trial 135 finished with value: 0.8676470588235294 and parameters: {'n_neighbors': 5, 'weights': 'distance', 'algorithm': 'kd_tree', 'leaf_size': 133, 'p': 2}. Best is trial 60 with value: 0.8676470588235294.\u001b[0m\n",
            "\u001b[32m[I 2023-02-08 23:40:03,703]\u001b[0m Trial 136 finished with value: 0.8411764705882353 and parameters: {'n_neighbors': 1, 'weights': 'distance', 'algorithm': 'kd_tree', 'leaf_size': 144, 'p': 4}. Best is trial 60 with value: 0.8676470588235294.\u001b[0m\n",
            "\u001b[32m[I 2023-02-08 23:40:05,090]\u001b[0m Trial 137 finished with value: 0.8666666666666667 and parameters: {'n_neighbors': 5, 'weights': 'distance', 'algorithm': 'kd_tree', 'leaf_size': 148, 'p': 41}. Best is trial 60 with value: 0.8676470588235294.\u001b[0m\n",
            "\u001b[32m[I 2023-02-08 23:40:07,279]\u001b[0m Trial 138 finished with value: 0.865686274509804 and parameters: {'n_neighbors': 5, 'weights': 'distance', 'algorithm': 'kd_tree', 'leaf_size': 150, 'p': 6}. Best is trial 60 with value: 0.8676470588235294.\u001b[0m\n",
            "\u001b[32m[I 2023-02-08 23:40:09,176]\u001b[0m Trial 139 finished with value: 0.865686274509804 and parameters: {'n_neighbors': 5, 'weights': 'distance', 'algorithm': 'kd_tree', 'leaf_size': 141, 'p': 3}. Best is trial 60 with value: 0.8676470588235294.\u001b[0m\n",
            "\u001b[32m[I 2023-02-08 23:40:10,579]\u001b[0m Trial 140 finished with value: 0.865686274509804 and parameters: {'n_neighbors': 5, 'weights': 'distance', 'algorithm': 'kd_tree', 'leaf_size': 145, 'p': 5}. Best is trial 60 with value: 0.8676470588235294.\u001b[0m\n",
            "\u001b[32m[I 2023-02-08 23:40:10,713]\u001b[0m Trial 141 finished with value: 0.8676470588235294 and parameters: {'n_neighbors': 5, 'weights': 'distance', 'algorithm': 'kd_tree', 'leaf_size': 147, 'p': 2}. Best is trial 60 with value: 0.8676470588235294.\u001b[0m\n",
            "\u001b[32m[I 2023-02-08 23:40:10,852]\u001b[0m Trial 142 finished with value: 0.8676470588235294 and parameters: {'n_neighbors': 5, 'weights': 'distance', 'algorithm': 'kd_tree', 'leaf_size': 145, 'p': 2}. Best is trial 60 with value: 0.8676470588235294.\u001b[0m\n",
            "\u001b[32m[I 2023-02-08 23:40:12,246]\u001b[0m Trial 143 finished with value: 0.865686274509804 and parameters: {'n_neighbors': 5, 'weights': 'distance', 'algorithm': 'kd_tree', 'leaf_size': 148, 'p': 3}. Best is trial 60 with value: 0.8676470588235294.\u001b[0m\n",
            "\u001b[32m[I 2023-02-08 23:40:13,624]\u001b[0m Trial 144 finished with value: 0.865686274509804 and parameters: {'n_neighbors': 5, 'weights': 'distance', 'algorithm': 'kd_tree', 'leaf_size': 142, 'p': 4}. Best is trial 60 with value: 0.8676470588235294.\u001b[0m\n",
            "\u001b[32m[I 2023-02-08 23:40:13,773]\u001b[0m Trial 145 finished with value: 0.8676470588235294 and parameters: {'n_neighbors': 5, 'weights': 'distance', 'algorithm': 'kd_tree', 'leaf_size': 136, 'p': 2}. Best is trial 60 with value: 0.8676470588235294.\u001b[0m\n",
            "\u001b[32m[I 2023-02-08 23:40:15,182]\u001b[0m Trial 146 finished with value: 0.865686274509804 and parameters: {'n_neighbors': 5, 'weights': 'distance', 'algorithm': 'kd_tree', 'leaf_size': 129, 'p': 3}. Best is trial 60 with value: 0.8676470588235294.\u001b[0m\n",
            "\u001b[32m[I 2023-02-08 23:40:16,547]\u001b[0m Trial 147 finished with value: 0.865686274509804 and parameters: {'n_neighbors': 5, 'weights': 'distance', 'algorithm': 'kd_tree', 'leaf_size': 116, 'p': 5}. Best is trial 60 with value: 0.8676470588235294.\u001b[0m\n",
            "\u001b[32m[I 2023-02-08 23:40:18,281]\u001b[0m Trial 148 finished with value: 0.8627450980392157 and parameters: {'n_neighbors': 5, 'weights': 'distance', 'algorithm': 'auto', 'leaf_size': 146, 'p': 4}. Best is trial 60 with value: 0.8676470588235294.\u001b[0m\n",
            "\u001b[32m[I 2023-02-08 23:40:18,418]\u001b[0m Trial 149 finished with value: 0.8676470588235294 and parameters: {'n_neighbors': 5, 'weights': 'distance', 'algorithm': 'kd_tree', 'leaf_size': 139, 'p': 2}. Best is trial 60 with value: 0.8676470588235294.\u001b[0m\n",
            "\u001b[32m[I 2023-02-08 23:40:20,840]\u001b[0m Trial 150 finished with value: 0.8245098039215686 and parameters: {'n_neighbors': 5, 'weights': 'uniform', 'algorithm': 'kd_tree', 'leaf_size': 143, 'p': 3}. Best is trial 60 with value: 0.8676470588235294.\u001b[0m\n",
            "\u001b[32m[I 2023-02-08 23:40:21,109]\u001b[0m Trial 151 finished with value: 0.8676470588235294 and parameters: {'n_neighbors': 5, 'weights': 'distance', 'algorithm': 'kd_tree', 'leaf_size': 147, 'p': 2}. Best is trial 60 with value: 0.8676470588235294.\u001b[0m\n",
            "\u001b[32m[I 2023-02-08 23:40:21,378]\u001b[0m Trial 152 finished with value: 0.8676470588235294 and parameters: {'n_neighbors': 5, 'weights': 'distance', 'algorithm': 'kd_tree', 'leaf_size': 150, 'p': 2}. Best is trial 60 with value: 0.8676470588235294.\u001b[0m\n",
            "\u001b[32m[I 2023-02-08 23:40:22,829]\u001b[0m Trial 153 finished with value: 0.865686274509804 and parameters: {'n_neighbors': 5, 'weights': 'distance', 'algorithm': 'kd_tree', 'leaf_size': 144, 'p': 4}. Best is trial 60 with value: 0.8676470588235294.\u001b[0m\n",
            "\u001b[32m[I 2023-02-08 23:40:24,215]\u001b[0m Trial 154 finished with value: 0.85 and parameters: {'n_neighbors': 3, 'weights': 'distance', 'algorithm': 'kd_tree', 'leaf_size': 148, 'p': 3}. Best is trial 60 with value: 0.8676470588235294.\u001b[0m\n",
            "\u001b[32m[I 2023-02-08 23:40:24,365]\u001b[0m Trial 155 finished with value: 0.8676470588235294 and parameters: {'n_neighbors': 5, 'weights': 'distance', 'algorithm': 'kd_tree', 'leaf_size': 141, 'p': 2}. Best is trial 60 with value: 0.8676470588235294.\u001b[0m\n",
            "\u001b[32m[I 2023-02-08 23:40:26,073]\u001b[0m Trial 156 finished with value: 0.8627450980392157 and parameters: {'n_neighbors': 5, 'weights': 'distance', 'algorithm': 'brute', 'leaf_size': 146, 'p': 6}. Best is trial 60 with value: 0.8676470588235294.\u001b[0m\n",
            "\u001b[32m[I 2023-02-08 23:40:27,466]\u001b[0m Trial 157 finished with value: 0.865686274509804 and parameters: {'n_neighbors': 5, 'weights': 'distance', 'algorithm': 'kd_tree', 'leaf_size': 104, 'p': 4}. Best is trial 60 with value: 0.8676470588235294.\u001b[0m\n",
            "\u001b[32m[I 2023-02-08 23:40:28,810]\u001b[0m Trial 158 finished with value: 0.8411764705882353 and parameters: {'n_neighbors': 1, 'weights': 'distance', 'algorithm': 'kd_tree', 'leaf_size': 144, 'p': 5}. Best is trial 60 with value: 0.8676470588235294.\u001b[0m\n",
            "\u001b[32m[I 2023-02-08 23:40:30,208]\u001b[0m Trial 159 finished with value: 0.865686274509804 and parameters: {'n_neighbors': 5, 'weights': 'distance', 'algorithm': 'kd_tree', 'leaf_size': 150, 'p': 3}. Best is trial 60 with value: 0.8676470588235294.\u001b[0m\n",
            "\u001b[32m[I 2023-02-08 23:40:30,351]\u001b[0m Trial 160 finished with value: 0.8676470588235294 and parameters: {'n_neighbors': 5, 'weights': 'distance', 'algorithm': 'kd_tree', 'leaf_size': 139, 'p': 2}. Best is trial 60 with value: 0.8676470588235294.\u001b[0m\n",
            "\u001b[32m[I 2023-02-08 23:40:31,889]\u001b[0m Trial 161 finished with value: 0.8647058823529412 and parameters: {'n_neighbors': 5, 'weights': 'distance', 'algorithm': 'kd_tree', 'leaf_size': 134, 'p': 25}. Best is trial 60 with value: 0.8676470588235294.\u001b[0m\n",
            "\u001b[32m[I 2023-02-08 23:40:32,215]\u001b[0m Trial 162 finished with value: 0.8558823529411764 and parameters: {'n_neighbors': 5, 'weights': 'distance', 'algorithm': 'kd_tree', 'leaf_size': 52, 'p': 2}. Best is trial 60 with value: 0.8676470588235294.\u001b[0m\n",
            "\u001b[32m[I 2023-02-08 23:40:34,582]\u001b[0m Trial 163 finished with value: 0.865686274509804 and parameters: {'n_neighbors': 5, 'weights': 'distance', 'algorithm': 'kd_tree', 'leaf_size': 125, 'p': 3}. Best is trial 60 with value: 0.8676470588235294.\u001b[0m\n",
            "\u001b[32m[I 2023-02-08 23:40:34,722]\u001b[0m Trial 164 finished with value: 0.8676470588235294 and parameters: {'n_neighbors': 5, 'weights': 'distance', 'algorithm': 'kd_tree', 'leaf_size': 136, 'p': 2}. Best is trial 60 with value: 0.8676470588235294.\u001b[0m\n",
            "\u001b[32m[I 2023-02-08 23:40:36,120]\u001b[0m Trial 165 finished with value: 0.865686274509804 and parameters: {'n_neighbors': 5, 'weights': 'distance', 'algorithm': 'kd_tree', 'leaf_size': 131, 'p': 4}. Best is trial 60 with value: 0.8676470588235294.\u001b[0m\n",
            "\u001b[32m[I 2023-02-08 23:40:37,482]\u001b[0m Trial 166 finished with value: 0.865686274509804 and parameters: {'n_neighbors': 5, 'weights': 'distance', 'algorithm': 'kd_tree', 'leaf_size': 118, 'p': 4}. Best is trial 60 with value: 0.8676470588235294.\u001b[0m\n",
            "\u001b[32m[I 2023-02-08 23:40:38,881]\u001b[0m Trial 167 finished with value: 0.865686274509804 and parameters: {'n_neighbors': 5, 'weights': 'distance', 'algorithm': 'kd_tree', 'leaf_size': 148, 'p': 3}. Best is trial 60 with value: 0.8676470588235294.\u001b[0m\n",
            "\u001b[32m[I 2023-02-08 23:40:39,024]\u001b[0m Trial 168 finished with value: 0.8676470588235294 and parameters: {'n_neighbors': 5, 'weights': 'distance', 'algorithm': 'kd_tree', 'leaf_size': 142, 'p': 2}. Best is trial 60 with value: 0.8676470588235294.\u001b[0m\n",
            "\u001b[32m[I 2023-02-08 23:40:40,435]\u001b[0m Trial 169 finished with value: 0.865686274509804 and parameters: {'n_neighbors': 5, 'weights': 'distance', 'algorithm': 'kd_tree', 'leaf_size': 145, 'p': 5}. Best is trial 60 with value: 0.8676470588235294.\u001b[0m\n",
            "\u001b[32m[I 2023-02-08 23:40:40,575]\u001b[0m Trial 170 finished with value: 0.8676470588235294 and parameters: {'n_neighbors': 5, 'weights': 'distance', 'algorithm': 'kd_tree', 'leaf_size': 141, 'p': 2}. Best is trial 60 with value: 0.8676470588235294.\u001b[0m\n",
            "\u001b[32m[I 2023-02-08 23:40:40,725]\u001b[0m Trial 171 finished with value: 0.8676470588235294 and parameters: {'n_neighbors': 5, 'weights': 'distance', 'algorithm': 'kd_tree', 'leaf_size': 133, 'p': 2}. Best is trial 60 with value: 0.8676470588235294.\u001b[0m\n",
            "\u001b[32m[I 2023-02-08 23:40:42,125]\u001b[0m Trial 172 finished with value: 0.865686274509804 and parameters: {'n_neighbors': 5, 'weights': 'distance', 'algorithm': 'kd_tree', 'leaf_size': 134, 'p': 3}. Best is trial 60 with value: 0.8676470588235294.\u001b[0m\n",
            "\u001b[32m[I 2023-02-08 23:40:43,512]\u001b[0m Trial 173 finished with value: 0.865686274509804 and parameters: {'n_neighbors': 5, 'weights': 'distance', 'algorithm': 'kd_tree', 'leaf_size': 137, 'p': 4}. Best is trial 60 with value: 0.8676470588235294.\u001b[0m\n",
            "\u001b[32m[I 2023-02-08 23:40:45,137]\u001b[0m Trial 174 finished with value: 0.865686274509804 and parameters: {'n_neighbors': 5, 'weights': 'distance', 'algorithm': 'kd_tree', 'leaf_size': 146, 'p': 3}. Best is trial 60 with value: 0.8676470588235294.\u001b[0m\n",
            "\u001b[32m[I 2023-02-08 23:40:45,426]\u001b[0m Trial 175 finished with value: 0.8607843137254902 and parameters: {'n_neighbors': 7, 'weights': 'distance', 'algorithm': 'kd_tree', 'leaf_size': 127, 'p': 2}. Best is trial 60 with value: 0.8676470588235294.\u001b[0m\n",
            "\u001b[32m[I 2023-02-08 23:40:47,726]\u001b[0m Trial 176 finished with value: 0.865686274509804 and parameters: {'n_neighbors': 5, 'weights': 'distance', 'algorithm': 'kd_tree', 'leaf_size': 122, 'p': 4}. Best is trial 60 with value: 0.8676470588235294.\u001b[0m\n",
            "\u001b[32m[I 2023-02-08 23:40:47,886]\u001b[0m Trial 177 finished with value: 0.8666666666666667 and parameters: {'n_neighbors': 5, 'weights': 'distance', 'algorithm': 'auto', 'leaf_size': 113, 'p': 2}. Best is trial 60 with value: 0.8676470588235294.\u001b[0m\n",
            "\u001b[32m[I 2023-02-08 23:40:49,297]\u001b[0m Trial 178 finished with value: 0.865686274509804 and parameters: {'n_neighbors': 5, 'weights': 'distance', 'algorithm': 'kd_tree', 'leaf_size': 147, 'p': 3}. Best is trial 60 with value: 0.8676470588235294.\u001b[0m\n",
            "\u001b[32m[I 2023-02-08 23:40:50,716]\u001b[0m Trial 179 finished with value: 0.8323529411764706 and parameters: {'n_neighbors': 3, 'weights': 'uniform', 'algorithm': 'kd_tree', 'leaf_size': 150, 'p': 6}. Best is trial 60 with value: 0.8676470588235294.\u001b[0m\n",
            "\u001b[32m[I 2023-02-08 23:40:52,122]\u001b[0m Trial 180 finished with value: 0.865686274509804 and parameters: {'n_neighbors': 5, 'weights': 'distance', 'algorithm': 'kd_tree', 'leaf_size': 143, 'p': 5}. Best is trial 60 with value: 0.8676470588235294.\u001b[0m\n",
            "\u001b[32m[I 2023-02-08 23:40:52,271]\u001b[0m Trial 181 finished with value: 0.8676470588235294 and parameters: {'n_neighbors': 5, 'weights': 'distance', 'algorithm': 'kd_tree', 'leaf_size': 120, 'p': 2}. Best is trial 60 with value: 0.8676470588235294.\u001b[0m\n",
            "\u001b[32m[I 2023-02-08 23:40:53,654]\u001b[0m Trial 182 finished with value: 0.865686274509804 and parameters: {'n_neighbors': 5, 'weights': 'distance', 'algorithm': 'kd_tree', 'leaf_size': 126, 'p': 3}. Best is trial 60 with value: 0.8676470588235294.\u001b[0m\n",
            "\u001b[32m[I 2023-02-08 23:40:53,795]\u001b[0m Trial 183 finished with value: 0.8676470588235294 and parameters: {'n_neighbors': 5, 'weights': 'distance', 'algorithm': 'kd_tree', 'leaf_size': 132, 'p': 2}. Best is trial 60 with value: 0.8676470588235294.\u001b[0m\n",
            "\u001b[32m[I 2023-02-08 23:40:53,939]\u001b[0m Trial 184 finished with value: 0.8676470588235294 and parameters: {'n_neighbors': 5, 'weights': 'distance', 'algorithm': 'kd_tree', 'leaf_size': 127, 'p': 2}. Best is trial 60 with value: 0.8676470588235294.\u001b[0m\n",
            "\u001b[32m[I 2023-02-08 23:40:55,656]\u001b[0m Trial 185 finished with value: 0.8627450980392157 and parameters: {'n_neighbors': 5, 'weights': 'distance', 'algorithm': 'brute', 'leaf_size': 124, 'p': 4}. Best is trial 60 with value: 0.8676470588235294.\u001b[0m\n",
            "\u001b[32m[I 2023-02-08 23:40:57,052]\u001b[0m Trial 186 finished with value: 0.865686274509804 and parameters: {'n_neighbors': 5, 'weights': 'distance', 'algorithm': 'kd_tree', 'leaf_size': 129, 'p': 3}. Best is trial 60 with value: 0.8676470588235294.\u001b[0m\n",
            "\u001b[32m[I 2023-02-08 23:40:57,204]\u001b[0m Trial 187 finished with value: 0.8676470588235294 and parameters: {'n_neighbors': 5, 'weights': 'distance', 'algorithm': 'kd_tree', 'leaf_size': 138, 'p': 2}. Best is trial 60 with value: 0.8676470588235294.\u001b[0m\n",
            "\u001b[32m[I 2023-02-08 23:40:59,298]\u001b[0m Trial 188 finished with value: 0.865686274509804 and parameters: {'n_neighbors': 5, 'weights': 'distance', 'algorithm': 'kd_tree', 'leaf_size': 148, 'p': 4}. Best is trial 60 with value: 0.8676470588235294.\u001b[0m\n",
            "\u001b[32m[I 2023-02-08 23:41:01,258]\u001b[0m Trial 189 finished with value: 0.865686274509804 and parameters: {'n_neighbors': 5, 'weights': 'distance', 'algorithm': 'kd_tree', 'leaf_size': 145, 'p': 3}. Best is trial 60 with value: 0.8676470588235294.\u001b[0m\n",
            "\u001b[32m[I 2023-02-08 23:41:01,406]\u001b[0m Trial 190 finished with value: 0.8323529411764706 and parameters: {'n_neighbors': 1, 'weights': 'distance', 'algorithm': 'kd_tree', 'leaf_size': 117, 'p': 2}. Best is trial 60 with value: 0.8676470588235294.\u001b[0m\n",
            "\u001b[32m[I 2023-02-08 23:41:01,543]\u001b[0m Trial 191 finished with value: 0.8676470588235294 and parameters: {'n_neighbors': 5, 'weights': 'distance', 'algorithm': 'kd_tree', 'leaf_size': 149, 'p': 2}. Best is trial 60 with value: 0.8676470588235294.\u001b[0m\n",
            "\u001b[32m[I 2023-02-08 23:41:02,941]\u001b[0m Trial 192 finished with value: 0.865686274509804 and parameters: {'n_neighbors': 5, 'weights': 'distance', 'algorithm': 'kd_tree', 'leaf_size': 150, 'p': 3}. Best is trial 60 with value: 0.8676470588235294.\u001b[0m\n",
            "\u001b[32m[I 2023-02-08 23:41:03,082]\u001b[0m Trial 193 finished with value: 0.8676470588235294 and parameters: {'n_neighbors': 5, 'weights': 'distance', 'algorithm': 'kd_tree', 'leaf_size': 146, 'p': 2}. Best is trial 60 with value: 0.8676470588235294.\u001b[0m\n",
            "\u001b[32m[I 2023-02-08 23:41:04,501]\u001b[0m Trial 194 finished with value: 0.865686274509804 and parameters: {'n_neighbors': 5, 'weights': 'distance', 'algorithm': 'kd_tree', 'leaf_size': 143, 'p': 3}. Best is trial 60 with value: 0.8676470588235294.\u001b[0m\n",
            "\u001b[32m[I 2023-02-08 23:41:06,701]\u001b[0m Trial 195 finished with value: 0.865686274509804 and parameters: {'n_neighbors': 5, 'weights': 'distance', 'algorithm': 'kd_tree', 'leaf_size': 121, 'p': 4}. Best is trial 60 with value: 0.8676470588235294.\u001b[0m\n",
            "\u001b[32m[I 2023-02-08 23:41:06,976]\u001b[0m Trial 196 finished with value: 0.8676470588235294 and parameters: {'n_neighbors': 5, 'weights': 'distance', 'algorithm': 'kd_tree', 'leaf_size': 140, 'p': 2}. Best is trial 60 with value: 0.8676470588235294.\u001b[0m\n",
            "\u001b[32m[I 2023-02-08 23:41:08,692]\u001b[0m Trial 197 finished with value: 0.865686274509804 and parameters: {'n_neighbors': 5, 'weights': 'distance', 'algorithm': 'kd_tree', 'leaf_size': 147, 'p': 5}. Best is trial 60 with value: 0.8676470588235294.\u001b[0m\n",
            "\u001b[32m[I 2023-02-08 23:41:10,113]\u001b[0m Trial 198 finished with value: 0.865686274509804 and parameters: {'n_neighbors': 5, 'weights': 'distance', 'algorithm': 'kd_tree', 'leaf_size': 150, 'p': 3}. Best is trial 60 with value: 0.8676470588235294.\u001b[0m\n",
            "\u001b[32m[I 2023-02-08 23:41:12,109]\u001b[0m Trial 199 finished with value: 0.865686274509804 and parameters: {'n_neighbors': 5, 'weights': 'distance', 'algorithm': 'kd_tree', 'leaf_size': 144, 'p': 4}. Best is trial 60 with value: 0.8676470588235294.\u001b[0m\n"
          ]
        },
        {
          "output_type": "stream",
          "name": "stdout",
          "text": [
            "Number of finished trials:  200\n",
            "Best trial:\n",
            "  Value: 0.8676470588235294\n",
            "  Params: \n",
            "    n_neighbors: 5\n",
            "    weights: distance\n",
            "    algorithm: kd_tree\n",
            "    leaf_size: 121\n",
            "    p: 2\n"
          ]
        }
      ]
    },
    {
      "cell_type": "code",
      "source": [
        "classifier= KNeighborsClassifier(n_neighbors= 7,weights='distance',algorithm= 'auto',leaf_size= 84, p=39)  \n",
        "classifier.fit(X_train, y_train)\n",
        "y_pred= classifier.predict(X_test) \n",
        "cm= confusion_matrix(y_test, y_pred) \n",
        "print(cm)"
      ],
      "metadata": {
        "colab": {
          "base_uri": "https://localhost:8080/"
        },
        "id": "fmXRil5TaiOv",
        "outputId": "2cdffeb1-2083-4aa3-ef6d-259808933859"
      },
      "execution_count": 78,
      "outputs": [
        {
          "output_type": "stream",
          "name": "stdout",
          "text": [
            "[[430  96]\n",
            " [ 38 456]]\n"
          ]
        }
      ]
    },
    {
      "cell_type": "code",
      "source": [
        "print(classification_report(y_test, y_pred))"
      ],
      "metadata": {
        "colab": {
          "base_uri": "https://localhost:8080/"
        },
        "id": "yJxaPLYBalmU",
        "outputId": "c74eb1b3-6041-4263-865f-c39cb7c3bd65"
      },
      "execution_count": 79,
      "outputs": [
        {
          "output_type": "stream",
          "name": "stdout",
          "text": [
            "              precision    recall  f1-score   support\n",
            "\n",
            "           0       0.92      0.82      0.87       526\n",
            "           1       0.83      0.92      0.87       494\n",
            "\n",
            "    accuracy                           0.87      1020\n",
            "   macro avg       0.87      0.87      0.87      1020\n",
            "weighted avg       0.87      0.87      0.87      1020\n",
            "\n"
          ]
        }
      ]
    },
    {
      "cell_type": "code",
      "source": [
        "# Create Decision Tree classifer object\n",
        "classification = DecisionTreeClassifier()\n",
        "\n",
        "# Train Decision Tree Classifer\n",
        "classification = classification.fit(X_train,y_train)\n",
        "\n",
        "#Predict the response for test dataset\n",
        "y_pred = classification.predict(X_test)"
      ],
      "metadata": {
        "id": "oS5LzDlkaomk"
      },
      "execution_count": 80,
      "outputs": []
    },
    {
      "cell_type": "code",
      "source": [
        "print(classification_report(y_test, y_pred))"
      ],
      "metadata": {
        "colab": {
          "base_uri": "https://localhost:8080/"
        },
        "id": "a1GNWg-9arFY",
        "outputId": "36ec62f0-249f-43d6-d9f4-fcce76e51612"
      },
      "execution_count": 81,
      "outputs": [
        {
          "output_type": "stream",
          "name": "stdout",
          "text": [
            "              precision    recall  f1-score   support\n",
            "\n",
            "           0       0.91      0.81      0.86       526\n",
            "           1       0.82      0.91      0.86       494\n",
            "\n",
            "    accuracy                           0.86      1020\n",
            "   macro avg       0.86      0.86      0.86      1020\n",
            "weighted avg       0.86      0.86      0.86      1020\n",
            "\n"
          ]
        }
      ]
    },
    {
      "cell_type": "code",
      "source": [
        "cm= confusion_matrix(y_test, y_pred) \n",
        "cm\n"
      ],
      "metadata": {
        "colab": {
          "base_uri": "https://localhost:8080/"
        },
        "id": "rRD5vebwavUW",
        "outputId": "80d9bd89-af97-4965-a634-405932b52f8e"
      },
      "execution_count": 82,
      "outputs": [
        {
          "output_type": "execute_result",
          "data": {
            "text/plain": [
              "array([[427,  99],\n",
              "       [ 44, 450]])"
            ]
          },
          "metadata": {},
          "execution_count": 82
        }
      ]
    },
    {
      "cell_type": "code",
      "source": [
        "#Fitting Decision Tree classifier to the training set  \n",
        "classifier= RandomForestClassifier(n_estimators= 10, criterion=\"entropy\")  \n",
        "classifier.fit(X_train, y_train)"
      ],
      "metadata": {
        "colab": {
          "base_uri": "https://localhost:8080/"
        },
        "id": "JXZXQ9Lzaxyt",
        "outputId": "020c6f4a-b082-49e3-b50b-9111c207faf8"
      },
      "execution_count": 83,
      "outputs": [
        {
          "output_type": "execute_result",
          "data": {
            "text/plain": [
              "RandomForestClassifier(criterion='entropy', n_estimators=10)"
            ]
          },
          "metadata": {},
          "execution_count": 83
        }
      ]
    },
    {
      "cell_type": "code",
      "source": [
        "#Predicting the test set result  \n",
        "y_pred= classifier.predict(X_test)"
      ],
      "metadata": {
        "id": "L2y1UxN8a0wh"
      },
      "execution_count": 84,
      "outputs": []
    },
    {
      "cell_type": "code",
      "source": [
        "#Creating the Confusion matrix  \n",
        "from sklearn.metrics import confusion_matrix  \n",
        "cm= confusion_matrix(y_test, y_pred)\n",
        "cm\n"
      ],
      "metadata": {
        "colab": {
          "base_uri": "https://localhost:8080/"
        },
        "id": "EA1XM_8ba3zn",
        "outputId": "ff69fc1b-c475-430d-9584-5c3e5b16a97a"
      },
      "execution_count": 85,
      "outputs": [
        {
          "output_type": "execute_result",
          "data": {
            "text/plain": [
              "array([[470,  56],\n",
              "       [ 43, 451]])"
            ]
          },
          "metadata": {},
          "execution_count": 85
        }
      ]
    },
    {
      "cell_type": "code",
      "source": [
        "print(classification_report(y_test, y_pred))"
      ],
      "metadata": {
        "colab": {
          "base_uri": "https://localhost:8080/"
        },
        "id": "3IeZ7jf4a6O7",
        "outputId": "94dcc140-6729-4078-a405-5e047e7f3321"
      },
      "execution_count": 86,
      "outputs": [
        {
          "output_type": "stream",
          "name": "stdout",
          "text": [
            "              precision    recall  f1-score   support\n",
            "\n",
            "           0       0.92      0.89      0.90       526\n",
            "           1       0.89      0.91      0.90       494\n",
            "\n",
            "    accuracy                           0.90      1020\n",
            "   macro avg       0.90      0.90      0.90      1020\n",
            "weighted avg       0.90      0.90      0.90      1020\n",
            "\n"
          ]
        }
      ]
    },
    {
      "cell_type": "code",
      "source": [
        "def rf_classifier_optuna (trial,X_train=X_train,X_test=X_test,y_train=y_train,y_test=y_test):\n",
        "    #define parameters\n",
        "    params = {\n",
        "    'n_estimators'     : trial.suggest_int('n_estimators', 2, 20), \n",
        "    'max_depth'         : int(trial.suggest_loguniform('max_depth', 1, 32))\n",
        "    }\n",
        "        #creat model anf pass parameters \n",
        "    classifier= RandomForestClassifier(**params)  \n",
        "    classifier.fit(X_train, y_train)  \n",
        "    y_pred = classifier.predict(X_test)\n",
        "    acc = accuracy_score(y_test, y_pred)\n",
        "    return acc"
      ],
      "metadata": {
        "id": "wMrfVKnza9dz"
      },
      "execution_count": 87,
      "outputs": []
    },
    {
      "cell_type": "code",
      "source": [
        "study = optuna.create_study(direction=\"maximize\")\n",
        "# #start serach \n",
        "study.optimize(rf_classifier_optuna, n_trials=200)\n",
        "\n",
        "print(\"Number of finished trials: \", len(study.trials))\n",
        "print(\"Best trial:\")\n",
        "trial = study.best_trial\n",
        "print(\"  Value: {}\".format(trial.value))\n",
        "print(\"  Params: \")\n",
        "params = []\n",
        "for key, value in trial.params.items():\n",
        "    params.append(value)\n",
        "    print(\"    {}: {}\".format(key, value))"
      ],
      "metadata": {
        "colab": {
          "base_uri": "https://localhost:8080/"
        },
        "id": "F55UlbSHbBhl",
        "outputId": "9880fcd8-1619-4a41-9a60-31eee8bf4102"
      },
      "execution_count": 88,
      "outputs": [
        {
          "output_type": "stream",
          "name": "stderr",
          "text": [
            "\u001b[32m[I 2023-02-08 23:46:11,653]\u001b[0m A new study created in memory with name: no-name-ea84d2f2-6308-4117-9622-94fdf19a211d\u001b[0m\n",
            "\u001b[32m[I 2023-02-08 23:46:11,681]\u001b[0m Trial 0 finished with value: 0.8274509803921568 and parameters: {'n_estimators': 3, 'max_depth': 13.323349953425677}. Best is trial 0 with value: 0.8274509803921568.\u001b[0m\n",
            "\u001b[32m[I 2023-02-08 23:46:11,744]\u001b[0m Trial 1 finished with value: 0.6901960784313725 and parameters: {'n_estimators': 20, 'max_depth': 5.908471036819885}. Best is trial 0 with value: 0.8274509803921568.\u001b[0m\n",
            "\u001b[32m[I 2023-02-08 23:46:11,769]\u001b[0m Trial 2 finished with value: 0.6078431372549019 and parameters: {'n_estimators': 8, 'max_depth': 2.3205125830035582}. Best is trial 0 with value: 0.8274509803921568.\u001b[0m\n",
            "\u001b[32m[I 2023-02-08 23:46:11,796]\u001b[0m Trial 3 finished with value: 0.6098039215686275 and parameters: {'n_estimators': 8, 'max_depth': 3.09330094884801}. Best is trial 0 with value: 0.8274509803921568.\u001b[0m\n",
            "\u001b[32m[I 2023-02-08 23:46:11,825]\u001b[0m Trial 4 finished with value: 0.6745098039215687 and parameters: {'n_estimators': 8, 'max_depth': 6.015764385584114}. Best is trial 0 with value: 0.8274509803921568.\u001b[0m\n",
            "\u001b[32m[I 2023-02-08 23:46:11,883]\u001b[0m Trial 5 finished with value: 0.75 and parameters: {'n_estimators': 19, 'max_depth': 7.422260364400931}. Best is trial 0 with value: 0.8274509803921568.\u001b[0m\n",
            "\u001b[32m[I 2023-02-08 23:46:11,920]\u001b[0m Trial 6 finished with value: 0.5833333333333334 and parameters: {'n_estimators': 14, 'max_depth': 2.954187087857921}. Best is trial 0 with value: 0.8274509803921568.\u001b[0m\n",
            "\u001b[32m[I 2023-02-08 23:46:11,940]\u001b[0m Trial 7 finished with value: 0.596078431372549 and parameters: {'n_estimators': 6, 'max_depth': 2.102453216307342}. Best is trial 0 with value: 0.8274509803921568.\u001b[0m\n",
            "\u001b[32m[I 2023-02-08 23:46:11,987]\u001b[0m Trial 8 finished with value: 0.8921568627450981 and parameters: {'n_estimators': 9, 'max_depth': 31.38257537043535}. Best is trial 8 with value: 0.8921568627450981.\u001b[0m\n",
            "\u001b[32m[I 2023-02-08 23:46:12,004]\u001b[0m Trial 9 finished with value: 0.8862745098039215 and parameters: {'n_estimators': 2, 'max_depth': 21.07324128959165}. Best is trial 8 with value: 0.8921568627450981.\u001b[0m\n",
            "\u001b[32m[I 2023-02-08 23:46:12,078]\u001b[0m Trial 10 finished with value: 0.8892156862745098 and parameters: {'n_estimators': 14, 'max_depth': 31.858298344842723}. Best is trial 8 with value: 0.8921568627450981.\u001b[0m\n",
            "\u001b[32m[I 2023-02-08 23:46:12,154]\u001b[0m Trial 11 finished with value: 0.8931372549019608 and parameters: {'n_estimators': 14, 'max_depth': 31.781211990129417}. Best is trial 11 with value: 0.8931372549019608.\u001b[0m\n",
            "\u001b[32m[I 2023-02-08 23:46:12,224]\u001b[0m Trial 12 finished with value: 0.8901960784313725 and parameters: {'n_estimators': 13, 'max_depth': 31.67610961688897}. Best is trial 11 with value: 0.8931372549019608.\u001b[0m\n",
            "\u001b[32m[I 2023-02-08 23:46:12,280]\u001b[0m Trial 13 finished with value: 0.8823529411764706 and parameters: {'n_estimators': 11, 'max_depth': 14.323175343513467}. Best is trial 11 with value: 0.8931372549019608.\u001b[0m\n",
            "\u001b[32m[I 2023-02-08 23:46:12,365]\u001b[0m Trial 14 finished with value: 0.8911764705882353 and parameters: {'n_estimators': 17, 'max_depth': 16.215634081345147}. Best is trial 11 with value: 0.8931372549019608.\u001b[0m\n",
            "\u001b[32m[I 2023-02-08 23:46:12,412]\u001b[0m Trial 15 finished with value: 0.5794117647058824 and parameters: {'n_estimators': 11, 'max_depth': 1.0825526694882492}. Best is trial 11 with value: 0.8931372549019608.\u001b[0m\n",
            "\u001b[32m[I 2023-02-08 23:46:12,446]\u001b[0m Trial 16 finished with value: 0.7411764705882353 and parameters: {'n_estimators': 5, 'max_depth': 9.96670164532209}. Best is trial 11 with value: 0.8931372549019608.\u001b[0m\n",
            "\u001b[32m[I 2023-02-08 23:46:12,538]\u001b[0m Trial 17 finished with value: 0.8901960784313725 and parameters: {'n_estimators': 16, 'max_depth': 22.220328614000778}. Best is trial 11 with value: 0.8931372549019608.\u001b[0m\n",
            "\u001b[32m[I 2023-02-08 23:46:12,587]\u001b[0m Trial 18 finished with value: 0.8186274509803921 and parameters: {'n_estimators': 10, 'max_depth': 10.115470601157185}. Best is trial 11 with value: 0.8931372549019608.\u001b[0m\n",
            "\u001b[32m[I 2023-02-08 23:46:12,682]\u001b[0m Trial 19 finished with value: 0.8941176470588236 and parameters: {'n_estimators': 17, 'max_depth': 21.30788995467112}. Best is trial 19 with value: 0.8941176470588236.\u001b[0m\n",
            "\u001b[32m[I 2023-02-08 23:46:12,774]\u001b[0m Trial 20 finished with value: 0.8911764705882353 and parameters: {'n_estimators': 18, 'max_depth': 19.92670752836665}. Best is trial 19 with value: 0.8941176470588236.\u001b[0m\n",
            "\u001b[32m[I 2023-02-08 23:46:12,862]\u001b[0m Trial 21 finished with value: 0.888235294117647 and parameters: {'n_estimators': 16, 'max_depth': 26.591327832562552}. Best is trial 19 with value: 0.8941176470588236.\u001b[0m\n",
            "\u001b[32m[I 2023-02-08 23:46:12,939]\u001b[0m Trial 22 finished with value: 0.8990196078431373 and parameters: {'n_estimators': 14, 'max_depth': 25.57570505774864}. Best is trial 22 with value: 0.8990196078431373.\u001b[0m\n",
            "\u001b[32m[I 2023-02-08 23:46:13,010]\u001b[0m Trial 23 finished with value: 0.8911764705882353 and parameters: {'n_estimators': 13, 'max_depth': 20.580766248471342}. Best is trial 22 with value: 0.8990196078431373.\u001b[0m\n",
            "\u001b[32m[I 2023-02-08 23:46:13,092]\u001b[0m Trial 24 finished with value: 0.8970588235294118 and parameters: {'n_estimators': 15, 'max_depth': 24.453444767329124}. Best is trial 22 with value: 0.8990196078431373.\u001b[0m\n",
            "\u001b[32m[I 2023-02-08 23:46:13,173]\u001b[0m Trial 25 finished with value: 0.8862745098039215 and parameters: {'n_estimators': 16, 'max_depth': 16.786023271902422}. Best is trial 22 with value: 0.8990196078431373.\u001b[0m\n",
            "\u001b[32m[I 2023-02-08 23:46:13,263]\u001b[0m Trial 26 finished with value: 0.8941176470588236 and parameters: {'n_estimators': 18, 'max_depth': 24.072064691079635}. Best is trial 22 with value: 0.8990196078431373.\u001b[0m\n",
            "\u001b[32m[I 2023-02-08 23:46:13,333]\u001b[0m Trial 27 finished with value: 0.8539215686274509 and parameters: {'n_estimators': 15, 'max_depth': 11.93704654135375}. Best is trial 22 with value: 0.8990196078431373.\u001b[0m\n",
            "\u001b[32m[I 2023-02-08 23:46:13,400]\u001b[0m Trial 28 finished with value: 0.8901960784313725 and parameters: {'n_estimators': 12, 'max_depth': 16.827730419757742}. Best is trial 22 with value: 0.8990196078431373.\u001b[0m\n",
            "\u001b[32m[I 2023-02-08 23:46:13,485]\u001b[0m Trial 29 finished with value: 0.8745098039215686 and parameters: {'n_estimators': 18, 'max_depth': 14.550453410037328}. Best is trial 22 with value: 0.8990196078431373.\u001b[0m\n",
            "\u001b[32m[I 2023-02-08 23:46:13,582]\u001b[0m Trial 30 finished with value: 0.8960784313725491 and parameters: {'n_estimators': 20, 'max_depth': 25.43703322729194}. Best is trial 22 with value: 0.8990196078431373.\u001b[0m\n",
            "\u001b[32m[I 2023-02-08 23:46:13,685]\u001b[0m Trial 31 finished with value: 0.8970588235294118 and parameters: {'n_estimators': 20, 'max_depth': 25.490506210956}. Best is trial 22 with value: 0.8990196078431373.\u001b[0m\n",
            "\u001b[32m[I 2023-02-08 23:46:13,799]\u001b[0m Trial 32 finished with value: 0.8970588235294118 and parameters: {'n_estimators': 20, 'max_depth': 25.576724128020647}. Best is trial 22 with value: 0.8990196078431373.\u001b[0m\n",
            "\u001b[32m[I 2023-02-08 23:46:13,892]\u001b[0m Trial 33 finished with value: 0.8970588235294118 and parameters: {'n_estimators': 20, 'max_depth': 17.894331497425764}. Best is trial 22 with value: 0.8990196078431373.\u001b[0m\n",
            "\u001b[32m[I 2023-02-08 23:46:13,994]\u001b[0m Trial 34 finished with value: 0.8931372549019608 and parameters: {'n_estimators': 20, 'max_depth': 25.41626443969068}. Best is trial 22 with value: 0.8990196078431373.\u001b[0m\n",
            "\u001b[32m[I 2023-02-08 23:46:14,078]\u001b[0m Trial 35 finished with value: 0.8598039215686275 and parameters: {'n_estimators': 19, 'max_depth': 12.98003283120958}. Best is trial 22 with value: 0.8990196078431373.\u001b[0m\n",
            "\u001b[32m[I 2023-02-08 23:46:14,168]\u001b[0m Trial 36 finished with value: 0.8950980392156863 and parameters: {'n_estimators': 19, 'max_depth': 19.27069129677183}. Best is trial 22 with value: 0.8990196078431373.\u001b[0m\n",
            "\u001b[32m[I 2023-02-08 23:46:14,255]\u001b[0m Trial 37 finished with value: 0.8931372549019608 and parameters: {'n_estimators': 17, 'max_depth': 26.035169818557016}. Best is trial 22 with value: 0.8990196078431373.\u001b[0m\n",
            "\u001b[32m[I 2023-02-08 23:46:14,324]\u001b[0m Trial 38 finished with value: 0.8225490196078431 and parameters: {'n_estimators': 15, 'max_depth': 11.269154184203801}. Best is trial 22 with value: 0.8990196078431373.\u001b[0m\n",
            "\u001b[32m[I 2023-02-08 23:46:14,416]\u001b[0m Trial 39 finished with value: 0.8794117647058823 and parameters: {'n_estimators': 19, 'max_depth': 14.42058758504651}. Best is trial 22 with value: 0.8990196078431373.\u001b[0m\n",
            "\u001b[32m[I 2023-02-08 23:46:14,467]\u001b[0m Trial 40 finished with value: 0.7401960784313726 and parameters: {'n_estimators': 12, 'max_depth': 7.811035140051523}. Best is trial 22 with value: 0.8990196078431373.\u001b[0m\n",
            "\u001b[32m[I 2023-02-08 23:46:14,564]\u001b[0m Trial 41 finished with value: 0.8941176470588236 and parameters: {'n_estimators': 20, 'max_depth': 18.062178919417917}. Best is trial 22 with value: 0.8990196078431373.\u001b[0m\n",
            "\u001b[32m[I 2023-02-08 23:46:14,672]\u001b[0m Trial 42 finished with value: 0.8931372549019608 and parameters: {'n_estimators': 20, 'max_depth': 27.240270151874732}. Best is trial 22 with value: 0.8990196078431373.\u001b[0m\n",
            "\u001b[32m[I 2023-02-08 23:46:14,772]\u001b[0m Trial 43 finished with value: 0.8892156862745098 and parameters: {'n_estimators': 18, 'max_depth': 23.70036419663217}. Best is trial 22 with value: 0.8990196078431373.\u001b[0m\n",
            "\u001b[32m[I 2023-02-08 23:46:14,861]\u001b[0m Trial 44 finished with value: 0.9 and parameters: {'n_estimators': 19, 'max_depth': 16.999119962822615}. Best is trial 44 with value: 0.9.\u001b[0m\n",
            "\u001b[32m[I 2023-02-08 23:46:14,939]\u001b[0m Trial 45 finished with value: 0.8872549019607843 and parameters: {'n_estimators': 15, 'max_depth': 28.03711625612695}. Best is trial 44 with value: 0.9.\u001b[0m\n",
            "\u001b[32m[I 2023-02-08 23:46:15,036]\u001b[0m Trial 46 finished with value: 0.8950980392156863 and parameters: {'n_estimators': 19, 'max_depth': 21.705727371626374}. Best is trial 44 with value: 0.9.\u001b[0m\n",
            "\u001b[32m[I 2023-02-08 23:46:15,129]\u001b[0m Trial 47 finished with value: 0.9019607843137255 and parameters: {'n_estimators': 17, 'max_depth': 30.941721704680283}. Best is trial 47 with value: 0.9019607843137255.\u001b[0m\n",
            "\u001b[32m[I 2023-02-08 23:46:15,215]\u001b[0m Trial 48 finished with value: 0.8931372549019608 and parameters: {'n_estimators': 17, 'max_depth': 31.711987761028077}. Best is trial 47 with value: 0.9019607843137255.\u001b[0m\n",
            "\u001b[32m[I 2023-02-08 23:46:15,289]\u001b[0m Trial 49 finished with value: 0.8862745098039215 and parameters: {'n_estimators': 13, 'max_depth': 19.099452989359627}. Best is trial 47 with value: 0.9019607843137255.\u001b[0m\n",
            "\u001b[32m[I 2023-02-08 23:46:15,367]\u001b[0m Trial 50 finished with value: 0.8950980392156863 and parameters: {'n_estimators': 14, 'max_depth': 28.60430734097778}. Best is trial 47 with value: 0.9019607843137255.\u001b[0m\n",
            "\u001b[32m[I 2023-02-08 23:46:15,458]\u001b[0m Trial 51 finished with value: 0.8941176470588236 and parameters: {'n_estimators': 18, 'max_depth': 22.828268869130117}. Best is trial 47 with value: 0.9019607843137255.\u001b[0m\n",
            "\u001b[32m[I 2023-02-08 23:46:15,542]\u001b[0m Trial 52 finished with value: 0.8990196078431373 and parameters: {'n_estimators': 16, 'max_depth': 28.352703088985933}. Best is trial 47 with value: 0.9019607843137255.\u001b[0m\n",
            "\u001b[32m[I 2023-02-08 23:46:15,636]\u001b[0m Trial 53 finished with value: 0.9 and parameters: {'n_estimators': 16, 'max_depth': 31.975207753200944}. Best is trial 47 with value: 0.9019607843137255.\u001b[0m\n",
            "\u001b[32m[I 2023-02-08 23:46:15,732]\u001b[0m Trial 54 finished with value: 0.8931372549019608 and parameters: {'n_estimators': 16, 'max_depth': 29.14609752540971}. Best is trial 47 with value: 0.9019607843137255.\u001b[0m\n",
            "\u001b[32m[I 2023-02-08 23:46:15,816]\u001b[0m Trial 55 finished with value: 0.8970588235294118 and parameters: {'n_estimators': 15, 'max_depth': 30.55737995212301}. Best is trial 47 with value: 0.9019607843137255.\u001b[0m\n",
            "\u001b[32m[I 2023-02-08 23:46:15,907]\u001b[0m Trial 56 finished with value: 0.8950980392156863 and parameters: {'n_estimators': 16, 'max_depth': 21.761764823146468}. Best is trial 47 with value: 0.9019607843137255.\u001b[0m\n",
            "\u001b[32m[I 2023-02-08 23:46:15,991]\u001b[0m Trial 57 finished with value: 0.8941176470588236 and parameters: {'n_estimators': 17, 'max_depth': 15.926220184958442}. Best is trial 47 with value: 0.9019607843137255.\u001b[0m\n",
            "\u001b[32m[I 2023-02-08 23:46:16,067]\u001b[0m Trial 58 finished with value: 0.9009803921568628 and parameters: {'n_estimators': 14, 'max_depth': 22.648446544256466}. Best is trial 47 with value: 0.9019607843137255.\u001b[0m\n",
            "\u001b[32m[I 2023-02-08 23:46:16,135]\u001b[0m Trial 59 finished with value: 0.8950980392156863 and parameters: {'n_estimators': 12, 'max_depth': 31.839245727547876}. Best is trial 47 with value: 0.9019607843137255.\u001b[0m\n",
            "\u001b[32m[I 2023-02-08 23:46:16,207]\u001b[0m Trial 60 finished with value: 0.903921568627451 and parameters: {'n_estimators': 14, 'max_depth': 19.86225461938294}. Best is trial 60 with value: 0.903921568627451.\u001b[0m\n",
            "\u001b[32m[I 2023-02-08 23:46:16,281]\u001b[0m Trial 61 finished with value: 0.8950980392156863 and parameters: {'n_estimators': 14, 'max_depth': 19.558488108287364}. Best is trial 60 with value: 0.903921568627451.\u001b[0m\n",
            "\u001b[32m[I 2023-02-08 23:46:16,360]\u001b[0m Trial 62 finished with value: 0.8862745098039215 and parameters: {'n_estimators': 14, 'max_depth': 22.51840135341696}. Best is trial 60 with value: 0.903921568627451.\u001b[0m\n",
            "\u001b[32m[I 2023-02-08 23:46:16,432]\u001b[0m Trial 63 finished with value: 0.8941176470588236 and parameters: {'n_estimators': 13, 'max_depth': 28.38434720845268}. Best is trial 60 with value: 0.903921568627451.\u001b[0m\n",
            "\u001b[32m[I 2023-02-08 23:46:16,479]\u001b[0m Trial 64 finished with value: 0.8950980392156863 and parameters: {'n_estimators': 6, 'max_depth': 20.521373442963323}. Best is trial 60 with value: 0.903921568627451.\u001b[0m\n",
            "\u001b[32m[I 2023-02-08 23:46:16,560]\u001b[0m Trial 65 finished with value: 0.9009803921568628 and parameters: {'n_estimators': 16, 'max_depth': 23.162957720912388}. Best is trial 60 with value: 0.903921568627451.\u001b[0m\n",
            "\u001b[32m[I 2023-02-08 23:46:16,617]\u001b[0m Trial 66 finished with value: 0.8794117647058823 and parameters: {'n_estimators': 9, 'max_depth': 18.25592734040519}. Best is trial 60 with value: 0.903921568627451.\u001b[0m\n",
            "\u001b[32m[I 2023-02-08 23:46:16,695]\u001b[0m Trial 67 finished with value: 0.8931372549019608 and parameters: {'n_estimators': 15, 'max_depth': 16.312121735479813}. Best is trial 60 with value: 0.903921568627451.\u001b[0m\n",
            "\u001b[32m[I 2023-02-08 23:46:16,791]\u001b[0m Trial 68 finished with value: 0.888235294117647 and parameters: {'n_estimators': 17, 'max_depth': 23.71806048316705}. Best is trial 60 with value: 0.903921568627451.\u001b[0m\n",
            "\u001b[32m[I 2023-02-08 23:46:16,861]\u001b[0m Trial 69 finished with value: 0.884313725490196 and parameters: {'n_estimators': 13, 'max_depth': 20.766242085928546}. Best is trial 60 with value: 0.903921568627451.\u001b[0m\n",
            "\u001b[32m[I 2023-02-08 23:46:16,937]\u001b[0m Trial 70 finished with value: 0.8950980392156863 and parameters: {'n_estimators': 14, 'max_depth': 23.791458346915835}. Best is trial 60 with value: 0.903921568627451.\u001b[0m\n",
            "\u001b[32m[I 2023-02-08 23:46:17,024]\u001b[0m Trial 71 finished with value: 0.9009803921568628 and parameters: {'n_estimators': 16, 'max_depth': 27.84884607268638}. Best is trial 60 with value: 0.903921568627451.\u001b[0m\n",
            "\u001b[32m[I 2023-02-08 23:46:17,114]\u001b[0m Trial 72 finished with value: 0.8960784313725491 and parameters: {'n_estimators': 16, 'max_depth': 26.6322132910847}. Best is trial 60 with value: 0.903921568627451.\u001b[0m\n",
            "\u001b[32m[I 2023-02-08 23:46:17,201]\u001b[0m Trial 73 finished with value: 0.8960784313725491 and parameters: {'n_estimators': 17, 'max_depth': 28.140791960344185}. Best is trial 60 with value: 0.903921568627451.\u001b[0m\n",
            "\u001b[32m[I 2023-02-08 23:46:17,297]\u001b[0m Trial 74 finished with value: 0.9019607843137255 and parameters: {'n_estimators': 18, 'max_depth': 31.58524709704034}. Best is trial 60 with value: 0.903921568627451.\u001b[0m\n",
            "\u001b[32m[I 2023-02-08 23:46:17,392]\u001b[0m Trial 75 finished with value: 0.9 and parameters: {'n_estimators': 18, 'max_depth': 31.124267374746452}. Best is trial 60 with value: 0.903921568627451.\u001b[0m\n",
            "\u001b[32m[I 2023-02-08 23:46:17,423]\u001b[0m Trial 76 finished with value: 0.8715686274509804 and parameters: {'n_estimators': 3, 'max_depth': 23.346160463400988}. Best is trial 60 with value: 0.903921568627451.\u001b[0m\n",
            "\u001b[32m[I 2023-02-08 23:46:17,518]\u001b[0m Trial 77 finished with value: 0.8921568627450981 and parameters: {'n_estimators': 19, 'max_depth': 20.65206834815438}. Best is trial 60 with value: 0.903921568627451.\u001b[0m\n",
            "\u001b[32m[I 2023-02-08 23:46:17,614]\u001b[0m Trial 78 finished with value: 0.8950980392156863 and parameters: {'n_estimators': 18, 'max_depth': 25.429021522473843}. Best is trial 60 with value: 0.903921568627451.\u001b[0m\n",
            "\u001b[32m[I 2023-02-08 23:46:17,708]\u001b[0m Trial 79 finished with value: 0.8990196078431373 and parameters: {'n_estimators': 16, 'max_depth': 29.54336681448691}. Best is trial 60 with value: 0.903921568627451.\u001b[0m\n",
            "\u001b[32m[I 2023-02-08 23:46:17,777]\u001b[0m Trial 80 finished with value: 0.8901960784313725 and parameters: {'n_estimators': 11, 'max_depth': 17.09807458920671}. Best is trial 60 with value: 0.903921568627451.\u001b[0m\n",
            "\u001b[32m[I 2023-02-08 23:46:17,871]\u001b[0m Trial 81 finished with value: 0.8892156862745098 and parameters: {'n_estimators': 18, 'max_depth': 31.37451062629131}. Best is trial 60 with value: 0.903921568627451.\u001b[0m\n",
            "\u001b[32m[I 2023-02-08 23:46:17,961]\u001b[0m Trial 82 finished with value: 0.8950980392156863 and parameters: {'n_estimators': 17, 'max_depth': 31.97745160135501}. Best is trial 60 with value: 0.903921568627451.\u001b[0m\n",
            "\u001b[32m[I 2023-02-08 23:46:18,056]\u001b[0m Trial 83 finished with value: 0.8931372549019608 and parameters: {'n_estimators': 19, 'max_depth': 27.58917950406459}. Best is trial 60 with value: 0.903921568627451.\u001b[0m\n",
            "\u001b[32m[I 2023-02-08 23:46:18,146]\u001b[0m Trial 84 finished with value: 0.9029411764705882 and parameters: {'n_estimators': 18, 'max_depth': 25.107891896013474}. Best is trial 60 with value: 0.903921568627451.\u001b[0m\n",
            "\u001b[32m[I 2023-02-08 23:46:18,230]\u001b[0m Trial 85 finished with value: 0.8931372549019608 and parameters: {'n_estimators': 15, 'max_depth': 24.13604876846052}. Best is trial 60 with value: 0.903921568627451.\u001b[0m\n",
            "\u001b[32m[I 2023-02-08 23:46:18,311]\u001b[0m Trial 86 finished with value: 0.903921568627451 and parameters: {'n_estimators': 16, 'max_depth': 21.909515540816727}. Best is trial 60 with value: 0.903921568627451.\u001b[0m\n",
            "\u001b[32m[I 2023-02-08 23:46:18,398]\u001b[0m Trial 87 finished with value: 0.8901960784313725 and parameters: {'n_estimators': 17, 'max_depth': 19.117352756318656}. Best is trial 60 with value: 0.903921568627451.\u001b[0m\n",
            "\u001b[32m[I 2023-02-08 23:46:18,492]\u001b[0m Trial 88 finished with value: 0.8911764705882353 and parameters: {'n_estimators': 18, 'max_depth': 22.516841751157074}. Best is trial 60 with value: 0.903921568627451.\u001b[0m\n",
            "\u001b[32m[I 2023-02-08 23:46:18,580]\u001b[0m Trial 89 finished with value: 0.8823529411764706 and parameters: {'n_estimators': 19, 'max_depth': 14.970551981585217}. Best is trial 60 with value: 0.903921568627451.\u001b[0m\n",
            "\u001b[32m[I 2023-02-08 23:46:18,664]\u001b[0m Trial 90 finished with value: 0.8892156862745098 and parameters: {'n_estimators': 17, 'max_depth': 17.755588845649992}. Best is trial 60 with value: 0.903921568627451.\u001b[0m\n",
            "\u001b[32m[I 2023-02-08 23:46:18,749]\u001b[0m Trial 91 finished with value: 0.8872549019607843 and parameters: {'n_estimators': 16, 'max_depth': 26.307836542337117}. Best is trial 60 with value: 0.903921568627451.\u001b[0m\n",
            "\u001b[32m[I 2023-02-08 23:46:18,842]\u001b[0m Trial 92 finished with value: 0.8901960784313725 and parameters: {'n_estimators': 15, 'max_depth': 21.13354114862739}. Best is trial 60 with value: 0.903921568627451.\u001b[0m\n",
            "\u001b[32m[I 2023-02-08 23:46:18,925]\u001b[0m Trial 93 finished with value: 0.9 and parameters: {'n_estimators': 16, 'max_depth': 25.158929162219323}. Best is trial 60 with value: 0.903921568627451.\u001b[0m\n",
            "\u001b[32m[I 2023-02-08 23:46:19,009]\u001b[0m Trial 94 finished with value: 0.9 and parameters: {'n_estimators': 16, 'max_depth': 29.25437589560499}. Best is trial 60 with value: 0.903921568627451.\u001b[0m\n",
            "\u001b[32m[I 2023-02-08 23:46:19,105]\u001b[0m Trial 95 finished with value: 0.9009803921568628 and parameters: {'n_estimators': 18, 'max_depth': 22.541167758469502}. Best is trial 60 with value: 0.903921568627451.\u001b[0m\n",
            "\u001b[32m[I 2023-02-08 23:46:19,195]\u001b[0m Trial 96 finished with value: 0.8980392156862745 and parameters: {'n_estimators': 18, 'max_depth': 19.61343957730889}. Best is trial 60 with value: 0.903921568627451.\u001b[0m\n",
            "\u001b[32m[I 2023-02-08 23:46:19,282]\u001b[0m Trial 97 finished with value: 0.8901960784313725 and parameters: {'n_estimators': 17, 'max_depth': 22.1025261167318}. Best is trial 60 with value: 0.903921568627451.\u001b[0m\n",
            "\u001b[32m[I 2023-02-08 23:46:19,388]\u001b[0m Trial 98 finished with value: 0.8931372549019608 and parameters: {'n_estimators': 19, 'max_depth': 27.025396156190833}. Best is trial 60 with value: 0.903921568627451.\u001b[0m\n",
            "\u001b[32m[I 2023-02-08 23:46:19,481]\u001b[0m Trial 99 finished with value: 0.8892156862745098 and parameters: {'n_estimators': 19, 'max_depth': 18.254953817146923}. Best is trial 60 with value: 0.903921568627451.\u001b[0m\n",
            "\u001b[32m[I 2023-02-08 23:46:19,572]\u001b[0m Trial 100 finished with value: 0.8950980392156863 and parameters: {'n_estimators': 18, 'max_depth': 24.335216888820216}. Best is trial 60 with value: 0.903921568627451.\u001b[0m\n",
            "\u001b[32m[I 2023-02-08 23:46:19,661]\u001b[0m Trial 101 finished with value: 0.8960784313725491 and parameters: {'n_estimators': 17, 'max_depth': 29.03710598573969}. Best is trial 60 with value: 0.903921568627451.\u001b[0m\n",
            "\u001b[32m[I 2023-02-08 23:46:19,743]\u001b[0m Trial 102 finished with value: 0.8980392156862745 and parameters: {'n_estimators': 15, 'max_depth': 26.37064134075818}. Best is trial 60 with value: 0.903921568627451.\u001b[0m\n",
            "\u001b[32m[I 2023-02-08 23:46:19,839]\u001b[0m Trial 103 finished with value: 0.9029411764705882 and parameters: {'n_estimators': 17, 'max_depth': 22.57303762387073}. Best is trial 60 with value: 0.903921568627451.\u001b[0m\n",
            "\u001b[32m[I 2023-02-08 23:46:19,925]\u001b[0m Trial 104 finished with value: 0.8990196078431373 and parameters: {'n_estimators': 17, 'max_depth': 21.827161552169997}. Best is trial 60 with value: 0.903921568627451.\u001b[0m\n",
            "\u001b[32m[I 2023-02-08 23:46:20,032]\u001b[0m Trial 105 finished with value: 0.8970588235294118 and parameters: {'n_estimators': 18, 'max_depth': 20.07754350243896}. Best is trial 60 with value: 0.903921568627451.\u001b[0m\n",
            "\u001b[32m[I 2023-02-08 23:46:20,172]\u001b[0m Trial 106 finished with value: 0.8950980392156863 and parameters: {'n_estimators': 18, 'max_depth': 23.303715336705924}. Best is trial 60 with value: 0.903921568627451.\u001b[0m\n",
            "\u001b[32m[I 2023-02-08 23:46:20,313]\u001b[0m Trial 107 finished with value: 0.8901960784313725 and parameters: {'n_estimators': 19, 'max_depth': 15.486689625317432}. Best is trial 60 with value: 0.903921568627451.\u001b[0m\n",
            "\u001b[32m[I 2023-02-08 23:46:20,444]\u001b[0m Trial 108 finished with value: 0.8921568627450981 and parameters: {'n_estimators': 16, 'max_depth': 17.011107611229686}. Best is trial 60 with value: 0.903921568627451.\u001b[0m\n",
            "\u001b[32m[I 2023-02-08 23:46:20,566]\u001b[0m Trial 109 finished with value: 0.8921568627450981 and parameters: {'n_estimators': 15, 'max_depth': 24.915470000149245}. Best is trial 60 with value: 0.903921568627451.\u001b[0m\n",
            "\u001b[32m[I 2023-02-08 23:46:20,688]\u001b[0m Trial 110 finished with value: 0.8970588235294118 and parameters: {'n_estimators': 14, 'max_depth': 21.755462156368072}. Best is trial 60 with value: 0.903921568627451.\u001b[0m\n",
            "\u001b[32m[I 2023-02-08 23:46:20,828]\u001b[0m Trial 111 finished with value: 0.8921568627450981 and parameters: {'n_estimators': 17, 'max_depth': 26.58393119552259}. Best is trial 60 with value: 0.903921568627451.\u001b[0m\n",
            "\u001b[32m[I 2023-02-08 23:46:20,957]\u001b[0m Trial 112 finished with value: 0.8960784313725491 and parameters: {'n_estimators': 16, 'max_depth': 29.682737148958903}. Best is trial 60 with value: 0.903921568627451.\u001b[0m\n",
            "\u001b[32m[I 2023-02-08 23:46:21,101]\u001b[0m Trial 113 finished with value: 0.8980392156862745 and parameters: {'n_estimators': 18, 'max_depth': 28.08477191143195}. Best is trial 60 with value: 0.903921568627451.\u001b[0m\n",
            "\u001b[32m[I 2023-02-08 23:46:21,256]\u001b[0m Trial 114 finished with value: 0.9058823529411765 and parameters: {'n_estimators': 17, 'max_depth': 23.131913317667788}. Best is trial 114 with value: 0.9058823529411765.\u001b[0m\n",
            "\u001b[32m[I 2023-02-08 23:46:21,394]\u001b[0m Trial 115 finished with value: 0.8970588235294118 and parameters: {'n_estimators': 17, 'max_depth': 19.36911269487259}. Best is trial 114 with value: 0.9058823529411765.\u001b[0m\n",
            "\u001b[32m[I 2023-02-08 23:46:21,541]\u001b[0m Trial 116 finished with value: 0.8950980392156863 and parameters: {'n_estimators': 18, 'max_depth': 23.110282385173697}. Best is trial 114 with value: 0.9058823529411765.\u001b[0m\n",
            "\u001b[32m[I 2023-02-08 23:46:21,698]\u001b[0m Trial 117 finished with value: 0.8901960784313725 and parameters: {'n_estimators': 20, 'max_depth': 18.270185673511094}. Best is trial 114 with value: 0.9058823529411765.\u001b[0m\n",
            "\u001b[32m[I 2023-02-08 23:46:21,807]\u001b[0m Trial 118 finished with value: 0.8911764705882353 and parameters: {'n_estimators': 12, 'max_depth': 20.796982990281577}. Best is trial 114 with value: 0.9058823529411765.\u001b[0m\n",
            "\u001b[32m[I 2023-02-08 23:46:21,949]\u001b[0m Trial 119 finished with value: 0.8813725490196078 and parameters: {'n_estimators': 17, 'max_depth': 13.562034160914365}. Best is trial 114 with value: 0.9058823529411765.\u001b[0m\n",
            "\u001b[32m[I 2023-02-08 23:46:22,086]\u001b[0m Trial 120 finished with value: 0.8941176470588236 and parameters: {'n_estimators': 16, 'max_depth': 24.51494192718231}. Best is trial 114 with value: 0.9058823529411765.\u001b[0m\n",
            "\u001b[32m[I 2023-02-08 23:46:22,225]\u001b[0m Trial 121 finished with value: 0.8960784313725491 and parameters: {'n_estimators': 16, 'max_depth': 29.90439952766375}. Best is trial 114 with value: 0.9058823529411765.\u001b[0m\n",
            "\u001b[32m[I 2023-02-08 23:46:22,364]\u001b[0m Trial 122 finished with value: 0.9 and parameters: {'n_estimators': 17, 'max_depth': 26.34348398947219}. Best is trial 114 with value: 0.9058823529411765.\u001b[0m\n",
            "\u001b[32m[I 2023-02-08 23:46:22,495]\u001b[0m Trial 123 finished with value: 0.8980392156862745 and parameters: {'n_estimators': 15, 'max_depth': 31.891969160467262}. Best is trial 114 with value: 0.9058823529411765.\u001b[0m\n",
            "\u001b[32m[I 2023-02-08 23:46:22,640]\u001b[0m Trial 124 finished with value: 0.8970588235294118 and parameters: {'n_estimators': 18, 'max_depth': 22.595962160507675}. Best is trial 114 with value: 0.9058823529411765.\u001b[0m\n",
            "\u001b[32m[I 2023-02-08 23:46:22,773]\u001b[0m Trial 125 finished with value: 0.8990196078431373 and parameters: {'n_estimators': 16, 'max_depth': 23.891859126975405}. Best is trial 114 with value: 0.9058823529411765.\u001b[0m\n",
            "\u001b[32m[I 2023-02-08 23:46:22,924]\u001b[0m Trial 126 finished with value: 0.8960784313725491 and parameters: {'n_estimators': 19, 'max_depth': 27.808039457262787}. Best is trial 114 with value: 0.9058823529411765.\u001b[0m\n",
            "\u001b[32m[I 2023-02-08 23:46:23,046]\u001b[0m Trial 127 finished with value: 0.8960784313725491 and parameters: {'n_estimators': 17, 'max_depth': 29.6877463122785}. Best is trial 114 with value: 0.9058823529411765.\u001b[0m\n",
            "\u001b[32m[I 2023-02-08 23:46:23,123]\u001b[0m Trial 128 finished with value: 0.8970588235294118 and parameters: {'n_estimators': 14, 'max_depth': 20.539712716132144}. Best is trial 114 with value: 0.9058823529411765.\u001b[0m\n",
            "\u001b[32m[I 2023-02-08 23:46:23,201]\u001b[0m Trial 129 finished with value: 0.8931372549019608 and parameters: {'n_estimators': 15, 'max_depth': 25.21968607235053}. Best is trial 114 with value: 0.9058823529411765.\u001b[0m\n",
            "\u001b[32m[I 2023-02-08 23:46:23,288]\u001b[0m Trial 130 finished with value: 0.9019607843137255 and parameters: {'n_estimators': 16, 'max_depth': 21.950515634997405}. Best is trial 114 with value: 0.9058823529411765.\u001b[0m\n",
            "\u001b[32m[I 2023-02-08 23:46:23,376]\u001b[0m Trial 131 finished with value: 0.8980392156862745 and parameters: {'n_estimators': 16, 'max_depth': 21.31199854459686}. Best is trial 114 with value: 0.9058823529411765.\u001b[0m\n",
            "\u001b[32m[I 2023-02-08 23:46:23,468]\u001b[0m Trial 132 finished with value: 0.888235294117647 and parameters: {'n_estimators': 17, 'max_depth': 22.94060234991874}. Best is trial 114 with value: 0.9058823529411765.\u001b[0m\n",
            "\u001b[32m[I 2023-02-08 23:46:23,551]\u001b[0m Trial 133 finished with value: 0.8950980392156863 and parameters: {'n_estimators': 16, 'max_depth': 18.998306816828805}. Best is trial 114 with value: 0.9058823529411765.\u001b[0m\n",
            "\u001b[32m[I 2023-02-08 23:46:23,641]\u001b[0m Trial 134 finished with value: 0.8960784313725491 and parameters: {'n_estimators': 18, 'max_depth': 16.03121011755138}. Best is trial 114 with value: 0.9058823529411765.\u001b[0m\n",
            "\u001b[32m[I 2023-02-08 23:46:23,711]\u001b[0m Trial 135 finished with value: 0.8941176470588236 and parameters: {'n_estimators': 10, 'max_depth': 26.85564345083665}. Best is trial 114 with value: 0.9058823529411765.\u001b[0m\n",
            "\u001b[32m[I 2023-02-08 23:46:23,804]\u001b[0m Trial 136 finished with value: 0.9 and parameters: {'n_estimators': 17, 'max_depth': 25.040415248770355}. Best is trial 114 with value: 0.9058823529411765.\u001b[0m\n",
            "\u001b[32m[I 2023-02-08 23:46:23,888]\u001b[0m Trial 137 finished with value: 0.8784313725490196 and parameters: {'n_estimators': 16, 'max_depth': 17.40710170880357}. Best is trial 114 with value: 0.9058823529411765.\u001b[0m\n",
            "\u001b[32m[I 2023-02-08 23:46:23,963]\u001b[0m Trial 138 finished with value: 0.8941176470588236 and parameters: {'n_estimators': 13, 'max_depth': 30.02398058812821}. Best is trial 114 with value: 0.9058823529411765.\u001b[0m\n",
            "\u001b[32m[I 2023-02-08 23:46:24,055]\u001b[0m Trial 139 finished with value: 0.8921568627450981 and parameters: {'n_estimators': 15, 'max_depth': 27.715045944558767}. Best is trial 114 with value: 0.9058823529411765.\u001b[0m\n",
            "\u001b[32m[I 2023-02-08 23:46:24,147]\u001b[0m Trial 140 finished with value: 0.8941176470588236 and parameters: {'n_estimators': 18, 'max_depth': 19.740339066801912}. Best is trial 114 with value: 0.9058823529411765.\u001b[0m\n",
            "\u001b[32m[I 2023-02-08 23:46:24,249]\u001b[0m Trial 141 finished with value: 0.8941176470588236 and parameters: {'n_estimators': 18, 'max_depth': 29.93705179755151}. Best is trial 114 with value: 0.9058823529411765.\u001b[0m\n",
            "\u001b[32m[I 2023-02-08 23:46:24,350]\u001b[0m Trial 142 finished with value: 0.8960784313725491 and parameters: {'n_estimators': 19, 'max_depth': 31.230919983583657}. Best is trial 114 with value: 0.9058823529411765.\u001b[0m\n",
            "\u001b[32m[I 2023-02-08 23:46:24,448]\u001b[0m Trial 143 finished with value: 0.8911764705882353 and parameters: {'n_estimators': 17, 'max_depth': 22.33898324313176}. Best is trial 114 with value: 0.9058823529411765.\u001b[0m\n",
            "\u001b[32m[I 2023-02-08 23:46:24,543]\u001b[0m Trial 144 finished with value: 0.9029411764705882 and parameters: {'n_estimators': 18, 'max_depth': 25.390991139405493}. Best is trial 114 with value: 0.9058823529411765.\u001b[0m\n",
            "\u001b[32m[I 2023-02-08 23:46:24,633]\u001b[0m Trial 145 finished with value: 0.9 and parameters: {'n_estimators': 17, 'max_depth': 23.844658504912207}. Best is trial 114 with value: 0.9058823529411765.\u001b[0m\n",
            "\u001b[32m[I 2023-02-08 23:46:24,735]\u001b[0m Trial 146 finished with value: 0.8941176470588236 and parameters: {'n_estimators': 19, 'max_depth': 25.701651624626162}. Best is trial 114 with value: 0.9058823529411765.\u001b[0m\n",
            "\u001b[32m[I 2023-02-08 23:46:24,822]\u001b[0m Trial 147 finished with value: 0.888235294117647 and parameters: {'n_estimators': 16, 'max_depth': 21.32133232234202}. Best is trial 114 with value: 0.9058823529411765.\u001b[0m\n",
            "\u001b[32m[I 2023-02-08 23:46:24,922]\u001b[0m Trial 148 finished with value: 0.9 and parameters: {'n_estimators': 18, 'max_depth': 27.48006798338504}. Best is trial 114 with value: 0.9058823529411765.\u001b[0m\n",
            "\u001b[32m[I 2023-02-08 23:46:25,025]\u001b[0m Trial 149 finished with value: 0.9009803921568628 and parameters: {'n_estimators': 17, 'max_depth': 24.234953089496557}. Best is trial 114 with value: 0.9058823529411765.\u001b[0m\n",
            "\u001b[32m[I 2023-02-08 23:46:25,076]\u001b[0m Trial 150 finished with value: 0.8901960784313725 and parameters: {'n_estimators': 7, 'max_depth': 18.685941392913627}. Best is trial 114 with value: 0.9058823529411765.\u001b[0m\n",
            "\u001b[32m[I 2023-02-08 23:46:25,164]\u001b[0m Trial 151 finished with value: 0.8950980392156863 and parameters: {'n_estimators': 17, 'max_depth': 23.51291206983135}. Best is trial 114 with value: 0.9058823529411765.\u001b[0m\n",
            "\u001b[32m[I 2023-02-08 23:46:25,258]\u001b[0m Trial 152 finished with value: 0.9009803921568628 and parameters: {'n_estimators': 18, 'max_depth': 25.59079470228909}. Best is trial 114 with value: 0.9058823529411765.\u001b[0m\n",
            "\u001b[32m[I 2023-02-08 23:46:25,352]\u001b[0m Trial 153 finished with value: 0.8970588235294118 and parameters: {'n_estimators': 18, 'max_depth': 20.94277144273129}. Best is trial 114 with value: 0.9058823529411765.\u001b[0m\n",
            "\u001b[32m[I 2023-02-08 23:46:25,463]\u001b[0m Trial 154 finished with value: 0.9049019607843137 and parameters: {'n_estimators': 18, 'max_depth': 24.295290318552542}. Best is trial 114 with value: 0.9058823529411765.\u001b[0m\n",
            "\u001b[32m[I 2023-02-08 23:46:25,555]\u001b[0m Trial 155 finished with value: 0.8990196078431373 and parameters: {'n_estimators': 18, 'max_depth': 25.68815222601707}. Best is trial 114 with value: 0.9058823529411765.\u001b[0m\n",
            "\u001b[32m[I 2023-02-08 23:46:25,644]\u001b[0m Trial 156 finished with value: 0.8852941176470588 and parameters: {'n_estimators': 17, 'max_depth': 22.421366902662594}. Best is trial 114 with value: 0.9058823529411765.\u001b[0m\n",
            "\u001b[32m[I 2023-02-08 23:46:25,741]\u001b[0m Trial 157 finished with value: 0.8960784313725491 and parameters: {'n_estimators': 18, 'max_depth': 24.864850295981224}. Best is trial 114 with value: 0.9058823529411765.\u001b[0m\n",
            "\u001b[32m[I 2023-02-08 23:46:25,831]\u001b[0m Trial 158 finished with value: 0.9 and parameters: {'n_estimators': 17, 'max_depth': 27.29692817991338}. Best is trial 114 with value: 0.9058823529411765.\u001b[0m\n",
            "\u001b[32m[I 2023-02-08 23:46:25,926]\u001b[0m Trial 159 finished with value: 0.8911764705882353 and parameters: {'n_estimators': 17, 'max_depth': 20.099400925143808}. Best is trial 114 with value: 0.9058823529411765.\u001b[0m\n",
            "\u001b[32m[I 2023-02-08 23:46:26,025]\u001b[0m Trial 160 finished with value: 0.8950980392156863 and parameters: {'n_estimators': 18, 'max_depth': 23.33507890879852}. Best is trial 114 with value: 0.9058823529411765.\u001b[0m\n",
            "\u001b[32m[I 2023-02-08 23:46:26,130]\u001b[0m Trial 161 finished with value: 0.8862745098039215 and parameters: {'n_estimators': 19, 'max_depth': 22.075156318693143}. Best is trial 114 with value: 0.9058823529411765.\u001b[0m\n",
            "\u001b[32m[I 2023-02-08 23:46:26,224]\u001b[0m Trial 162 finished with value: 0.8901960784313725 and parameters: {'n_estimators': 19, 'max_depth': 24.7153420914521}. Best is trial 114 with value: 0.9058823529411765.\u001b[0m\n",
            "\u001b[32m[I 2023-02-08 23:46:26,319]\u001b[0m Trial 163 finished with value: 0.8901960784313725 and parameters: {'n_estimators': 18, 'max_depth': 20.153178691311528}. Best is trial 114 with value: 0.9058823529411765.\u001b[0m\n",
            "\u001b[32m[I 2023-02-08 23:46:26,417]\u001b[0m Trial 164 finished with value: 0.8901960784313725 and parameters: {'n_estimators': 19, 'max_depth': 28.54863561280622}. Best is trial 114 with value: 0.9058823529411765.\u001b[0m\n",
            "\u001b[32m[I 2023-02-08 23:46:26,516]\u001b[0m Trial 165 finished with value: 0.9029411764705882 and parameters: {'n_estimators': 20, 'max_depth': 26.13454071596747}. Best is trial 114 with value: 0.9058823529411765.\u001b[0m\n",
            "\u001b[32m[I 2023-02-08 23:46:26,586]\u001b[0m Trial 166 finished with value: 0.6764705882352942 and parameters: {'n_estimators': 20, 'max_depth': 5.290717300687571}. Best is trial 114 with value: 0.9058823529411765.\u001b[0m\n",
            "\u001b[32m[I 2023-02-08 23:46:26,696]\u001b[0m Trial 167 finished with value: 0.9 and parameters: {'n_estimators': 20, 'max_depth': 25.851876898358558}. Best is trial 114 with value: 0.9058823529411765.\u001b[0m\n",
            "\u001b[32m[I 2023-02-08 23:46:26,784]\u001b[0m Trial 168 finished with value: 0.9009803921568628 and parameters: {'n_estimators': 16, 'max_depth': 23.841656480506135}. Best is trial 114 with value: 0.9058823529411765.\u001b[0m\n",
            "\u001b[32m[I 2023-02-08 23:46:26,875]\u001b[0m Trial 169 finished with value: 0.8921568627450981 and parameters: {'n_estimators': 17, 'max_depth': 28.382570022346627}. Best is trial 114 with value: 0.9058823529411765.\u001b[0m\n",
            "\u001b[32m[I 2023-02-08 23:46:26,963]\u001b[0m Trial 170 finished with value: 0.8921568627450981 and parameters: {'n_estimators': 16, 'max_depth': 26.64917379299841}. Best is trial 114 with value: 0.9058823529411765.\u001b[0m\n",
            "\u001b[32m[I 2023-02-08 23:46:27,048]\u001b[0m Trial 171 finished with value: 0.8931372549019608 and parameters: {'n_estimators': 15, 'max_depth': 24.008418141316803}. Best is trial 114 with value: 0.9058823529411765.\u001b[0m\n",
            "\u001b[32m[I 2023-02-08 23:46:27,142]\u001b[0m Trial 172 finished with value: 0.8921568627450981 and parameters: {'n_estimators': 16, 'max_depth': 22.298950466248655}. Best is trial 114 with value: 0.9058823529411765.\u001b[0m\n",
            "\u001b[32m[I 2023-02-08 23:46:27,227]\u001b[0m Trial 173 finished with value: 0.9009803921568628 and parameters: {'n_estimators': 16, 'max_depth': 23.703994037479475}. Best is trial 114 with value: 0.9058823529411765.\u001b[0m\n",
            "\u001b[32m[I 2023-02-08 23:46:27,325]\u001b[0m Trial 174 finished with value: 0.8901960784313725 and parameters: {'n_estimators': 17, 'max_depth': 25.699188825864447}. Best is trial 114 with value: 0.9058823529411765.\u001b[0m\n",
            "\u001b[32m[I 2023-02-08 23:46:27,407]\u001b[0m Trial 175 finished with value: 0.884313725490196 and parameters: {'n_estimators': 15, 'max_depth': 21.890972280465512}. Best is trial 114 with value: 0.9058823529411765.\u001b[0m\n",
            "\u001b[32m[I 2023-02-08 23:46:27,475]\u001b[0m Trial 176 finished with value: 0.8921568627450981 and parameters: {'n_estimators': 11, 'max_depth': 24.4825998319179}. Best is trial 114 with value: 0.9058823529411765.\u001b[0m\n",
            "\u001b[32m[I 2023-02-08 23:46:27,564]\u001b[0m Trial 177 finished with value: 0.8990196078431373 and parameters: {'n_estimators': 16, 'max_depth': 28.041525127566352}. Best is trial 114 with value: 0.9058823529411765.\u001b[0m\n",
            "\u001b[32m[I 2023-02-08 23:46:27,655]\u001b[0m Trial 178 finished with value: 0.8921568627450981 and parameters: {'n_estimators': 17, 'max_depth': 29.939376290722144}. Best is trial 114 with value: 0.9058823529411765.\u001b[0m\n",
            "\u001b[32m[I 2023-02-08 23:46:27,753]\u001b[0m Trial 179 finished with value: 0.8980392156862745 and parameters: {'n_estimators': 18, 'max_depth': 20.651143308794307}. Best is trial 114 with value: 0.9058823529411765.\u001b[0m\n",
            "\u001b[32m[I 2023-02-08 23:46:27,847]\u001b[0m Trial 180 finished with value: 0.8980392156862745 and parameters: {'n_estimators': 18, 'max_depth': 18.99803868120465}. Best is trial 114 with value: 0.9058823529411765.\u001b[0m\n",
            "\u001b[32m[I 2023-02-08 23:46:27,947]\u001b[0m Trial 181 finished with value: 0.8921568627450981 and parameters: {'n_estimators': 16, 'max_depth': 23.6119138352202}. Best is trial 114 with value: 0.9058823529411765.\u001b[0m\n",
            "\u001b[32m[I 2023-02-08 23:46:28,039]\u001b[0m Trial 182 finished with value: 0.8950980392156863 and parameters: {'n_estimators': 16, 'max_depth': 22.96522008243412}. Best is trial 114 with value: 0.9058823529411765.\u001b[0m\n",
            "\u001b[32m[I 2023-02-08 23:46:28,141]\u001b[0m Trial 183 finished with value: 0.8970588235294118 and parameters: {'n_estimators': 17, 'max_depth': 26.5362156405384}. Best is trial 114 with value: 0.9058823529411765.\u001b[0m\n",
            "\u001b[32m[I 2023-02-08 23:46:28,232]\u001b[0m Trial 184 finished with value: 0.8941176470588236 and parameters: {'n_estimators': 15, 'max_depth': 24.32290772688612}. Best is trial 114 with value: 0.9058823529411765.\u001b[0m\n",
            "\u001b[32m[I 2023-02-08 23:46:28,321]\u001b[0m Trial 185 finished with value: 0.8950980392156863 and parameters: {'n_estimators': 16, 'max_depth': 21.436755940928965}. Best is trial 114 with value: 0.9058823529411765.\u001b[0m\n",
            "\u001b[32m[I 2023-02-08 23:46:28,413]\u001b[0m Trial 186 finished with value: 0.8911764705882353 and parameters: {'n_estimators': 17, 'max_depth': 25.966991301257977}. Best is trial 114 with value: 0.9058823529411765.\u001b[0m\n",
            "\u001b[32m[I 2023-02-08 23:46:28,493]\u001b[0m Trial 187 finished with value: 0.9 and parameters: {'n_estimators': 13, 'max_depth': 28.95158796052457}. Best is trial 114 with value: 0.9058823529411765.\u001b[0m\n",
            "\u001b[32m[I 2023-02-08 23:46:28,576]\u001b[0m Trial 188 finished with value: 0.8862745098039215 and parameters: {'n_estimators': 14, 'max_depth': 22.882314729717177}. Best is trial 114 with value: 0.9058823529411765.\u001b[0m\n",
            "\u001b[32m[I 2023-02-08 23:46:28,665]\u001b[0m Trial 189 finished with value: 0.8941176470588236 and parameters: {'n_estimators': 16, 'max_depth': 19.941377444652517}. Best is trial 114 with value: 0.9058823529411765.\u001b[0m\n",
            "\u001b[32m[I 2023-02-08 23:46:28,757]\u001b[0m Trial 190 finished with value: 0.8990196078431373 and parameters: {'n_estimators': 17, 'max_depth': 24.61336442438984}. Best is trial 114 with value: 0.9058823529411765.\u001b[0m\n",
            "\u001b[32m[I 2023-02-08 23:46:28,859]\u001b[0m Trial 191 finished with value: 0.9 and parameters: {'n_estimators': 20, 'max_depth': 21.39676286514869}. Best is trial 114 with value: 0.9058823529411765.\u001b[0m\n",
            "\u001b[32m[I 2023-02-08 23:46:28,960]\u001b[0m Trial 192 finished with value: 0.8980392156862745 and parameters: {'n_estimators': 19, 'max_depth': 22.932182780882286}. Best is trial 114 with value: 0.9058823529411765.\u001b[0m\n",
            "\u001b[32m[I 2023-02-08 23:46:29,054]\u001b[0m Trial 193 finished with value: 0.8941176470588236 and parameters: {'n_estimators': 18, 'max_depth': 17.68185046833191}. Best is trial 114 with value: 0.9058823529411765.\u001b[0m\n",
            "\u001b[32m[I 2023-02-08 23:46:29,161]\u001b[0m Trial 194 finished with value: 0.9 and parameters: {'n_estimators': 19, 'max_depth': 27.03572882731779}. Best is trial 114 with value: 0.9058823529411765.\u001b[0m\n",
            "\u001b[32m[I 2023-02-08 23:46:29,254]\u001b[0m Trial 195 finished with value: 0.8970588235294118 and parameters: {'n_estimators': 18, 'max_depth': 19.45395115695222}. Best is trial 114 with value: 0.9058823529411765.\u001b[0m\n",
            "\u001b[32m[I 2023-02-08 23:46:29,289]\u001b[0m Trial 196 finished with value: 0.8450980392156863 and parameters: {'n_estimators': 3, 'max_depth': 16.752769066357796}. Best is trial 114 with value: 0.9058823529411765.\u001b[0m\n",
            "\u001b[32m[I 2023-02-08 23:46:29,394]\u001b[0m Trial 197 finished with value: 0.8911764705882353 and parameters: {'n_estimators': 20, 'max_depth': 31.55607545150635}. Best is trial 114 with value: 0.9058823529411765.\u001b[0m\n",
            "\u001b[32m[I 2023-02-08 23:46:29,426]\u001b[0m Trial 198 finished with value: 0.8872549019607843 and parameters: {'n_estimators': 2, 'max_depth': 21.12045696418809}. Best is trial 114 with value: 0.9058823529411765.\u001b[0m\n",
            "\u001b[32m[I 2023-02-08 23:46:29,526]\u001b[0m Trial 199 finished with value: 0.8960784313725491 and parameters: {'n_estimators': 19, 'max_depth': 24.998727888605053}. Best is trial 114 with value: 0.9058823529411765.\u001b[0m\n"
          ]
        },
        {
          "output_type": "stream",
          "name": "stdout",
          "text": [
            "Number of finished trials:  200\n",
            "Best trial:\n",
            "  Value: 0.9058823529411765\n",
            "  Params: \n",
            "    n_estimators: 17\n",
            "    max_depth: 23.131913317667788\n"
          ]
        }
      ]
    },
    {
      "cell_type": "code",
      "source": [
        "classifier= RandomForestClassifier(n_estimators= 16,max_depth= 29)  \n",
        "classifier.fit(X_train, y_train)"
      ],
      "metadata": {
        "colab": {
          "base_uri": "https://localhost:8080/"
        },
        "id": "VXwxmDX-bHwE",
        "outputId": "e9635cdc-3750-4a0c-f569-4d6b763d5fb8"
      },
      "execution_count": 89,
      "outputs": [
        {
          "output_type": "execute_result",
          "data": {
            "text/plain": [
              "RandomForestClassifier(max_depth=29, n_estimators=16)"
            ]
          },
          "metadata": {},
          "execution_count": 89
        }
      ]
    },
    {
      "cell_type": "code",
      "source": [
        "#Predicting the test set result  \n",
        "y_pred= classifier.predict(X_test)  "
      ],
      "metadata": {
        "id": "FwyWrBLxbKbw"
      },
      "execution_count": 90,
      "outputs": []
    },
    {
      "cell_type": "code",
      "source": [
        "cm= confusion_matrix(y_test, y_pred)\n",
        "cm"
      ],
      "metadata": {
        "colab": {
          "base_uri": "https://localhost:8080/"
        },
        "id": "rIP6bbvqbNsz",
        "outputId": "9a6467e1-5a85-4ef0-f05d-7525b1a592f4"
      },
      "execution_count": 91,
      "outputs": [
        {
          "output_type": "execute_result",
          "data": {
            "text/plain": [
              "array([[461,  65],\n",
              "       [ 38, 456]])"
            ]
          },
          "metadata": {},
          "execution_count": 91
        }
      ]
    },
    {
      "cell_type": "code",
      "source": [
        "print(classification_report(y_test, y_pred))"
      ],
      "metadata": {
        "colab": {
          "base_uri": "https://localhost:8080/"
        },
        "id": "7Y4zWtT3bQJ9",
        "outputId": "45fa59ca-1389-4c71-a254-fefe6cf76901"
      },
      "execution_count": 92,
      "outputs": [
        {
          "output_type": "stream",
          "name": "stdout",
          "text": [
            "              precision    recall  f1-score   support\n",
            "\n",
            "           0       0.92      0.88      0.90       526\n",
            "           1       0.88      0.92      0.90       494\n",
            "\n",
            "    accuracy                           0.90      1020\n",
            "   macro avg       0.90      0.90      0.90      1020\n",
            "weighted avg       0.90      0.90      0.90      1020\n",
            "\n"
          ]
        }
      ]
    },
    {
      "cell_type": "code",
      "source": [
        "xgb = XGBClassifier()\n",
        "xgb.fit(X_train, y_train)\n",
        "y_pred = xgb.predict(X_test)"
      ],
      "metadata": {
        "id": "pGpCCBAabSK2"
      },
      "execution_count": 93,
      "outputs": []
    },
    {
      "cell_type": "code",
      "source": [
        "#Creating the Confusion matrix  \n",
        "cm= confusion_matrix(y_test, y_pred)\n",
        "cm"
      ],
      "metadata": {
        "colab": {
          "base_uri": "https://localhost:8080/"
        },
        "id": "82Et1tt3bUqb",
        "outputId": "a5e3ad53-edfe-40da-ec41-c7307ec9ba7b"
      },
      "execution_count": 94,
      "outputs": [
        {
          "output_type": "execute_result",
          "data": {
            "text/plain": [
              "array([[401, 125],\n",
              "       [161, 333]])"
            ]
          },
          "metadata": {},
          "execution_count": 94
        }
      ]
    },
    {
      "cell_type": "code",
      "source": [
        "print(classification_report(y_test, y_pred))"
      ],
      "metadata": {
        "colab": {
          "base_uri": "https://localhost:8080/"
        },
        "id": "XkZhN6b6bXLO",
        "outputId": "7684efd9-d129-4487-d6a4-938b26a09ea6"
      },
      "execution_count": 95,
      "outputs": [
        {
          "output_type": "stream",
          "name": "stdout",
          "text": [
            "              precision    recall  f1-score   support\n",
            "\n",
            "           0       0.71      0.76      0.74       526\n",
            "           1       0.73      0.67      0.70       494\n",
            "\n",
            "    accuracy                           0.72      1020\n",
            "   macro avg       0.72      0.72      0.72      1020\n",
            "weighted avg       0.72      0.72      0.72      1020\n",
            "\n"
          ]
        }
      ]
    },
    {
      "cell_type": "code",
      "source": [
        "def XGBclassifier_optuna(trial,X_train=X_train,X_test=X_test,y_train=y_train,y_test=y_test):\n",
        "    \"\"\"Define the objective function\"\"\"\n",
        "\n",
        "    params = {\n",
        "        'max_depth': trial.suggest_int('max_depth', 1, 9),\n",
        "        'learning_rate': trial.suggest_loguniform('learning_rate', 0.01, 1.0),\n",
        "        'n_estimators': trial.suggest_int('n_estimators', 50, 500),\n",
        "        'min_child_weight': trial.suggest_int('min_child_weight', 1, 10),\n",
        "        'gamma': trial.suggest_loguniform('gamma', 1e-8, 1.0),\n",
        "        'subsample': trial.suggest_loguniform('subsample', 0.01, 1.0),\n",
        "        'colsample_bytree': trial.suggest_loguniform('colsample_bytree', 0.01, 1.0),\n",
        "        'reg_alpha': trial.suggest_loguniform('reg_alpha', 1e-8, 1.0),\n",
        "        'reg_lambda': trial.suggest_loguniform('reg_lambda', 1e-8, 1.0),\n",
        "        'eval_metric': 'mlogloss',\n",
        "        'use_label_encoder': False\n",
        "    }\n",
        "\n",
        "    # Fit the model\n",
        "    classifier= XGBClassifier(**params)  \n",
        "    classifier.fit(X_train, y_train, y_train)  \n",
        "    y_pred = classifier.predict(X_test)\n",
        "    acc = accuracy_score(y_test, y_pred)\n",
        "    return acc"
      ],
      "metadata": {
        "id": "RXlOj_cnbbMF"
      },
      "execution_count": 96,
      "outputs": []
    },
    {
      "cell_type": "code",
      "source": [
        "study = optuna.create_study(direction=\"maximize\")\n",
        "# #start serach \n",
        "study.optimize(XGBclassifier_optuna, n_trials=200)\n",
        "\n",
        "print(\"Number of finished trials: \", len(study.trials))\n",
        "print(\"Best trial:\")\n",
        "trial = study.best_trial\n",
        "print(\"  Value: {}\".format(trial.value))\n",
        "print(\"  Params: \")\n",
        "params = []\n",
        "for key, value in trial.params.items():\n",
        "    params.append(value)\n",
        "    print(\"    {}: {}\".format(key, value))"
      ],
      "metadata": {
        "colab": {
          "base_uri": "https://localhost:8080/"
        },
        "id": "YKeU924MbhIY",
        "outputId": "ea80af60-0753-4e95-87e7-dca7342490dd"
      },
      "execution_count": 97,
      "outputs": [
        {
          "output_type": "stream",
          "name": "stderr",
          "text": [
            "\u001b[32m[I 2023-02-08 23:48:20,579]\u001b[0m A new study created in memory with name: no-name-e9e40078-9b8b-4e31-9ece-12c6459038a9\u001b[0m\n",
            "\u001b[32m[I 2023-02-08 23:48:20,877]\u001b[0m Trial 0 finished with value: 0.4843137254901961 and parameters: {'max_depth': 3, 'learning_rate': 0.5445893728332221, 'n_estimators': 132, 'min_child_weight': 6, 'gamma': 0.0010617687956800445, 'subsample': 0.3503439941372331, 'colsample_bytree': 0.3914340479569349, 'reg_alpha': 4.6856488535631315e-05, 'reg_lambda': 0.06971544618484289}. Best is trial 0 with value: 0.4843137254901961.\u001b[0m\n",
            "\u001b[32m[I 2023-02-08 23:48:21,193]\u001b[0m Trial 1 finished with value: 0.4843137254901961 and parameters: {'max_depth': 1, 'learning_rate': 0.09971630020995052, 'n_estimators': 198, 'min_child_weight': 1, 'gamma': 1.6484942140674985e-06, 'subsample': 0.059860655021131894, 'colsample_bytree': 0.02262475834856628, 'reg_alpha': 0.003882006639035228, 'reg_lambda': 0.0002857700419826134}. Best is trial 0 with value: 0.4843137254901961.\u001b[0m\n",
            "\u001b[32m[I 2023-02-08 23:48:21,691]\u001b[0m Trial 2 finished with value: 0.4843137254901961 and parameters: {'max_depth': 6, 'learning_rate': 0.20608188245250061, 'n_estimators': 454, 'min_child_weight': 4, 'gamma': 0.013025509615670058, 'subsample': 0.1652653678288226, 'colsample_bytree': 0.1659177302777859, 'reg_alpha': 0.0021648236525521457, 'reg_lambda': 0.09678121980792856}. Best is trial 0 with value: 0.4843137254901961.\u001b[0m\n",
            "\u001b[32m[I 2023-02-08 23:48:22,240]\u001b[0m Trial 3 finished with value: 0.4843137254901961 and parameters: {'max_depth': 5, 'learning_rate': 0.1250469952608966, 'n_estimators': 473, 'min_child_weight': 5, 'gamma': 5.691509249757916e-06, 'subsample': 0.050456362613057915, 'colsample_bytree': 0.018334392923560393, 'reg_alpha': 4.6775397572831864e-07, 'reg_lambda': 6.160334968791708e-05}. Best is trial 0 with value: 0.4843137254901961.\u001b[0m\n",
            "\u001b[32m[I 2023-02-08 23:48:22,558]\u001b[0m Trial 4 finished with value: 0.4843137254901961 and parameters: {'max_depth': 7, 'learning_rate': 0.2569646710339747, 'n_estimators': 158, 'min_child_weight': 1, 'gamma': 2.0504971864112328e-05, 'subsample': 0.016795962655384616, 'colsample_bytree': 0.8041615942646941, 'reg_alpha': 0.604999050328576, 'reg_lambda': 1.4538290110962162e-08}. Best is trial 0 with value: 0.4843137254901961.\u001b[0m\n",
            "\u001b[32m[I 2023-02-08 23:48:22,978]\u001b[0m Trial 5 finished with value: 0.4843137254901961 and parameters: {'max_depth': 9, 'learning_rate': 0.0762397157648018, 'n_estimators': 236, 'min_child_weight': 1, 'gamma': 0.00022194434461593604, 'subsample': 0.26048291291623016, 'colsample_bytree': 0.0314069206852326, 'reg_alpha': 9.963051747322554e-05, 'reg_lambda': 3.0236412457147666e-05}. Best is trial 0 with value: 0.4843137254901961.\u001b[0m\n",
            "\u001b[32m[I 2023-02-08 23:48:23,721]\u001b[0m Trial 6 finished with value: 0.4843137254901961 and parameters: {'max_depth': 6, 'learning_rate': 0.0184756448776079, 'n_estimators': 450, 'min_child_weight': 4, 'gamma': 8.645050038462166e-06, 'subsample': 0.1280266038227233, 'colsample_bytree': 0.043584164057102866, 'reg_alpha': 0.004618904527986527, 'reg_lambda': 0.00041448375507364136}. Best is trial 0 with value: 0.4843137254901961.\u001b[0m\n",
            "\u001b[32m[I 2023-02-08 23:48:23,847]\u001b[0m Trial 7 finished with value: 0.4843137254901961 and parameters: {'max_depth': 3, 'learning_rate': 0.08172111663816728, 'n_estimators': 59, 'min_child_weight': 10, 'gamma': 0.00020319286356645385, 'subsample': 0.04426003412892754, 'colsample_bytree': 0.030807295203680328, 'reg_alpha': 1.7828852865328116e-06, 'reg_lambda': 5.022104066113818e-07}. Best is trial 0 with value: 0.4843137254901961.\u001b[0m\n",
            "\u001b[32m[I 2023-02-08 23:48:24,461]\u001b[0m Trial 8 finished with value: 0.4843137254901961 and parameters: {'max_depth': 4, 'learning_rate': 0.02149252136615112, 'n_estimators': 363, 'min_child_weight': 3, 'gamma': 0.004766137771790872, 'subsample': 0.06966003169695607, 'colsample_bytree': 0.03210899841961422, 'reg_alpha': 2.7663941076720554e-07, 'reg_lambda': 0.022698117849089233}. Best is trial 0 with value: 0.4843137254901961.\u001b[0m\n",
            "\u001b[32m[I 2023-02-08 23:48:25,125]\u001b[0m Trial 9 finished with value: 0.4843137254901961 and parameters: {'max_depth': 9, 'learning_rate': 0.7960371923445272, 'n_estimators': 368, 'min_child_weight': 2, 'gamma': 0.05015399791576762, 'subsample': 0.07836650063988118, 'colsample_bytree': 0.13600782531342545, 'reg_alpha': 9.4920191628403e-06, 'reg_lambda': 8.7153168423014e-08}. Best is trial 0 with value: 0.4843137254901961.\u001b[0m\n",
            "\u001b[32m[I 2023-02-08 23:48:25,274]\u001b[0m Trial 10 finished with value: 0.4843137254901961 and parameters: {'max_depth': 1, 'learning_rate': 0.9602442151197733, 'n_estimators': 64, 'min_child_weight': 8, 'gamma': 3.383223075519944e-08, 'subsample': 0.7931646010178387, 'colsample_bytree': 0.4732606645632204, 'reg_alpha': 1.632727558160516e-08, 'reg_lambda': 0.6882780353699605}. Best is trial 0 with value: 0.4843137254901961.\u001b[0m\n",
            "\u001b[32m[I 2023-02-08 23:48:25,537]\u001b[0m Trial 11 finished with value: 0.4843137254901961 and parameters: {'max_depth': 1, 'learning_rate': 0.4309992152777112, 'n_estimators': 176, 'min_child_weight': 7, 'gamma': 0.22342155234320482, 'subsample': 0.3199747907611853, 'colsample_bytree': 0.01185495510396665, 'reg_alpha': 0.000380749955200689, 'reg_lambda': 0.0025517496466967975}. Best is trial 0 with value: 0.4843137254901961.\u001b[0m\n",
            "\u001b[32m[I 2023-02-08 23:48:25,787]\u001b[0m Trial 12 finished with value: 0.4843137254901961 and parameters: {'max_depth': 2, 'learning_rate': 0.04815923336883154, 'n_estimators': 155, 'min_child_weight': 7, 'gamma': 0.8062319134493651, 'subsample': 0.590899648437267, 'colsample_bytree': 0.28168180839269735, 'reg_alpha': 0.0665674797423229, 'reg_lambda': 0.0058141445935962115}. Best is trial 0 with value: 0.4843137254901961.\u001b[0m\n",
            "\u001b[32m[I 2023-02-08 23:48:26,078]\u001b[0m Trial 13 finished with value: 0.4843137254901961 and parameters: {'max_depth': 3, 'learning_rate': 0.29511869244413746, 'n_estimators': 237, 'min_child_weight': 6, 'gamma': 4.2780163055813504e-07, 'subsample': 0.027382227589629278, 'colsample_bytree': 0.07660917824906958, 'reg_alpha': 4.592710318405901e-05, 'reg_lambda': 0.5982975900969589}. Best is trial 0 with value: 0.4843137254901961.\u001b[0m\n",
            "\u001b[32m[I 2023-02-08 23:48:26,251]\u001b[0m Trial 14 finished with value: 0.4843137254901961 and parameters: {'max_depth': 2, 'learning_rate': 0.14452398251299026, 'n_estimators': 112, 'min_child_weight': 9, 'gamma': 0.0015195072492490476, 'subsample': 0.1528985324076849, 'colsample_bytree': 0.06478683883776463, 'reg_alpha': 0.0012834237549708707, 'reg_lambda': 0.0008894179420897916}. Best is trial 0 with value: 0.4843137254901961.\u001b[0m\n",
            "\u001b[32m[I 2023-02-08 23:48:26,591]\u001b[0m Trial 15 finished with value: 0.4843137254901961 and parameters: {'max_depth': 3, 'learning_rate': 0.44576721934208335, 'n_estimators': 265, 'min_child_weight': 5, 'gamma': 8.098438214273419e-07, 'subsample': 0.011763564651029148, 'colsample_bytree': 0.23132131496040423, 'reg_alpha': 0.017589992114054747, 'reg_lambda': 0.022177476215910475}. Best is trial 0 with value: 0.4843137254901961.\u001b[0m\n",
            "\u001b[32m[I 2023-02-08 23:48:27,010]\u001b[0m Trial 16 finished with value: 0.4843137254901961 and parameters: {'max_depth': 1, 'learning_rate': 0.04583935118692228, 'n_estimators': 324, 'min_child_weight': 3, 'gamma': 0.0005635874652291361, 'subsample': 0.42126865111079204, 'colsample_bytree': 0.11111251172789305, 'reg_alpha': 0.0002588393568725671, 'reg_lambda': 9.64505589410072e-06}. Best is trial 0 with value: 0.4843137254901961.\u001b[0m\n",
            "\u001b[32m[I 2023-02-08 23:48:27,274]\u001b[0m Trial 17 finished with value: 0.4843137254901961 and parameters: {'max_depth': 4, 'learning_rate': 0.010378427572069802, 'n_estimators': 196, 'min_child_weight': 6, 'gamma': 3.87975256266134e-05, 'subsample': 0.9099403094796735, 'colsample_bytree': 0.010087998140880601, 'reg_alpha': 3.276439518998842e-05, 'reg_lambda': 0.00034289756699136374}. Best is trial 0 with value: 0.4843137254901961.\u001b[0m\n",
            "\u001b[32m[I 2023-02-08 23:48:27,463]\u001b[0m Trial 18 finished with value: 0.4843137254901961 and parameters: {'max_depth': 2, 'learning_rate': 0.15637300189598002, 'n_estimators': 112, 'min_child_weight': 8, 'gamma': 0.0013452260665845865, 'subsample': 0.10589886444607559, 'colsample_bytree': 0.41534461366971626, 'reg_alpha': 0.0007130035945873782, 'reg_lambda': 3.3223800860413358e-06}. Best is trial 0 with value: 0.4843137254901961.\u001b[0m\n",
            "\u001b[32m[I 2023-02-08 23:48:27,842]\u001b[0m Trial 19 finished with value: 0.4843137254901961 and parameters: {'max_depth': 4, 'learning_rate': 0.5411909122880327, 'n_estimators': 214, 'min_child_weight': 3, 'gamma': 7.38110589581308e-05, 'subsample': 0.24281226142591256, 'colsample_bytree': 0.941053309535405, 'reg_alpha': 0.007711058736092775, 'reg_lambda': 0.0002029851535872728}. Best is trial 0 with value: 0.4843137254901961.\u001b[0m\n",
            "\u001b[32m[I 2023-02-08 23:48:28,237]\u001b[0m Trial 20 finished with value: 0.4843137254901961 and parameters: {'max_depth': 2, 'learning_rate': 0.2679890904387286, 'n_estimators': 306, 'min_child_weight': 4, 'gamma': 1.936564313460416e-06, 'subsample': 0.5052652004006356, 'colsample_bytree': 0.0902264567784501, 'reg_alpha': 8.116113791122007e-06, 'reg_lambda': 0.00198344381788064}. Best is trial 0 with value: 0.4843137254901961.\u001b[0m\n",
            "\u001b[32m[I 2023-02-08 23:48:28,741]\u001b[0m Trial 21 finished with value: 0.4843137254901961 and parameters: {'max_depth': 7, 'learning_rate': 0.20469254222849403, 'n_estimators': 409, 'min_child_weight': 2, 'gamma': 0.02456538335355471, 'subsample': 0.17174520196898535, 'colsample_bytree': 0.15816673698827213, 'reg_alpha': 0.002468954392473855, 'reg_lambda': 0.05846000917868579}. Best is trial 0 with value: 0.4843137254901961.\u001b[0m\n",
            "\u001b[32m[I 2023-02-08 23:48:28,927]\u001b[0m Trial 22 finished with value: 0.4843137254901961 and parameters: {'max_depth': 6, 'learning_rate': 0.32887669781735107, 'n_estimators': 116, 'min_child_weight': 5, 'gamma': 0.00464029935623356, 'subsample': 0.1960792925442817, 'colsample_bytree': 0.1964890134433217, 'reg_alpha': 0.0002834852276430837, 'reg_lambda': 0.16829566747844443}. Best is trial 0 with value: 0.4843137254901961.\u001b[0m\n",
            "\u001b[32m[I 2023-02-08 23:48:29,531]\u001b[0m Trial 23 finished with value: 0.4843137254901961 and parameters: {'max_depth': 5, 'learning_rate': 0.6542164228492584, 'n_estimators': 492, 'min_child_weight': 4, 'gamma': 0.0182181559200468, 'subsample': 0.3449290373971978, 'colsample_bytree': 0.12489410076988881, 'reg_alpha': 0.02456723084879206, 'reg_lambda': 0.009357755796936092}. Best is trial 0 with value: 0.4843137254901961.\u001b[0m\n",
            "\u001b[32m[I 2023-02-08 23:48:29,883]\u001b[0m Trial 24 finished with value: 0.4843137254901961 and parameters: {'max_depth': 7, 'learning_rate': 0.1929825465678211, 'n_estimators': 261, 'min_child_weight': 2, 'gamma': 0.00020501554239791544, 'subsample': 0.11456874008433218, 'colsample_bytree': 0.3238103268160783, 'reg_alpha': 0.0023383051222150898, 'reg_lambda': 0.11226928957039196}. Best is trial 0 with value: 0.4843137254901961.\u001b[0m\n",
            "\u001b[32m[I 2023-02-08 23:48:30,283]\u001b[0m Trial 25 finished with value: 0.4843137254901961 and parameters: {'max_depth': 6, 'learning_rate': 0.5827719773109148, 'n_estimators': 308, 'min_child_weight': 7, 'gamma': 0.003982719898728287, 'subsample': 0.22289876878880627, 'colsample_bytree': 0.18129039703564792, 'reg_alpha': 0.0009124914075777156, 'reg_lambda': 0.006952411596442977}. Best is trial 0 with value: 0.4843137254901961.\u001b[0m\n",
            "\u001b[32m[I 2023-02-08 23:48:30,473]\u001b[0m Trial 26 finished with value: 0.4843137254901961 and parameters: {'max_depth': 8, 'learning_rate': 0.3595587527308513, 'n_estimators': 123, 'min_child_weight': 6, 'gamma': 0.0008051888996858392, 'subsample': 0.08678657878439111, 'colsample_bytree': 0.05948553904946135, 'reg_alpha': 0.00017900350506724351, 'reg_lambda': 0.22631417659450218}. Best is trial 0 with value: 0.4843137254901961.\u001b[0m\n",
            "\u001b[32m[I 2023-02-08 23:48:30,974]\u001b[0m Trial 27 finished with value: 0.4843137254901961 and parameters: {'max_depth': 3, 'learning_rate': 0.11802498421203732, 'n_estimators': 426, 'min_child_weight': 1, 'gamma': 7.911811369088748e-05, 'subsample': 0.1586042070558902, 'colsample_bytree': 0.09723255535361006, 'reg_alpha': 0.10198473372552455, 'reg_lambda': 0.053141132752822735}. Best is trial 0 with value: 0.4843137254901961.\u001b[0m\n",
            "\u001b[32m[I 2023-02-08 23:48:31,252]\u001b[0m Trial 28 finished with value: 0.4843137254901961 and parameters: {'max_depth': 4, 'learning_rate': 0.23105133017331306, 'n_estimators': 194, 'min_child_weight': 4, 'gamma': 0.06781339619794087, 'subsample': 0.3139297347855777, 'colsample_bytree': 0.14154243056330462, 'reg_alpha': 0.005281680895999894, 'reg_lambda': 0.001194579998626422}. Best is trial 0 with value: 0.4843137254901961.\u001b[0m\n",
            "\u001b[32m[I 2023-02-08 23:48:31,683]\u001b[0m Trial 29 finished with value: 0.4843137254901961 and parameters: {'max_depth': 5, 'learning_rate': 0.18062918050131682, 'n_estimators': 365, 'min_child_weight': 5, 'gamma': 9.895492469751181e-06, 'subsample': 0.05744983206526606, 'colsample_bytree': 0.021022492404804756, 'reg_alpha': 0.0008563774152801737, 'reg_lambda': 0.02717187377213289}. Best is trial 0 with value: 0.4843137254901961.\u001b[0m\n",
            "\u001b[32m[I 2023-02-08 23:48:31,897]\u001b[0m Trial 30 finished with value: 0.4843137254901961 and parameters: {'max_depth': 5, 'learning_rate': 0.12350378293689544, 'n_estimators': 139, 'min_child_weight': 8, 'gamma': 3.294561512859328e-06, 'subsample': 0.04960162587948297, 'colsample_bytree': 0.2503963694798996, 'reg_alpha': 7.963456792292724e-05, 'reg_lambda': 7.69420994691292e-05}. Best is trial 0 with value: 0.4843137254901961.\u001b[0m\n",
            "\u001b[32m[I 2023-02-08 23:48:32,528]\u001b[0m Trial 31 finished with value: 0.4843137254901961 and parameters: {'max_depth': 5, 'learning_rate': 0.23758950654874614, 'n_estimators': 493, 'min_child_weight': 5, 'gamma': 2.2798375953444868e-07, 'subsample': 0.03657265908451574, 'colsample_bytree': 0.6283654699006888, 'reg_alpha': 0.6704075751946158, 'reg_lambda': 0.00012162250769114419}. Best is trial 0 with value: 0.4843137254901961.\u001b[0m\n",
            "\u001b[32m[I 2023-02-08 23:48:33,065]\u001b[0m Trial 32 finished with value: 0.4843137254901961 and parameters: {'max_depth': 8, 'learning_rate': 0.0994293395732788, 'n_estimators': 473, 'min_child_weight': 1, 'gamma': 1.9109921773249746e-05, 'subsample': 0.09186178806587965, 'colsample_bytree': 0.01556624065743381, 'reg_alpha': 6.898019561045102e-07, 'reg_lambda': 4.7805931469400025e-05}. Best is trial 0 with value: 0.4843137254901961.\u001b[0m\n",
            "\u001b[32m[I 2023-02-08 23:48:33,535]\u001b[0m Trial 33 finished with value: 0.4843137254901961 and parameters: {'max_depth': 6, 'learning_rate': 0.16279454513957595, 'n_estimators': 408, 'min_child_weight': 6, 'gamma': 4.847889141189418e-06, 'subsample': 0.02713498699613047, 'colsample_bytree': 0.023452843837410343, 'reg_alpha': 0.00010339218964016204, 'reg_lambda': 0.0004933667299610111}. Best is trial 0 with value: 0.4843137254901961.\u001b[0m\n",
            "\u001b[32m[I 2023-02-08 23:48:34,041]\u001b[0m Trial 34 finished with value: 0.4843137254901961 and parameters: {'max_depth': 6, 'learning_rate': 0.09200524136113027, 'n_estimators': 439, 'min_child_weight': 4, 'gamma': 2.075201925595954e-05, 'subsample': 0.12901868710101064, 'colsample_bytree': 0.046499819202614964, 'reg_alpha': 2.963158875092806e-05, 'reg_lambda': 0.0028491892148083736}. Best is trial 0 with value: 0.4843137254901961.\u001b[0m\n",
            "\u001b[32m[I 2023-02-08 23:48:34,578]\u001b[0m Trial 35 finished with value: 0.4843137254901961 and parameters: {'max_depth': 3, 'learning_rate': 0.07039702138853236, 'n_estimators': 464, 'min_child_weight': 3, 'gamma': 0.00025317844668965635, 'subsample': 0.068232487178637, 'colsample_bytree': 0.019552794543607217, 'reg_alpha': 1.7513516771617113e-07, 'reg_lambda': 1.4316368018337965e-05}. Best is trial 0 with value: 0.4843137254901961.\u001b[0m\n",
            "\u001b[32m[I 2023-02-08 23:48:34,728]\u001b[0m Trial 36 finished with value: 0.4843137254901961 and parameters: {'max_depth': 8, 'learning_rate': 0.27871310631352825, 'n_estimators': 83, 'min_child_weight': 5, 'gamma': 2.533689997451516e-05, 'subsample': 0.05894231388118924, 'colsample_bytree': 0.03142056040337422, 'reg_alpha': 7.178270799703855e-06, 'reg_lambda': 0.9186135164624329}. Best is trial 0 with value: 0.4843137254901961.\u001b[0m\n",
            "\u001b[32m[I 2023-02-08 23:48:35,836]\u001b[0m Trial 37 finished with value: 0.4843137254901961 and parameters: {'max_depth': 4, 'learning_rate': 0.1274613252151333, 'n_estimators': 231, 'min_child_weight': 7, 'gamma': 1.392189580701754e-06, 'subsample': 0.08312338607348908, 'colsample_bytree': 0.04639418739937256, 'reg_alpha': 2.2889130008837768e-06, 'reg_lambda': 0.00016349136685810312}. Best is trial 0 with value: 0.4843137254901961.\u001b[0m\n",
            "\u001b[32m[I 2023-02-08 23:48:36,632]\u001b[0m Trial 38 finished with value: 0.4843137254901961 and parameters: {'max_depth': 1, 'learning_rate': 0.3760965839634495, 'n_estimators': 165, 'min_child_weight': 2, 'gamma': 6.06507632506665e-06, 'subsample': 0.13158368902100348, 'colsample_bytree': 0.016230519586077997, 'reg_alpha': 0.002599506928653941, 'reg_lambda': 0.0004667267965316476}. Best is trial 0 with value: 0.4843137254901961.\u001b[0m\n",
            "\u001b[32m[I 2023-02-08 23:48:37,369]\u001b[0m Trial 39 finished with value: 0.4843137254901961 and parameters: {'max_depth': 7, 'learning_rate': 0.07213151828067589, 'n_estimators': 390, 'min_child_weight': 10, 'gamma': 1.886111747765147e-08, 'subsample': 0.2004400529505216, 'colsample_bytree': 0.029160435850337386, 'reg_alpha': 4.718249502536973e-08, 'reg_lambda': 0.014074083556070142}. Best is trial 0 with value: 0.4843137254901961.\u001b[0m\n",
            "\u001b[32m[I 2023-02-08 23:48:38,245]\u001b[0m Trial 40 finished with value: 0.4843137254901961 and parameters: {'max_depth': 2, 'learning_rate': 0.95252808647394, 'n_estimators': 458, 'min_child_weight': 4, 'gamma': 1.8440734927014338e-07, 'subsample': 0.2710609901160074, 'colsample_bytree': 0.03651453414229218, 'reg_alpha': 2.861252921737326e-06, 'reg_lambda': 2.8818074787545136e-05}. Best is trial 0 with value: 0.4843137254901961.\u001b[0m\n",
            "\u001b[32m[I 2023-02-08 23:48:38,450]\u001b[0m Trial 41 finished with value: 0.4843137254901961 and parameters: {'max_depth': 7, 'learning_rate': 0.2146867574187602, 'n_estimators': 88, 'min_child_weight': 1, 'gamma': 1.0455304879869766e-05, 'subsample': 0.03808149341362105, 'colsample_bytree': 0.3428141749337375, 'reg_alpha': 0.8822056379672681, 'reg_lambda': 3.03086992550766e-08}. Best is trial 0 with value: 0.4843137254901961.\u001b[0m\n",
            "\u001b[32m[I 2023-02-08 23:48:38,688]\u001b[0m Trial 42 finished with value: 0.4843137254901961 and parameters: {'max_depth': 9, 'learning_rate': 0.4464008922236987, 'n_estimators': 154, 'min_child_weight': 2, 'gamma': 0.00011720049095830063, 'subsample': 0.016385083522386695, 'colsample_bytree': 0.5943687861270057, 'reg_alpha': 0.008615144707784654, 'reg_lambda': 4.5131753689080216e-07}. Best is trial 0 with value: 0.4843137254901961.\u001b[0m\n",
            "\u001b[32m[I 2023-02-08 23:48:39,002]\u001b[0m Trial 43 finished with value: 0.4843137254901961 and parameters: {'max_depth': 6, 'learning_rate': 0.1604624305335157, 'n_estimators': 185, 'min_child_weight': 1, 'gamma': 2.545195274999928e-06, 'subsample': 0.07241620355783523, 'colsample_bytree': 0.9760088048022268, 'reg_alpha': 0.2529904099426822, 'reg_lambda': 1.2770845535635043e-08}. Best is trial 0 with value: 0.4843137254901961.\u001b[0m\n",
            "\u001b[32m[I 2023-02-08 23:48:39,431]\u001b[0m Trial 44 finished with value: 0.4843137254901961 and parameters: {'max_depth': 7, 'learning_rate': 0.2626433530822116, 'n_estimators': 338, 'min_child_weight': 3, 'gamma': 7.88951213078467e-07, 'subsample': 0.1005756307355295, 'colsample_bytree': 0.2916885680751078, 'reg_alpha': 0.02984820891641162, 'reg_lambda': 2.0207427311537607e-06}. Best is trial 0 with value: 0.4843137254901961.\u001b[0m\n",
            "\u001b[32m[I 2023-02-08 23:48:39,632]\u001b[0m Trial 45 finished with value: 0.4843137254901961 and parameters: {'max_depth': 5, 'learning_rate': 0.13178768720975656, 'n_estimators': 142, 'min_child_weight': 1, 'gamma': 0.00042704792248646174, 'subsample': 0.026594334885380152, 'colsample_bytree': 0.012906979855302406, 'reg_alpha': 0.0004047129859788764, 'reg_lambda': 0.005085547689738406}. Best is trial 0 with value: 0.4843137254901961.\u001b[0m\n",
            "\u001b[32m[I 2023-02-08 23:48:39,765]\u001b[0m Trial 46 finished with value: 0.4843137254901961 and parameters: {'max_depth': 3, 'learning_rate': 0.3107582082371148, 'n_estimators': 50, 'min_child_weight': 7, 'gamma': 5.5718498515959054e-05, 'subsample': 0.020413523107816408, 'colsample_bytree': 0.23871680029979542, 'reg_alpha': 0.06823743914292922, 'reg_lambda': 2.304860866026954e-07}. Best is trial 0 with value: 0.4843137254901961.\u001b[0m\n",
            "\u001b[32m[I 2023-02-08 23:48:40,066]\u001b[0m Trial 47 finished with value: 0.4843137254901961 and parameters: {'max_depth': 1, 'learning_rate': 0.1873912496374737, 'n_estimators': 220, 'min_child_weight': 6, 'gamma': 0.0018337560464815226, 'subsample': 0.01003833572860703, 'colsample_bytree': 0.39499820120664847, 'reg_alpha': 0.010479755332857062, 'reg_lambda': 1.3383088450462888e-07}. Best is trial 0 with value: 0.4843137254901961.\u001b[0m\n",
            "\u001b[32m[I 2023-02-08 23:48:40,443]\u001b[0m Trial 48 finished with value: 0.4843137254901961 and parameters: {'max_depth': 8, 'learning_rate': 0.10732101306784321, 'n_estimators': 280, 'min_child_weight': 3, 'gamma': 0.0001295905300840565, 'subsample': 0.04005368877701744, 'colsample_bytree': 0.5281115250908192, 'reg_alpha': 1.90096224481171e-05, 'reg_lambda': 2.1236842385858883e-06}. Best is trial 0 with value: 0.4843137254901961.\u001b[0m\n",
            "\u001b[32m[I 2023-02-08 23:48:40,821]\u001b[0m Trial 49 finished with value: 0.4843137254901961 and parameters: {'max_depth': 2, 'learning_rate': 0.14716079231966647, 'n_estimators': 250, 'min_child_weight': 2, 'gamma': 5.626819770296843e-06, 'subsample': 0.044247509338479436, 'colsample_bytree': 0.8196569709771143, 'reg_alpha': 0.0001210657861003836, 'reg_lambda': 0.0009129664901975204}. Best is trial 0 with value: 0.4843137254901961.\u001b[0m\n",
            "\u001b[32m[I 2023-02-08 23:48:41,078]\u001b[0m Trial 50 finished with value: 0.4843137254901961 and parameters: {'max_depth': 6, 'learning_rate': 0.4403389714984885, 'n_estimators': 173, 'min_child_weight': 9, 'gamma': 2.9549545525070346e-05, 'subsample': 0.6987558351766827, 'colsample_bytree': 0.1196171485542589, 'reg_alpha': 0.0003803518642915352, 'reg_lambda': 0.332586689150994}. Best is trial 0 with value: 0.4843137254901961.\u001b[0m\n",
            "\u001b[32m[I 2023-02-08 23:48:41,347]\u001b[0m Trial 51 finished with value: 0.4843137254901961 and parameters: {'max_depth': 9, 'learning_rate': 0.08816197846942775, 'n_estimators': 203, 'min_child_weight': 1, 'gamma': 0.0003581596321540246, 'subsample': 0.16794968731447998, 'colsample_bytree': 0.02776153648408493, 'reg_alpha': 5.863730928887903e-05, 'reg_lambda': 2.4718147171407595e-05}. Best is trial 0 with value: 0.4843137254901961.\u001b[0m\n",
            "\u001b[32m[I 2023-02-08 23:48:41,674]\u001b[0m Trial 52 finished with value: 0.4843137254901961 and parameters: {'max_depth': 8, 'learning_rate': 0.05575376939163172, 'n_estimators': 235, 'min_child_weight': 2, 'gamma': 0.0008279838858946277, 'subsample': 0.4553679456602876, 'colsample_bytree': 0.07755539097677573, 'reg_alpha': 0.0017907601330710544, 'reg_lambda': 4.54760018938579e-06}. Best is trial 0 with value: 0.4843137254901961.\u001b[0m\n",
            "\u001b[32m[I 2023-02-08 23:48:42,051]\u001b[0m Trial 53 finished with value: 0.4843137254901961 and parameters: {'max_depth': 9, 'learning_rate': 0.10467519743650487, 'n_estimators': 280, 'min_child_weight': 1, 'gamma': 5.340624970446295e-05, 'subsample': 0.29946499014207184, 'colsample_bytree': 0.03729015116994578, 'reg_alpha': 0.004210897405466559, 'reg_lambda': 7.368780499889155e-07}. Best is trial 0 with value: 0.4843137254901961.\u001b[0m\n",
            "\u001b[32m[I 2023-02-08 23:48:42,219]\u001b[0m Trial 54 finished with value: 0.4843137254901961 and parameters: {'max_depth': 4, 'learning_rate': 0.0829700375779363, 'n_estimators': 97, 'min_child_weight': 5, 'gamma': 0.010244157127571188, 'subsample': 0.35885753665009973, 'colsample_bytree': 0.025649773158399548, 'reg_alpha': 0.001105321122865658, 'reg_lambda': 0.0002841155796713613}. Best is trial 0 with value: 0.4843137254901961.\u001b[0m\n",
            "\u001b[32m[I 2023-02-08 23:48:42,523]\u001b[0m Trial 55 finished with value: 0.4843137254901961 and parameters: {'max_depth': 5, 'learning_rate': 0.6822466102313522, 'n_estimators': 209, 'min_child_weight': 6, 'gamma': 0.0001726875682318821, 'subsample': 0.1093416296779769, 'colsample_bytree': 0.4342130877687221, 'reg_alpha': 0.00014958596853177755, 'reg_lambda': 6.6739036776117e-05}. Best is trial 0 with value: 0.4843137254901961.\u001b[0m\n",
            "\u001b[32m[I 2023-02-08 23:48:42,775]\u001b[0m Trial 56 finished with value: 0.4843137254901961 and parameters: {'max_depth': 7, 'learning_rate': 0.21796377368473613, 'n_estimators': 150, 'min_child_weight': 4, 'gamma': 0.0024068937276401537, 'subsample': 0.24528470524922855, 'colsample_bytree': 0.193018361262984, 'reg_alpha': 1.8382591723507108e-05, 'reg_lambda': 7.897855743562797e-06}. Best is trial 0 with value: 0.4843137254901961.\u001b[0m\n",
            "\u001b[32m[I 2023-02-08 23:48:43,000]\u001b[0m Trial 57 finished with value: 0.4843137254901961 and parameters: {'max_depth': 1, 'learning_rate': 0.14959705784842123, 'n_estimators': 136, 'min_child_weight': 1, 'gamma': 0.0009628028086435249, 'subsample': 0.37965680673649643, 'colsample_bytree': 0.019129406362907695, 'reg_alpha': 0.0006503284812905241, 'reg_lambda': 0.07811172986404034}. Best is trial 0 with value: 0.4843137254901961.\u001b[0m\n",
            "\u001b[32m[I 2023-02-08 23:48:43,243]\u001b[0m Trial 58 finished with value: 0.4843137254901961 and parameters: {'max_depth': 2, 'learning_rate': 0.036755970895646015, 'n_estimators': 175, 'min_child_weight': 2, 'gamma': 0.0005796835925632265, 'subsample': 0.13552524743241628, 'colsample_bytree': 0.02346608847160482, 'reg_alpha': 0.00018972673324881798, 'reg_lambda': 0.03207180707749937}. Best is trial 0 with value: 0.4843137254901961.\u001b[0m\n",
            "\u001b[32m[I 2023-02-08 23:48:43,829]\u001b[0m Trial 59 finished with value: 0.4843137254901961 and parameters: {'max_depth': 6, 'learning_rate': 0.11466656855263015, 'n_estimators': 478, 'min_child_weight': 3, 'gamma': 9.836113881520057e-06, 'subsample': 0.20133658337971433, 'colsample_bytree': 0.1559417054321285, 'reg_alpha': 0.02089844748780385, 'reg_lambda': 0.00011937634035517525}. Best is trial 0 with value: 0.4843137254901961.\u001b[0m\n",
            "\u001b[32m[I 2023-02-08 23:48:44,503]\u001b[0m Trial 60 finished with value: 0.4843137254901961 and parameters: {'max_depth': 3, 'learning_rate': 0.2539326875104633, 'n_estimators': 426, 'min_child_weight': 7, 'gamma': 0.007399328203451327, 'subsample': 0.26010833858824356, 'colsample_bytree': 0.7338305267104852, 'reg_alpha': 5.787857569964468e-05, 'reg_lambda': 0.4053909889240576}. Best is trial 0 with value: 0.4843137254901961.\u001b[0m\n",
            "\u001b[32m[I 2023-02-08 23:48:45,127]\u001b[0m Trial 61 finished with value: 0.4843137254901961 and parameters: {'max_depth': 6, 'learning_rate': 0.023955418389417633, 'n_estimators': 450, 'min_child_weight': 5, 'gamma': 1.3544200084759548e-05, 'subsample': 0.1656411560130284, 'colsample_bytree': 0.5188437594695177, 'reg_alpha': 0.0030092108078390556, 'reg_lambda': 0.000190799265236706}. Best is trial 0 with value: 0.4843137254901961.\u001b[0m\n",
            "\u001b[32m[I 2023-02-08 23:48:45,701]\u001b[0m Trial 62 finished with value: 0.4843137254901961 and parameters: {'max_depth': 5, 'learning_rate': 0.18627170526491185, 'n_estimators': 498, 'min_child_weight': 4, 'gamma': 4.329827428898256e-05, 'subsample': 0.08865532523010708, 'colsample_bytree': 0.10165856985714054, 'reg_alpha': 0.0004864944468222591, 'reg_lambda': 0.0005632242508460451}. Best is trial 0 with value: 0.4843137254901961.\u001b[0m\n",
            "\u001b[32m[I 2023-02-08 23:48:46,245]\u001b[0m Trial 63 finished with value: 0.4843137254901961 and parameters: {'max_depth': 7, 'learning_rate': 0.011192534881181675, 'n_estimators': 398, 'min_child_weight': 6, 'gamma': 3.375028960521332e-06, 'subsample': 0.14590518290177423, 'colsample_bytree': 0.3757080529698869, 'reg_alpha': 0.0016311261207765289, 'reg_lambda': 0.0019062752860799052}. Best is trial 0 with value: 0.4843137254901961.\u001b[0m\n",
            "\u001b[32m[I 2023-02-08 23:48:46,742]\u001b[0m Trial 64 finished with value: 0.4843137254901961 and parameters: {'max_depth': 6, 'learning_rate': 0.35723805828696875, 'n_estimators': 432, 'min_child_weight': 3, 'gamma': 0.00010182094785359319, 'subsample': 0.07509555067160052, 'colsample_bytree': 0.05844278729015824, 'reg_alpha': 0.0002717483420921773, 'reg_lambda': 0.16018503197750972}. Best is trial 0 with value: 0.4843137254901961.\u001b[0m\n",
            "\u001b[32m[I 2023-02-08 23:48:47,369]\u001b[0m Trial 65 finished with value: 0.4843137254901961 and parameters: {'max_depth': 4, 'learning_rate': 0.28950250711438263, 'n_estimators': 480, 'min_child_weight': 5, 'gamma': 1.3948929126409995e-06, 'subsample': 0.21981900030450588, 'colsample_bytree': 0.27860517224039655, 'reg_alpha': 0.005728841485397684, 'reg_lambda': 0.0002734297844946724}. Best is trial 0 with value: 0.4843137254901961.\u001b[0m\n",
            "\u001b[32m[I 2023-02-08 23:48:47,570]\u001b[0m Trial 66 finished with value: 0.4843137254901961 and parameters: {'max_depth': 4, 'learning_rate': 0.13350810803682528, 'n_estimators': 126, 'min_child_weight': 2, 'gamma': 0.00026901882732498314, 'subsample': 0.061232629333045525, 'colsample_bytree': 0.03236208604997262, 'reg_alpha': 0.001120318508361521, 'reg_lambda': 0.01097423148667213}. Best is trial 0 with value: 0.4843137254901961.\u001b[0m\n",
            "\u001b[32m[I 2023-02-08 23:48:47,870]\u001b[0m Trial 67 finished with value: 0.4843137254901961 and parameters: {'max_depth': 7, 'learning_rate': 0.17069402388500063, 'n_estimators': 191, 'min_child_weight': 4, 'gamma': 1.9696371532083655e-05, 'subsample': 0.10853438955339731, 'colsample_bytree': 0.4392204737903698, 'reg_alpha': 0.01358332974833834, 'reg_lambda': 4.34673156835554e-05}. Best is trial 0 with value: 0.4843137254901961.\u001b[0m\n",
            "\u001b[32m[I 2023-02-08 23:48:48,448]\u001b[0m Trial 68 finished with value: 0.4843137254901961 and parameters: {'max_depth': 8, 'learning_rate': 0.09573850036676447, 'n_estimators': 447, 'min_child_weight': 5, 'gamma': 7.085775576051656e-05, 'subsample': 0.18198680177701937, 'colsample_bytree': 0.022742441157588212, 'reg_alpha': 0.03067047490161181, 'reg_lambda': 0.0013658911544205444}. Best is trial 0 with value: 0.4843137254901961.\u001b[0m\n",
            "\u001b[32m[I 2023-02-08 23:48:49,198]\u001b[0m Trial 69 finished with value: 0.4843137254901961 and parameters: {'max_depth': 5, 'learning_rate': 0.2155394388487355, 'n_estimators': 376, 'min_child_weight': 1, 'gamma': 3.491523008294551e-05, 'subsample': 0.052247574253208376, 'colsample_bytree': 0.20905919236970244, 'reg_alpha': 0.0034501159780453146, 'reg_lambda': 8.430012660831403e-05}. Best is trial 0 with value: 0.4843137254901961.\u001b[0m\n",
            "\u001b[32m[I 2023-02-08 23:48:49,884]\u001b[0m Trial 70 finished with value: 0.4843137254901961 and parameters: {'max_depth': 2, 'learning_rate': 0.5144836446248974, 'n_estimators': 351, 'min_child_weight': 6, 'gamma': 7.298614522286792e-06, 'subsample': 0.1280159246358712, 'colsample_bytree': 0.01637380995029313, 'reg_alpha': 0.006767368070586996, 'reg_lambda': 0.002821035376502055}. Best is trial 0 with value: 0.4843137254901961.\u001b[0m\n",
            "\u001b[32m[I 2023-02-08 23:48:50,142]\u001b[0m Trial 71 finished with value: 0.4843137254901961 and parameters: {'max_depth': 3, 'learning_rate': 0.07724330167104179, 'n_estimators': 77, 'min_child_weight': 10, 'gamma': 0.00018055747334598315, 'subsample': 0.03190106283882497, 'colsample_bytree': 0.025093442974720902, 'reg_alpha': 0.0006472049513304784, 'reg_lambda': 0.000706755218655696}. Best is trial 0 with value: 0.4843137254901961.\u001b[0m\n",
            "\u001b[32m[I 2023-02-08 23:48:50,442]\u001b[0m Trial 72 finished with value: 0.4843137254901961 and parameters: {'max_depth': 6, 'learning_rate': 0.06802668646397352, 'n_estimators': 105, 'min_child_weight': 9, 'gamma': 1.4270514503346107e-05, 'subsample': 0.07079725588843289, 'colsample_bytree': 0.01855998478186845, 'reg_alpha': 0.2421571416286032, 'reg_lambda': 0.00013985382278332515}. Best is trial 0 with value: 0.4843137254901961.\u001b[0m\n",
            "\u001b[32m[I 2023-02-08 23:48:50,988]\u001b[0m Trial 73 finished with value: 0.4843137254901961 and parameters: {'max_depth': 3, 'learning_rate': 0.10310975991200291, 'n_estimators': 254, 'min_child_weight': 4, 'gamma': 0.09730576847486293, 'subsample': 0.053961054890776, 'colsample_bytree': 0.02080479854814929, 'reg_alpha': 7.987662269478418e-05, 'reg_lambda': 1.1674815181363557e-05}. Best is trial 0 with value: 0.4843137254901961.\u001b[0m\n",
            "\u001b[32m[I 2023-02-08 23:48:51,236]\u001b[0m Trial 74 finished with value: 0.4843137254901961 and parameters: {'max_depth': 1, 'learning_rate': 0.143768937596666, 'n_estimators': 71, 'min_child_weight': 8, 'gamma': 0.003249190496909317, 'subsample': 0.06528476186182089, 'colsample_bytree': 0.038033002115582325, 'reg_alpha': 0.00021221704927655336, 'reg_lambda': 3.503819899526425e-08}. Best is trial 0 with value: 0.4843137254901961.\u001b[0m\n",
            "\u001b[32m[I 2023-02-08 23:48:51,565]\u001b[0m Trial 75 finished with value: 0.4843137254901961 and parameters: {'max_depth': 9, 'learning_rate': 0.12467486455809287, 'n_estimators': 217, 'min_child_weight': 2, 'gamma': 3.447734988728757e-06, 'subsample': 0.052250112688932177, 'colsample_bytree': 0.026460568861342185, 'reg_alpha': 0.0016526462968316795, 'reg_lambda': 1.9044205634127804e-05}. Best is trial 0 with value: 0.4843137254901961.\u001b[0m\n",
            "\u001b[32m[I 2023-02-08 23:48:51,946]\u001b[0m Trial 76 finished with value: 0.4843137254901961 and parameters: {'max_depth': 5, 'learning_rate': 0.06494736471688806, 'n_estimators': 300, 'min_child_weight': 1, 'gamma': 0.0013009120227225992, 'subsample': 0.04786978238711911, 'colsample_bytree': 0.1373702330553615, 'reg_alpha': 3.641576296672008e-05, 'reg_lambda': 4.871575224776047e-05}. Best is trial 0 with value: 0.4843137254901961.\u001b[0m\n",
            "\u001b[32m[I 2023-02-08 23:48:52,193]\u001b[0m Trial 77 finished with value: 0.4843137254901961 and parameters: {'max_depth': 5, 'learning_rate': 0.095358114835142, 'n_estimators': 165, 'min_child_weight': 8, 'gamma': 0.0004535439422301196, 'subsample': 0.08966329577964213, 'colsample_bytree': 0.030285175176921694, 'reg_alpha': 0.010043393317335747, 'reg_lambda': 0.00037665190667432767}. Best is trial 0 with value: 0.4843137254901961.\u001b[0m\n",
            "\u001b[32m[I 2023-02-08 23:48:52,397]\u001b[0m Trial 78 finished with value: 0.4843137254901961 and parameters: {'max_depth': 7, 'learning_rate': 0.08210421244327759, 'n_estimators': 124, 'min_child_weight': 10, 'gamma': 3.028316428372563e-05, 'subsample': 0.044474966901567, 'colsample_bytree': 0.04255076388598163, 'reg_alpha': 8.889184006865438e-07, 'reg_lambda': 0.014590392741357563}. Best is trial 0 with value: 0.4843137254901961.\u001b[0m\n",
            "\u001b[32m[I 2023-02-08 23:48:52,529]\u001b[0m Trial 79 finished with value: 0.4843137254901961 and parameters: {'max_depth': 2, 'learning_rate': 0.24043017413230752, 'n_estimators': 55, 'min_child_weight': 3, 'gamma': 0.00010241306579208853, 'subsample': 0.03128181325902518, 'colsample_bytree': 0.3168273215224337, 'reg_alpha': 0.04501352299141529, 'reg_lambda': 0.005987257748208087}. Best is trial 0 with value: 0.4843137254901961.\u001b[0m\n",
            "\u001b[32m[I 2023-02-08 23:48:53,016]\u001b[0m Trial 80 finished with value: 0.4843137254901961 and parameters: {'max_depth': 4, 'learning_rate': 0.17419421207267005, 'n_estimators': 415, 'min_child_weight': 2, 'gamma': 5.866991510046628e-05, 'subsample': 0.07797326706340695, 'colsample_bytree': 0.033675975958889506, 'reg_alpha': 0.0001225891024666517, 'reg_lambda': 0.04337065382140979}. Best is trial 0 with value: 0.4843137254901961.\u001b[0m\n",
            "\u001b[32m[I 2023-02-08 23:48:53,568]\u001b[0m Trial 81 finished with value: 0.4843137254901961 and parameters: {'max_depth': 4, 'learning_rate': 0.11789786589547135, 'n_estimators': 466, 'min_child_weight': 4, 'gamma': 0.00466941149866831, 'subsample': 0.09659810793084865, 'colsample_bytree': 0.02829355446968181, 'reg_alpha': 2.3861842062441357e-07, 'reg_lambda': 0.09275606815547414}. Best is trial 0 with value: 0.4843137254901961.\u001b[0m\n",
            "\u001b[32m[I 2023-02-08 23:48:53,954]\u001b[0m Trial 82 finished with value: 0.4843137254901961 and parameters: {'max_depth': 3, 'learning_rate': 0.3398352070836668, 'n_estimators': 317, 'min_child_weight': 9, 'gamma': 0.0011144474490899458, 'subsample': 0.05778935692923328, 'colsample_bytree': 0.03423225969743456, 'reg_alpha': 8.02639202713585e-06, 'reg_lambda': 0.02618966103470097}. Best is trial 0 with value: 0.4843137254901961.\u001b[0m\n",
            "\u001b[32m[I 2023-02-08 23:48:54,267]\u001b[0m Trial 83 finished with value: 0.4843137254901961 and parameters: {'max_depth': 4, 'learning_rate': 0.20003220033348898, 'n_estimators': 228, 'min_child_weight': 4, 'gamma': 0.0019050042651162498, 'subsample': 0.0827154195470768, 'colsample_bytree': 0.051670130908169784, 'reg_alpha': 0.017281625675130505, 'reg_lambda': 0.04796994176799558}. Best is trial 0 with value: 0.4843137254901961.\u001b[0m\n",
            "\u001b[32m[I 2023-02-08 23:48:54,527]\u001b[0m Trial 84 finished with value: 0.4843137254901961 and parameters: {'max_depth': 5, 'learning_rate': 0.31403376756397783, 'n_estimators': 184, 'min_child_weight': 3, 'gamma': 0.0002626735370799633, 'subsample': 0.06377808280023899, 'colsample_bytree': 0.041344401120787064, 'reg_alpha': 0.004846060898979381, 'reg_lambda': 0.017388634996141943}. Best is trial 0 with value: 0.4843137254901961.\u001b[0m\n",
            "\u001b[32m[I 2023-02-08 23:48:55,153]\u001b[0m Trial 85 finished with value: 0.4843137254901961 and parameters: {'max_depth': 6, 'learning_rate': 0.280264746408506, 'n_estimators': 488, 'min_child_weight': 1, 'gamma': 0.01546442758612927, 'subsample': 0.29389555270687967, 'colsample_bytree': 0.028298932417999707, 'reg_alpha': 0.0025593093714399253, 'reg_lambda': 0.12295489756005416}. Best is trial 0 with value: 0.4843137254901961.\u001b[0m\n",
            "\u001b[32m[I 2023-02-08 23:48:55,440]\u001b[0m Trial 86 finished with value: 0.4843137254901961 and parameters: {'max_depth': 4, 'learning_rate': 0.3828952390471464, 'n_estimators': 202, 'min_child_weight': 5, 'gamma': 0.0007932972510925155, 'subsample': 0.042531330419263595, 'colsample_bytree': 0.022309552094505487, 'reg_alpha': 0.00033146056394608075, 'reg_lambda': 0.24422001688601916}. Best is trial 0 with value: 0.4843137254901961.\u001b[0m\n",
            "\u001b[32m[I 2023-02-08 23:48:55,763]\u001b[0m Trial 87 finished with value: 0.4843137254901961 and parameters: {'max_depth': 5, 'learning_rate': 0.1116818744659688, 'n_estimators': 245, 'min_child_weight': 1, 'gamma': 0.023566748527487014, 'subsample': 0.0670556361305935, 'colsample_bytree': 0.03214199965696156, 'reg_alpha': 3.958635900679221e-06, 'reg_lambda': 7.165615386514864e-06}. Best is trial 0 with value: 0.4843137254901961.\u001b[0m\n",
            "\u001b[32m[I 2023-02-08 23:48:56,136]\u001b[0m Trial 88 finished with value: 0.4843137254901961 and parameters: {'max_depth': 3, 'learning_rate': 0.1580768078509842, 'n_estimators': 292, 'min_child_weight': 3, 'gamma': 7.055387284771026e-06, 'subsample': 0.12192014813294681, 'colsample_bytree': 0.02494579691372103, 'reg_alpha': 1.569560100291746e-05, 'reg_lambda': 0.004185297357713812}. Best is trial 0 with value: 0.4843137254901961.\u001b[0m\n",
            "\u001b[32m[I 2023-02-08 23:48:56,492]\u001b[0m Trial 89 finished with value: 0.4843137254901961 and parameters: {'max_depth': 6, 'learning_rate': 0.1378973895974635, 'n_estimators': 271, 'min_child_weight': 4, 'gamma': 4.79835300796803e-06, 'subsample': 0.11506924320900923, 'colsample_bytree': 0.07403936218294675, 'reg_alpha': 4.877022729146812e-05, 'reg_lambda': 0.00018947964808898815}. Best is trial 0 with value: 0.4843137254901961.\u001b[0m\n",
            "\u001b[32m[I 2023-02-08 23:48:57,046]\u001b[0m Trial 90 finished with value: 0.4843137254901961 and parameters: {'max_depth': 2, 'learning_rate': 0.08610516837266387, 'n_estimators': 454, 'min_child_weight': 2, 'gamma': 2.1751827074843267e-06, 'subsample': 0.15007847818544232, 'colsample_bytree': 0.1722623316106952, 'reg_alpha': 0.0006145792654123885, 'reg_lambda': 3.350203603393504e-05}. Best is trial 0 with value: 0.4843137254901961.\u001b[0m\n",
            "\u001b[32m[I 2023-02-08 23:48:57,508]\u001b[0m Trial 91 finished with value: 0.4843137254901961 and parameters: {'max_depth': 9, 'learning_rate': 0.6991265081245363, 'n_estimators': 359, 'min_child_weight': 2, 'gamma': 0.05796495765536973, 'subsample': 0.10007258159479318, 'colsample_bytree': 0.21945822709220256, 'reg_alpha': 0.11252800834908057, 'reg_lambda': 1.846524095244316e-05}. Best is trial 0 with value: 0.4843137254901961.\u001b[0m\n",
            "\u001b[32m[I 2023-02-08 23:48:57,924]\u001b[0m Trial 92 finished with value: 0.4843137254901961 and parameters: {'max_depth': 9, 'learning_rate': 0.8539647735735657, 'n_estimators': 335, 'min_child_weight': 1, 'gamma': 0.007438783611644439, 'subsample': 0.07590926055873502, 'colsample_bytree': 0.11448582797120772, 'reg_alpha': 9.001326036113737e-05, 'reg_lambda': 0.007971506193280724}. Best is trial 0 with value: 0.4843137254901961.\u001b[0m\n",
            "\u001b[32m[I 2023-02-08 23:48:58,445]\u001b[0m Trial 93 finished with value: 0.4843137254901961 and parameters: {'max_depth': 8, 'learning_rate': 0.19674067494482642, 'n_estimators': 378, 'min_child_weight': 3, 'gamma': 0.03771558675051867, 'subsample': 0.047598163708599865, 'colsample_bytree': 0.6662252451201964, 'reg_alpha': 2.6105315092100064e-05, 'reg_lambda': 0.0001146198802245977}. Best is trial 0 with value: 0.4843137254901961.\u001b[0m\n",
            "\u001b[32m[I 2023-02-08 23:48:59,004]\u001b[0m Trial 94 finished with value: 0.4843137254901961 and parameters: {'max_depth': 9, 'learning_rate': 0.500430784566429, 'n_estimators': 467, 'min_child_weight': 2, 'gamma': 0.0026988981177918604, 'subsample': 0.05705007446070165, 'colsample_bytree': 0.1359122387439224, 'reg_alpha': 0.007879358272254212, 'reg_lambda': 7.209277977315749e-05}. Best is trial 0 with value: 0.4843137254901961.\u001b[0m\n",
            "\u001b[32m[I 2023-02-08 23:48:59,529]\u001b[0m Trial 95 finished with value: 0.4843137254901961 and parameters: {'max_depth': 8, 'learning_rate': 0.5871432740979852, 'n_estimators': 442, 'min_child_weight': 1, 'gamma': 0.0017614361370361473, 'subsample': 0.014291293247526283, 'colsample_bytree': 0.09325219677072491, 'reg_alpha': 0.014501917177420968, 'reg_lambda': 0.06828178010647538}. Best is trial 0 with value: 0.4843137254901961.\u001b[0m\n",
            "\u001b[32m[I 2023-02-08 23:49:00,034]\u001b[0m Trial 96 finished with value: 0.4843137254901961 and parameters: {'max_depth': 9, 'learning_rate': 0.16862520103613604, 'n_estimators': 418, 'min_child_weight': 1, 'gamma': 1.5844444627673305e-05, 'subsample': 0.06271365974879643, 'colsample_bytree': 0.16591956327431, 'reg_alpha': 0.004010818447469061, 'reg_lambda': 0.5139334035833087}. Best is trial 0 with value: 0.4843137254901961.\u001b[0m\n",
            "\u001b[32m[I 2023-02-08 23:49:00,283]\u001b[0m Trial 97 finished with value: 0.4843137254901961 and parameters: {'max_depth': 3, 'learning_rate': 0.09748787978608023, 'n_estimators': 159, 'min_child_weight': 3, 'gamma': 0.0006082895950238291, 'subsample': 0.02254986964358029, 'colsample_bytree': 0.23951936118995992, 'reg_alpha': 1.3752100644111693e-06, 'reg_lambda': 0.0002747601212114216}. Best is trial 0 with value: 0.4843137254901961.\u001b[0m\n",
            "\u001b[32m[I 2023-02-08 23:49:00,476]\u001b[0m Trial 98 finished with value: 0.4843137254901961 and parameters: {'max_depth': 7, 'learning_rate': 0.23152034580538042, 'n_estimators': 112, 'min_child_weight': 5, 'gamma': 0.0003252782657520608, 'subsample': 0.03704614938729724, 'colsample_bytree': 0.19750309778281544, 'reg_alpha': 1.1730712769809228e-05, 'reg_lambda': 0.0010244156031311335}. Best is trial 0 with value: 0.4843137254901961.\u001b[0m\n",
            "\u001b[32m[I 2023-02-08 23:49:00,998]\u001b[0m Trial 99 finished with value: 0.4843137254901961 and parameters: {'max_depth': 8, 'learning_rate': 0.4029443208500905, 'n_estimators': 402, 'min_child_weight': 2, 'gamma': 0.00014276920231206928, 'subsample': 0.07846403217748486, 'colsample_bytree': 0.36076807366523467, 'reg_alpha': 5.022399376804488e-06, 'reg_lambda': 0.0004916114131752398}. Best is trial 0 with value: 0.4843137254901961.\u001b[0m\n",
            "\u001b[32m[I 2023-02-08 23:49:01,784]\u001b[0m Trial 100 finished with value: 0.4843137254901961 and parameters: {'max_depth': 5, 'learning_rate': 0.12527680430335258, 'n_estimators': 483, 'min_child_weight': 1, 'gamma': 8.267522771424937e-05, 'subsample': 0.0952345900016029, 'colsample_bytree': 0.4085221258809706, 'reg_alpha': 0.00020180066535149745, 'reg_lambda': 0.001559029638537786}. Best is trial 0 with value: 0.4843137254901961.\u001b[0m\n",
            "\u001b[32m[I 2023-02-08 23:49:02,040]\u001b[0m Trial 101 finished with value: 0.4843137254901961 and parameters: {'max_depth': 1, 'learning_rate': 0.9809320475513263, 'n_estimators': 61, 'min_child_weight': 7, 'gamma': 5.63366002579578e-07, 'subsample': 0.9692971064804471, 'colsample_bytree': 0.5012413964267208, 'reg_alpha': 1.575438652222221e-08, 'reg_lambda': 0.7228514022051438}. Best is trial 0 with value: 0.4843137254901961.\u001b[0m\n",
            "\u001b[32m[I 2023-02-08 23:49:02,374]\u001b[0m Trial 102 finished with value: 0.4843137254901961 and parameters: {'max_depth': 1, 'learning_rate': 0.7128711396534766, 'n_estimators': 86, 'min_child_weight': 9, 'gamma': 4.8998821924753044e-08, 'subsample': 0.5187118140945373, 'colsample_bytree': 0.5794818577471711, 'reg_alpha': 5.965023456349922e-07, 'reg_lambda': 0.2651382478357537}. Best is trial 0 with value: 0.4843137254901961.\u001b[0m\n",
            "\u001b[32m[I 2023-02-08 23:49:02,667]\u001b[0m Trial 103 finished with value: 0.4843137254901961 and parameters: {'max_depth': 1, 'learning_rate': 0.808170736620549, 'n_estimators': 69, 'min_child_weight': 8, 'gamma': 2.723453742411745e-05, 'subsample': 0.334230390570519, 'colsample_bytree': 0.7818631810311579, 'reg_alpha': 3.680277725333358e-05, 'reg_lambda': 0.36704761966909266}. Best is trial 0 with value: 0.4843137254901961.\u001b[0m\n",
            "\u001b[32m[I 2023-02-08 23:49:03,020]\u001b[0m Trial 104 finished with value: 0.4843137254901961 and parameters: {'max_depth': 2, 'learning_rate': 0.8416786206091795, 'n_estimators': 97, 'min_child_weight': 6, 'gamma': 1.042403566079489e-06, 'subsample': 0.1844534993864434, 'colsample_bytree': 0.9956352383297691, 'reg_alpha': 1.8061976660455396e-06, 'reg_lambda': 0.13731483699016941}. Best is trial 0 with value: 0.4843137254901961.\u001b[0m\n",
            "\u001b[32m[I 2023-02-08 23:49:04,225]\u001b[0m Trial 105 finished with value: 0.4843137254901961 and parameters: {'max_depth': 1, 'learning_rate': 0.5980116304137439, 'n_estimators': 435, 'min_child_weight': 5, 'gamma': 3.3390267034054143e-07, 'subsample': 0.39522879653064347, 'colsample_bytree': 0.8813667022060302, 'reg_alpha': 9.649840977351091e-08, 'reg_lambda': 0.19560754679853712}. Best is trial 0 with value: 0.4843137254901961.\u001b[0m\n",
            "\u001b[32m[I 2023-02-08 23:49:04,992]\u001b[0m Trial 106 finished with value: 0.4843137254901961 and parameters: {'max_depth': 6, 'learning_rate': 0.14817608512458258, 'n_estimators': 260, 'min_child_weight': 10, 'gamma': 9.930987627283019e-06, 'subsample': 0.6539695417565342, 'colsample_bytree': 0.4725602912129926, 'reg_alpha': 1.0946206160437129e-05, 'reg_lambda': 0.03273717959014741}. Best is trial 0 with value: 0.4843137254901961.\u001b[0m\n",
            "\u001b[32m[I 2023-02-08 23:49:05,400]\u001b[0m Trial 107 finished with value: 0.4843137254901961 and parameters: {'max_depth': 6, 'learning_rate': 0.25918040227726996, 'n_estimators': 138, 'min_child_weight': 8, 'gamma': 1.0089214614115256e-08, 'subsample': 0.8298410224482461, 'colsample_bytree': 0.0301549864497802, 'reg_alpha': 6.6475530933839e-05, 'reg_lambda': 0.07895152961830769}. Best is trial 0 with value: 0.4843137254901961.\u001b[0m\n",
            "\u001b[32m[I 2023-02-08 23:49:05,876]\u001b[0m Trial 108 finished with value: 0.4843137254901961 and parameters: {'max_depth': 3, 'learning_rate': 0.11009725981679229, 'n_estimators': 101, 'min_child_weight': 4, 'gamma': 4.632244173387586e-05, 'subsample': 0.22069083776027945, 'colsample_bytree': 0.6636139615171874, 'reg_alpha': 3.0011354082515633e-06, 'reg_lambda': 8.961664058035266e-08}. Best is trial 0 with value: 0.4843137254901961.\u001b[0m\n",
            "\u001b[32m[I 2023-02-08 23:49:06,746]\u001b[0m Trial 109 finished with value: 0.4843137254901961 and parameters: {'max_depth': 1, 'learning_rate': 0.07541247040895895, 'n_estimators': 472, 'min_child_weight': 2, 'gamma': 1.5602673933468906e-06, 'subsample': 0.15526335246876546, 'colsample_bytree': 0.1016019287662007, 'reg_alpha': 0.0010985942778858173, 'reg_lambda': 0.8445782949982998}. Best is trial 0 with value: 0.4843137254901961.\u001b[0m\n",
            "\u001b[32m[I 2023-02-08 23:49:07,852]\u001b[0m Trial 110 finished with value: 0.4843137254901961 and parameters: {'max_depth': 4, 'learning_rate': 0.46596856742832604, 'n_estimators': 458, 'min_child_weight': 7, 'gamma': 2.1701417554800575e-05, 'subsample': 0.1370270038572065, 'colsample_bytree': 0.26337143883004605, 'reg_alpha': 5.677467301250682e-06, 'reg_lambda': 0.5688339720369242}. Best is trial 0 with value: 0.4843137254901961.\u001b[0m\n",
            "\u001b[32m[I 2023-02-08 23:49:08,405]\u001b[0m Trial 111 finished with value: 0.4843137254901961 and parameters: {'max_depth': 1, 'learning_rate': 0.3136827502995364, 'n_estimators': 177, 'min_child_weight': 7, 'gamma': 0.00019817619534943088, 'subsample': 0.26189543057402664, 'colsample_bytree': 0.01261335669846334, 'reg_alpha': 0.0008643877151307431, 'reg_lambda': 1.1339453971184026e-08}. Best is trial 0 with value: 0.4843137254901961.\u001b[0m\n",
            "\u001b[32m[I 2023-02-08 23:49:09,063]\u001b[0m Trial 112 finished with value: 0.4843137254901961 and parameters: {'max_depth': 1, 'learning_rate': 0.5609790420392158, 'n_estimators': 209, 'min_child_weight': 6, 'gamma': 0.13345973228074515, 'subsample': 0.32159386159912573, 'colsample_bytree': 0.336248674183585, 'reg_alpha': 0.00014866961452162985, 'reg_lambda': 0.0008219553819697166}. Best is trial 0 with value: 0.4843137254901961.\u001b[0m\n",
            "\u001b[32m[I 2023-02-08 23:49:09,525]\u001b[0m Trial 113 finished with value: 0.4843137254901961 and parameters: {'max_depth': 2, 'learning_rate': 0.629586625239781, 'n_estimators': 147, 'min_child_weight': 7, 'gamma': 4.101321250554193e-06, 'subsample': 0.34259345502162847, 'colsample_bytree': 0.020904796530746672, 'reg_alpha': 0.0004611747147358895, 'reg_lambda': 0.021696598942725877}. Best is trial 0 with value: 0.4843137254901961.\u001b[0m\n",
            "\u001b[32m[I 2023-02-08 23:49:09,995]\u001b[0m Trial 114 finished with value: 0.4843137254901961 and parameters: {'max_depth': 1, 'learning_rate': 0.4325693060394745, 'n_estimators': 195, 'min_child_weight': 6, 'gamma': 2.925695364486513e-06, 'subsample': 0.28480954522220764, 'colsample_bytree': 0.02609153102715761, 'reg_alpha': 0.0017507112999174425, 'reg_lambda': 2.0631941870348095e-08}. Best is trial 0 with value: 0.4843137254901961.\u001b[0m\n",
            "\u001b[32m[I 2023-02-08 23:49:10,432]\u001b[0m Trial 115 finished with value: 0.4843137254901961 and parameters: {'max_depth': 2, 'learning_rate': 0.35138307257799795, 'n_estimators': 173, 'min_child_weight': 8, 'gamma': 2.2021066461261124e-06, 'subsample': 0.42840234463486826, 'colsample_bytree': 0.037095988877430465, 'reg_alpha': 0.0003173806820963046, 'reg_lambda': 0.11194573506026473}. Best is trial 0 with value: 0.4843137254901961.\u001b[0m\n",
            "\u001b[32m[I 2023-02-08 23:49:10,778]\u001b[0m Trial 116 finished with value: 0.4843137254901961 and parameters: {'max_depth': 7, 'learning_rate': 0.06138117576047473, 'n_estimators': 240, 'min_child_weight': 5, 'gamma': 7.078281825692867e-06, 'subsample': 0.36770375519137016, 'colsample_bytree': 0.018106575376201844, 'reg_alpha': 8.790364391606127e-05, 'reg_lambda': 0.01074576940135657}. Best is trial 0 with value: 0.4843137254901961.\u001b[0m\n",
            "\u001b[32m[I 2023-02-08 23:49:11,035]\u001b[0m Trial 117 finished with value: 0.4843137254901961 and parameters: {'max_depth': 2, 'learning_rate': 0.5154984165584838, 'n_estimators': 160, 'min_child_weight': 1, 'gamma': 1.4387971952926205e-07, 'subsample': 0.20334539351450895, 'colsample_bytree': 0.15064747516349836, 'reg_alpha': 0.9802945635788918, 'reg_lambda': 6.415688239387088e-08}. Best is trial 0 with value: 0.4843137254901961.\u001b[0m\n",
            "\u001b[32m[I 2023-02-08 23:49:11,317]\u001b[0m Trial 118 finished with value: 0.4843137254901961 and parameters: {'max_depth': 5, 'learning_rate': 0.08904648159846335, 'n_estimators': 182, 'min_child_weight': 9, 'gamma': 1.1023966783792368e-05, 'subsample': 0.23193596048758353, 'colsample_bytree': 0.12297817736312107, 'reg_alpha': 5.158507200607151e-07, 'reg_lambda': 3.974588062703034e-07}. Best is trial 0 with value: 0.4843137254901961.\u001b[0m\n",
            "\u001b[32m[I 2023-02-08 23:49:11,455]\u001b[0m Trial 119 finished with value: 0.4843137254901961 and parameters: {'max_depth': 9, 'learning_rate': 0.7709304191401165, 'n_estimators': 50, 'min_child_weight': 7, 'gamma': 0.23249865384870816, 'subsample': 0.08533643619903393, 'colsample_bytree': 0.18285443388709718, 'reg_alpha': 0.00233456967338178, 'reg_lambda': 0.00038482082022301827}. Best is trial 0 with value: 0.4843137254901961.\u001b[0m\n",
            "\u001b[32m[I 2023-02-08 23:49:11,834]\u001b[0m Trial 120 finished with value: 0.4843137254901961 and parameters: {'max_depth': 4, 'learning_rate': 0.9090741717734806, 'n_estimators': 221, 'min_child_weight': 4, 'gamma': 4.141771638175934e-05, 'subsample': 0.2446509427529464, 'colsample_bytree': 0.5507417631179778, 'reg_alpha': 3.889650559089113e-07, 'reg_lambda': 0.0036646117702270184}. Best is trial 0 with value: 0.4843137254901961.\u001b[0m\n",
            "\u001b[32m[I 2023-02-08 23:49:12,099]\u001b[0m Trial 121 finished with value: 0.4843137254901961 and parameters: {'max_depth': 1, 'learning_rate': 0.07896660201156394, 'n_estimators': 169, 'min_child_weight': 6, 'gamma': 0.7172619741893961, 'subsample': 0.07088558034084348, 'colsample_bytree': 0.2897860967408537, 'reg_alpha': 8.672501490876949e-07, 'reg_lambda': 0.0023955182191763113}. Best is trial 0 with value: 0.4843137254901961.\u001b[0m\n",
            "\u001b[32m[I 2023-02-08 23:49:12,352]\u001b[0m Trial 122 finished with value: 0.4843137254901961 and parameters: {'max_depth': 3, 'learning_rate': 0.021288403019598452, 'n_estimators': 134, 'min_child_weight': 7, 'gamma': 0.00439224904217223, 'subsample': 0.3129052995380537, 'colsample_bytree': 0.3943163246148714, 'reg_alpha': 2.8320723736100914e-07, 'reg_lambda': 0.005558871680456707}. Best is trial 0 with value: 0.4843137254901961.\u001b[0m\n",
            "\u001b[32m[I 2023-02-08 23:49:12,602]\u001b[0m Trial 123 finished with value: 0.4843137254901961 and parameters: {'max_depth': 2, 'learning_rate': 0.9897466088180494, 'n_estimators': 154, 'min_child_weight': 8, 'gamma': 5.343574413630042e-06, 'subsample': 0.0614520766209924, 'colsample_bytree': 0.3027315361427426, 'reg_alpha': 1.4421164919846404e-06, 'reg_lambda': 0.009193562090561047}. Best is trial 0 with value: 0.4843137254901961.\u001b[0m\n",
            "\u001b[32m[I 2023-02-08 23:49:13,090]\u001b[0m Trial 124 finished with value: 0.4843137254901961 and parameters: {'max_depth': 3, 'learning_rate': 0.05154632768221783, 'n_estimators': 383, 'min_child_weight': 6, 'gamma': 0.01326621740588338, 'subsample': 0.04973050331286094, 'colsample_bytree': 0.02337895244709923, 'reg_alpha': 1.8929754154689962e-07, 'reg_lambda': 0.046623759090208966}. Best is trial 0 with value: 0.4843137254901961.\u001b[0m\n",
            "\u001b[32m[I 2023-02-08 23:49:13,317]\u001b[0m Trial 125 finished with value: 0.4843137254901961 and parameters: {'max_depth': 2, 'learning_rate': 0.7436163303960304, 'n_estimators': 122, 'min_child_weight': 1, 'gamma': 0.00039055629346558285, 'subsample': 0.10774579373153993, 'colsample_bytree': 0.44735802015211545, 'reg_alpha': 0.029641830440211597, 'reg_lambda': 0.00022601381461287998}. Best is trial 0 with value: 0.4843137254901961.\u001b[0m\n",
            "\u001b[32m[I 2023-02-08 23:49:13,602]\u001b[0m Trial 126 finished with value: 0.4843137254901961 and parameters: {'max_depth': 1, 'learning_rate': 0.6334684477754281, 'n_estimators': 201, 'min_child_weight': 5, 'gamma': 8.246496788019494e-05, 'subsample': 0.119101293428043, 'colsample_bytree': 0.014297328653279002, 'reg_alpha': 0.009914207044656185, 'reg_lambda': 0.0001311291072497464}. Best is trial 0 with value: 0.4843137254901961.\u001b[0m\n",
            "\u001b[32m[I 2023-02-08 23:49:13,919]\u001b[0m Trial 127 finished with value: 0.4843137254901961 and parameters: {'max_depth': 1, 'learning_rate': 0.06746015532507549, 'n_estimators': 191, 'min_child_weight': 3, 'gamma': 0.02625813341533106, 'subsample': 0.16945487863750802, 'colsample_bytree': 0.3661892852135041, 'reg_alpha': 0.0069272905933453, 'reg_lambda': 0.0006728344175082734}. Best is trial 0 with value: 0.4843137254901961.\u001b[0m\n",
            "\u001b[32m[I 2023-02-08 23:49:14,612]\u001b[0m Trial 128 finished with value: 0.4843137254901961 and parameters: {'max_depth': 2, 'learning_rate': 0.09441207826423491, 'n_estimators': 497, 'min_child_weight': 1, 'gamma': 1.5088068279387229e-05, 'subsample': 0.05623720495974735, 'colsample_bytree': 0.02790047368994873, 'reg_alpha': 2.4236103092750163e-05, 'reg_lambda': 0.0013186116296443615}. Best is trial 0 with value: 0.4843137254901961.\u001b[0m\n",
            "\u001b[32m[I 2023-02-08 23:49:14,886]\u001b[0m Trial 129 finished with value: 0.4843137254901961 and parameters: {'max_depth': 4, 'learning_rate': 0.6827578163565848, 'n_estimators': 78, 'min_child_weight': 10, 'gamma': 0.006456233688271454, 'subsample': 0.06721184368133164, 'colsample_bytree': 0.031745132701159993, 'reg_alpha': 0.4414880142601663, 'reg_lambda': 0.017839537118804885}. Best is trial 0 with value: 0.4843137254901961.\u001b[0m\n",
            "\u001b[32m[I 2023-02-08 23:49:15,130]\u001b[0m Trial 130 finished with value: 0.4843137254901961 and parameters: {'max_depth': 9, 'learning_rate': 0.07168074386627524, 'n_estimators': 64, 'min_child_weight': 7, 'gamma': 0.0015331776226865748, 'subsample': 0.04133210287737174, 'colsample_bytree': 0.010400671025114622, 'reg_alpha': 0.10842966358835644, 'reg_lambda': 1.2094057282491347e-06}. Best is trial 0 with value: 0.4843137254901961.\u001b[0m\n",
            "\u001b[32m[I 2023-02-08 23:49:15,800]\u001b[0m Trial 131 finished with value: 0.4843137254901961 and parameters: {'max_depth': 3, 'learning_rate': 0.29250271169196074, 'n_estimators': 286, 'min_child_weight': 6, 'gamma': 3.436078949762602e-06, 'subsample': 0.5504273169974817, 'colsample_bytree': 0.035107765357787514, 'reg_alpha': 4.705033106525498e-05, 'reg_lambda': 1.5900291554330167e-07}. Best is trial 0 with value: 0.4843137254901961.\u001b[0m\n",
            "\u001b[32m[I 2023-02-08 23:49:17,905]\u001b[0m Trial 132 finished with value: 0.4843137254901961 and parameters: {'max_depth': 3, 'learning_rate': 0.21497848258176766, 'n_estimators': 227, 'min_child_weight': 6, 'gamma': 1.416710656904668e-06, 'subsample': 0.4504787327512297, 'colsample_bytree': 0.10779743496811377, 'reg_alpha': 0.00012016660989701588, 'reg_lambda': 0.322759808615633}. Best is trial 0 with value: 0.4843137254901961.\u001b[0m\n",
            "\u001b[32m[I 2023-02-08 23:49:18,599]\u001b[0m Trial 133 finished with value: 0.4843137254901961 and parameters: {'max_depth': 3, 'learning_rate': 0.24287605814801178, 'n_estimators': 264, 'min_child_weight': 7, 'gamma': 0.010029344027991105, 'subsample': 0.27639249645352687, 'colsample_bytree': 0.0500971177463521, 'reg_alpha': 8.548021276723033e-08, 'reg_lambda': 5.057290361687131e-08}. Best is trial 0 with value: 0.4843137254901961.\u001b[0m\n",
            "\u001b[32m[I 2023-02-08 23:49:19,287]\u001b[0m Trial 134 finished with value: 0.4843137254901961 and parameters: {'max_depth': 6, 'learning_rate': 0.09978827627803742, 'n_estimators': 316, 'min_child_weight': 5, 'gamma': 2.470117815834512e-06, 'subsample': 0.045769393267968216, 'colsample_bytree': 0.03951085436716147, 'reg_alpha': 0.00022686406864752423, 'reg_lambda': 1.9253245221758552e-08}. Best is trial 0 with value: 0.4843137254901961.\u001b[0m\n",
            "\u001b[32m[I 2023-02-08 23:49:19,619]\u001b[0m Trial 135 finished with value: 0.4843137254901961 and parameters: {'max_depth': 8, 'learning_rate': 0.3999126427017837, 'n_estimators': 111, 'min_child_weight': 6, 'gamma': 0.00014375454493756296, 'subsample': 0.5956234622385418, 'colsample_bytree': 0.043404326664355196, 'reg_alpha': 0.004120826278711052, 'reg_lambda': 0.0021206566703631346}. Best is trial 0 with value: 0.4843137254901961.\u001b[0m\n",
            "\u001b[32m[I 2023-02-08 23:49:20,557]\u001b[0m Trial 136 finished with value: 0.4843137254901961 and parameters: {'max_depth': 7, 'learning_rate': 0.08267888214402429, 'n_estimators': 427, 'min_child_weight': 4, 'gamma': 6.629609306205361e-07, 'subsample': 0.7761365924193891, 'colsample_bytree': 0.22176109918874243, 'reg_alpha': 2.3609594277605088e-06, 'reg_lambda': 0.18209275700632882}. Best is trial 0 with value: 0.4843137254901961.\u001b[0m\n",
            "\u001b[32m[I 2023-02-08 23:49:21,051]\u001b[0m Trial 137 finished with value: 0.4843137254901961 and parameters: {'max_depth': 4, 'learning_rate': 0.18686746382905636, 'n_estimators': 342, 'min_child_weight': 8, 'gamma': 0.6532788513277796, 'subsample': 0.3784891261729079, 'colsample_bytree': 0.1342078198189744, 'reg_alpha': 1.8797105698982126e-05, 'reg_lambda': 0.0696673588757385}. Best is trial 0 with value: 0.4843137254901961.\u001b[0m\n",
            "\u001b[32m[I 2023-02-08 23:49:21,307]\u001b[0m Trial 138 finished with value: 0.4843137254901961 and parameters: {'max_depth': 2, 'learning_rate': 0.3278152101163144, 'n_estimators': 148, 'min_child_weight': 2, 'gamma': 0.9829179919795517, 'subsample': 0.034659777280920415, 'colsample_bytree': 0.26731908331353615, 'reg_alpha': 4.065338524872365e-05, 'reg_lambda': 0.943236027464718}. Best is trial 0 with value: 0.4843137254901961.\u001b[0m\n",
            "\u001b[32m[I 2023-02-08 23:49:21,976]\u001b[0m Trial 139 finished with value: 0.4843137254901961 and parameters: {'max_depth': 3, 'learning_rate': 0.11971053725721428, 'n_estimators': 447, 'min_child_weight': 1, 'gamma': 0.002798523411399172, 'subsample': 0.47596255034041424, 'colsample_bytree': 0.3313753059565136, 'reg_alpha': 7.00053995487145e-05, 'reg_lambda': 0.031098587786177904}. Best is trial 0 with value: 0.4843137254901961.\u001b[0m\n",
            "\u001b[32m[I 2023-02-08 23:49:22,279]\u001b[0m Trial 140 finished with value: 0.4843137254901961 and parameters: {'max_depth': 5, 'learning_rate': 0.25686403088336035, 'n_estimators': 213, 'min_child_weight': 3, 'gamma': 9.555012729883071e-08, 'subsample': 0.024735740454981628, 'colsample_bytree': 0.08816829911796865, 'reg_alpha': 0.05789703908962049, 'reg_lambda': 4.7228646535472115e-05}. Best is trial 0 with value: 0.4843137254901961.\u001b[0m\n",
            "\u001b[32m[I 2023-02-08 23:49:22,500]\u001b[0m Trial 141 finished with value: 0.4843137254901961 and parameters: {'max_depth': 1, 'learning_rate': 0.13703814873060285, 'n_estimators': 126, 'min_child_weight': 10, 'gamma': 0.0010565308658775413, 'subsample': 0.4092511529827137, 'colsample_bytree': 0.06605576402329172, 'reg_alpha': 0.0011458709653308888, 'reg_lambda': 0.000959147391051191}. Best is trial 0 with value: 0.4843137254901961.\u001b[0m\n",
            "\u001b[32m[I 2023-02-08 23:49:22,753]\u001b[0m Trial 142 finished with value: 0.4843137254901961 and parameters: {'max_depth': 2, 'learning_rate': 0.1052679628294528, 'n_estimators': 142, 'min_child_weight': 9, 'gamma': 9.983466654083965e-07, 'subsample': 0.12759571998558572, 'colsample_bytree': 0.5006029970859207, 'reg_alpha': 1.3623580902364907e-08, 'reg_lambda': 0.003650351558011171}. Best is trial 0 with value: 0.4843137254901961.\u001b[0m\n",
            "\u001b[32m[I 2023-02-08 23:49:23,016]\u001b[0m Trial 143 finished with value: 0.4843137254901961 and parameters: {'max_depth': 3, 'learning_rate': 0.15156837130311865, 'n_estimators': 166, 'min_child_weight': 9, 'gamma': 0.0005988697309068895, 'subsample': 0.017800407488909122, 'colsample_bytree': 0.030047096650992613, 'reg_alpha': 0.0027851330464885274, 'reg_lambda': 0.0005027203864350687}. Best is trial 0 with value: 0.4843137254901961.\u001b[0m\n",
            "\u001b[32m[I 2023-02-08 23:49:23,189]\u001b[0m Trial 144 finished with value: 0.4843137254901961 and parameters: {'max_depth': 1, 'learning_rate': 0.16422112436914957, 'n_estimators': 88, 'min_child_weight': 9, 'gamma': 0.0034801491196728433, 'subsample': 0.1504357195892302, 'colsample_bytree': 0.05801912304628989, 'reg_alpha': 0.1678434442048845, 'reg_lambda': 0.0016015879189649714}. Best is trial 0 with value: 0.4843137254901961.\u001b[0m\n",
            "\u001b[32m[I 2023-02-08 23:49:23,441]\u001b[0m Trial 145 finished with value: 0.4843137254901961 and parameters: {'max_depth': 2, 'learning_rate': 0.1144944885215365, 'n_estimators': 154, 'min_child_weight': 8, 'gamma': 0.000731526908120753, 'subsample': 0.19570347145497297, 'colsample_bytree': 0.03538430816515023, 'reg_alpha': 0.480506284216397, 'reg_lambda': 0.46563073754874396}. Best is trial 0 with value: 0.4843137254901961.\u001b[0m\n",
            "\u001b[32m[I 2023-02-08 23:49:23,778]\u001b[0m Trial 146 finished with value: 0.4843137254901961 and parameters: {'max_depth': 6, 'learning_rate': 0.0393828337130268, 'n_estimators': 249, 'min_child_weight': 9, 'gamma': 3.7488517189047896e-07, 'subsample': 0.1376483884976254, 'colsample_bytree': 0.01990852823934795, 'reg_alpha': 0.00538583164614403, 'reg_lambda': 0.0001816063680538456}. Best is trial 0 with value: 0.4843137254901961.\u001b[0m\n",
            "\u001b[32m[I 2023-02-08 23:49:24,062]\u001b[0m Trial 147 finished with value: 0.4843137254901961 and parameters: {'max_depth': 4, 'learning_rate': 0.20216175286081495, 'n_estimators': 187, 'min_child_weight': 1, 'gamma': 0.0002610992531559968, 'subsample': 0.052344257736037444, 'colsample_bytree': 0.02411547954971647, 'reg_alpha': 3.877219152554368e-06, 'reg_lambda': 9.404602680182019e-05}. Best is trial 0 with value: 0.4843137254901961.\u001b[0m\n",
            "\u001b[32m[I 2023-02-08 23:49:24,515]\u001b[0m Trial 148 finished with value: 0.4843137254901961 and parameters: {'max_depth': 9, 'learning_rate': 0.879732503795737, 'n_estimators': 368, 'min_child_weight': 10, 'gamma': 0.001877863720138144, 'subsample': 0.03926276349799018, 'colsample_bytree': 0.08539379575835346, 'reg_alpha': 2.8826138897783863e-08, 'reg_lambda': 2.0317319580306856e-07}. Best is trial 0 with value: 0.4843137254901961.\u001b[0m\n",
            "\u001b[32m[I 2023-02-08 23:49:24,699]\u001b[0m Trial 149 finished with value: 0.4843137254901961 and parameters: {'max_depth': 1, 'learning_rate': 0.544808464106038, 'n_estimators': 92, 'min_child_weight': 8, 'gamma': 7.92360976757416e-06, 'subsample': 0.7305419546322983, 'colsample_bytree': 0.021763859971435682, 'reg_alpha': 1.1066310215860726e-06, 'reg_lambda': 3.506553926015643e-07}. Best is trial 0 with value: 0.4843137254901961.\u001b[0m\n",
            "\u001b[32m[I 2023-02-08 23:49:24,969]\u001b[0m Trial 150 finished with value: 0.4843137254901961 and parameters: {'max_depth': 1, 'learning_rate': 0.8113432553741469, 'n_estimators': 132, 'min_child_weight': 2, 'gamma': 4.355331231746237e-06, 'subsample': 0.8693433626562308, 'colsample_bytree': 0.7385878999528784, 'reg_alpha': 2.9368830446253373e-05, 'reg_lambda': 0.0070660391693589345}. Best is trial 0 with value: 0.4843137254901961.\u001b[0m\n",
            "\u001b[32m[I 2023-02-08 23:49:25,355]\u001b[0m Trial 151 finished with value: 0.4843137254901961 and parameters: {'max_depth': 3, 'learning_rate': 0.4343922711464749, 'n_estimators': 261, 'min_child_weight': 5, 'gamma': 7.58203388131988e-07, 'subsample': 0.1796959582912022, 'colsample_bytree': 0.24986430027967368, 'reg_alpha': 1.0974082628387791e-07, 'reg_lambda': 0.011401317896154643}. Best is trial 0 with value: 0.4843137254901961.\u001b[0m\n",
            "\u001b[32m[I 2023-02-08 23:49:25,941]\u001b[0m Trial 152 finished with value: 0.4843137254901961 and parameters: {'max_depth': 3, 'learning_rate': 0.4854206018786984, 'n_estimators': 462, 'min_child_weight': 5, 'gamma': 2.0012983711804857e-06, 'subsample': 0.012360524784262646, 'colsample_bytree': 0.17621745603780206, 'reg_alpha': 0.01584959508600968, 'reg_lambda': 1.0779168384696948e-07}. Best is trial 0 with value: 0.4843137254901961.\u001b[0m\n",
            "\u001b[32m[I 2023-02-08 23:49:26,322]\u001b[0m Trial 153 finished with value: 0.4843137254901961 and parameters: {'max_depth': 3, 'learning_rate': 0.37930999353625805, 'n_estimators': 272, 'min_child_weight': 5, 'gamma': 4.456123249953536e-07, 'subsample': 0.020186294049586457, 'colsample_bytree': 0.15462464841919446, 'reg_alpha': 0.025502494125288076, 'reg_lambda': 0.00032231739637267754}. Best is trial 0 with value: 0.4843137254901961.\u001b[0m\n",
            "\u001b[32m[I 2023-02-08 23:49:26,850]\u001b[0m Trial 154 finished with value: 0.4843137254901961 and parameters: {'max_depth': 5, 'learning_rate': 0.08965171901490239, 'n_estimators': 397, 'min_child_weight': 4, 'gamma': 1.240515193262141e-06, 'subsample': 0.2466319959805207, 'colsample_bytree': 0.20106235059321276, 'reg_alpha': 3.672313905871323e-07, 'reg_lambda': 0.05168318839211919}. Best is trial 0 with value: 0.4843137254901961.\u001b[0m\n",
            "\u001b[32m[I 2023-02-08 23:49:27,207]\u001b[0m Trial 155 finished with value: 0.4843137254901961 and parameters: {'max_depth': 3, 'learning_rate': 0.2866809667152568, 'n_estimators': 237, 'min_child_weight': 6, 'gamma': 2.1042864502863378e-07, 'subsample': 0.010041913470254292, 'colsample_bytree': 0.6207010971306558, 'reg_alpha': 0.07845059004035279, 'reg_lambda': 0.019680614188461964}. Best is trial 0 with value: 0.4843137254901961.\u001b[0m\n",
            "\u001b[32m[I 2023-02-08 23:49:27,799]\u001b[0m Trial 156 finished with value: 0.4843137254901961 and parameters: {'max_depth': 2, 'learning_rate': 0.33804967429339267, 'n_estimators': 486, 'min_child_weight': 5, 'gamma': 9.01788011156301e-07, 'subsample': 0.02887311464679908, 'colsample_bytree': 0.018274356223059115, 'reg_alpha': 0.012166838634302082, 'reg_lambda': 1.0352936376592884e-08}. Best is trial 0 with value: 0.4843137254901961.\u001b[0m\n",
            "\u001b[32m[I 2023-02-08 23:49:28,160]\u001b[0m Trial 157 finished with value: 0.4843137254901961 and parameters: {'max_depth': 4, 'learning_rate': 0.12756946743134337, 'n_estimators': 116, 'min_child_weight': 7, 'gamma': 5.39467574347728e-07, 'subsample': 0.161346817180006, 'colsample_bytree': 0.30865880424266656, 'reg_alpha': 6.9552942179427365e-06, 'reg_lambda': 0.09151083561747013}. Best is trial 0 with value: 0.4843137254901961.\u001b[0m\n",
            "\u001b[32m[I 2023-02-08 23:49:29,005]\u001b[0m Trial 158 finished with value: 0.4843137254901961 and parameters: {'max_depth': 5, 'learning_rate': 0.5743999003484965, 'n_estimators': 416, 'min_child_weight': 6, 'gamma': 0.005140180849792406, 'subsample': 0.6669233810586739, 'colsample_bytree': 0.0265708679938443, 'reg_alpha': 5.530169722966411e-07, 'reg_lambda': 0.21824210167854566}. Best is trial 0 with value: 0.4843137254901961.\u001b[0m\n",
            "\u001b[32m[I 2023-02-08 23:49:29,310]\u001b[0m Trial 159 finished with value: 0.4843137254901961 and parameters: {'max_depth': 3, 'learning_rate': 0.2233140809812126, 'n_estimators': 76, 'min_child_weight': 4, 'gamma': 0.00047222962289250055, 'subsample': 0.307634749974029, 'colsample_bytree': 0.41886078629383605, 'reg_alpha': 0.0021040857641018325, 'reg_lambda': 6.422096002425887e-07}. Best is trial 0 with value: 0.4843137254901961.\u001b[0m\n",
            "\u001b[32m[I 2023-02-08 23:49:29,563]\u001b[0m Trial 160 finished with value: 0.4843137254901961 and parameters: {'max_depth': 7, 'learning_rate': 0.018813350123097827, 'n_estimators': 60, 'min_child_weight': 1, 'gamma': 1.6000983613196927e-06, 'subsample': 0.9798867545680399, 'colsample_bytree': 0.03931199283378254, 'reg_alpha': 0.007524858037890098, 'reg_lambda': 0.0325008635805897}. Best is trial 0 with value: 0.4843137254901961.\u001b[0m\n",
            "\u001b[32m[I 2023-02-08 23:49:30,232]\u001b[0m Trial 161 finished with value: 0.4843137254901961 and parameters: {'max_depth': 1, 'learning_rate': 0.4640868195618992, 'n_estimators': 310, 'min_child_weight': 3, 'gamma': 0.000960881980477881, 'subsample': 0.3436809274825488, 'colsample_bytree': 0.04427751071705181, 'reg_alpha': 0.00016768935456795895, 'reg_lambda': 3.2352389975117738e-06}. Best is trial 0 with value: 0.4843137254901961.\u001b[0m\n",
            "\u001b[32m[I 2023-02-08 23:49:30,807]\u001b[0m Trial 162 finished with value: 0.4843137254901961 and parameters: {'max_depth': 1, 'learning_rate': 0.0619210108115016, 'n_estimators': 300, 'min_child_weight': 3, 'gamma': 4.383796961315737e-08, 'subsample': 0.39986025637457695, 'colsample_bytree': 0.07898857707970773, 'reg_alpha': 0.0006635043923047036, 'reg_lambda': 3.257025408241662e-05}. Best is trial 0 with value: 0.4843137254901961.\u001b[0m\n",
            "\u001b[32m[I 2023-02-08 23:49:31,262]\u001b[0m Trial 163 finished with value: 0.4843137254901961 and parameters: {'max_depth': 1, 'learning_rate': 0.05759437323748003, 'n_estimators': 358, 'min_child_weight': 2, 'gamma': 0.0005235102456750016, 'subsample': 0.0749068165366998, 'colsample_bytree': 0.10788529559253666, 'reg_alpha': 0.0003807272292211268, 'reg_lambda': 1.0299037532753175e-05}. Best is trial 0 with value: 0.4843137254901961.\u001b[0m\n",
            "\u001b[32m[I 2023-02-08 23:49:31,680]\u001b[0m Trial 164 finished with value: 0.4843137254901961 and parameters: {'max_depth': 1, 'learning_rate': 0.17664986795865614, 'n_estimators': 332, 'min_child_weight': 3, 'gamma': 0.00035304968071024086, 'subsample': 0.05864092887009719, 'colsample_bytree': 0.03257882306663782, 'reg_alpha': 0.0037169863833961545, 'reg_lambda': 0.1470346839251362}. Best is trial 0 with value: 0.4843137254901961.\u001b[0m\n",
            "\u001b[32m[I 2023-02-08 23:49:31,953]\u001b[0m Trial 165 finished with value: 0.4843137254901961 and parameters: {'max_depth': 2, 'learning_rate': 0.9214690707595652, 'n_estimators': 180, 'min_child_weight': 4, 'gamma': 3.191749786164252e-07, 'subsample': 0.09201503588335837, 'colsample_bytree': 0.12605003490455602, 'reg_alpha': 1.1831883337474006e-05, 'reg_lambda': 1.950518593607052e-05}. Best is trial 0 with value: 0.4843137254901961.\u001b[0m\n",
            "\u001b[32m[I 2023-02-08 23:49:32,402]\u001b[0m Trial 166 finished with value: 0.4843137254901961 and parameters: {'max_depth': 6, 'learning_rate': 0.07450008412329673, 'n_estimators': 289, 'min_child_weight': 5, 'gamma': 0.1909117143608107, 'subsample': 0.4430906200256272, 'colsample_bytree': 0.2290816928564144, 'reg_alpha': 1.952083023998269e-06, 'reg_lambda': 0.3578071887297737}. Best is trial 0 with value: 0.4843137254901961.\u001b[0m\n",
            "\u001b[32m[I 2023-02-08 23:49:32,853]\u001b[0m Trial 167 finished with value: 0.4843137254901961 and parameters: {'max_depth': 9, 'learning_rate': 0.043050168444261974, 'n_estimators': 278, 'min_child_weight': 7, 'gamma': 0.05812305249577636, 'subsample': 0.5377988779700515, 'colsample_bytree': 0.3610386549689427, 'reg_alpha': 0.03772108825159054, 'reg_lambda': 4.041497249356479e-08}. Best is trial 0 with value: 0.4843137254901961.\u001b[0m\n",
            "\u001b[32m[I 2023-02-08 23:49:33,347]\u001b[0m Trial 168 finished with value: 0.4843137254901961 and parameters: {'max_depth': 1, 'learning_rate': 0.031777248818062896, 'n_estimators': 327, 'min_child_weight': 1, 'gamma': 0.3519370259352602, 'subsample': 0.35157982353937295, 'colsample_bytree': 0.2785939046751267, 'reg_alpha': 0.00025841391000092523, 'reg_lambda': 2.466531739320074e-08}. Best is trial 0 with value: 0.4843137254901961.\u001b[0m\n",
            "\u001b[32m[I 2023-02-08 23:49:33,602]\u001b[0m Trial 169 finished with value: 0.4843137254901961 and parameters: {'max_depth': 3, 'learning_rate': 0.0813299958754972, 'n_estimators': 162, 'min_child_weight': 6, 'gamma': 0.04416101675743594, 'subsample': 0.2857143218041604, 'colsample_bytree': 0.016186470320783068, 'reg_alpha': 0.0001106543312535371, 'reg_lambda': 0.6589625774470245}. Best is trial 0 with value: 0.4843137254901961.\u001b[0m\n",
            "\u001b[32m[I 2023-02-08 23:49:34,061]\u001b[0m Trial 170 finished with value: 0.4843137254901961 and parameters: {'max_depth': 2, 'learning_rate': 0.6462530099150472, 'n_estimators': 344, 'min_child_weight': 4, 'gamma': 0.07618545765925414, 'subsample': 0.4723824790075142, 'colsample_bytree': 0.0472613384003314, 'reg_alpha': 0.0012954415348919114, 'reg_lambda': 7.618597261918382e-08}. Best is trial 0 with value: 0.4843137254901961.\u001b[0m\n",
            "\u001b[32m[I 2023-02-08 23:49:34,375]\u001b[0m Trial 171 finished with value: 0.4843137254901961 and parameters: {'max_depth': 4, 'learning_rate': 0.010580415039983646, 'n_estimators': 199, 'min_child_weight': 6, 'gamma': 0.0013935138287901599, 'subsample': 0.5927156018366935, 'colsample_bytree': 0.01181039940116602, 'reg_alpha': 6.061411483921464e-05, 'reg_lambda': 7.198076886565643e-05}. Best is trial 0 with value: 0.4843137254901961.\u001b[0m\n",
            "\u001b[32m[I 2023-02-08 23:49:34,969]\u001b[0m Trial 172 finished with value: 0.4843137254901961 and parameters: {'max_depth': 5, 'learning_rate': 0.024938803585214362, 'n_estimators': 472, 'min_child_weight': 6, 'gamma': 1.7955178041241753e-05, 'subsample': 0.8944793159107868, 'colsample_bytree': 0.1476641079623005, 'reg_alpha': 3.014942910203363e-05, 'reg_lambda': 0.0005637227199929912}. Best is trial 0 with value: 0.4843137254901961.\u001b[0m\n",
            "\u001b[32m[I 2023-02-08 23:49:35,303]\u001b[0m Trial 173 finished with value: 0.4843137254901961 and parameters: {'max_depth': 4, 'learning_rate': 0.051776424600296536, 'n_estimators': 226, 'min_child_weight': 6, 'gamma': 0.01911984092084474, 'subsample': 0.7822922982709114, 'colsample_bytree': 0.010425086588688397, 'reg_alpha': 0.0221520796741628, 'reg_lambda': 0.00027041743919539556}. Best is trial 0 with value: 0.4843137254901961.\u001b[0m\n",
            "\u001b[32m[I 2023-02-08 23:49:35,647]\u001b[0m Trial 174 finished with value: 0.4843137254901961 and parameters: {'max_depth': 8, 'learning_rate': 0.010591909291078436, 'n_estimators': 254, 'min_child_weight': 5, 'gamma': 0.00019491676670451566, 'subsample': 0.048112978812023435, 'colsample_bytree': 0.014420455074841201, 'reg_alpha': 5.037180216663737e-05, 'reg_lambda': 0.014488495830740149}. Best is trial 0 with value: 0.4843137254901961.\u001b[0m\n",
            "\u001b[32m[I 2023-02-08 23:49:35,976]\u001b[0m Trial 175 finished with value: 0.4843137254901961 and parameters: {'max_depth': 4, 'learning_rate': 0.4154950810418728, 'n_estimators': 208, 'min_child_weight': 1, 'gamma': 1.1833110226461725e-05, 'subsample': 0.08326636544239571, 'colsample_bytree': 0.4474072150934294, 'reg_alpha': 0.0017347038848871637, 'reg_lambda': 0.000425477706107308}. Best is trial 0 with value: 0.4843137254901961.\u001b[0m\n",
            "\u001b[32m[I 2023-02-08 23:49:36,257]\u001b[0m Trial 176 finished with value: 0.4843137254901961 and parameters: {'max_depth': 3, 'learning_rate': 0.018515620518328647, 'n_estimators': 170, 'min_child_weight': 2, 'gamma': 2.7311841894456408e-05, 'subsample': 0.04331089535553702, 'colsample_bytree': 0.5536151789081033, 'reg_alpha': 7.268037062264175e-07, 'reg_lambda': 0.00013901132897135176}. Best is trial 0 with value: 0.4843137254901961.\u001b[0m\n",
            "\u001b[32m[I 2023-02-08 23:49:36,514]\u001b[0m Trial 177 finished with value: 0.4843137254901961 and parameters: {'max_depth': 1, 'learning_rate': 0.011563563147323529, 'n_estimators': 143, 'min_child_weight': 10, 'gamma': 0.09721227697835577, 'subsample': 0.10688866068794378, 'colsample_bytree': 0.028609622591058165, 'reg_alpha': 9.366649072660424e-05, 'reg_lambda': 0.0007193151809818206}. Best is trial 0 with value: 0.4843137254901961.\u001b[0m\n",
            "\u001b[32m[I 2023-02-08 23:49:37,013]\u001b[0m Trial 178 finished with value: 0.4843137254901961 and parameters: {'max_depth': 3, 'learning_rate': 0.012803227362421133, 'n_estimators': 391, 'min_child_weight': 6, 'gamma': 5.460963938457563e-05, 'subsample': 0.0346883673980945, 'colsample_bytree': 0.09523893060042277, 'reg_alpha': 4.1974241667416894e-08, 'reg_lambda': 1.709486315472911e-08}. Best is trial 0 with value: 0.4843137254901961.\u001b[0m\n",
            "\u001b[32m[I 2023-02-08 23:49:37,562]\u001b[0m Trial 179 finished with value: 0.4843137254901961 and parameters: {'max_depth': 6, 'learning_rate': 0.06780653771175367, 'n_estimators': 439, 'min_child_weight': 7, 'gamma': 0.00010655026107511151, 'subsample': 0.06354725365476675, 'colsample_bytree': 0.16383085088994873, 'reg_alpha': 1.4882193030406788e-07, 'reg_lambda': 5.564610279213559e-08}. Best is trial 0 with value: 0.4843137254901961.\u001b[0m\n",
            "\u001b[32m[I 2023-02-08 23:49:37,909]\u001b[0m Trial 180 finished with value: 0.4843137254901961 and parameters: {'max_depth': 9, 'learning_rate': 0.015030791397752504, 'n_estimators': 220, 'min_child_weight': 3, 'gamma': 9.125131342555284e-06, 'subsample': 0.014589110404360497, 'colsample_bytree': 0.8775585254689215, 'reg_alpha': 1.0592523749727421e-08, 'reg_lambda': 3.095511240884624e-08}. Best is trial 0 with value: 0.4843137254901961.\u001b[0m\n",
            "\u001b[32m[I 2023-02-08 23:49:38,149]\u001b[0m Trial 181 finished with value: 0.4843137254901961 and parameters: {'max_depth': 2, 'learning_rate': 0.013580500403140896, 'n_estimators': 119, 'min_child_weight': 8, 'gamma': 0.0008268145618976544, 'subsample': 0.14456209373947684, 'colsample_bytree': 0.49640300522071673, 'reg_alpha': 0.0005796852721581532, 'reg_lambda': 7.882020563328797e-06}. Best is trial 0 with value: 0.4843137254901961.\u001b[0m\n",
            "\u001b[32m[I 2023-02-08 23:49:38,665]\u001b[0m Trial 182 finished with value: 0.4843137254901961 and parameters: {'max_depth': 2, 'learning_rate': 0.03315583727620177, 'n_estimators': 240, 'min_child_weight': 9, 'gamma': 0.0022569426361316635, 'subsample': 0.12014570144306407, 'colsample_bytree': 0.31402024087523644, 'reg_alpha': 0.0031561885521167957, 'reg_lambda': 0.0049313430504967296}. Best is trial 0 with value: 0.4843137254901961.\u001b[0m\n",
            "\u001b[32m[I 2023-02-08 23:49:39,042]\u001b[0m Trial 183 finished with value: 0.4843137254901961 and parameters: {'max_depth': 1, 'learning_rate': 0.015260154309157373, 'n_estimators': 108, 'min_child_weight': 8, 'gamma': 0.0013255855899996242, 'subsample': 0.02473781875676802, 'colsample_bytree': 0.35755162763773124, 'reg_alpha': 0.0009777033747268061, 'reg_lambda': 4.04230460851747e-06}. Best is trial 0 with value: 0.4843137254901961.\u001b[0m\n",
            "\u001b[32m[I 2023-02-08 23:49:39,407]\u001b[0m Trial 184 finished with value: 0.4843137254901961 and parameters: {'max_depth': 2, 'learning_rate': 0.10583541852635618, 'n_estimators': 129, 'min_child_weight': 7, 'gamma': 0.003558569649113024, 'subsample': 0.09895014565893476, 'colsample_bytree': 0.011553038323268582, 'reg_alpha': 1.0878836941835933e-06, 'reg_lambda': 0.06663547389859802}. Best is trial 0 with value: 0.4843137254901961.\u001b[0m\n",
            "\u001b[32m[I 2023-02-08 23:49:39,653]\u001b[0m Trial 185 finished with value: 0.4843137254901961 and parameters: {'max_depth': 2, 'learning_rate': 0.13902285029717434, 'n_estimators': 101, 'min_child_weight': 9, 'gamma': 0.031198988220791535, 'subsample': 0.7078603201118067, 'colsample_bytree': 0.39862839113294923, 'reg_alpha': 2.702871151552183e-07, 'reg_lambda': 0.002900918468631525}. Best is trial 0 with value: 0.4843137254901961.\u001b[0m\n",
            "\u001b[32m[I 2023-02-08 23:49:40,023]\u001b[0m Trial 186 finished with value: 0.4843137254901961 and parameters: {'max_depth': 3, 'learning_rate': 0.36246967768949867, 'n_estimators': 138, 'min_child_weight': 8, 'gamma': 0.011759333589660057, 'subsample': 0.05259344518522343, 'colsample_bytree': 0.010106612608435993, 'reg_alpha': 3.1340237352802317e-06, 'reg_lambda': 1.3024551939173743e-07}. Best is trial 0 with value: 0.4843137254901961.\u001b[0m\n",
            "\u001b[32m[I 2023-02-08 23:49:41,065]\u001b[0m Trial 187 finished with value: 0.4843137254901961 and parameters: {'max_depth': 7, 'learning_rate': 0.1278939437716505, 'n_estimators': 455, 'min_child_weight': 6, 'gamma': 0.017570774201324038, 'subsample': 0.06913355928246986, 'colsample_bytree': 0.02449747823501111, 'reg_alpha': 1.7508981612605184e-05, 'reg_lambda': 0.023702892968896463}. Best is trial 0 with value: 0.4843137254901961.\u001b[0m\n",
            "\u001b[32m[I 2023-02-08 23:49:42,122]\u001b[0m Trial 188 finished with value: 0.4843137254901961 and parameters: {'max_depth': 5, 'learning_rate': 0.028868495320838544, 'n_estimators': 192, 'min_child_weight': 1, 'gamma': 0.009163465105835683, 'subsample': 0.31879327611366154, 'colsample_bytree': 0.2524622026113399, 'reg_alpha': 0.043250307264258235, 'reg_lambda': 1.5029592862100175e-06}. Best is trial 0 with value: 0.4843137254901961.\u001b[0m\n",
            "\u001b[32m[I 2023-02-08 23:49:42,838]\u001b[0m Trial 189 finished with value: 0.4843137254901961 and parameters: {'max_depth': 1, 'learning_rate': 0.2719175610007347, 'n_estimators': 156, 'min_child_weight': 4, 'gamma': 0.00592647078290939, 'subsample': 0.3921567761065619, 'colsample_bytree': 0.4709568690779637, 'reg_alpha': 0.0007248854398850663, 'reg_lambda': 0.007985502516039316}. Best is trial 0 with value: 0.4843137254901961.\u001b[0m\n",
            "\u001b[32m[I 2023-02-08 23:49:43,352]\u001b[0m Trial 190 finished with value: 0.4843137254901961 and parameters: {'max_depth': 3, 'learning_rate': 0.04278044906473961, 'n_estimators': 176, 'min_child_weight': 5, 'gamma': 5.681584426192065e-06, 'subsample': 0.11258412368003469, 'colsample_bytree': 0.01720580841734509, 'reg_alpha': 0.00039811032323813024, 'reg_lambda': 0.09915026819814077}. Best is trial 0 with value: 0.4843137254901961.\u001b[0m\n",
            "\u001b[32m[I 2023-02-08 23:49:43,916]\u001b[0m Trial 191 finished with value: 0.4843137254901961 and parameters: {'max_depth': 4, 'learning_rate': 0.7469462743501252, 'n_estimators': 202, 'min_child_weight': 3, 'gamma': 3.680670179357082e-05, 'subsample': 0.2528706384231687, 'colsample_bytree': 0.8508849128601097, 'reg_alpha': 0.009024702999215985, 'reg_lambda': 1.3843117248862154e-05}. Best is trial 0 with value: 0.4843137254901961.\u001b[0m\n",
            "\u001b[32m[I 2023-02-08 23:49:44,323]\u001b[0m Trial 192 finished with value: 0.4843137254901961 and parameters: {'max_depth': 4, 'learning_rate': 0.026291981309889367, 'n_estimators': 216, 'min_child_weight': 3, 'gamma': 7.149775782155331e-05, 'subsample': 0.21106099675416165, 'colsample_bytree': 0.9159645966023027, 'reg_alpha': 0.0067286293878433085, 'reg_lambda': 0.0010503401384602332}. Best is trial 0 with value: 0.4843137254901961.\u001b[0m\n",
            "\u001b[32m[I 2023-02-08 23:49:44,757]\u001b[0m Trial 193 finished with value: 0.4843137254901961 and parameters: {'max_depth': 4, 'learning_rate': 0.4904848322798323, 'n_estimators': 228, 'min_child_weight': 3, 'gamma': 1.9321557398556907e-05, 'subsample': 0.26479934640140906, 'colsample_bytree': 0.6979026063699741, 'reg_alpha': 0.0050229856678210665, 'reg_lambda': 0.03743777210942922}. Best is trial 0 with value: 0.4843137254901961.\u001b[0m\n",
            "\u001b[32m[I 2023-02-08 23:49:45,039]\u001b[0m Trial 194 finished with value: 0.4843137254901961 and parameters: {'max_depth': 4, 'learning_rate': 0.162419514168044, 'n_estimators': 187, 'min_child_weight': 2, 'gamma': 0.389357683707815, 'subsample': 0.13447749991233668, 'colsample_bytree': 0.03522877934031442, 'reg_alpha': 0.16916968626843903, 'reg_lambda': 2.6351914172175963e-05}. Best is trial 0 with value: 0.4843137254901961.\u001b[0m\n",
            "\u001b[32m[I 2023-02-08 23:49:45,211]\u001b[0m Trial 195 finished with value: 0.4843137254901961 and parameters: {'max_depth': 5, 'learning_rate': 0.020508110208555145, 'n_estimators': 69, 'min_child_weight': 10, 'gamma': 0.00013560720390219156, 'subsample': 0.03018708072318462, 'colsample_bytree': 0.8173741457156395, 'reg_alpha': 6.927204196795989e-08, 'reg_lambda': 0.00022246419705400602}. Best is trial 0 with value: 0.4843137254901961.\u001b[0m\n",
            "\u001b[32m[I 2023-02-08 23:49:45,830]\u001b[0m Trial 196 finished with value: 0.4843137254901961 and parameters: {'max_depth': 1, 'learning_rate': 0.5389098122825907, 'n_estimators': 367, 'min_child_weight': 5, 'gamma': 0.00022210043519603134, 'subsample': 0.18357776945217658, 'colsample_bytree': 0.9885676944397854, 'reg_alpha': 1.5576291658641241e-06, 'reg_lambda': 5.32715972949365e-05}. Best is trial 0 with value: 0.4843137254901961.\u001b[0m\n",
            "\u001b[32m[I 2023-02-08 23:49:46,289]\u001b[0m Trial 197 finished with value: 0.4843137254901961 and parameters: {'max_depth': 2, 'learning_rate': 0.022676997814861672, 'n_estimators': 245, 'min_child_weight': 2, 'gamma': 0.0024771663242151537, 'subsample': 0.30035015233295925, 'colsample_bytree': 0.7606840038459484, 'reg_alpha': 0.002477124653676151, 'reg_lambda': 0.6230364719430909}. Best is trial 0 with value: 0.4843137254901961.\u001b[0m\n",
            "\u001b[32m[I 2023-02-08 23:49:46,605]\u001b[0m Trial 198 finished with value: 0.4843137254901961 and parameters: {'max_depth': 3, 'learning_rate': 0.435276757522087, 'n_estimators': 210, 'min_child_weight': 1, 'gamma': 0.0006274851201567864, 'subsample': 0.2306370032753184, 'colsample_bytree': 0.02179263170681786, 'reg_alpha': 1.9445981828127871e-07, 'reg_lambda': 0.24967479560781786}. Best is trial 0 with value: 0.4843137254901961.\u001b[0m\n",
            "\u001b[32m[I 2023-02-08 23:49:46,767]\u001b[0m Trial 199 finished with value: 0.4843137254901961 and parameters: {'max_depth': 9, 'learning_rate': 0.05021832202989176, 'n_estimators': 53, 'min_child_weight': 4, 'gamma': 1.7972813688751982e-06, 'subsample': 0.020306085872533672, 'colsample_bytree': 0.610760178972869, 'reg_alpha': 4.0819494454329206e-07, 'reg_lambda': 3.1172310347048987e-07}. Best is trial 0 with value: 0.4843137254901961.\u001b[0m\n"
          ]
        },
        {
          "output_type": "stream",
          "name": "stdout",
          "text": [
            "Number of finished trials:  200\n",
            "Best trial:\n",
            "  Value: 0.4843137254901961\n",
            "  Params: \n",
            "    max_depth: 3\n",
            "    learning_rate: 0.5445893728332221\n",
            "    n_estimators: 132\n",
            "    min_child_weight: 6\n",
            "    gamma: 0.0010617687956800445\n",
            "    subsample: 0.3503439941372331\n",
            "    colsample_bytree: 0.3914340479569349\n",
            "    reg_alpha: 4.6856488535631315e-05\n",
            "    reg_lambda: 0.06971544618484289\n"
          ]
        }
      ]
    },
    {
      "cell_type": "code",
      "source": [
        "xgb = XGBClassifier(max_depth= 9, learning_rate = 0.3,\n",
        "    n_estimators = 189,\n",
        "    min_child_weight = 1,\n",
        "    gamma = 0.1,\n",
        "    subsample = 0.9,\n",
        "    colsample_bytree = 0.6,\n",
        "    reg_alpha= 0.23,\n",
        "    reg_lambda = 0)\n",
        "xgb.fit(X_train, y_train)\n",
        "y_pred = xgb.predict(X_test)"
      ],
      "metadata": {
        "id": "Ryx4e0gabr70"
      },
      "execution_count": 98,
      "outputs": []
    },
    {
      "cell_type": "code",
      "source": [
        "cm= confusion_matrix(y_test, y_pred)\n",
        "cm"
      ],
      "metadata": {
        "colab": {
          "base_uri": "https://localhost:8080/"
        },
        "id": "0QQtmhM0bu1e",
        "outputId": "69dae7cd-d3be-4c47-9f37-1554e42cdb75"
      },
      "execution_count": 99,
      "outputs": [
        {
          "output_type": "execute_result",
          "data": {
            "text/plain": [
              "array([[455,  71],\n",
              "       [ 41, 453]])"
            ]
          },
          "metadata": {},
          "execution_count": 99
        }
      ]
    },
    {
      "cell_type": "code",
      "source": [
        "print(classification_report(y_test, y_pred))"
      ],
      "metadata": {
        "colab": {
          "base_uri": "https://localhost:8080/"
        },
        "id": "2gx6D3Wmb0dq",
        "outputId": "bbba5cb0-a2b7-4e63-8bf8-8c83779bac5b"
      },
      "execution_count": 100,
      "outputs": [
        {
          "output_type": "stream",
          "name": "stdout",
          "text": [
            "              precision    recall  f1-score   support\n",
            "\n",
            "           0       0.92      0.87      0.89       526\n",
            "           1       0.86      0.92      0.89       494\n",
            "\n",
            "    accuracy                           0.89      1020\n",
            "   macro avg       0.89      0.89      0.89      1020\n",
            "weighted avg       0.89      0.89      0.89      1020\n",
            "\n"
          ]
        }
      ]
    }
  ]
}